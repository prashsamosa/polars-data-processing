{
 "cells": [
  {
   "cell_type": "markdown",
   "metadata": {},
   "source": [
    "# 10. Filtering and Sorting Rows"
   ]
  },
  {
   "cell_type": "code",
   "execution_count": null,
   "metadata": {},
   "outputs": [
    {
     "data": {
      "text/plain": [
       "'1.20.0'"
      ]
     },
     "execution_count": 1,
     "metadata": {},
     "output_type": "execute_result"
    }
   ],
   "source": [
    "import polars as pl\n",
    "pl.__version__  "
   ]
  },
  {
   "cell_type": "code",
   "execution_count": 2,
   "metadata": {},
   "outputs": [
    {
     "data": {
      "text/html": [
       "<div><style>\n",
       ".dataframe > thead > tr,\n",
       ".dataframe > tbody > tr {\n",
       "  text-align: right;\n",
       "  white-space: pre-wrap;\n",
       "}\n",
       "</style>\n",
       "<small>shape: (10, 6)</small><table border=\"1\" class=\"dataframe\"><thead><tr><th>tool</th><th>product</th><th>brand</th><th>cordless</th><th>price</th><th>rpm</th></tr><tr><td>str</td><td>str</td><td>str</td><td>bool</td><td>i64</td><td>i64</td></tr></thead><tbody><tr><td>&quot;Rotary Hammer&quot;</td><td>&quot;HR2230&quot;</td><td>&quot;Makita&quot;</td><td>false</td><td>199</td><td>1050</td></tr><tr><td>&quot;Miter Saw&quot;</td><td>&quot;GCM 8 SJL&quot;</td><td>&quot;Bosch&quot;</td><td>false</td><td>391</td><td>5500</td></tr><tr><td>&quot;Plunge Cut Saw&quot;</td><td>&quot;DSP600ZJ&quot;</td><td>&quot;Makita&quot;</td><td>true</td><td>459</td><td>6300</td></tr><tr><td>&quot;Impact Driver&quot;</td><td>&quot;DTD157Z&quot;</td><td>&quot;Makita&quot;</td><td>true</td><td>156</td><td>3000</td></tr><tr><td>&quot;Jigsaw&quot;</td><td>&quot;PST 900 PEL&quot;</td><td>&quot;Bosch&quot;</td><td>false</td><td>79</td><td>3100</td></tr><tr><td>&quot;Angle Grinder&quot;</td><td>&quot;DGA504ZJ&quot;</td><td>&quot;Makita&quot;</td><td>true</td><td>229</td><td>8500</td></tr><tr><td>&quot;Nail Gun&quot;</td><td>&quot;DPSB2IN1-XJ&quot;</td><td>&quot;DeWalt&quot;</td><td>true</td><td>129</td><td>null</td></tr><tr><td>&quot;Router&quot;</td><td>&quot;POF 1400 ACE&quot;</td><td>&quot;Bosch&quot;</td><td>false</td><td>185</td><td>28000</td></tr><tr><td>&quot;Random Orbital Sander&quot;</td><td>&quot;DBO180ZJ&quot;</td><td>&quot;Makita&quot;</td><td>true</td><td>199</td><td>11000</td></tr><tr><td>&quot;Table Saw&quot;</td><td>&quot;DWE7485&quot;</td><td>&quot;DeWalt&quot;</td><td>false</td><td>516</td><td>5800</td></tr></tbody></table></div>"
      ],
      "text/plain": [
       "shape: (10, 6)\n",
       "┌───────────────────────┬──────────────┬────────┬──────────┬───────┬───────┐\n",
       "│ tool                  ┆ product      ┆ brand  ┆ cordless ┆ price ┆ rpm   │\n",
       "│ ---                   ┆ ---          ┆ ---    ┆ ---      ┆ ---   ┆ ---   │\n",
       "│ str                   ┆ str          ┆ str    ┆ bool     ┆ i64   ┆ i64   │\n",
       "╞═══════════════════════╪══════════════╪════════╪══════════╪═══════╪═══════╡\n",
       "│ Rotary Hammer         ┆ HR2230       ┆ Makita ┆ false    ┆ 199   ┆ 1050  │\n",
       "│ Miter Saw             ┆ GCM 8 SJL    ┆ Bosch  ┆ false    ┆ 391   ┆ 5500  │\n",
       "│ Plunge Cut Saw        ┆ DSP600ZJ     ┆ Makita ┆ true     ┆ 459   ┆ 6300  │\n",
       "│ Impact Driver         ┆ DTD157Z      ┆ Makita ┆ true     ┆ 156   ┆ 3000  │\n",
       "│ Jigsaw                ┆ PST 900 PEL  ┆ Bosch  ┆ false    ┆ 79    ┆ 3100  │\n",
       "│ Angle Grinder         ┆ DGA504ZJ     ┆ Makita ┆ true     ┆ 229   ┆ 8500  │\n",
       "│ Nail Gun              ┆ DPSB2IN1-XJ  ┆ DeWalt ┆ true     ┆ 129   ┆ null  │\n",
       "│ Router                ┆ POF 1400 ACE ┆ Bosch  ┆ false    ┆ 185   ┆ 28000 │\n",
       "│ Random Orbital Sander ┆ DBO180ZJ     ┆ Makita ┆ true     ┆ 199   ┆ 11000 │\n",
       "│ Table Saw             ┆ DWE7485      ┆ DeWalt ┆ false    ┆ 516   ┆ 5800  │\n",
       "└───────────────────────┴──────────────┴────────┴──────────┴───────┴───────┘"
      ]
     },
     "execution_count": 2,
     "metadata": {},
     "output_type": "execute_result"
    }
   ],
   "source": [
    "tools = pl.read_csv(\"data/tools.csv\")\n",
    "tools"
   ]
  },
  {
   "cell_type": "markdown",
   "metadata": {},
   "source": [
    "## Filtering Rows"
   ]
  },
  {
   "cell_type": "markdown",
   "metadata": {},
   "source": [
    "### Filtering Based on Expressions"
   ]
  },
  {
   "cell_type": "code",
   "execution_count": 3,
   "metadata": {},
   "outputs": [
    {
     "data": {
      "text/html": [
       "<div><style>\n",
       ".dataframe > thead > tr,\n",
       ".dataframe > tbody > tr {\n",
       "  text-align: right;\n",
       "  white-space: pre-wrap;\n",
       "}\n",
       "</style>\n",
       "<small>shape: (4, 6)</small><table border=\"1\" class=\"dataframe\"><thead><tr><th>tool</th><th>product</th><th>brand</th><th>cordless</th><th>price</th><th>rpm</th></tr><tr><td>str</td><td>str</td><td>str</td><td>bool</td><td>i64</td><td>i64</td></tr></thead><tbody><tr><td>&quot;Plunge Cut Saw&quot;</td><td>&quot;DSP600ZJ&quot;</td><td>&quot;Makita&quot;</td><td>true</td><td>459</td><td>6300</td></tr><tr><td>&quot;Impact Driver&quot;</td><td>&quot;DTD157Z&quot;</td><td>&quot;Makita&quot;</td><td>true</td><td>156</td><td>3000</td></tr><tr><td>&quot;Angle Grinder&quot;</td><td>&quot;DGA504ZJ&quot;</td><td>&quot;Makita&quot;</td><td>true</td><td>229</td><td>8500</td></tr><tr><td>&quot;Random Orbital Sander&quot;</td><td>&quot;DBO180ZJ&quot;</td><td>&quot;Makita&quot;</td><td>true</td><td>199</td><td>11000</td></tr></tbody></table></div>"
      ],
      "text/plain": [
       "shape: (4, 6)\n",
       "┌───────────────────────┬──────────┬────────┬──────────┬───────┬───────┐\n",
       "│ tool                  ┆ product  ┆ brand  ┆ cordless ┆ price ┆ rpm   │\n",
       "│ ---                   ┆ ---      ┆ ---    ┆ ---      ┆ ---   ┆ ---   │\n",
       "│ str                   ┆ str      ┆ str    ┆ bool     ┆ i64   ┆ i64   │\n",
       "╞═══════════════════════╪══════════╪════════╪══════════╪═══════╪═══════╡\n",
       "│ Plunge Cut Saw        ┆ DSP600ZJ ┆ Makita ┆ true     ┆ 459   ┆ 6300  │\n",
       "│ Impact Driver         ┆ DTD157Z  ┆ Makita ┆ true     ┆ 156   ┆ 3000  │\n",
       "│ Angle Grinder         ┆ DGA504ZJ ┆ Makita ┆ true     ┆ 229   ┆ 8500  │\n",
       "│ Random Orbital Sander ┆ DBO180ZJ ┆ Makita ┆ true     ┆ 199   ┆ 11000 │\n",
       "└───────────────────────┴──────────┴────────┴──────────┴───────┴───────┘"
      ]
     },
     "execution_count": 3,
     "metadata": {},
     "output_type": "execute_result"
    }
   ],
   "source": [
    "tools.filter(pl.col(\"cordless\") & (pl.col(\"brand\") == \"Makita\"))"
   ]
  },
  {
   "cell_type": "code",
   "execution_count": 4,
   "metadata": {},
   "outputs": [
    {
     "data": {
      "text/html": [
       "<div><style>\n",
       ".dataframe > thead > tr,\n",
       ".dataframe > tbody > tr {\n",
       "  text-align: right;\n",
       "  white-space: pre-wrap;\n",
       "}\n",
       "</style>\n",
       "<small>shape: (4, 6)</small><table border=\"1\" class=\"dataframe\"><thead><tr><th>tool</th><th>product</th><th>brand</th><th>cordless</th><th>price</th><th>rpm</th></tr><tr><td>str</td><td>str</td><td>str</td><td>bool</td><td>i64</td><td>i64</td></tr></thead><tbody><tr><td>&quot;Plunge Cut Saw&quot;</td><td>&quot;DSP600ZJ&quot;</td><td>&quot;Makita&quot;</td><td>true</td><td>459</td><td>6300</td></tr><tr><td>&quot;Impact Driver&quot;</td><td>&quot;DTD157Z&quot;</td><td>&quot;Makita&quot;</td><td>true</td><td>156</td><td>3000</td></tr><tr><td>&quot;Angle Grinder&quot;</td><td>&quot;DGA504ZJ&quot;</td><td>&quot;Makita&quot;</td><td>true</td><td>229</td><td>8500</td></tr><tr><td>&quot;Random Orbital Sander&quot;</td><td>&quot;DBO180ZJ&quot;</td><td>&quot;Makita&quot;</td><td>true</td><td>199</td><td>11000</td></tr></tbody></table></div>"
      ],
      "text/plain": [
       "shape: (4, 6)\n",
       "┌───────────────────────┬──────────┬────────┬──────────┬───────┬───────┐\n",
       "│ tool                  ┆ product  ┆ brand  ┆ cordless ┆ price ┆ rpm   │\n",
       "│ ---                   ┆ ---      ┆ ---    ┆ ---      ┆ ---   ┆ ---   │\n",
       "│ str                   ┆ str      ┆ str    ┆ bool     ┆ i64   ┆ i64   │\n",
       "╞═══════════════════════╪══════════╪════════╪══════════╪═══════╪═══════╡\n",
       "│ Plunge Cut Saw        ┆ DSP600ZJ ┆ Makita ┆ true     ┆ 459   ┆ 6300  │\n",
       "│ Impact Driver         ┆ DTD157Z  ┆ Makita ┆ true     ┆ 156   ┆ 3000  │\n",
       "│ Angle Grinder         ┆ DGA504ZJ ┆ Makita ┆ true     ┆ 229   ┆ 8500  │\n",
       "│ Random Orbital Sander ┆ DBO180ZJ ┆ Makita ┆ true     ┆ 199   ┆ 11000 │\n",
       "└───────────────────────┴──────────┴────────┴──────────┴───────┴───────┘"
      ]
     },
     "execution_count": 4,
     "metadata": {},
     "output_type": "execute_result"
    }
   ],
   "source": [
    "tools.filter(pl.col(\"cordless\"), pl.col(\"brand\") == \"Makita\")"
   ]
  },
  {
   "cell_type": "markdown",
   "metadata": {},
   "source": [
    "### Filtering Based on Column Names"
   ]
  },
  {
   "cell_type": "code",
   "execution_count": 5,
   "metadata": {},
   "outputs": [
    {
     "data": {
      "text/html": [
       "<div><style>\n",
       ".dataframe > thead > tr,\n",
       ".dataframe > tbody > tr {\n",
       "  text-align: right;\n",
       "  white-space: pre-wrap;\n",
       "}\n",
       "</style>\n",
       "<small>shape: (5, 6)</small><table border=\"1\" class=\"dataframe\"><thead><tr><th>tool</th><th>product</th><th>brand</th><th>cordless</th><th>price</th><th>rpm</th></tr><tr><td>str</td><td>str</td><td>str</td><td>bool</td><td>i64</td><td>i64</td></tr></thead><tbody><tr><td>&quot;Plunge Cut Saw&quot;</td><td>&quot;DSP600ZJ&quot;</td><td>&quot;Makita&quot;</td><td>true</td><td>459</td><td>6300</td></tr><tr><td>&quot;Impact Driver&quot;</td><td>&quot;DTD157Z&quot;</td><td>&quot;Makita&quot;</td><td>true</td><td>156</td><td>3000</td></tr><tr><td>&quot;Angle Grinder&quot;</td><td>&quot;DGA504ZJ&quot;</td><td>&quot;Makita&quot;</td><td>true</td><td>229</td><td>8500</td></tr><tr><td>&quot;Nail Gun&quot;</td><td>&quot;DPSB2IN1-XJ&quot;</td><td>&quot;DeWalt&quot;</td><td>true</td><td>129</td><td>null</td></tr><tr><td>&quot;Random Orbital Sander&quot;</td><td>&quot;DBO180ZJ&quot;</td><td>&quot;Makita&quot;</td><td>true</td><td>199</td><td>11000</td></tr></tbody></table></div>"
      ],
      "text/plain": [
       "shape: (5, 6)\n",
       "┌───────────────────────┬─────────────┬────────┬──────────┬───────┬───────┐\n",
       "│ tool                  ┆ product     ┆ brand  ┆ cordless ┆ price ┆ rpm   │\n",
       "│ ---                   ┆ ---         ┆ ---    ┆ ---      ┆ ---   ┆ ---   │\n",
       "│ str                   ┆ str         ┆ str    ┆ bool     ┆ i64   ┆ i64   │\n",
       "╞═══════════════════════╪═════════════╪════════╪══════════╪═══════╪═══════╡\n",
       "│ Plunge Cut Saw        ┆ DSP600ZJ    ┆ Makita ┆ true     ┆ 459   ┆ 6300  │\n",
       "│ Impact Driver         ┆ DTD157Z     ┆ Makita ┆ true     ┆ 156   ┆ 3000  │\n",
       "│ Angle Grinder         ┆ DGA504ZJ    ┆ Makita ┆ true     ┆ 229   ┆ 8500  │\n",
       "│ Nail Gun              ┆ DPSB2IN1-XJ ┆ DeWalt ┆ true     ┆ 129   ┆ null  │\n",
       "│ Random Orbital Sander ┆ DBO180ZJ    ┆ Makita ┆ true     ┆ 199   ┆ 11000 │\n",
       "└───────────────────────┴─────────────┴────────┴──────────┴───────┴───────┘"
      ]
     },
     "execution_count": 5,
     "metadata": {},
     "output_type": "execute_result"
    }
   ],
   "source": [
    "tools.filter(\"cordless\")"
   ]
  },
  {
   "cell_type": "markdown",
   "metadata": {},
   "source": [
    "### Filtering Based on Constraints"
   ]
  },
  {
   "cell_type": "code",
   "execution_count": 6,
   "metadata": {},
   "outputs": [
    {
     "data": {
      "text/html": [
       "<div><style>\n",
       ".dataframe > thead > tr,\n",
       ".dataframe > tbody > tr {\n",
       "  text-align: right;\n",
       "  white-space: pre-wrap;\n",
       "}\n",
       "</style>\n",
       "<small>shape: (4, 6)</small><table border=\"1\" class=\"dataframe\"><thead><tr><th>tool</th><th>product</th><th>brand</th><th>cordless</th><th>price</th><th>rpm</th></tr><tr><td>str</td><td>str</td><td>str</td><td>bool</td><td>i64</td><td>i64</td></tr></thead><tbody><tr><td>&quot;Plunge Cut Saw&quot;</td><td>&quot;DSP600ZJ&quot;</td><td>&quot;Makita&quot;</td><td>true</td><td>459</td><td>6300</td></tr><tr><td>&quot;Impact Driver&quot;</td><td>&quot;DTD157Z&quot;</td><td>&quot;Makita&quot;</td><td>true</td><td>156</td><td>3000</td></tr><tr><td>&quot;Angle Grinder&quot;</td><td>&quot;DGA504ZJ&quot;</td><td>&quot;Makita&quot;</td><td>true</td><td>229</td><td>8500</td></tr><tr><td>&quot;Random Orbital Sander&quot;</td><td>&quot;DBO180ZJ&quot;</td><td>&quot;Makita&quot;</td><td>true</td><td>199</td><td>11000</td></tr></tbody></table></div>"
      ],
      "text/plain": [
       "shape: (4, 6)\n",
       "┌───────────────────────┬──────────┬────────┬──────────┬───────┬───────┐\n",
       "│ tool                  ┆ product  ┆ brand  ┆ cordless ┆ price ┆ rpm   │\n",
       "│ ---                   ┆ ---      ┆ ---    ┆ ---      ┆ ---   ┆ ---   │\n",
       "│ str                   ┆ str      ┆ str    ┆ bool     ┆ i64   ┆ i64   │\n",
       "╞═══════════════════════╪══════════╪════════╪══════════╪═══════╪═══════╡\n",
       "│ Plunge Cut Saw        ┆ DSP600ZJ ┆ Makita ┆ true     ┆ 459   ┆ 6300  │\n",
       "│ Impact Driver         ┆ DTD157Z  ┆ Makita ┆ true     ┆ 156   ┆ 3000  │\n",
       "│ Angle Grinder         ┆ DGA504ZJ ┆ Makita ┆ true     ┆ 229   ┆ 8500  │\n",
       "│ Random Orbital Sander ┆ DBO180ZJ ┆ Makita ┆ true     ┆ 199   ┆ 11000 │\n",
       "└───────────────────────┴──────────┴────────┴──────────┴───────┴───────┘"
      ]
     },
     "execution_count": 6,
     "metadata": {},
     "output_type": "execute_result"
    }
   ],
   "source": [
    "tools.filter(cordless=True, brand=\"Makita\")"
   ]
  },
  {
   "cell_type": "markdown",
   "metadata": {},
   "source": [
    "## Sorting Rows"
   ]
  },
  {
   "cell_type": "markdown",
   "metadata": {},
   "source": [
    "### Sorting Based on a Single Column"
   ]
  },
  {
   "cell_type": "code",
   "execution_count": 7,
   "metadata": {},
   "outputs": [
    {
     "data": {
      "text/html": [
       "<div><style>\n",
       ".dataframe > thead > tr,\n",
       ".dataframe > tbody > tr {\n",
       "  text-align: right;\n",
       "  white-space: pre-wrap;\n",
       "}\n",
       "</style>\n",
       "<small>shape: (10, 6)</small><table border=\"1\" class=\"dataframe\"><thead><tr><th>tool</th><th>product</th><th>brand</th><th>cordless</th><th>price</th><th>rpm</th></tr><tr><td>str</td><td>str</td><td>str</td><td>bool</td><td>i64</td><td>i64</td></tr></thead><tbody><tr><td>&quot;Jigsaw&quot;</td><td>&quot;PST 900 PEL&quot;</td><td>&quot;Bosch&quot;</td><td>false</td><td>79</td><td>3100</td></tr><tr><td>&quot;Nail Gun&quot;</td><td>&quot;DPSB2IN1-XJ&quot;</td><td>&quot;DeWalt&quot;</td><td>true</td><td>129</td><td>null</td></tr><tr><td>&quot;Impact Driver&quot;</td><td>&quot;DTD157Z&quot;</td><td>&quot;Makita&quot;</td><td>true</td><td>156</td><td>3000</td></tr><tr><td>&quot;Router&quot;</td><td>&quot;POF 1400 ACE&quot;</td><td>&quot;Bosch&quot;</td><td>false</td><td>185</td><td>28000</td></tr><tr><td>&quot;Rotary Hammer&quot;</td><td>&quot;HR2230&quot;</td><td>&quot;Makita&quot;</td><td>false</td><td>199</td><td>1050</td></tr><tr><td>&quot;Random Orbital Sander&quot;</td><td>&quot;DBO180ZJ&quot;</td><td>&quot;Makita&quot;</td><td>true</td><td>199</td><td>11000</td></tr><tr><td>&quot;Angle Grinder&quot;</td><td>&quot;DGA504ZJ&quot;</td><td>&quot;Makita&quot;</td><td>true</td><td>229</td><td>8500</td></tr><tr><td>&quot;Miter Saw&quot;</td><td>&quot;GCM 8 SJL&quot;</td><td>&quot;Bosch&quot;</td><td>false</td><td>391</td><td>5500</td></tr><tr><td>&quot;Plunge Cut Saw&quot;</td><td>&quot;DSP600ZJ&quot;</td><td>&quot;Makita&quot;</td><td>true</td><td>459</td><td>6300</td></tr><tr><td>&quot;Table Saw&quot;</td><td>&quot;DWE7485&quot;</td><td>&quot;DeWalt&quot;</td><td>false</td><td>516</td><td>5800</td></tr></tbody></table></div>"
      ],
      "text/plain": [
       "shape: (10, 6)\n",
       "┌───────────────────────┬──────────────┬────────┬──────────┬───────┬───────┐\n",
       "│ tool                  ┆ product      ┆ brand  ┆ cordless ┆ price ┆ rpm   │\n",
       "│ ---                   ┆ ---          ┆ ---    ┆ ---      ┆ ---   ┆ ---   │\n",
       "│ str                   ┆ str          ┆ str    ┆ bool     ┆ i64   ┆ i64   │\n",
       "╞═══════════════════════╪══════════════╪════════╪══════════╪═══════╪═══════╡\n",
       "│ Jigsaw                ┆ PST 900 PEL  ┆ Bosch  ┆ false    ┆ 79    ┆ 3100  │\n",
       "│ Nail Gun              ┆ DPSB2IN1-XJ  ┆ DeWalt ┆ true     ┆ 129   ┆ null  │\n",
       "│ Impact Driver         ┆ DTD157Z      ┆ Makita ┆ true     ┆ 156   ┆ 3000  │\n",
       "│ Router                ┆ POF 1400 ACE ┆ Bosch  ┆ false    ┆ 185   ┆ 28000 │\n",
       "│ Rotary Hammer         ┆ HR2230       ┆ Makita ┆ false    ┆ 199   ┆ 1050  │\n",
       "│ Random Orbital Sander ┆ DBO180ZJ     ┆ Makita ┆ true     ┆ 199   ┆ 11000 │\n",
       "│ Angle Grinder         ┆ DGA504ZJ     ┆ Makita ┆ true     ┆ 229   ┆ 8500  │\n",
       "│ Miter Saw             ┆ GCM 8 SJL    ┆ Bosch  ┆ false    ┆ 391   ┆ 5500  │\n",
       "│ Plunge Cut Saw        ┆ DSP600ZJ     ┆ Makita ┆ true     ┆ 459   ┆ 6300  │\n",
       "│ Table Saw             ┆ DWE7485      ┆ DeWalt ┆ false    ┆ 516   ┆ 5800  │\n",
       "└───────────────────────┴──────────────┴────────┴──────────┴───────┴───────┘"
      ]
     },
     "execution_count": 7,
     "metadata": {},
     "output_type": "execute_result"
    }
   ],
   "source": [
    "tools.sort(\"price\")"
   ]
  },
  {
   "cell_type": "markdown",
   "metadata": {},
   "source": [
    "### Sorting in Reverse"
   ]
  },
  {
   "cell_type": "code",
   "execution_count": 8,
   "metadata": {},
   "outputs": [
    {
     "data": {
      "text/html": [
       "<div><style>\n",
       ".dataframe > thead > tr,\n",
       ".dataframe > tbody > tr {\n",
       "  text-align: right;\n",
       "  white-space: pre-wrap;\n",
       "}\n",
       "</style>\n",
       "<small>shape: (10, 6)</small><table border=\"1\" class=\"dataframe\"><thead><tr><th>tool</th><th>product</th><th>brand</th><th>cordless</th><th>price</th><th>rpm</th></tr><tr><td>str</td><td>str</td><td>str</td><td>bool</td><td>i64</td><td>i64</td></tr></thead><tbody><tr><td>&quot;Table Saw&quot;</td><td>&quot;DWE7485&quot;</td><td>&quot;DeWalt&quot;</td><td>false</td><td>516</td><td>5800</td></tr><tr><td>&quot;Plunge Cut Saw&quot;</td><td>&quot;DSP600ZJ&quot;</td><td>&quot;Makita&quot;</td><td>true</td><td>459</td><td>6300</td></tr><tr><td>&quot;Miter Saw&quot;</td><td>&quot;GCM 8 SJL&quot;</td><td>&quot;Bosch&quot;</td><td>false</td><td>391</td><td>5500</td></tr><tr><td>&quot;Angle Grinder&quot;</td><td>&quot;DGA504ZJ&quot;</td><td>&quot;Makita&quot;</td><td>true</td><td>229</td><td>8500</td></tr><tr><td>&quot;Rotary Hammer&quot;</td><td>&quot;HR2230&quot;</td><td>&quot;Makita&quot;</td><td>false</td><td>199</td><td>1050</td></tr><tr><td>&quot;Random Orbital Sander&quot;</td><td>&quot;DBO180ZJ&quot;</td><td>&quot;Makita&quot;</td><td>true</td><td>199</td><td>11000</td></tr><tr><td>&quot;Router&quot;</td><td>&quot;POF 1400 ACE&quot;</td><td>&quot;Bosch&quot;</td><td>false</td><td>185</td><td>28000</td></tr><tr><td>&quot;Impact Driver&quot;</td><td>&quot;DTD157Z&quot;</td><td>&quot;Makita&quot;</td><td>true</td><td>156</td><td>3000</td></tr><tr><td>&quot;Nail Gun&quot;</td><td>&quot;DPSB2IN1-XJ&quot;</td><td>&quot;DeWalt&quot;</td><td>true</td><td>129</td><td>null</td></tr><tr><td>&quot;Jigsaw&quot;</td><td>&quot;PST 900 PEL&quot;</td><td>&quot;Bosch&quot;</td><td>false</td><td>79</td><td>3100</td></tr></tbody></table></div>"
      ],
      "text/plain": [
       "shape: (10, 6)\n",
       "┌───────────────────────┬──────────────┬────────┬──────────┬───────┬───────┐\n",
       "│ tool                  ┆ product      ┆ brand  ┆ cordless ┆ price ┆ rpm   │\n",
       "│ ---                   ┆ ---          ┆ ---    ┆ ---      ┆ ---   ┆ ---   │\n",
       "│ str                   ┆ str          ┆ str    ┆ bool     ┆ i64   ┆ i64   │\n",
       "╞═══════════════════════╪══════════════╪════════╪══════════╪═══════╪═══════╡\n",
       "│ Table Saw             ┆ DWE7485      ┆ DeWalt ┆ false    ┆ 516   ┆ 5800  │\n",
       "│ Plunge Cut Saw        ┆ DSP600ZJ     ┆ Makita ┆ true     ┆ 459   ┆ 6300  │\n",
       "│ Miter Saw             ┆ GCM 8 SJL    ┆ Bosch  ┆ false    ┆ 391   ┆ 5500  │\n",
       "│ Angle Grinder         ┆ DGA504ZJ     ┆ Makita ┆ true     ┆ 229   ┆ 8500  │\n",
       "│ Rotary Hammer         ┆ HR2230       ┆ Makita ┆ false    ┆ 199   ┆ 1050  │\n",
       "│ Random Orbital Sander ┆ DBO180ZJ     ┆ Makita ┆ true     ┆ 199   ┆ 11000 │\n",
       "│ Router                ┆ POF 1400 ACE ┆ Bosch  ┆ false    ┆ 185   ┆ 28000 │\n",
       "│ Impact Driver         ┆ DTD157Z      ┆ Makita ┆ true     ┆ 156   ┆ 3000  │\n",
       "│ Nail Gun              ┆ DPSB2IN1-XJ  ┆ DeWalt ┆ true     ┆ 129   ┆ null  │\n",
       "│ Jigsaw                ┆ PST 900 PEL  ┆ Bosch  ┆ false    ┆ 79    ┆ 3100  │\n",
       "└───────────────────────┴──────────────┴────────┴──────────┴───────┴───────┘"
      ]
     },
     "execution_count": 8,
     "metadata": {},
     "output_type": "execute_result"
    }
   ],
   "source": [
    "tools.sort(\"price\", descending=True)"
   ]
  },
  {
   "cell_type": "code",
   "execution_count": null,
   "metadata": {},
   "outputs": [],
   "source": [
    "# This raises a TypeError:\n",
    "# tools.sort(\"price\", ascending=False)"
   ]
  },
  {
   "cell_type": "markdown",
   "metadata": {},
   "source": [
    "### Sorting Based on Multiple Columns"
   ]
  },
  {
   "cell_type": "code",
   "execution_count": 9,
   "metadata": {},
   "outputs": [
    {
     "data": {
      "text/html": [
       "<div><style>\n",
       ".dataframe > thead > tr,\n",
       ".dataframe > tbody > tr {\n",
       "  text-align: right;\n",
       "  white-space: pre-wrap;\n",
       "}\n",
       "</style>\n",
       "<small>shape: (10, 6)</small><table border=\"1\" class=\"dataframe\"><thead><tr><th>tool</th><th>product</th><th>brand</th><th>cordless</th><th>price</th><th>rpm</th></tr><tr><td>str</td><td>str</td><td>str</td><td>bool</td><td>i64</td><td>i64</td></tr></thead><tbody><tr><td>&quot;Jigsaw&quot;</td><td>&quot;PST 900 PEL&quot;</td><td>&quot;Bosch&quot;</td><td>false</td><td>79</td><td>3100</td></tr><tr><td>&quot;Router&quot;</td><td>&quot;POF 1400 ACE&quot;</td><td>&quot;Bosch&quot;</td><td>false</td><td>185</td><td>28000</td></tr><tr><td>&quot;Miter Saw&quot;</td><td>&quot;GCM 8 SJL&quot;</td><td>&quot;Bosch&quot;</td><td>false</td><td>391</td><td>5500</td></tr><tr><td>&quot;Nail Gun&quot;</td><td>&quot;DPSB2IN1-XJ&quot;</td><td>&quot;DeWalt&quot;</td><td>true</td><td>129</td><td>null</td></tr><tr><td>&quot;Table Saw&quot;</td><td>&quot;DWE7485&quot;</td><td>&quot;DeWalt&quot;</td><td>false</td><td>516</td><td>5800</td></tr><tr><td>&quot;Impact Driver&quot;</td><td>&quot;DTD157Z&quot;</td><td>&quot;Makita&quot;</td><td>true</td><td>156</td><td>3000</td></tr><tr><td>&quot;Rotary Hammer&quot;</td><td>&quot;HR2230&quot;</td><td>&quot;Makita&quot;</td><td>false</td><td>199</td><td>1050</td></tr><tr><td>&quot;Random Orbital Sander&quot;</td><td>&quot;DBO180ZJ&quot;</td><td>&quot;Makita&quot;</td><td>true</td><td>199</td><td>11000</td></tr><tr><td>&quot;Angle Grinder&quot;</td><td>&quot;DGA504ZJ&quot;</td><td>&quot;Makita&quot;</td><td>true</td><td>229</td><td>8500</td></tr><tr><td>&quot;Plunge Cut Saw&quot;</td><td>&quot;DSP600ZJ&quot;</td><td>&quot;Makita&quot;</td><td>true</td><td>459</td><td>6300</td></tr></tbody></table></div>"
      ],
      "text/plain": [
       "shape: (10, 6)\n",
       "┌───────────────────────┬──────────────┬────────┬──────────┬───────┬───────┐\n",
       "│ tool                  ┆ product      ┆ brand  ┆ cordless ┆ price ┆ rpm   │\n",
       "│ ---                   ┆ ---          ┆ ---    ┆ ---      ┆ ---   ┆ ---   │\n",
       "│ str                   ┆ str          ┆ str    ┆ bool     ┆ i64   ┆ i64   │\n",
       "╞═══════════════════════╪══════════════╪════════╪══════════╪═══════╪═══════╡\n",
       "│ Jigsaw                ┆ PST 900 PEL  ┆ Bosch  ┆ false    ┆ 79    ┆ 3100  │\n",
       "│ Router                ┆ POF 1400 ACE ┆ Bosch  ┆ false    ┆ 185   ┆ 28000 │\n",
       "│ Miter Saw             ┆ GCM 8 SJL    ┆ Bosch  ┆ false    ┆ 391   ┆ 5500  │\n",
       "│ Nail Gun              ┆ DPSB2IN1-XJ  ┆ DeWalt ┆ true     ┆ 129   ┆ null  │\n",
       "│ Table Saw             ┆ DWE7485      ┆ DeWalt ┆ false    ┆ 516   ┆ 5800  │\n",
       "│ Impact Driver         ┆ DTD157Z      ┆ Makita ┆ true     ┆ 156   ┆ 3000  │\n",
       "│ Rotary Hammer         ┆ HR2230       ┆ Makita ┆ false    ┆ 199   ┆ 1050  │\n",
       "│ Random Orbital Sander ┆ DBO180ZJ     ┆ Makita ┆ true     ┆ 199   ┆ 11000 │\n",
       "│ Angle Grinder         ┆ DGA504ZJ     ┆ Makita ┆ true     ┆ 229   ┆ 8500  │\n",
       "│ Plunge Cut Saw        ┆ DSP600ZJ     ┆ Makita ┆ true     ┆ 459   ┆ 6300  │\n",
       "└───────────────────────┴──────────────┴────────┴──────────┴───────┴───────┘"
      ]
     },
     "execution_count": 9,
     "metadata": {},
     "output_type": "execute_result"
    }
   ],
   "source": [
    "tools.sort(\"brand\", \"price\")"
   ]
  },
  {
   "cell_type": "code",
   "execution_count": 10,
   "metadata": {},
   "outputs": [
    {
     "data": {
      "text/html": [
       "<div><style>\n",
       ".dataframe > thead > tr,\n",
       ".dataframe > tbody > tr {\n",
       "  text-align: right;\n",
       "  white-space: pre-wrap;\n",
       "}\n",
       "</style>\n",
       "<small>shape: (10, 6)</small><table border=\"1\" class=\"dataframe\"><thead><tr><th>tool</th><th>product</th><th>brand</th><th>cordless</th><th>price</th><th>rpm</th></tr><tr><td>str</td><td>str</td><td>str</td><td>bool</td><td>i64</td><td>i64</td></tr></thead><tbody><tr><td>&quot;Miter Saw&quot;</td><td>&quot;GCM 8 SJL&quot;</td><td>&quot;Bosch&quot;</td><td>false</td><td>391</td><td>5500</td></tr><tr><td>&quot;Router&quot;</td><td>&quot;POF 1400 ACE&quot;</td><td>&quot;Bosch&quot;</td><td>false</td><td>185</td><td>28000</td></tr><tr><td>&quot;Jigsaw&quot;</td><td>&quot;PST 900 PEL&quot;</td><td>&quot;Bosch&quot;</td><td>false</td><td>79</td><td>3100</td></tr><tr><td>&quot;Table Saw&quot;</td><td>&quot;DWE7485&quot;</td><td>&quot;DeWalt&quot;</td><td>false</td><td>516</td><td>5800</td></tr><tr><td>&quot;Nail Gun&quot;</td><td>&quot;DPSB2IN1-XJ&quot;</td><td>&quot;DeWalt&quot;</td><td>true</td><td>129</td><td>null</td></tr><tr><td>&quot;Plunge Cut Saw&quot;</td><td>&quot;DSP600ZJ&quot;</td><td>&quot;Makita&quot;</td><td>true</td><td>459</td><td>6300</td></tr><tr><td>&quot;Angle Grinder&quot;</td><td>&quot;DGA504ZJ&quot;</td><td>&quot;Makita&quot;</td><td>true</td><td>229</td><td>8500</td></tr><tr><td>&quot;Rotary Hammer&quot;</td><td>&quot;HR2230&quot;</td><td>&quot;Makita&quot;</td><td>false</td><td>199</td><td>1050</td></tr><tr><td>&quot;Random Orbital Sander&quot;</td><td>&quot;DBO180ZJ&quot;</td><td>&quot;Makita&quot;</td><td>true</td><td>199</td><td>11000</td></tr><tr><td>&quot;Impact Driver&quot;</td><td>&quot;DTD157Z&quot;</td><td>&quot;Makita&quot;</td><td>true</td><td>156</td><td>3000</td></tr></tbody></table></div>"
      ],
      "text/plain": [
       "shape: (10, 6)\n",
       "┌───────────────────────┬──────────────┬────────┬──────────┬───────┬───────┐\n",
       "│ tool                  ┆ product      ┆ brand  ┆ cordless ┆ price ┆ rpm   │\n",
       "│ ---                   ┆ ---          ┆ ---    ┆ ---      ┆ ---   ┆ ---   │\n",
       "│ str                   ┆ str          ┆ str    ┆ bool     ┆ i64   ┆ i64   │\n",
       "╞═══════════════════════╪══════════════╪════════╪══════════╪═══════╪═══════╡\n",
       "│ Miter Saw             ┆ GCM 8 SJL    ┆ Bosch  ┆ false    ┆ 391   ┆ 5500  │\n",
       "│ Router                ┆ POF 1400 ACE ┆ Bosch  ┆ false    ┆ 185   ┆ 28000 │\n",
       "│ Jigsaw                ┆ PST 900 PEL  ┆ Bosch  ┆ false    ┆ 79    ┆ 3100  │\n",
       "│ Table Saw             ┆ DWE7485      ┆ DeWalt ┆ false    ┆ 516   ┆ 5800  │\n",
       "│ Nail Gun              ┆ DPSB2IN1-XJ  ┆ DeWalt ┆ true     ┆ 129   ┆ null  │\n",
       "│ Plunge Cut Saw        ┆ DSP600ZJ     ┆ Makita ┆ true     ┆ 459   ┆ 6300  │\n",
       "│ Angle Grinder         ┆ DGA504ZJ     ┆ Makita ┆ true     ┆ 229   ┆ 8500  │\n",
       "│ Rotary Hammer         ┆ HR2230       ┆ Makita ┆ false    ┆ 199   ┆ 1050  │\n",
       "│ Random Orbital Sander ┆ DBO180ZJ     ┆ Makita ┆ true     ┆ 199   ┆ 11000 │\n",
       "│ Impact Driver         ┆ DTD157Z      ┆ Makita ┆ true     ┆ 156   ┆ 3000  │\n",
       "└───────────────────────┴──────────────┴────────┴──────────┴───────┴───────┘"
      ]
     },
     "execution_count": 10,
     "metadata": {},
     "output_type": "execute_result"
    }
   ],
   "source": [
    "tools.sort(\"brand\", \"price\", descending=[False, True])"
   ]
  },
  {
   "cell_type": "markdown",
   "metadata": {},
   "source": [
    "### Sorting Based on Expressions"
   ]
  },
  {
   "cell_type": "code",
   "execution_count": 11,
   "metadata": {},
   "outputs": [
    {
     "data": {
      "text/html": [
       "<div><style>\n",
       ".dataframe > thead > tr,\n",
       ".dataframe > tbody > tr {\n",
       "  text-align: right;\n",
       "  white-space: pre-wrap;\n",
       "}\n",
       "</style>\n",
       "<small>shape: (10, 6)</small><table border=\"1\" class=\"dataframe\"><thead><tr><th>tool</th><th>product</th><th>brand</th><th>cordless</th><th>price</th><th>rpm</th></tr><tr><td>str</td><td>str</td><td>str</td><td>bool</td><td>i64</td><td>i64</td></tr></thead><tbody><tr><td>&quot;Nail Gun&quot;</td><td>&quot;DPSB2IN1-XJ&quot;</td><td>&quot;DeWalt&quot;</td><td>true</td><td>129</td><td>null</td></tr><tr><td>&quot;Rotary Hammer&quot;</td><td>&quot;HR2230&quot;</td><td>&quot;Makita&quot;</td><td>false</td><td>199</td><td>1050</td></tr><tr><td>&quot;Table Saw&quot;</td><td>&quot;DWE7485&quot;</td><td>&quot;DeWalt&quot;</td><td>false</td><td>516</td><td>5800</td></tr><tr><td>&quot;Plunge Cut Saw&quot;</td><td>&quot;DSP600ZJ&quot;</td><td>&quot;Makita&quot;</td><td>true</td><td>459</td><td>6300</td></tr><tr><td>&quot;Miter Saw&quot;</td><td>&quot;GCM 8 SJL&quot;</td><td>&quot;Bosch&quot;</td><td>false</td><td>391</td><td>5500</td></tr><tr><td>&quot;Impact Driver&quot;</td><td>&quot;DTD157Z&quot;</td><td>&quot;Makita&quot;</td><td>true</td><td>156</td><td>3000</td></tr><tr><td>&quot;Angle Grinder&quot;</td><td>&quot;DGA504ZJ&quot;</td><td>&quot;Makita&quot;</td><td>true</td><td>229</td><td>8500</td></tr><tr><td>&quot;Jigsaw&quot;</td><td>&quot;PST 900 PEL&quot;</td><td>&quot;Bosch&quot;</td><td>false</td><td>79</td><td>3100</td></tr><tr><td>&quot;Random Orbital Sander&quot;</td><td>&quot;DBO180ZJ&quot;</td><td>&quot;Makita&quot;</td><td>true</td><td>199</td><td>11000</td></tr><tr><td>&quot;Router&quot;</td><td>&quot;POF 1400 ACE&quot;</td><td>&quot;Bosch&quot;</td><td>false</td><td>185</td><td>28000</td></tr></tbody></table></div>"
      ],
      "text/plain": [
       "shape: (10, 6)\n",
       "┌───────────────────────┬──────────────┬────────┬──────────┬───────┬───────┐\n",
       "│ tool                  ┆ product      ┆ brand  ┆ cordless ┆ price ┆ rpm   │\n",
       "│ ---                   ┆ ---          ┆ ---    ┆ ---      ┆ ---   ┆ ---   │\n",
       "│ str                   ┆ str          ┆ str    ┆ bool     ┆ i64   ┆ i64   │\n",
       "╞═══════════════════════╪══════════════╪════════╪══════════╪═══════╪═══════╡\n",
       "│ Nail Gun              ┆ DPSB2IN1-XJ  ┆ DeWalt ┆ true     ┆ 129   ┆ null  │\n",
       "│ Rotary Hammer         ┆ HR2230       ┆ Makita ┆ false    ┆ 199   ┆ 1050  │\n",
       "│ Table Saw             ┆ DWE7485      ┆ DeWalt ┆ false    ┆ 516   ┆ 5800  │\n",
       "│ Plunge Cut Saw        ┆ DSP600ZJ     ┆ Makita ┆ true     ┆ 459   ┆ 6300  │\n",
       "│ Miter Saw             ┆ GCM 8 SJL    ┆ Bosch  ┆ false    ┆ 391   ┆ 5500  │\n",
       "│ Impact Driver         ┆ DTD157Z      ┆ Makita ┆ true     ┆ 156   ┆ 3000  │\n",
       "│ Angle Grinder         ┆ DGA504ZJ     ┆ Makita ┆ true     ┆ 229   ┆ 8500  │\n",
       "│ Jigsaw                ┆ PST 900 PEL  ┆ Bosch  ┆ false    ┆ 79    ┆ 3100  │\n",
       "│ Random Orbital Sander ┆ DBO180ZJ     ┆ Makita ┆ true     ┆ 199   ┆ 11000 │\n",
       "│ Router                ┆ POF 1400 ACE ┆ Bosch  ┆ false    ┆ 185   ┆ 28000 │\n",
       "└───────────────────────┴──────────────┴────────┴──────────┴───────┴───────┘"
      ]
     },
     "execution_count": 11,
     "metadata": {},
     "output_type": "execute_result"
    }
   ],
   "source": [
    "tools.sort(pl.col(\"rpm\") / pl.col(\"price\"))"
   ]
  },
  {
   "cell_type": "markdown",
   "metadata": {},
   "source": [
    "### Sorting Nested Data Types"
   ]
  },
  {
   "cell_type": "code",
   "execution_count": 12,
   "metadata": {},
   "outputs": [
    {
     "data": {
      "text/html": [
       "<div><style>\n",
       ".dataframe > thead > tr,\n",
       ".dataframe > tbody > tr {\n",
       "  text-align: right;\n",
       "  white-space: pre-wrap;\n",
       "}\n",
       "</style>\n",
       "<small>shape: (3, 1)</small><table border=\"1\" class=\"dataframe\"><thead><tr><th>lists</th></tr><tr><td>list[i64]</td></tr></thead><tbody><tr><td>[1]</td></tr><tr><td>[2, 1, 3]</td></tr><tr><td>[2, 2]</td></tr></tbody></table></div>"
      ],
      "text/plain": [
       "shape: (3, 1)\n",
       "┌───────────┐\n",
       "│ lists     │\n",
       "│ ---       │\n",
       "│ list[i64] │\n",
       "╞═══════════╡\n",
       "│ [1]       │\n",
       "│ [2, 1, 3] │\n",
       "│ [2, 2]    │\n",
       "└───────────┘"
      ]
     },
     "execution_count": 12,
     "metadata": {},
     "output_type": "execute_result"
    }
   ],
   "source": [
    "lists = pl.DataFrame({\"lists\": [[2, 2], [2, 1, 3], [1]]})\n",
    "lists.sort(\"lists\")"
   ]
  },
  {
   "cell_type": "code",
   "execution_count": 13,
   "metadata": {},
   "outputs": [
    {
     "data": {
      "text/html": [
       "<div><style>\n",
       ".dataframe > thead > tr,\n",
       ".dataframe > tbody > tr {\n",
       "  text-align: right;\n",
       "  white-space: pre-wrap;\n",
       "}\n",
       "</style>\n",
       "<small>shape: (3, 1)</small><table border=\"1\" class=\"dataframe\"><thead><tr><th>structs</th></tr><tr><td>struct[3]</td></tr></thead><tbody><tr><td>{1,1,2}</td></tr><tr><td>{1,2,3}</td></tr><tr><td>{1,3,1}</td></tr></tbody></table></div>"
      ],
      "text/plain": [
       "shape: (3, 1)\n",
       "┌───────────┐\n",
       "│ structs   │\n",
       "│ ---       │\n",
       "│ struct[3] │\n",
       "╞═══════════╡\n",
       "│ {1,1,2}   │\n",
       "│ {1,2,3}   │\n",
       "│ {1,3,1}   │\n",
       "└───────────┘"
      ]
     },
     "execution_count": 13,
     "metadata": {},
     "output_type": "execute_result"
    }
   ],
   "source": [
    "structs = pl.DataFrame(\n",
    "    {\n",
    "        \"structs\": [\n",
    "            {\"a\": 1, \"b\": 2, \"c\": 3},\n",
    "            {\"a\": 1, \"b\": 3, \"c\": 1},\n",
    "            {\"a\": 1, \"b\": 1, \"c\": 2},\n",
    "        ]\n",
    "    }\n",
    ")\n",
    "structs.sort(\"structs\")"
   ]
  },
  {
   "cell_type": "code",
   "execution_count": 14,
   "metadata": {},
   "outputs": [
    {
     "data": {
      "text/html": [
       "<div><style>\n",
       ".dataframe > thead > tr,\n",
       ".dataframe > tbody > tr {\n",
       "  text-align: right;\n",
       "  white-space: pre-wrap;\n",
       "}\n",
       "</style>\n",
       "<small>shape: (3, 2)</small><table border=\"1\" class=\"dataframe\"><thead><tr><th>brand</th><th>collection</th></tr><tr><td>str</td><td>list[struct[6]]</td></tr></thead><tbody><tr><td>&quot;Bosch&quot;</td><td>[{&quot;Miter Saw&quot;,&quot;GCM 8 SJL&quot;,&quot;Bosch&quot;,false,391,5500}, {&quot;Jigsaw&quot;,&quot;PST 900 PEL&quot;,&quot;Bosch&quot;,false,79,3100}, {&quot;Router&quot;,&quot;POF 1400 ACE&quot;,&quot;Bosch&quot;,false,185,28000}]</td></tr><tr><td>&quot;DeWalt&quot;</td><td>[{&quot;Nail Gun&quot;,&quot;DPSB2IN1-XJ&quot;,&quot;DeWalt&quot;,true,129,null}, {&quot;Table Saw&quot;,&quot;DWE7485&quot;,&quot;DeWalt&quot;,false,516,5800}]</td></tr><tr><td>&quot;Makita&quot;</td><td>[{&quot;Rotary Hammer&quot;,&quot;HR2230&quot;,&quot;Makita&quot;,false,199,1050}, {&quot;Plunge Cut Saw&quot;,&quot;DSP600ZJ&quot;,&quot;Makita&quot;,true,459,6300}, … {&quot;Random Orbital Sander&quot;,&quot;DBO180ZJ&quot;,&quot;Makita&quot;,true,199,11000}]</td></tr></tbody></table></div>"
      ],
      "text/plain": [
       "shape: (3, 2)\n",
       "┌────────┬─────────────────────────────────┐\n",
       "│ brand  ┆ collection                      │\n",
       "│ ---    ┆ ---                             │\n",
       "│ str    ┆ list[struct[6]]                 │\n",
       "╞════════╪═════════════════════════════════╡\n",
       "│ Bosch  ┆ [{\"Miter Saw\",\"GCM 8 SJL\",\"Bos… │\n",
       "│ DeWalt ┆ [{\"Nail Gun\",\"DPSB2IN1-XJ\",\"De… │\n",
       "│ Makita ┆ [{\"Rotary Hammer\",\"HR2230\",\"Ma… │\n",
       "└────────┴─────────────────────────────────┘"
      ]
     },
     "execution_count": 14,
     "metadata": {},
     "output_type": "execute_result"
    }
   ],
   "source": [
    "tools_collection = tools.group_by(\"brand\").agg(collection=pl.struct(pl.all()))\n",
    "tools_collection"
   ]
  },
  {
   "cell_type": "code",
   "execution_count": 15,
   "metadata": {},
   "outputs": [
    {
     "data": {
      "text/html": [
       "<div><style>\n",
       ".dataframe > thead > tr,\n",
       ".dataframe > tbody > tr {\n",
       "  text-align: right;\n",
       "  white-space: pre-wrap;\n",
       "}\n",
       "</style>\n",
       "<small>shape: (3, 2)</small><table border=\"1\" class=\"dataframe\"><thead><tr><th>brand</th><th>collection</th></tr><tr><td>str</td><td>list[struct[6]]</td></tr></thead><tbody><tr><td>&quot;Makita&quot;</td><td>[{&quot;Rotary Hammer&quot;,&quot;HR2230&quot;,&quot;Makita&quot;,false,199,1050}, {&quot;Plunge Cut Saw&quot;,&quot;DSP600ZJ&quot;,&quot;Makita&quot;,true,459,6300}, … {&quot;Random Orbital Sander&quot;,&quot;DBO180ZJ&quot;,&quot;Makita&quot;,true,199,11000}]</td></tr><tr><td>&quot;Bosch&quot;</td><td>[{&quot;Miter Saw&quot;,&quot;GCM 8 SJL&quot;,&quot;Bosch&quot;,false,391,5500}, {&quot;Jigsaw&quot;,&quot;PST 900 PEL&quot;,&quot;Bosch&quot;,false,79,3100}, {&quot;Router&quot;,&quot;POF 1400 ACE&quot;,&quot;Bosch&quot;,false,185,28000}]</td></tr><tr><td>&quot;DeWalt&quot;</td><td>[{&quot;Nail Gun&quot;,&quot;DPSB2IN1-XJ&quot;,&quot;DeWalt&quot;,true,129,null}, {&quot;Table Saw&quot;,&quot;DWE7485&quot;,&quot;DeWalt&quot;,false,516,5800}]</td></tr></tbody></table></div>"
      ],
      "text/plain": [
       "shape: (3, 2)\n",
       "┌────────┬─────────────────────────────────┐\n",
       "│ brand  ┆ collection                      │\n",
       "│ ---    ┆ ---                             │\n",
       "│ str    ┆ list[struct[6]]                 │\n",
       "╞════════╪═════════════════════════════════╡\n",
       "│ Makita ┆ [{\"Rotary Hammer\",\"HR2230\",\"Ma… │\n",
       "│ Bosch  ┆ [{\"Miter Saw\",\"GCM 8 SJL\",\"Bos… │\n",
       "│ DeWalt ┆ [{\"Nail Gun\",\"DPSB2IN1-XJ\",\"De… │\n",
       "└────────┴─────────────────────────────────┘"
      ]
     },
     "execution_count": 15,
     "metadata": {},
     "output_type": "execute_result"
    }
   ],
   "source": [
    "tools_collection.sort(pl.col(\"collection\").list.len(), descending=True)"
   ]
  },
  {
   "cell_type": "code",
   "execution_count": 16,
   "metadata": {},
   "outputs": [
    {
     "data": {
      "text/html": [
       "<div><style>\n",
       ".dataframe > thead > tr,\n",
       ".dataframe > tbody > tr {\n",
       "  text-align: right;\n",
       "  white-space: pre-wrap;\n",
       "}\n",
       "</style>\n",
       "<small>shape: (3, 2)</small><table border=\"1\" class=\"dataframe\"><thead><tr><th>brand</th><th>collection</th></tr><tr><td>str</td><td>list[struct[6]]</td></tr></thead><tbody><tr><td>&quot;Bosch&quot;</td><td>[{&quot;Miter Saw&quot;,&quot;GCM 8 SJL&quot;,&quot;Bosch&quot;,false,391,5500}, {&quot;Jigsaw&quot;,&quot;PST 900 PEL&quot;,&quot;Bosch&quot;,false,79,3100}, {&quot;Router&quot;,&quot;POF 1400 ACE&quot;,&quot;Bosch&quot;,false,185,28000}]</td></tr><tr><td>&quot;Makita&quot;</td><td>[{&quot;Rotary Hammer&quot;,&quot;HR2230&quot;,&quot;Makita&quot;,false,199,1050}, {&quot;Plunge Cut Saw&quot;,&quot;DSP600ZJ&quot;,&quot;Makita&quot;,true,459,6300}, … {&quot;Random Orbital Sander&quot;,&quot;DBO180ZJ&quot;,&quot;Makita&quot;,true,199,11000}]</td></tr><tr><td>&quot;DeWalt&quot;</td><td>[{&quot;Nail Gun&quot;,&quot;DPSB2IN1-XJ&quot;,&quot;DeWalt&quot;,true,129,null}, {&quot;Table Saw&quot;,&quot;DWE7485&quot;,&quot;DeWalt&quot;,false,516,5800}]</td></tr></tbody></table></div>"
      ],
      "text/plain": [
       "shape: (3, 2)\n",
       "┌────────┬─────────────────────────────────┐\n",
       "│ brand  ┆ collection                      │\n",
       "│ ---    ┆ ---                             │\n",
       "│ str    ┆ list[struct[6]]                 │\n",
       "╞════════╪═════════════════════════════════╡\n",
       "│ Bosch  ┆ [{\"Miter Saw\",\"GCM 8 SJL\",\"Bos… │\n",
       "│ Makita ┆ [{\"Rotary Hammer\",\"HR2230\",\"Ma… │\n",
       "│ DeWalt ┆ [{\"Nail Gun\",\"DPSB2IN1-XJ\",\"De… │\n",
       "└────────┴─────────────────────────────────┘"
      ]
     },
     "execution_count": 16,
     "metadata": {},
     "output_type": "execute_result"
    }
   ],
   "source": [
    "tools_collection.sort(\n",
    "    pl.col(\"collection\")\n",
    "    .list.eval(pl.element().struct.field(\"price\"))\n",
    "    .list.mean()\n",
    ")"
   ]
  },
  {
   "cell_type": "code",
   "execution_count": 17,
   "metadata": {},
   "outputs": [
    {
     "data": {
      "text/html": [
       "<div><style>\n",
       ".dataframe > thead > tr,\n",
       ".dataframe > tbody > tr {\n",
       "  text-align: right;\n",
       "  white-space: pre-wrap;\n",
       "}\n",
       "</style>\n",
       "<small>shape: (3, 3)</small><table border=\"1\" class=\"dataframe\"><thead><tr><th>brand</th><th>collection</th><th>mean_price</th></tr><tr><td>str</td><td>list[struct[6]]</td><td>f64</td></tr></thead><tbody><tr><td>&quot;Bosch&quot;</td><td>[{&quot;Miter Saw&quot;,&quot;GCM 8 SJL&quot;,&quot;Bosch&quot;,false,391,5500}, {&quot;Jigsaw&quot;,&quot;PST 900 PEL&quot;,&quot;Bosch&quot;,false,79,3100}, {&quot;Router&quot;,&quot;POF 1400 ACE&quot;,&quot;Bosch&quot;,false,185,28000}]</td><td>218.333333</td></tr><tr><td>&quot;Makita&quot;</td><td>[{&quot;Rotary Hammer&quot;,&quot;HR2230&quot;,&quot;Makita&quot;,false,199,1050}, {&quot;Plunge Cut Saw&quot;,&quot;DSP600ZJ&quot;,&quot;Makita&quot;,true,459,6300}, … {&quot;Random Orbital Sander&quot;,&quot;DBO180ZJ&quot;,&quot;Makita&quot;,true,199,11000}]</td><td>248.4</td></tr><tr><td>&quot;DeWalt&quot;</td><td>[{&quot;Nail Gun&quot;,&quot;DPSB2IN1-XJ&quot;,&quot;DeWalt&quot;,true,129,null}, {&quot;Table Saw&quot;,&quot;DWE7485&quot;,&quot;DeWalt&quot;,false,516,5800}]</td><td>322.5</td></tr></tbody></table></div>"
      ],
      "text/plain": [
       "shape: (3, 3)\n",
       "┌────────┬─────────────────────────────────┬────────────┐\n",
       "│ brand  ┆ collection                      ┆ mean_price │\n",
       "│ ---    ┆ ---                             ┆ ---        │\n",
       "│ str    ┆ list[struct[6]]                 ┆ f64        │\n",
       "╞════════╪═════════════════════════════════╪════════════╡\n",
       "│ Bosch  ┆ [{\"Miter Saw\",\"GCM 8 SJL\",\"Bos… ┆ 218.333333 │\n",
       "│ Makita ┆ [{\"Rotary Hammer\",\"HR2230\",\"Ma… ┆ 248.4      │\n",
       "│ DeWalt ┆ [{\"Nail Gun\",\"DPSB2IN1-XJ\",\"De… ┆ 322.5      │\n",
       "└────────┴─────────────────────────────────┴────────────┘"
      ]
     },
     "execution_count": 17,
     "metadata": {},
     "output_type": "execute_result"
    }
   ],
   "source": [
    "tools_collection.with_columns(\n",
    "    mean_price=pl.col(\"collection\")\n",
    "    .list.eval(pl.element().struct.field(\"price\"))\n",
    "    .list.mean()\n",
    ").sort(\"mean_price\")"
   ]
  },
  {
   "cell_type": "markdown",
   "metadata": {},
   "source": [
    "## Related Row Operations"
   ]
  },
  {
   "cell_type": "markdown",
   "metadata": {},
   "source": [
    "### Filtering Missing Values"
   ]
  },
  {
   "cell_type": "code",
   "execution_count": 18,
   "metadata": {},
   "outputs": [
    {
     "data": {
      "text/plain": [
       "9"
      ]
     },
     "execution_count": 18,
     "metadata": {},
     "output_type": "execute_result"
    }
   ],
   "source": [
    "tools.drop_nulls(\"rpm\").height"
   ]
  },
  {
   "cell_type": "code",
   "execution_count": 19,
   "metadata": {},
   "outputs": [
    {
     "data": {
      "text/plain": [
       "9"
      ]
     },
     "execution_count": 19,
     "metadata": {},
     "output_type": "execute_result"
    }
   ],
   "source": [
    "tools.filter(pl.all_horizontal(pl.all().is_not_null())).height"
   ]
  },
  {
   "cell_type": "markdown",
   "metadata": {},
   "source": [
    "### Slicing"
   ]
  },
  {
   "cell_type": "code",
   "execution_count": 20,
   "metadata": {},
   "outputs": [
    {
     "data": {
      "text/html": [
       "<div><style>\n",
       ".dataframe > thead > tr,\n",
       ".dataframe > tbody > tr {\n",
       "  text-align: right;\n",
       "  white-space: pre-wrap;\n",
       "}\n",
       "</style>\n",
       "<small>shape: (3, 7)</small><table border=\"1\" class=\"dataframe\"><thead><tr><th>index</th><th>tool</th><th>product</th><th>brand</th><th>cordless</th><th>price</th><th>rpm</th></tr><tr><td>u32</td><td>str</td><td>str</td><td>str</td><td>bool</td><td>i64</td><td>i64</td></tr></thead><tbody><tr><td>0</td><td>&quot;Rotary Hammer&quot;</td><td>&quot;HR2230&quot;</td><td>&quot;Makita&quot;</td><td>false</td><td>199</td><td>1050</td></tr><tr><td>2</td><td>&quot;Plunge Cut Saw&quot;</td><td>&quot;DSP600ZJ&quot;</td><td>&quot;Makita&quot;</td><td>true</td><td>459</td><td>6300</td></tr><tr><td>4</td><td>&quot;Jigsaw&quot;</td><td>&quot;PST 900 PEL&quot;</td><td>&quot;Bosch&quot;</td><td>false</td><td>79</td><td>3100</td></tr></tbody></table></div>"
      ],
      "text/plain": [
       "shape: (3, 7)\n",
       "┌───────┬────────────────┬─────────────┬────────┬──────────┬───────┬──────┐\n",
       "│ index ┆ tool           ┆ product     ┆ brand  ┆ cordless ┆ price ┆ rpm  │\n",
       "│ ---   ┆ ---            ┆ ---         ┆ ---    ┆ ---      ┆ ---   ┆ ---  │\n",
       "│ u32   ┆ str            ┆ str         ┆ str    ┆ bool     ┆ i64   ┆ i64  │\n",
       "╞═══════╪════════════════╪═════════════╪════════╪══════════╪═══════╪══════╡\n",
       "│ 0     ┆ Rotary Hammer  ┆ HR2230      ┆ Makita ┆ false    ┆ 199   ┆ 1050 │\n",
       "│ 2     ┆ Plunge Cut Saw ┆ DSP600ZJ    ┆ Makita ┆ true     ┆ 459   ┆ 6300 │\n",
       "│ 4     ┆ Jigsaw         ┆ PST 900 PEL ┆ Bosch  ┆ false    ┆ 79    ┆ 3100 │\n",
       "└───────┴────────────────┴─────────────┴────────┴──────────┴───────┴──────┘"
      ]
     },
     "execution_count": 20,
     "metadata": {},
     "output_type": "execute_result"
    }
   ],
   "source": [
    "tools.with_row_index().gather_every(2).head(3)"
   ]
  },
  {
   "cell_type": "markdown",
   "metadata": {},
   "source": [
    "### Top and Bottom"
   ]
  },
  {
   "cell_type": "code",
   "execution_count": 21,
   "metadata": {},
   "outputs": [
    {
     "data": {
      "text/html": [
       "<div><style>\n",
       ".dataframe > thead > tr,\n",
       ".dataframe > tbody > tr {\n",
       "  text-align: right;\n",
       "  white-space: pre-wrap;\n",
       "}\n",
       "</style>\n",
       "<small>shape: (3, 6)</small><table border=\"1\" class=\"dataframe\"><thead><tr><th>tool</th><th>product</th><th>brand</th><th>cordless</th><th>price</th><th>rpm</th></tr><tr><td>str</td><td>str</td><td>str</td><td>bool</td><td>i64</td><td>i64</td></tr></thead><tbody><tr><td>&quot;Table Saw&quot;</td><td>&quot;DWE7485&quot;</td><td>&quot;DeWalt&quot;</td><td>false</td><td>516</td><td>5800</td></tr><tr><td>&quot;Plunge Cut Saw&quot;</td><td>&quot;DSP600ZJ&quot;</td><td>&quot;Makita&quot;</td><td>true</td><td>459</td><td>6300</td></tr><tr><td>&quot;Miter Saw&quot;</td><td>&quot;GCM 8 SJL&quot;</td><td>&quot;Bosch&quot;</td><td>false</td><td>391</td><td>5500</td></tr></tbody></table></div>"
      ],
      "text/plain": [
       "shape: (3, 6)\n",
       "┌────────────────┬───────────┬────────┬──────────┬───────┬──────┐\n",
       "│ tool           ┆ product   ┆ brand  ┆ cordless ┆ price ┆ rpm  │\n",
       "│ ---            ┆ ---       ┆ ---    ┆ ---      ┆ ---   ┆ ---  │\n",
       "│ str            ┆ str       ┆ str    ┆ bool     ┆ i64   ┆ i64  │\n",
       "╞════════════════╪═══════════╪════════╪══════════╪═══════╪══════╡\n",
       "│ Table Saw      ┆ DWE7485   ┆ DeWalt ┆ false    ┆ 516   ┆ 5800 │\n",
       "│ Plunge Cut Saw ┆ DSP600ZJ  ┆ Makita ┆ true     ┆ 459   ┆ 6300 │\n",
       "│ Miter Saw      ┆ GCM 8 SJL ┆ Bosch  ┆ false    ┆ 391   ┆ 5500 │\n",
       "└────────────────┴───────────┴────────┴──────────┴───────┴──────┘"
      ]
     },
     "execution_count": 21,
     "metadata": {},
     "output_type": "execute_result"
    }
   ],
   "source": [
    "tools.top_k(3, by=\"price\")"
   ]
  },
  {
   "cell_type": "markdown",
   "metadata": {},
   "source": [
    "### Sampling"
   ]
  },
  {
   "cell_type": "code",
   "execution_count": 22,
   "metadata": {},
   "outputs": [
    {
     "data": {
      "text/html": [
       "<div><style>\n",
       ".dataframe > thead > tr,\n",
       ".dataframe > tbody > tr {\n",
       "  text-align: right;\n",
       "  white-space: pre-wrap;\n",
       "}\n",
       "</style>\n",
       "<small>shape: (2, 6)</small><table border=\"1\" class=\"dataframe\"><thead><tr><th>tool</th><th>product</th><th>brand</th><th>cordless</th><th>price</th><th>rpm</th></tr><tr><td>str</td><td>str</td><td>str</td><td>bool</td><td>i64</td><td>i64</td></tr></thead><tbody><tr><td>&quot;Table Saw&quot;</td><td>&quot;DWE7485&quot;</td><td>&quot;DeWalt&quot;</td><td>false</td><td>516</td><td>5800</td></tr><tr><td>&quot;Rotary Hammer&quot;</td><td>&quot;HR2230&quot;</td><td>&quot;Makita&quot;</td><td>false</td><td>199</td><td>1050</td></tr></tbody></table></div>"
      ],
      "text/plain": [
       "shape: (2, 6)\n",
       "┌───────────────┬─────────┬────────┬──────────┬───────┬──────┐\n",
       "│ tool          ┆ product ┆ brand  ┆ cordless ┆ price ┆ rpm  │\n",
       "│ ---           ┆ ---     ┆ ---    ┆ ---      ┆ ---   ┆ ---  │\n",
       "│ str           ┆ str     ┆ str    ┆ bool     ┆ i64   ┆ i64  │\n",
       "╞═══════════════╪═════════╪════════╪══════════╪═══════╪══════╡\n",
       "│ Table Saw     ┆ DWE7485 ┆ DeWalt ┆ false    ┆ 516   ┆ 5800 │\n",
       "│ Rotary Hammer ┆ HR2230  ┆ Makita ┆ false    ┆ 199   ┆ 1050 │\n",
       "└───────────────┴─────────┴────────┴──────────┴───────┴──────┘"
      ]
     },
     "execution_count": 22,
     "metadata": {},
     "output_type": "execute_result"
    }
   ],
   "source": [
    "tools.sample(fraction=0.2)"
   ]
  },
  {
   "cell_type": "markdown",
   "metadata": {},
   "source": [
    "### Semi-Joins"
   ]
  },
  {
   "cell_type": "code",
   "execution_count": 23,
   "metadata": {},
   "outputs": [
    {
     "data": {
      "text/html": [
       "<div><style>\n",
       ".dataframe > thead > tr,\n",
       ".dataframe > tbody > tr {\n",
       "  text-align: right;\n",
       "  white-space: pre-wrap;\n",
       "}\n",
       "</style>\n",
       "<small>shape: (4, 6)</small><table border=\"1\" class=\"dataframe\"><thead><tr><th>tool</th><th>product</th><th>brand</th><th>cordless</th><th>price</th><th>rpm</th></tr><tr><td>str</td><td>str</td><td>str</td><td>bool</td><td>i64</td><td>i64</td></tr></thead><tbody><tr><td>&quot;Miter Saw&quot;</td><td>&quot;GCM 8 SJL&quot;</td><td>&quot;Bosch&quot;</td><td>false</td><td>391</td><td>5500</td></tr><tr><td>&quot;Plunge Cut Saw&quot;</td><td>&quot;DSP600ZJ&quot;</td><td>&quot;Makita&quot;</td><td>true</td><td>459</td><td>6300</td></tr><tr><td>&quot;Jigsaw&quot;</td><td>&quot;PST 900 PEL&quot;</td><td>&quot;Bosch&quot;</td><td>false</td><td>79</td><td>3100</td></tr><tr><td>&quot;Table Saw&quot;</td><td>&quot;DWE7485&quot;</td><td>&quot;DeWalt&quot;</td><td>false</td><td>516</td><td>5800</td></tr></tbody></table></div>"
      ],
      "text/plain": [
       "shape: (4, 6)\n",
       "┌────────────────┬─────────────┬────────┬──────────┬───────┬──────┐\n",
       "│ tool           ┆ product     ┆ brand  ┆ cordless ┆ price ┆ rpm  │\n",
       "│ ---            ┆ ---         ┆ ---    ┆ ---      ┆ ---   ┆ ---  │\n",
       "│ str            ┆ str         ┆ str    ┆ bool     ┆ i64   ┆ i64  │\n",
       "╞════════════════╪═════════════╪════════╪══════════╪═══════╪══════╡\n",
       "│ Miter Saw      ┆ GCM 8 SJL   ┆ Bosch  ┆ false    ┆ 391   ┆ 5500 │\n",
       "│ Plunge Cut Saw ┆ DSP600ZJ    ┆ Makita ┆ true     ┆ 459   ┆ 6300 │\n",
       "│ Jigsaw         ┆ PST 900 PEL ┆ Bosch  ┆ false    ┆ 79    ┆ 3100 │\n",
       "│ Table Saw      ┆ DWE7485     ┆ DeWalt ┆ false    ┆ 516   ┆ 5800 │\n",
       "└────────────────┴─────────────┴────────┴──────────┴───────┴──────┘"
      ]
     },
     "execution_count": 23,
     "metadata": {},
     "output_type": "execute_result"
    }
   ],
   "source": [
    "saws = pl.DataFrame(\n",
    "    {\n",
    "        \"tool\": [\n",
    "            \"Table Saw\",\n",
    "            \"Plunge Cut Saw\",\n",
    "            \"Miter Saw\",\n",
    "            \"Jigsaw\",\n",
    "            \"Bandsaw\",\n",
    "            \"Chainsaw\",\n",
    "            \"Seesaw\",\n",
    "        ]\n",
    "    }\n",
    ")\n",
    "tools.join(saws, how=\"semi\", on=\"tool\")"
   ]
  }
 ],
 "metadata": {
  "kernelspec": {
   "display_name": ".venv",
   "language": "python",
   "name": "python3"
  },
  "language_info": {
   "codemirror_mode": {
    "name": "ipython",
    "version": 3
   },
   "file_extension": ".py",
   "mimetype": "text/x-python",
   "name": "python",
   "nbconvert_exporter": "python",
   "pygments_lexer": "ipython3",
   "version": "3.12.3"
  }
 },
 "nbformat": 4,
 "nbformat_minor": 5
}
