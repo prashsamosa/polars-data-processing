{
 "cells": [
  {
   "cell_type": "markdown",
   "metadata": {},
   "source": [
    "# 13. Joining and Concatenating"
   ]
  },
  {
   "cell_type": "code",
   "execution_count": 1,
   "metadata": {},
   "outputs": [
    {
     "data": {
      "text/plain": [
       "'1.20.0'"
      ]
     },
     "execution_count": 1,
     "metadata": {},
     "output_type": "execute_result"
    }
   ],
   "source": [
    "import polars as pl\n",
    "pl.__version__  # The book is built with Polars version 1.20.0"
   ]
  },
  {
   "cell_type": "markdown",
   "metadata": {},
   "source": [
    "## Joining"
   ]
  },
  {
   "cell_type": "markdown",
   "metadata": {},
   "source": [
    "### Join Strategies"
   ]
  },
  {
   "cell_type": "code",
   "execution_count": 2,
   "metadata": {},
   "outputs": [],
   "source": [
    "df_left = pl.DataFrame({\"key\": [\"A\", \"B\", \"C\", \"D\"], \"value\": [1, 2, 3, 4]})\n",
    "\n",
    "df_right = pl.DataFrame({\"key\": [\"B\", \"C\", \"D\", \"E\"], \"value\": [5, 6, 7, 8]})"
   ]
  },
  {
   "cell_type": "markdown",
   "metadata": {},
   "source": [
    "#### Inner"
   ]
  },
  {
   "cell_type": "code",
   "execution_count": 3,
   "metadata": {},
   "outputs": [
    {
     "data": {
      "text/html": [
       "<div><style>\n",
       ".dataframe > thead > tr,\n",
       ".dataframe > tbody > tr {\n",
       "  text-align: right;\n",
       "  white-space: pre-wrap;\n",
       "}\n",
       "</style>\n",
       "<small>shape: (3, 3)</small><table border=\"1\" class=\"dataframe\"><thead><tr><th>key</th><th>value</th><th>value_right</th></tr><tr><td>str</td><td>i64</td><td>i64</td></tr></thead><tbody><tr><td>&quot;B&quot;</td><td>2</td><td>5</td></tr><tr><td>&quot;C&quot;</td><td>3</td><td>6</td></tr><tr><td>&quot;D&quot;</td><td>4</td><td>7</td></tr></tbody></table></div>"
      ],
      "text/plain": [
       "shape: (3, 3)\n",
       "┌─────┬───────┬─────────────┐\n",
       "│ key ┆ value ┆ value_right │\n",
       "│ --- ┆ ---   ┆ ---         │\n",
       "│ str ┆ i64   ┆ i64         │\n",
       "╞═════╪═══════╪═════════════╡\n",
       "│ B   ┆ 2     ┆ 5           │\n",
       "│ C   ┆ 3     ┆ 6           │\n",
       "│ D   ┆ 4     ┆ 7           │\n",
       "└─────┴───────┴─────────────┘"
      ]
     },
     "execution_count": 3,
     "metadata": {},
     "output_type": "execute_result"
    }
   ],
   "source": [
    "df_left.join(df_right, on=\"key\", how=\"inner\")"
   ]
  },
  {
   "cell_type": "markdown",
   "metadata": {},
   "source": [
    "#### Full"
   ]
  },
  {
   "cell_type": "code",
   "execution_count": 4,
   "metadata": {},
   "outputs": [
    {
     "data": {
      "text/html": [
       "<div><style>\n",
       ".dataframe > thead > tr,\n",
       ".dataframe > tbody > tr {\n",
       "  text-align: right;\n",
       "  white-space: pre-wrap;\n",
       "}\n",
       "</style>\n",
       "<small>shape: (5, 4)</small><table border=\"1\" class=\"dataframe\"><thead><tr><th>key</th><th>value</th><th>key_other</th><th>value_other</th></tr><tr><td>str</td><td>i64</td><td>str</td><td>i64</td></tr></thead><tbody><tr><td>&quot;B&quot;</td><td>2</td><td>&quot;B&quot;</td><td>5</td></tr><tr><td>&quot;C&quot;</td><td>3</td><td>&quot;C&quot;</td><td>6</td></tr><tr><td>&quot;D&quot;</td><td>4</td><td>&quot;D&quot;</td><td>7</td></tr><tr><td>null</td><td>null</td><td>&quot;E&quot;</td><td>8</td></tr><tr><td>&quot;A&quot;</td><td>1</td><td>null</td><td>null</td></tr></tbody></table></div>"
      ],
      "text/plain": [
       "shape: (5, 4)\n",
       "┌──────┬───────┬───────────┬─────────────┐\n",
       "│ key  ┆ value ┆ key_other ┆ value_other │\n",
       "│ ---  ┆ ---   ┆ ---       ┆ ---         │\n",
       "│ str  ┆ i64   ┆ str       ┆ i64         │\n",
       "╞══════╪═══════╪═══════════╪═════════════╡\n",
       "│ B    ┆ 2     ┆ B         ┆ 5           │\n",
       "│ C    ┆ 3     ┆ C         ┆ 6           │\n",
       "│ D    ┆ 4     ┆ D         ┆ 7           │\n",
       "│ null ┆ null  ┆ E         ┆ 8           │\n",
       "│ A    ┆ 1     ┆ null      ┆ null        │\n",
       "└──────┴───────┴───────────┴─────────────┘"
      ]
     },
     "execution_count": 4,
     "metadata": {},
     "output_type": "execute_result"
    }
   ],
   "source": [
    "df_left.join(df_right, on=\"key\", how=\"full\", suffix=\"_other\")"
   ]
  },
  {
   "cell_type": "markdown",
   "metadata": {},
   "source": [
    "#### Left"
   ]
  },
  {
   "cell_type": "code",
   "execution_count": 5,
   "metadata": {},
   "outputs": [
    {
     "data": {
      "text/html": [
       "<div><style>\n",
       ".dataframe > thead > tr,\n",
       ".dataframe > tbody > tr {\n",
       "  text-align: right;\n",
       "  white-space: pre-wrap;\n",
       "}\n",
       "</style>\n",
       "<small>shape: (4, 3)</small><table border=\"1\" class=\"dataframe\"><thead><tr><th>key</th><th>value</th><th>value_right</th></tr><tr><td>str</td><td>i64</td><td>i64</td></tr></thead><tbody><tr><td>&quot;A&quot;</td><td>1</td><td>null</td></tr><tr><td>&quot;B&quot;</td><td>2</td><td>5</td></tr><tr><td>&quot;C&quot;</td><td>3</td><td>6</td></tr><tr><td>&quot;D&quot;</td><td>4</td><td>7</td></tr></tbody></table></div>"
      ],
      "text/plain": [
       "shape: (4, 3)\n",
       "┌─────┬───────┬─────────────┐\n",
       "│ key ┆ value ┆ value_right │\n",
       "│ --- ┆ ---   ┆ ---         │\n",
       "│ str ┆ i64   ┆ i64         │\n",
       "╞═════╪═══════╪═════════════╡\n",
       "│ A   ┆ 1     ┆ null        │\n",
       "│ B   ┆ 2     ┆ 5           │\n",
       "│ C   ┆ 3     ┆ 6           │\n",
       "│ D   ┆ 4     ┆ 7           │\n",
       "└─────┴───────┴─────────────┘"
      ]
     },
     "execution_count": 5,
     "metadata": {},
     "output_type": "execute_result"
    }
   ],
   "source": [
    "df_left.join(df_right, on=\"key\", how=\"left\")"
   ]
  },
  {
   "cell_type": "markdown",
   "metadata": {},
   "source": [
    "#### Right"
   ]
  },
  {
   "cell_type": "code",
   "execution_count": 6,
   "metadata": {},
   "outputs": [
    {
     "data": {
      "text/html": [
       "<div><style>\n",
       ".dataframe > thead > tr,\n",
       ".dataframe > tbody > tr {\n",
       "  text-align: right;\n",
       "  white-space: pre-wrap;\n",
       "}\n",
       "</style>\n",
       "<small>shape: (4, 3)</small><table border=\"1\" class=\"dataframe\"><thead><tr><th>value</th><th>key</th><th>value_right</th></tr><tr><td>i64</td><td>str</td><td>i64</td></tr></thead><tbody><tr><td>2</td><td>&quot;B&quot;</td><td>5</td></tr><tr><td>3</td><td>&quot;C&quot;</td><td>6</td></tr><tr><td>4</td><td>&quot;D&quot;</td><td>7</td></tr><tr><td>null</td><td>&quot;E&quot;</td><td>8</td></tr></tbody></table></div>"
      ],
      "text/plain": [
       "shape: (4, 3)\n",
       "┌───────┬─────┬─────────────┐\n",
       "│ value ┆ key ┆ value_right │\n",
       "│ ---   ┆ --- ┆ ---         │\n",
       "│ i64   ┆ str ┆ i64         │\n",
       "╞═══════╪═════╪═════════════╡\n",
       "│ 2     ┆ B   ┆ 5           │\n",
       "│ 3     ┆ C   ┆ 6           │\n",
       "│ 4     ┆ D   ┆ 7           │\n",
       "│ null  ┆ E   ┆ 8           │\n",
       "└───────┴─────┴─────────────┘"
      ]
     },
     "execution_count": 6,
     "metadata": {},
     "output_type": "execute_result"
    }
   ],
   "source": [
    "df_left.join(df_right, on=\"key\", how=\"right\")"
   ]
  },
  {
   "cell_type": "markdown",
   "metadata": {},
   "source": [
    "#### Cross"
   ]
  },
  {
   "cell_type": "code",
   "execution_count": 7,
   "metadata": {},
   "outputs": [
    {
     "data": {
      "text/html": [
       "<div><style>\n",
       ".dataframe > thead > tr,\n",
       ".dataframe > tbody > tr {\n",
       "  text-align: right;\n",
       "  white-space: pre-wrap;\n",
       "}\n",
       "</style>\n",
       "<small>shape: (16, 4)</small><table border=\"1\" class=\"dataframe\"><thead><tr><th>key</th><th>value</th><th>key_right</th><th>value_right</th></tr><tr><td>str</td><td>i64</td><td>str</td><td>i64</td></tr></thead><tbody><tr><td>&quot;A&quot;</td><td>1</td><td>&quot;B&quot;</td><td>5</td></tr><tr><td>&quot;A&quot;</td><td>1</td><td>&quot;C&quot;</td><td>6</td></tr><tr><td>&quot;A&quot;</td><td>1</td><td>&quot;D&quot;</td><td>7</td></tr><tr><td>&quot;A&quot;</td><td>1</td><td>&quot;E&quot;</td><td>8</td></tr><tr><td>&quot;B&quot;</td><td>2</td><td>&quot;B&quot;</td><td>5</td></tr><tr><td>&hellip;</td><td>&hellip;</td><td>&hellip;</td><td>&hellip;</td></tr><tr><td>&quot;C&quot;</td><td>3</td><td>&quot;E&quot;</td><td>8</td></tr><tr><td>&quot;D&quot;</td><td>4</td><td>&quot;B&quot;</td><td>5</td></tr><tr><td>&quot;D&quot;</td><td>4</td><td>&quot;C&quot;</td><td>6</td></tr><tr><td>&quot;D&quot;</td><td>4</td><td>&quot;D&quot;</td><td>7</td></tr><tr><td>&quot;D&quot;</td><td>4</td><td>&quot;E&quot;</td><td>8</td></tr></tbody></table></div>"
      ],
      "text/plain": [
       "shape: (16, 4)\n",
       "┌─────┬───────┬───────────┬─────────────┐\n",
       "│ key ┆ value ┆ key_right ┆ value_right │\n",
       "│ --- ┆ ---   ┆ ---       ┆ ---         │\n",
       "│ str ┆ i64   ┆ str       ┆ i64         │\n",
       "╞═════╪═══════╪═══════════╪═════════════╡\n",
       "│ A   ┆ 1     ┆ B         ┆ 5           │\n",
       "│ A   ┆ 1     ┆ C         ┆ 6           │\n",
       "│ A   ┆ 1     ┆ D         ┆ 7           │\n",
       "│ A   ┆ 1     ┆ E         ┆ 8           │\n",
       "│ B   ┆ 2     ┆ B         ┆ 5           │\n",
       "│ …   ┆ …     ┆ …         ┆ …           │\n",
       "│ C   ┆ 3     ┆ E         ┆ 8           │\n",
       "│ D   ┆ 4     ┆ B         ┆ 5           │\n",
       "│ D   ┆ 4     ┆ C         ┆ 6           │\n",
       "│ D   ┆ 4     ┆ D         ┆ 7           │\n",
       "│ D   ┆ 4     ┆ E         ┆ 8           │\n",
       "└─────┴───────┴───────────┴─────────────┘"
      ]
     },
     "execution_count": 7,
     "metadata": {},
     "output_type": "execute_result"
    }
   ],
   "source": [
    "df_left.join(df_right, how=\"cross\")"
   ]
  },
  {
   "cell_type": "markdown",
   "metadata": {},
   "source": [
    "#### Semi"
   ]
  },
  {
   "cell_type": "code",
   "execution_count": 8,
   "metadata": {},
   "outputs": [
    {
     "data": {
      "text/html": [
       "<div><style>\n",
       ".dataframe > thead > tr,\n",
       ".dataframe > tbody > tr {\n",
       "  text-align: right;\n",
       "  white-space: pre-wrap;\n",
       "}\n",
       "</style>\n",
       "<small>shape: (3, 2)</small><table border=\"1\" class=\"dataframe\"><thead><tr><th>key</th><th>value</th></tr><tr><td>str</td><td>i64</td></tr></thead><tbody><tr><td>&quot;B&quot;</td><td>2</td></tr><tr><td>&quot;C&quot;</td><td>3</td></tr><tr><td>&quot;D&quot;</td><td>4</td></tr></tbody></table></div>"
      ],
      "text/plain": [
       "shape: (3, 2)\n",
       "┌─────┬───────┐\n",
       "│ key ┆ value │\n",
       "│ --- ┆ ---   │\n",
       "│ str ┆ i64   │\n",
       "╞═════╪═══════╡\n",
       "│ B   ┆ 2     │\n",
       "│ C   ┆ 3     │\n",
       "│ D   ┆ 4     │\n",
       "└─────┴───────┘"
      ]
     },
     "execution_count": 8,
     "metadata": {},
     "output_type": "execute_result"
    }
   ],
   "source": [
    "df_left.join(df_right, on=\"key\", how=\"semi\")"
   ]
  },
  {
   "cell_type": "markdown",
   "metadata": {},
   "source": [
    "#### Anti"
   ]
  },
  {
   "cell_type": "code",
   "execution_count": 9,
   "metadata": {},
   "outputs": [
    {
     "data": {
      "text/html": [
       "<div><style>\n",
       ".dataframe > thead > tr,\n",
       ".dataframe > tbody > tr {\n",
       "  text-align: right;\n",
       "  white-space: pre-wrap;\n",
       "}\n",
       "</style>\n",
       "<small>shape: (1, 2)</small><table border=\"1\" class=\"dataframe\"><thead><tr><th>key</th><th>value</th></tr><tr><td>str</td><td>i64</td></tr></thead><tbody><tr><td>&quot;A&quot;</td><td>1</td></tr></tbody></table></div>"
      ],
      "text/plain": [
       "shape: (1, 2)\n",
       "┌─────┬───────┐\n",
       "│ key ┆ value │\n",
       "│ --- ┆ ---   │\n",
       "│ str ┆ i64   │\n",
       "╞═════╪═══════╡\n",
       "│ A   ┆ 1     │\n",
       "└─────┴───────┘"
      ]
     },
     "execution_count": 9,
     "metadata": {},
     "output_type": "execute_result"
    }
   ],
   "source": [
    "df_left.join(df_right, on=\"key\", how=\"anti\")"
   ]
  },
  {
   "cell_type": "markdown",
   "metadata": {},
   "source": [
    "### Joining on Multiple Columns"
   ]
  },
  {
   "cell_type": "code",
   "execution_count": 10,
   "metadata": {},
   "outputs": [
    {
     "data": {
      "text/html": [
       "<div><style>\n",
       ".dataframe > thead > tr,\n",
       ".dataframe > tbody > tr {\n",
       "  text-align: right;\n",
       "  white-space: pre-wrap;\n",
       "}\n",
       "</style>\n",
       "<small>shape: (3, 4)</small><table border=\"1\" class=\"dataframe\"><thead><tr><th>name</th><th>city</th><th>age</th><th>department</th></tr><tr><td>str</td><td>str</td><td>i64</td><td>str</td></tr></thead><tbody><tr><td>&quot;Alice&quot;</td><td>&quot;NY&quot;</td><td>25</td><td>&quot;Finance&quot;</td></tr><tr><td>&quot;Bob&quot;</td><td>&quot;LA&quot;</td><td>30</td><td>&quot;Marketing&quot;</td></tr><tr><td>&quot;Charlie&quot;</td><td>&quot;NY&quot;</td><td>35</td><td>&quot;Engineering&quot;</td></tr></tbody></table></div>"
      ],
      "text/plain": [
       "shape: (3, 4)\n",
       "┌─────────┬──────┬─────┬─────────────┐\n",
       "│ name    ┆ city ┆ age ┆ department  │\n",
       "│ ---     ┆ ---  ┆ --- ┆ ---         │\n",
       "│ str     ┆ str  ┆ i64 ┆ str         │\n",
       "╞═════════╪══════╪═════╪═════════════╡\n",
       "│ Alice   ┆ NY   ┆ 25  ┆ Finance     │\n",
       "│ Bob     ┆ LA   ┆ 30  ┆ Marketing   │\n",
       "│ Charlie ┆ NY   ┆ 35  ┆ Engineering │\n",
       "└─────────┴──────┴─────┴─────────────┘"
      ]
     },
     "execution_count": 10,
     "metadata": {},
     "output_type": "execute_result"
    }
   ],
   "source": [
    "residences_left = pl.DataFrame(\n",
    "    {\n",
    "        \"name\": [\"Alice\", \"Bob\", \"Charlie\", \"Dave\"],\n",
    "        \"city\": [\"NY\", \"LA\", \"NY\", \"SF\"],\n",
    "        \"age\": [25, 30, 35, 40],\n",
    "    }\n",
    ")\n",
    "\n",
    "departments_right = pl.DataFrame(\n",
    "    {\n",
    "        \"name\": [\"Alice\", \"Bob\", \"Charlie\", \"Dave\"],\n",
    "        \"city\": [\"NY\", \"LA\", \"NY\", \"Chicago\"],\n",
    "        \"department\": [\"Finance\", \"Marketing\", \"Engineering\", \"Operations\"],\n",
    "    }\n",
    ")\n",
    "\n",
    "residences_left.join(departments_right, on=[\"name\", \"city\"], how=\"inner\")"
   ]
  },
  {
   "cell_type": "markdown",
   "metadata": {},
   "source": [
    "### Validation"
   ]
  },
  {
   "cell_type": "markdown",
   "metadata": {},
   "source": [
    "#### Many-to-many"
   ]
  },
  {
   "cell_type": "markdown",
   "metadata": {},
   "source": [
    "#### One-to-many"
   ]
  },
  {
   "cell_type": "markdown",
   "metadata": {},
   "source": [
    "#### Many-to-one"
   ]
  },
  {
   "cell_type": "markdown",
   "metadata": {},
   "source": [
    "#### One-to-one"
   ]
  },
  {
   "cell_type": "code",
   "execution_count": 11,
   "metadata": {},
   "outputs": [
    {
     "data": {
      "text/html": [
       "<div><style>\n",
       ".dataframe > thead > tr,\n",
       ".dataframe > tbody > tr {\n",
       "  text-align: right;\n",
       "  white-space: pre-wrap;\n",
       "}\n",
       "</style>\n",
       "<small>shape: (4, 4)</small><table border=\"1\" class=\"dataframe\"><thead><tr><th>employee_id</th><th>name</th><th>department_id</th><th>department_name</th></tr><tr><td>i64</td><td>str</td><td>i64</td><td>str</td></tr></thead><tbody><tr><td>1</td><td>&quot;Alice&quot;</td><td>10</td><td>&quot;Information Technology&quot;</td></tr><tr><td>2</td><td>&quot;Bob&quot;</td><td>10</td><td>&quot;Information Technology&quot;</td></tr><tr><td>3</td><td>&quot;Charlie&quot;</td><td>30</td><td>&quot;Human Resources&quot;</td></tr><tr><td>4</td><td>&quot;Dave&quot;</td><td>10</td><td>&quot;Information Technology&quot;</td></tr></tbody></table></div>"
      ],
      "text/plain": [
       "shape: (4, 4)\n",
       "┌─────────────┬─────────┬───────────────┬────────────────────────┐\n",
       "│ employee_id ┆ name    ┆ department_id ┆ department_name        │\n",
       "│ ---         ┆ ---     ┆ ---           ┆ ---                    │\n",
       "│ i64         ┆ str     ┆ i64           ┆ str                    │\n",
       "╞═════════════╪═════════╪═══════════════╪════════════════════════╡\n",
       "│ 1           ┆ Alice   ┆ 10            ┆ Information Technology │\n",
       "│ 2           ┆ Bob     ┆ 10            ┆ Information Technology │\n",
       "│ 3           ┆ Charlie ┆ 30            ┆ Human Resources        │\n",
       "│ 4           ┆ Dave    ┆ 10            ┆ Information Technology │\n",
       "└─────────────┴─────────┴───────────────┴────────────────────────┘"
      ]
     },
     "execution_count": 11,
     "metadata": {},
     "output_type": "execute_result"
    }
   ],
   "source": [
    "employees = pl.DataFrame(\n",
    "    {\n",
    "        \"employee_id\": [1, 2, 3, 4],\n",
    "        \"name\": [\"Alice\", \"Bob\", \"Charlie\", \"Dave\"],\n",
    "        \"department_id\": [10, 10, 30, 10],\n",
    "    }\n",
    ")\n",
    "\n",
    "departments = pl.DataFrame(\n",
    "    {\n",
    "        \"department_id\": [10, 20, 30],\n",
    "        \"department_name\": [\n",
    "            \"Information Technology\",\n",
    "            \"Finance\",\n",
    "            \"Human Resources\",\n",
    "        ],\n",
    "    }\n",
    ")\n",
    "\n",
    "employees.join(departments, on=\"department_id\", how=\"left\", validate=\"m:1\")"
   ]
  },
  {
   "cell_type": "code",
   "execution_count": 12,
   "metadata": {},
   "outputs": [],
   "source": [
    "# This raises a ComputeError:\n",
    "# departments = pl.DataFrame(\n",
    "#     {\n",
    "#         \"department_id\": [10, 20, 10],\n",
    "#         \"department_name\": [\n",
    "#             \"Information Technology\",\n",
    "#             \"Finance\",\n",
    "#             \"Human Resources\",\n",
    "#         ],\n",
    "#     }\n",
    "# )\n",
    "\n",
    "# employees.join(\n",
    "#     departments, on=\"department_id\", how=\"left\", validate=\"m:1\"\n",
    "# )"
   ]
  },
  {
   "cell_type": "markdown",
   "metadata": {},
   "source": [
    "## Inexact Joining"
   ]
  },
  {
   "cell_type": "code",
   "execution_count": 13,
   "metadata": {},
   "outputs": [],
   "source": [
    "df_left = pl.DataFrame({\"int_id\": [10, 5], \"value\": [\"b\", \"a\"]})\n",
    "\n",
    "df_right = pl.DataFrame({\"int_id\": [4, 7, 12], \"value\": [1, 2, 3]})"
   ]
  },
  {
   "cell_type": "code",
   "execution_count": 14,
   "metadata": {},
   "outputs": [],
   "source": [
    "# This raises an InvalidOperationError:\n",
    "# df_left.join_asof(df_right, on=\"int_id\", tolerance=3)"
   ]
  },
  {
   "cell_type": "code",
   "execution_count": 15,
   "metadata": {},
   "outputs": [
    {
     "data": {
      "text/html": [
       "<div><style>\n",
       ".dataframe > thead > tr,\n",
       ".dataframe > tbody > tr {\n",
       "  text-align: right;\n",
       "  white-space: pre-wrap;\n",
       "}\n",
       "</style>\n",
       "<small>shape: (2, 3)</small><table border=\"1\" class=\"dataframe\"><thead><tr><th>int_id</th><th>value</th><th>value_right</th></tr><tr><td>i64</td><td>str</td><td>i64</td></tr></thead><tbody><tr><td>5</td><td>&quot;a&quot;</td><td>1</td></tr><tr><td>10</td><td>&quot;b&quot;</td><td>2</td></tr></tbody></table></div>"
      ],
      "text/plain": [
       "shape: (2, 3)\n",
       "┌────────┬───────┬─────────────┐\n",
       "│ int_id ┆ value ┆ value_right │\n",
       "│ ---    ┆ ---   ┆ ---         │\n",
       "│ i64    ┆ str   ┆ i64         │\n",
       "╞════════╪═══════╪═════════════╡\n",
       "│ 5      ┆ a     ┆ 1           │\n",
       "│ 10     ┆ b     ┆ 2           │\n",
       "└────────┴───────┴─────────────┘"
      ]
     },
     "execution_count": 15,
     "metadata": {},
     "output_type": "execute_result"
    }
   ],
   "source": [
    "df_left = df_left.sort(\"int_id\")\n",
    "df_right = df_right\n",
    "\n",
    "df_left.join_asof(df_right, on=\"int_id\")"
   ]
  },
  {
   "cell_type": "code",
   "execution_count": 16,
   "metadata": {},
   "outputs": [
    {
     "data": {
      "text/html": [
       "<div><style>\n",
       ".dataframe > thead > tr,\n",
       ".dataframe > tbody > tr {\n",
       "  text-align: right;\n",
       "  white-space: pre-wrap;\n",
       "}\n",
       "</style>\n",
       "<small>shape: (2, 4)</small><table border=\"1\" class=\"dataframe\"><thead><tr><th>int_id</th><th>value</th><th>int_id_right</th><th>value_right</th></tr><tr><td>i64</td><td>str</td><td>i64</td><td>i64</td></tr></thead><tbody><tr><td>5</td><td>&quot;a&quot;</td><td>4</td><td>1</td></tr><tr><td>10</td><td>&quot;b&quot;</td><td>7</td><td>2</td></tr></tbody></table></div>"
      ],
      "text/plain": [
       "shape: (2, 4)\n",
       "┌────────┬───────┬──────────────┬─────────────┐\n",
       "│ int_id ┆ value ┆ int_id_right ┆ value_right │\n",
       "│ ---    ┆ ---   ┆ ---          ┆ ---         │\n",
       "│ i64    ┆ str   ┆ i64          ┆ i64         │\n",
       "╞════════╪═══════╪══════════════╪═════════════╡\n",
       "│ 5      ┆ a     ┆ 4            ┆ 1           │\n",
       "│ 10     ┆ b     ┆ 7            ┆ 2           │\n",
       "└────────┴───────┴──────────────┴─────────────┘"
      ]
     },
     "execution_count": 16,
     "metadata": {},
     "output_type": "execute_result"
    }
   ],
   "source": [
    "df_left.join_asof(\n",
    "    df_right,\n",
    "    on=\"int_id\",\n",
    "    coalesce=False,\n",
    ")"
   ]
  },
  {
   "cell_type": "code",
   "execution_count": 17,
   "metadata": {},
   "outputs": [
    {
     "data": {
      "text/html": [
       "<div><style>\n",
       ".dataframe > thead > tr,\n",
       ".dataframe > tbody > tr {\n",
       "  text-align: right;\n",
       "  white-space: pre-wrap;\n",
       "}\n",
       "</style>\n",
       "<small>shape: (2, 4)</small><table border=\"1\" class=\"dataframe\"><thead><tr><th>int_id</th><th>value</th><th>int_id_right</th><th>value_right</th></tr><tr><td>i64</td><td>str</td><td>i64</td><td>i64</td></tr></thead><tbody><tr><td>5</td><td>&quot;a&quot;</td><td>4</td><td>1</td></tr><tr><td>10</td><td>&quot;b&quot;</td><td>7</td><td>2</td></tr></tbody></table></div>"
      ],
      "text/plain": [
       "shape: (2, 4)\n",
       "┌────────┬───────┬──────────────┬─────────────┐\n",
       "│ int_id ┆ value ┆ int_id_right ┆ value_right │\n",
       "│ ---    ┆ ---   ┆ ---          ┆ ---         │\n",
       "│ i64    ┆ str   ┆ i64          ┆ i64         │\n",
       "╞════════╪═══════╪══════════════╪═════════════╡\n",
       "│ 5      ┆ a     ┆ 4            ┆ 1           │\n",
       "│ 10     ┆ b     ┆ 7            ┆ 2           │\n",
       "└────────┴───────┴──────────────┴─────────────┘"
      ]
     },
     "execution_count": 17,
     "metadata": {},
     "output_type": "execute_result"
    }
   ],
   "source": [
    "df_left.join_asof(\n",
    "    df_right.rename({\"int_id\": \"int_id_right\"}),\n",
    "    left_on=\"int_id\",\n",
    "    right_on=\"int_id_right\",\n",
    ")"
   ]
  },
  {
   "cell_type": "markdown",
   "metadata": {},
   "source": [
    "### Inexact Join Strategies"
   ]
  },
  {
   "cell_type": "code",
   "execution_count": 18,
   "metadata": {},
   "outputs": [
    {
     "name": "stdout",
     "output_type": "stream",
     "text": [
      "shape: (2, 2)\n",
      "┌────────┬───────┐\n",
      "│ int_id ┆ value │\n",
      "│ ---    ┆ ---   │\n",
      "│ i64    ┆ str   │\n",
      "╞════════╪═══════╡\n",
      "│ 5      ┆ a     │\n",
      "│ 10     ┆ b     │\n",
      "└────────┴───────┘\n",
      "shape: (3, 2)\n",
      "┌────────┬───────┐\n",
      "│ int_id ┆ value │\n",
      "│ ---    ┆ ---   │\n",
      "│ i64    ┆ i64   │\n",
      "╞════════╪═══════╡\n",
      "│ 4      ┆ 1     │\n",
      "│ 7      ┆ 2     │\n",
      "│ 12     ┆ 3     │\n",
      "└────────┴───────┘\n"
     ]
    }
   ],
   "source": [
    "print(df_left)\n",
    "print(df_right)"
   ]
  },
  {
   "cell_type": "code",
   "execution_count": 19,
   "metadata": {},
   "outputs": [
    {
     "data": {
      "text/html": [
       "<div><style>\n",
       ".dataframe > thead > tr,\n",
       ".dataframe > tbody > tr {\n",
       "  text-align: right;\n",
       "  white-space: pre-wrap;\n",
       "}\n",
       "</style>\n",
       "<small>shape: (2, 3)</small><table border=\"1\" class=\"dataframe\"><thead><tr><th>int_id</th><th>value</th><th>value_right</th></tr><tr><td>i64</td><td>str</td><td>i64</td></tr></thead><tbody><tr><td>5</td><td>&quot;a&quot;</td><td>1</td></tr><tr><td>10</td><td>&quot;b&quot;</td><td>2</td></tr></tbody></table></div>"
      ],
      "text/plain": [
       "shape: (2, 3)\n",
       "┌────────┬───────┬─────────────┐\n",
       "│ int_id ┆ value ┆ value_right │\n",
       "│ ---    ┆ ---   ┆ ---         │\n",
       "│ i64    ┆ str   ┆ i64         │\n",
       "╞════════╪═══════╪═════════════╡\n",
       "│ 5      ┆ a     ┆ 1           │\n",
       "│ 10     ┆ b     ┆ 2           │\n",
       "└────────┴───────┴─────────────┘"
      ]
     },
     "execution_count": 19,
     "metadata": {},
     "output_type": "execute_result"
    }
   ],
   "source": [
    "df_left.join_asof(\n",
    "    df_right,\n",
    "    on=\"int_id\",\n",
    "    tolerance=3,\n",
    "    strategy=\"backward\",\n",
    ")"
   ]
  },
  {
   "cell_type": "code",
   "execution_count": 20,
   "metadata": {},
   "outputs": [
    {
     "data": {
      "text/html": [
       "<div><style>\n",
       ".dataframe > thead > tr,\n",
       ".dataframe > tbody > tr {\n",
       "  text-align: right;\n",
       "  white-space: pre-wrap;\n",
       "}\n",
       "</style>\n",
       "<small>shape: (2, 3)</small><table border=\"1\" class=\"dataframe\"><thead><tr><th>int_id</th><th>value</th><th>value_right</th></tr><tr><td>i64</td><td>str</td><td>i64</td></tr></thead><tbody><tr><td>5</td><td>&quot;a&quot;</td><td>2</td></tr><tr><td>10</td><td>&quot;b&quot;</td><td>3</td></tr></tbody></table></div>"
      ],
      "text/plain": [
       "shape: (2, 3)\n",
       "┌────────┬───────┬─────────────┐\n",
       "│ int_id ┆ value ┆ value_right │\n",
       "│ ---    ┆ ---   ┆ ---         │\n",
       "│ i64    ┆ str   ┆ i64         │\n",
       "╞════════╪═══════╪═════════════╡\n",
       "│ 5      ┆ a     ┆ 2           │\n",
       "│ 10     ┆ b     ┆ 3           │\n",
       "└────────┴───────┴─────────────┘"
      ]
     },
     "execution_count": 20,
     "metadata": {},
     "output_type": "execute_result"
    }
   ],
   "source": [
    "df_left.join_asof(\n",
    "    df_right,\n",
    "    on=\"int_id\",\n",
    "    tolerance=3,\n",
    "    strategy=\"forward\",\n",
    ")"
   ]
  },
  {
   "cell_type": "code",
   "execution_count": null,
   "metadata": {},
   "outputs": [],
   "source": [
    "df_left.join_asof(\n",
    "    df_right,\n",
    "    on=\"int_id\",\n",
    "    tolerance=3,\n",
    "    strategy=\"nearest\",\n",
    ")"
   ]
  },
  {
   "cell_type": "markdown",
   "metadata": {},
   "source": [
    "### Additional Fine-Tuning"
   ]
  },
  {
   "cell_type": "markdown",
   "metadata": {},
   "source": [
    "### Use Case: Marketing Campaign Attribution"
   ]
  },
  {
   "cell_type": "code",
   "execution_count": 21,
   "metadata": {},
   "outputs": [
    {
     "data": {
      "text/html": [
       "<div><style>\n",
       ".dataframe > thead > tr,\n",
       ".dataframe > tbody > tr {\n",
       "  text-align: right;\n",
       "  white-space: pre-wrap;\n",
       "}\n",
       "</style>\n",
       "<small>shape: (1, 3)</small><table border=\"1\" class=\"dataframe\"><thead><tr><th>Campaign Name</th><th>Campaign Date</th><th>Product Type</th></tr><tr><td>str</td><td>str</td><td>str</td></tr></thead><tbody><tr><td>&quot;Launch&quot;</td><td>&quot;2023-01-01 20:00:00&quot;</td><td>&quot;Electronics&quot;</td></tr></tbody></table></div>"
      ],
      "text/plain": [
       "shape: (1, 3)\n",
       "┌───────────────┬─────────────────────┬──────────────┐\n",
       "│ Campaign Name ┆ Campaign Date       ┆ Product Type │\n",
       "│ ---           ┆ ---                 ┆ ---          │\n",
       "│ str           ┆ str                 ┆ str          │\n",
       "╞═══════════════╪═════════════════════╪══════════════╡\n",
       "│ Launch        ┆ 2023-01-01 20:00:00 ┆ Electronics  │\n",
       "└───────────────┴─────────────────────┴──────────────┘"
      ]
     },
     "execution_count": 21,
     "metadata": {},
     "output_type": "execute_result"
    }
   ],
   "source": [
    "campaigns = pl.scan_csv(\"data/campaigns.csv\")\n",
    "campaigns.head(1).collect()"
   ]
  },
  {
   "cell_type": "code",
   "execution_count": 22,
   "metadata": {},
   "outputs": [
    {
     "data": {
      "text/html": [
       "<div><style>\n",
       ".dataframe > thead > tr,\n",
       ".dataframe > tbody > tr {\n",
       "  text-align: right;\n",
       "  white-space: pre-wrap;\n",
       "}\n",
       "</style>\n",
       "<small>shape: (4, 1)</small><table border=\"1\" class=\"dataframe\"><thead><tr><th>Product Type</th></tr><tr><td>str</td></tr></thead><tbody><tr><td>&quot;Electronics&quot;</td></tr><tr><td>&quot;Books&quot;</td></tr><tr><td>&quot;Clothing&quot;</td></tr><tr><td>&quot;Furniture&quot;</td></tr></tbody></table></div>"
      ],
      "text/plain": [
       "shape: (4, 1)\n",
       "┌──────────────┐\n",
       "│ Product Type │\n",
       "│ ---          │\n",
       "│ str          │\n",
       "╞══════════════╡\n",
       "│ Electronics  │\n",
       "│ Books        │\n",
       "│ Clothing     │\n",
       "│ Furniture    │\n",
       "└──────────────┘"
      ]
     },
     "execution_count": 22,
     "metadata": {},
     "output_type": "execute_result"
    }
   ],
   "source": [
    "campaigns.select(pl.col(\"Product Type\").unique()).collect()"
   ]
  },
  {
   "cell_type": "code",
   "execution_count": 23,
   "metadata": {},
   "outputs": [
    {
     "data": {
      "text/html": [
       "<div><style>\n",
       ".dataframe > thead > tr,\n",
       ".dataframe > tbody > tr {\n",
       "  text-align: right;\n",
       "  white-space: pre-wrap;\n",
       "}\n",
       "</style>\n",
       "<small>shape: (1, 3)</small><table border=\"1\" class=\"dataframe\"><thead><tr><th>Sale Date</th><th>Product Type</th><th>Quantity</th></tr><tr><td>str</td><td>str</td><td>i64</td></tr></thead><tbody><tr><td>&quot;2023-01-01 02:00:00.000000000&quot;</td><td>&quot;Books&quot;</td><td>7</td></tr></tbody></table></div>"
      ],
      "text/plain": [
       "shape: (1, 3)\n",
       "┌───────────────────────────────┬──────────────┬──────────┐\n",
       "│ Sale Date                     ┆ Product Type ┆ Quantity │\n",
       "│ ---                           ┆ ---          ┆ ---      │\n",
       "│ str                           ┆ str          ┆ i64      │\n",
       "╞═══════════════════════════════╪══════════════╪══════════╡\n",
       "│ 2023-01-01 02:00:00.000000000 ┆ Books        ┆ 7        │\n",
       "└───────────────────────────────┴──────────────┴──────────┘"
      ]
     },
     "execution_count": 23,
     "metadata": {},
     "output_type": "execute_result"
    }
   ],
   "source": [
    "transactions = pl.scan_csv(\"data/transactions.csv\")\n",
    "transactions.head(1).collect()"
   ]
  },
  {
   "cell_type": "code",
   "execution_count": 24,
   "metadata": {},
   "outputs": [
    {
     "data": {
      "text/html": [
       "<div><style>\n",
       ".dataframe > thead > tr,\n",
       ".dataframe > tbody > tr {\n",
       "  text-align: right;\n",
       "  white-space: pre-wrap;\n",
       "}\n",
       "</style>\n",
       "<small>shape: (20_000, 5)</small><table border=\"1\" class=\"dataframe\"><thead><tr><th>Sale Date</th><th>Product Type</th><th>Quantity</th><th>Campaign Name</th><th>Campaign Date</th></tr><tr><td>datetime[μs]</td><td>str</td><td>i64</td><td>str</td><td>datetime[μs]</td></tr></thead><tbody><tr><td>2023-01-01 01:26:12.558627</td><td>&quot;Electronics&quot;</td><td>2</td><td>null</td><td>null</td></tr><tr><td>2023-01-01 02:00:00</td><td>&quot;Books&quot;</td><td>7</td><td>null</td><td>null</td></tr><tr><td>2023-01-01 06:14:30.703535</td><td>&quot;Toys&quot;</td><td>9</td><td>null</td><td>null</td></tr><tr><td>2023-01-01 06:52:25.117255</td><td>&quot;Clothing&quot;</td><td>9</td><td>null</td><td>null</td></tr><tr><td>2023-01-01 07:44:50.234511</td><td>&quot;Books&quot;</td><td>7</td><td>null</td><td>null</td></tr><tr><td>&hellip;</td><td>&hellip;</td><td>&hellip;</td><td>&hellip;</td><td>&hellip;</td></tr><tr><td>2023-12-31 15:45:29.296464</td><td>&quot;Clothing&quot;</td><td>10</td><td>null</td><td>null</td></tr><tr><td>2023-12-31 18:15:09.765488</td><td>&quot;Toys&quot;</td><td>4</td><td>null</td><td>null</td></tr><tr><td>2023-12-31 18:33:47.441372</td><td>&quot;Electronics&quot;</td><td>7</td><td>null</td><td>null</td></tr><tr><td>2023-12-31 18:37:54.413720</td><td>&quot;Books&quot;</td><td>6</td><td>null</td><td>null</td></tr><tr><td>2023-12-31 19:41:22.324116</td><td>&quot;Furniture&quot;</td><td>4</td><td>null</td><td>null</td></tr></tbody></table></div>"
      ],
      "text/plain": [
       "shape: (20_000, 5)\n",
       "┌────────────────────────────┬──────────────┬──────────┬───────────────┬───────────────┐\n",
       "│ Sale Date                  ┆ Product Type ┆ Quantity ┆ Campaign Name ┆ Campaign Date │\n",
       "│ ---                        ┆ ---          ┆ ---      ┆ ---           ┆ ---           │\n",
       "│ datetime[μs]               ┆ str          ┆ i64      ┆ str           ┆ datetime[μs]  │\n",
       "╞════════════════════════════╪══════════════╪══════════╪═══════════════╪═══════════════╡\n",
       "│ 2023-01-01 01:26:12.558627 ┆ Electronics  ┆ 2        ┆ null          ┆ null          │\n",
       "│ 2023-01-01 02:00:00        ┆ Books        ┆ 7        ┆ null          ┆ null          │\n",
       "│ 2023-01-01 06:14:30.703535 ┆ Toys         ┆ 9        ┆ null          ┆ null          │\n",
       "│ 2023-01-01 06:52:25.117255 ┆ Clothing     ┆ 9        ┆ null          ┆ null          │\n",
       "│ 2023-01-01 07:44:50.234511 ┆ Books        ┆ 7        ┆ null          ┆ null          │\n",
       "│ …                          ┆ …            ┆ …        ┆ …             ┆ …             │\n",
       "│ 2023-12-31 15:45:29.296464 ┆ Clothing     ┆ 10       ┆ null          ┆ null          │\n",
       "│ 2023-12-31 18:15:09.765488 ┆ Toys         ┆ 4        ┆ null          ┆ null          │\n",
       "│ 2023-12-31 18:33:47.441372 ┆ Electronics  ┆ 7        ┆ null          ┆ null          │\n",
       "│ 2023-12-31 18:37:54.413720 ┆ Books        ┆ 6        ┆ null          ┆ null          │\n",
       "│ 2023-12-31 19:41:22.324116 ┆ Furniture    ┆ 4        ┆ null          ┆ null          │\n",
       "└────────────────────────────┴──────────────┴──────────┴───────────────┴───────────────┘"
      ]
     },
     "execution_count": 24,
     "metadata": {},
     "output_type": "execute_result"
    }
   ],
   "source": [
    "transactions = transactions.with_columns(\n",
    "    pl.col(\"Sale Date\")\n",
    "    .str.to_datetime(\"%Y-%m-%d %H:%M:%S%.f\")\n",
    "    .cast(pl.Datetime(\"us\")),\n",
    ")\n",
    "campaigns = campaigns.with_columns(\n",
    "    pl.col(\"Campaign Date\").str.to_datetime(\"%Y-%m-%d %H:%M:%S\"),\n",
    ")\n",
    "\n",
    "sales_with_campaign_df = (\n",
    "    transactions.sort(\"Sale Date\")\n",
    "    .join_asof(\n",
    "        campaigns.sort(\"Campaign Date\"),\n",
    "        left_on=\"Sale Date\",\n",
    "        right_on=\"Campaign Date\",\n",
    "        by=\"Product Type\",\n",
    "        strategy=\"backward\",\n",
    "        tolerance=\"60d\",\n",
    "    )\n",
    "    .collect()\n",
    ")\n",
    "sales_with_campaign_df"
   ]
  },
  {
   "cell_type": "code",
   "execution_count": 25,
   "metadata": {},
   "outputs": [
    {
     "data": {
      "text/html": [
       "<div><style>\n",
       ".dataframe > thead > tr,\n",
       ".dataframe > tbody > tr {\n",
       "  text-align: right;\n",
       "  white-space: pre-wrap;\n",
       "}\n",
       "</style>\n",
       "<small>shape: (9, 3)</small><table border=\"1\" class=\"dataframe\"><thead><tr><th>Product Type</th><th>Campaign Name</th><th>Quantity</th></tr><tr><td>str</td><td>str</td><td>f64</td></tr></thead><tbody><tr><td>&quot;Books&quot;</td><td>null</td><td>5.527716</td></tr><tr><td>&quot;Clothing&quot;</td><td>null</td><td>5.433385</td></tr><tr><td>&quot;Clothing&quot;</td><td>&quot;New Arrivals&quot;</td><td>8.200581</td></tr><tr><td>&quot;Electronics&quot;</td><td>null</td><td>5.486832</td></tr><tr><td>&quot;Electronics&quot;</td><td>&quot;Launch&quot;</td><td>8.080775</td></tr><tr><td>&quot;Electronics&quot;</td><td>&quot;Seasonal Sale&quot;</td><td>8.471406</td></tr><tr><td>&quot;Furniture&quot;</td><td>null</td><td>5.430222</td></tr><tr><td>&quot;Furniture&quot;</td><td>&quot;Discount&quot;</td><td>8.191888</td></tr><tr><td>&quot;Toys&quot;</td><td>null</td><td>5.50318</td></tr></tbody></table></div>"
      ],
      "text/plain": [
       "shape: (9, 3)\n",
       "┌──────────────┬───────────────┬──────────┐\n",
       "│ Product Type ┆ Campaign Name ┆ Quantity │\n",
       "│ ---          ┆ ---           ┆ ---      │\n",
       "│ str          ┆ str           ┆ f64      │\n",
       "╞══════════════╪═══════════════╪══════════╡\n",
       "│ Books        ┆ null          ┆ 5.527716 │\n",
       "│ Clothing     ┆ null          ┆ 5.433385 │\n",
       "│ Clothing     ┆ New Arrivals  ┆ 8.200581 │\n",
       "│ Electronics  ┆ null          ┆ 5.486832 │\n",
       "│ Electronics  ┆ Launch        ┆ 8.080775 │\n",
       "│ Electronics  ┆ Seasonal Sale ┆ 8.471406 │\n",
       "│ Furniture    ┆ null          ┆ 5.430222 │\n",
       "│ Furniture    ┆ Discount      ┆ 8.191888 │\n",
       "│ Toys         ┆ null          ┆ 5.50318  │\n",
       "└──────────────┴───────────────┴──────────┘"
      ]
     },
     "execution_count": 25,
     "metadata": {},
     "output_type": "execute_result"
    }
   ],
   "source": [
    "(\n",
    "    sales_with_campaign_df.group_by(\"Product Type\", \"Campaign Name\")\n",
    "    .agg(pl.col(\"Quantity\").mean())\n",
    "    .sort(\"Product Type\", \"Campaign Name\")\n",
    ")"
   ]
  },
  {
   "cell_type": "code",
   "execution_count": 26,
   "metadata": {},
   "outputs": [
    {
     "data": {
      "text/html": [
       "<div><style>\n",
       ".dataframe > thead > tr,\n",
       ".dataframe > tbody > tr {\n",
       "  text-align: right;\n",
       "  white-space: pre-wrap;\n",
       "}\n",
       "</style>\n",
       "<small>shape: (1, 3)</small><table border=\"1\" class=\"dataframe\"><thead><tr><th>Campaign Name</th><th>Campaign Date</th><th>Product Type</th></tr><tr><td>str</td><td>datetime[μs]</td><td>str</td></tr></thead><tbody><tr><td>&quot;Clearance&quot;</td><td>2023-12-31 21:00:00</td><td>&quot;Books&quot;</td></tr></tbody></table></div>"
      ],
      "text/plain": [
       "shape: (1, 3)\n",
       "┌───────────────┬─────────────────────┬──────────────┐\n",
       "│ Campaign Name ┆ Campaign Date       ┆ Product Type │\n",
       "│ ---           ┆ ---                 ┆ ---          │\n",
       "│ str           ┆ datetime[μs]        ┆ str          │\n",
       "╞═══════════════╪═════════════════════╪══════════════╡\n",
       "│ Clearance     ┆ 2023-12-31 21:00:00 ┆ Books        │\n",
       "└───────────────┴─────────────────────┴──────────────┘"
      ]
     },
     "execution_count": 26,
     "metadata": {},
     "output_type": "execute_result"
    }
   ],
   "source": [
    "campaigns.filter(pl.col(\"Product Type\") == \"Books\").collect()"
   ]
  },
  {
   "cell_type": "code",
   "execution_count": 27,
   "metadata": {},
   "outputs": [
    {
     "data": {
      "text/html": [
       "<div><style>\n",
       ".dataframe > thead > tr,\n",
       ".dataframe > tbody > tr {\n",
       "  text-align: right;\n",
       "  white-space: pre-wrap;\n",
       "}\n",
       "</style>\n",
       "<small>shape: (0, 3)</small><table border=\"1\" class=\"dataframe\"><thead><tr><th>Sale Date</th><th>Product Type</th><th>Quantity</th></tr><tr><td>datetime[μs]</td><td>str</td><td>i64</td></tr></thead><tbody></tbody></table></div>"
      ],
      "text/plain": [
       "shape: (0, 3)\n",
       "┌──────────────┬──────────────┬──────────┐\n",
       "│ Sale Date    ┆ Product Type ┆ Quantity │\n",
       "│ ---          ┆ ---          ┆ ---      │\n",
       "│ datetime[μs] ┆ str          ┆ i64      │\n",
       "╞══════════════╪══════════════╪══════════╡\n",
       "└──────────────┴──────────────┴──────────┘"
      ]
     },
     "execution_count": 27,
     "metadata": {},
     "output_type": "execute_result"
    }
   ],
   "source": [
    "(\n",
    "    transactions.filter(\n",
    "        (pl.col(\"Product Type\") == \"Books\")\n",
    "        & (\n",
    "            pl.col(\"Sale Date\")\n",
    "            > pl.lit(\"2023-12-31 21:00:00\").str.to_datetime()\n",
    "        )\n",
    "    ).collect()\n",
    ")"
   ]
  },
  {
   "cell_type": "markdown",
   "metadata": {},
   "source": [
    "## Vertical and Horizontal Concatenation"
   ]
  },
  {
   "cell_type": "markdown",
   "metadata": {},
   "source": [
    "### Vertical"
   ]
  },
  {
   "cell_type": "code",
   "execution_count": 28,
   "metadata": {},
   "outputs": [
    {
     "data": {
      "text/html": [
       "<div><style>\n",
       ".dataframe > thead > tr,\n",
       ".dataframe > tbody > tr {\n",
       "  text-align: right;\n",
       "  white-space: pre-wrap;\n",
       "}\n",
       "</style>\n",
       "<small>shape: (5, 2)</small><table border=\"1\" class=\"dataframe\"><thead><tr><th>id</th><th>value</th></tr><tr><td>i64</td><td>str</td></tr></thead><tbody><tr><td>1</td><td>&quot;a&quot;</td></tr><tr><td>2</td><td>&quot;b&quot;</td></tr><tr><td>3</td><td>&quot;c&quot;</td></tr><tr><td>4</td><td>&quot;d&quot;</td></tr><tr><td>5</td><td>&quot;e&quot;</td></tr></tbody></table></div>"
      ],
      "text/plain": [
       "shape: (5, 2)\n",
       "┌─────┬───────┐\n",
       "│ id  ┆ value │\n",
       "│ --- ┆ ---   │\n",
       "│ i64 ┆ str   │\n",
       "╞═════╪═══════╡\n",
       "│ 1   ┆ a     │\n",
       "│ 2   ┆ b     │\n",
       "│ 3   ┆ c     │\n",
       "│ 4   ┆ d     │\n",
       "│ 5   ┆ e     │\n",
       "└─────┴───────┘"
      ]
     },
     "execution_count": 28,
     "metadata": {},
     "output_type": "execute_result"
    }
   ],
   "source": [
    "df1 = pl.DataFrame(\n",
    "    {\n",
    "        \"id\": [1, 2, 3],\n",
    "        \"value\": [\"a\", \"b\", \"c\"],\n",
    "    }\n",
    ")\n",
    "df2 = pl.DataFrame(\n",
    "    {\n",
    "        \"id\": [4, 5],\n",
    "        \"value\": [\"d\", \"e\"],\n",
    "    }\n",
    ")\n",
    "pl.concat([df1, df2], how=\"vertical\")"
   ]
  },
  {
   "cell_type": "markdown",
   "metadata": {},
   "source": [
    "### Horizontal"
   ]
  },
  {
   "cell_type": "code",
   "execution_count": 29,
   "metadata": {},
   "outputs": [
    {
     "data": {
      "text/html": [
       "<div><style>\n",
       ".dataframe > thead > tr,\n",
       ".dataframe > tbody > tr {\n",
       "  text-align: right;\n",
       "  white-space: pre-wrap;\n",
       "}\n",
       "</style>\n",
       "<small>shape: (3, 3)</small><table border=\"1\" class=\"dataframe\"><thead><tr><th>id</th><th>value</th><th>value2</th></tr><tr><td>i64</td><td>str</td><td>str</td></tr></thead><tbody><tr><td>1</td><td>&quot;a&quot;</td><td>&quot;x&quot;</td></tr><tr><td>2</td><td>&quot;b&quot;</td><td>&quot;y&quot;</td></tr><tr><td>3</td><td>&quot;c&quot;</td><td>null</td></tr></tbody></table></div>"
      ],
      "text/plain": [
       "shape: (3, 3)\n",
       "┌─────┬───────┬────────┐\n",
       "│ id  ┆ value ┆ value2 │\n",
       "│ --- ┆ ---   ┆ ---    │\n",
       "│ i64 ┆ str   ┆ str    │\n",
       "╞═════╪═══════╪════════╡\n",
       "│ 1   ┆ a     ┆ x      │\n",
       "│ 2   ┆ b     ┆ y      │\n",
       "│ 3   ┆ c     ┆ null   │\n",
       "└─────┴───────┴────────┘"
      ]
     },
     "execution_count": 29,
     "metadata": {},
     "output_type": "execute_result"
    }
   ],
   "source": [
    "df1 = pl.DataFrame(\n",
    "    {\n",
    "        \"id\": [1, 2, 3],\n",
    "        \"value\": [\"a\", \"b\", \"c\"],\n",
    "    }\n",
    ")\n",
    "df2 = pl.DataFrame(\n",
    "    {\n",
    "        \"value2\": [\"x\", \"y\"],\n",
    "    }\n",
    ")\n",
    "pl.concat([df1, df2], how=\"horizontal\")"
   ]
  },
  {
   "cell_type": "markdown",
   "metadata": {},
   "source": [
    "### Diagonal"
   ]
  },
  {
   "cell_type": "code",
   "execution_count": 30,
   "metadata": {},
   "outputs": [
    {
     "data": {
      "text/html": [
       "<div><style>\n",
       ".dataframe > thead > tr,\n",
       ".dataframe > tbody > tr {\n",
       "  text-align: right;\n",
       "  white-space: pre-wrap;\n",
       "}\n",
       "</style>\n",
       "<small>shape: (5, 3)</small><table border=\"1\" class=\"dataframe\"><thead><tr><th>id</th><th>value</th><th>value2</th></tr><tr><td>i64</td><td>str</td><td>str</td></tr></thead><tbody><tr><td>1</td><td>&quot;a&quot;</td><td>null</td></tr><tr><td>2</td><td>&quot;b&quot;</td><td>null</td></tr><tr><td>3</td><td>&quot;c&quot;</td><td>null</td></tr><tr><td>null</td><td>&quot;d&quot;</td><td>&quot;x&quot;</td></tr><tr><td>null</td><td>&quot;e&quot;</td><td>&quot;y&quot;</td></tr></tbody></table></div>"
      ],
      "text/plain": [
       "shape: (5, 3)\n",
       "┌──────┬───────┬────────┐\n",
       "│ id   ┆ value ┆ value2 │\n",
       "│ ---  ┆ ---   ┆ ---    │\n",
       "│ i64  ┆ str   ┆ str    │\n",
       "╞══════╪═══════╪════════╡\n",
       "│ 1    ┆ a     ┆ null   │\n",
       "│ 2    ┆ b     ┆ null   │\n",
       "│ 3    ┆ c     ┆ null   │\n",
       "│ null ┆ d     ┆ x      │\n",
       "│ null ┆ e     ┆ y      │\n",
       "└──────┴───────┴────────┘"
      ]
     },
     "execution_count": 30,
     "metadata": {},
     "output_type": "execute_result"
    }
   ],
   "source": [
    "df1 = pl.DataFrame(\n",
    "    {\n",
    "        \"id\": [1, 2, 3],\n",
    "        \"value\": [\"a\", \"b\", \"c\"],\n",
    "    }\n",
    ")\n",
    "df2 = pl.DataFrame(\n",
    "    {\n",
    "        \"value\": [\"d\", \"e\"],\n",
    "        \"value2\": [\"x\", \"y\"],\n",
    "    }\n",
    ")\n",
    "pl.concat([df1, df2], how=\"diagonal\")"
   ]
  },
  {
   "cell_type": "markdown",
   "metadata": {},
   "source": [
    "### Align"
   ]
  },
  {
   "cell_type": "code",
   "execution_count": 31,
   "metadata": {},
   "outputs": [
    {
     "data": {
      "text/html": [
       "<div><style>\n",
       ".dataframe > thead > tr,\n",
       ".dataframe > tbody > tr {\n",
       "  text-align: right;\n",
       "  white-space: pre-wrap;\n",
       "}\n",
       "</style>\n",
       "<small>shape: (4, 3)</small><table border=\"1\" class=\"dataframe\"><thead><tr><th>id</th><th>value</th><th>value2</th></tr><tr><td>i64</td><td>str</td><td>str</td></tr></thead><tbody><tr><td>1</td><td>&quot;a&quot;</td><td>&quot;x&quot;</td></tr><tr><td>2</td><td>&quot;b&quot;</td><td>null</td></tr><tr><td>3</td><td>&quot;c&quot;</td><td>&quot;y&quot;</td></tr><tr><td>null</td><td>&quot;d&quot;</td><td>&quot;z&quot;</td></tr></tbody></table></div>"
      ],
      "text/plain": [
       "shape: (4, 3)\n",
       "┌──────┬───────┬────────┐\n",
       "│ id   ┆ value ┆ value2 │\n",
       "│ ---  ┆ ---   ┆ ---    │\n",
       "│ i64  ┆ str   ┆ str    │\n",
       "╞══════╪═══════╪════════╡\n",
       "│ 1    ┆ a     ┆ x      │\n",
       "│ 2    ┆ b     ┆ null   │\n",
       "│ 3    ┆ c     ┆ y      │\n",
       "│ null ┆ d     ┆ z      │\n",
       "└──────┴───────┴────────┘"
      ]
     },
     "execution_count": 31,
     "metadata": {},
     "output_type": "execute_result"
    }
   ],
   "source": [
    "df1 = pl.DataFrame(\n",
    "    {\n",
    "        \"id\": [1, 2, 3],\n",
    "        \"value\": [\"a\", \"b\", \"c\"],\n",
    "    }\n",
    ")\n",
    "df2 = pl.DataFrame(\n",
    "    {\n",
    "        \"value\": [\"a\", \"c\", \"d\"],\n",
    "        \"value2\": [\"x\", \"y\", \"z\"],\n",
    "    }\n",
    ")\n",
    "pl.concat([df1, df2], how=\"align\")"
   ]
  },
  {
   "cell_type": "code",
   "execution_count": 32,
   "metadata": {},
   "outputs": [
    {
     "data": {
      "text/plain": [
       "[shape: (5, 2)\n",
       " ┌─────┬───────┐\n",
       " │ id  ┆ value │\n",
       " │ --- ┆ ---   │\n",
       " │ i64 ┆ str   │\n",
       " ╞═════╪═══════╡\n",
       " │ 1   ┆ a     │\n",
       " │ 2   ┆ c     │\n",
       " │ 2   ┆ b     │\n",
       " │ 2   ┆ c     │\n",
       " │ 2   ┆ b     │\n",
       " └─────┴───────┘,\n",
       " shape: (5, 2)\n",
       " ┌─────┬───────┐\n",
       " │ id  ┆ value │\n",
       " │ --- ┆ ---   │\n",
       " │ i64 ┆ str   │\n",
       " ╞═════╪═══════╡\n",
       " │ 1   ┆ null  │\n",
       " │ 2   ┆ x     │\n",
       " │ 2   ┆ x     │\n",
       " │ 2   ┆ y     │\n",
       " │ 2   ┆ y     │\n",
       " └─────┴───────┘]"
      ]
     },
     "execution_count": 32,
     "metadata": {},
     "output_type": "execute_result"
    }
   ],
   "source": [
    "df1 = pl.DataFrame(\n",
    "    {\n",
    "        \"id\": [1, 2, 2],\n",
    "        \"value\": [\"a\", \"c\", \"b\"],\n",
    "    }\n",
    ")\n",
    "df2 = pl.DataFrame(\n",
    "    {\n",
    "        \"id\": [2, 2],\n",
    "        \"value\": [\"x\", \"y\"],\n",
    "    }\n",
    ")\n",
    "pl.align_frames(df1, df2, on=\"id\")"
   ]
  },
  {
   "cell_type": "markdown",
   "metadata": {},
   "source": [
    "### Relaxed"
   ]
  },
  {
   "cell_type": "code",
   "execution_count": 33,
   "metadata": {},
   "outputs": [],
   "source": [
    "# This raises a SchemaError:\n",
    "# df1 = pl.DataFrame(\n",
    "#     {\n",
    "#         \"id\": [1, 2, 3],\n",
    "#         \"value\": [\"a\", \"b\", \"c\"],\n",
    "#     }\n",
    "# )\n",
    "# df2 = pl.DataFrame(\n",
    "#     {\n",
    "#         \"id\": [4.0, 5.0],\n",
    "#         \"value\": [1, 2],\n",
    "#     }\n",
    "# )\n",
    "# pl.concat([df1, df2], how=\"vertical\")"
   ]
  },
  {
   "cell_type": "code",
   "execution_count": 34,
   "metadata": {},
   "outputs": [
    {
     "data": {
      "text/html": [
       "<div><style>\n",
       ".dataframe > thead > tr,\n",
       ".dataframe > tbody > tr {\n",
       "  text-align: right;\n",
       "  white-space: pre-wrap;\n",
       "}\n",
       "</style>\n",
       "<small>shape: (5, 2)</small><table border=\"1\" class=\"dataframe\"><thead><tr><th>id</th><th>value</th></tr><tr><td>i64</td><td>str</td></tr></thead><tbody><tr><td>1</td><td>&quot;a&quot;</td></tr><tr><td>2</td><td>&quot;c&quot;</td></tr><tr><td>2</td><td>&quot;b&quot;</td></tr><tr><td>2</td><td>&quot;x&quot;</td></tr><tr><td>2</td><td>&quot;y&quot;</td></tr></tbody></table></div>"
      ],
      "text/plain": [
       "shape: (5, 2)\n",
       "┌─────┬───────┐\n",
       "│ id  ┆ value │\n",
       "│ --- ┆ ---   │\n",
       "│ i64 ┆ str   │\n",
       "╞═════╪═══════╡\n",
       "│ 1   ┆ a     │\n",
       "│ 2   ┆ c     │\n",
       "│ 2   ┆ b     │\n",
       "│ 2   ┆ x     │\n",
       "│ 2   ┆ y     │\n",
       "└─────┴───────┘"
      ]
     },
     "execution_count": 34,
     "metadata": {},
     "output_type": "execute_result"
    }
   ],
   "source": [
    "pl.concat([df1, df2], how=\"vertical_relaxed\")"
   ]
  },
  {
   "cell_type": "markdown",
   "metadata": {},
   "source": [
    "### Stacking"
   ]
  },
  {
   "cell_type": "code",
   "execution_count": 35,
   "metadata": {},
   "outputs": [
    {
     "data": {
      "text/html": [
       "<div><style>\n",
       ".dataframe > thead > tr,\n",
       ".dataframe > tbody > tr {\n",
       "  text-align: right;\n",
       "  white-space: pre-wrap;\n",
       "}\n",
       "</style>\n",
       "<small>shape: (4, 2)</small><table border=\"1\" class=\"dataframe\"><thead><tr><th>id</th><th>value</th></tr><tr><td>i64</td><td>str</td></tr></thead><tbody><tr><td>1</td><td>&quot;a&quot;</td></tr><tr><td>2</td><td>&quot;b&quot;</td></tr><tr><td>3</td><td>&quot;c&quot;</td></tr><tr><td>4</td><td>&quot;d&quot;</td></tr></tbody></table></div>"
      ],
      "text/plain": [
       "shape: (4, 2)\n",
       "┌─────┬───────┐\n",
       "│ id  ┆ value │\n",
       "│ --- ┆ ---   │\n",
       "│ i64 ┆ str   │\n",
       "╞═════╪═══════╡\n",
       "│ 1   ┆ a     │\n",
       "│ 2   ┆ b     │\n",
       "│ 3   ┆ c     │\n",
       "│ 4   ┆ d     │\n",
       "└─────┴───────┘"
      ]
     },
     "execution_count": 35,
     "metadata": {},
     "output_type": "execute_result"
    }
   ],
   "source": [
    "df1 = pl.DataFrame(\n",
    "    {\n",
    "        \"id\": [1, 2],\n",
    "        \"value\": [\"a\", \"b\"],\n",
    "    }\n",
    ")\n",
    "df2 = pl.DataFrame(\n",
    "    {\n",
    "        \"id\": [3, 4],\n",
    "        \"value\": [\"c\", \"d\"],\n",
    "    }\n",
    ")\n",
    "df1.vstack(df2)"
   ]
  },
  {
   "cell_type": "code",
   "execution_count": 36,
   "metadata": {},
   "outputs": [
    {
     "data": {
      "text/html": [
       "<div><style>\n",
       ".dataframe > thead > tr,\n",
       ".dataframe > tbody > tr {\n",
       "  text-align: right;\n",
       "  white-space: pre-wrap;\n",
       "}\n",
       "</style>\n",
       "<small>shape: (2, 3)</small><table border=\"1\" class=\"dataframe\"><thead><tr><th>id</th><th>value</th><th>value2</th></tr><tr><td>i64</td><td>str</td><td>str</td></tr></thead><tbody><tr><td>1</td><td>&quot;a&quot;</td><td>&quot;x&quot;</td></tr><tr><td>2</td><td>&quot;b&quot;</td><td>&quot;y&quot;</td></tr></tbody></table></div>"
      ],
      "text/plain": [
       "shape: (2, 3)\n",
       "┌─────┬───────┬────────┐\n",
       "│ id  ┆ value ┆ value2 │\n",
       "│ --- ┆ ---   ┆ ---    │\n",
       "│ i64 ┆ str   ┆ str    │\n",
       "╞═════╪═══════╪════════╡\n",
       "│ 1   ┆ a     ┆ x      │\n",
       "│ 2   ┆ b     ┆ y      │\n",
       "└─────┴───────┴────────┘"
      ]
     },
     "execution_count": 36,
     "metadata": {},
     "output_type": "execute_result"
    }
   ],
   "source": [
    "df1 = pl.DataFrame(\n",
    "    {\n",
    "        \"id\": [1, 2],\n",
    "        \"value\": [\"a\", \"b\"],\n",
    "    }\n",
    ")\n",
    "df2 = pl.DataFrame(\n",
    "    {\n",
    "        \"value2\": [\"x\", \"y\"],\n",
    "    }\n",
    ")\n",
    "df1.hstack(df2)"
   ]
  },
  {
   "cell_type": "markdown",
   "metadata": {},
   "source": [
    "### Appending"
   ]
  },
  {
   "cell_type": "code",
   "execution_count": 37,
   "metadata": {},
   "outputs": [
    {
     "data": {
      "text/html": [
       "<div><style>\n",
       ".dataframe > thead > tr,\n",
       ".dataframe > tbody > tr {\n",
       "  text-align: right;\n",
       "  white-space: pre-wrap;\n",
       "}\n",
       "</style>\n",
       "<small>shape: (4,)</small><table border=\"1\" class=\"dataframe\"><thead><tr><th>a</th></tr><tr><td>i64</td></tr></thead><tbody><tr><td>1</td></tr><tr><td>2</td></tr><tr><td>3</td></tr><tr><td>4</td></tr></tbody></table></div>"
      ],
      "text/plain": [
       "shape: (4,)\n",
       "Series: 'a' [i64]\n",
       "[\n",
       "\t1\n",
       "\t2\n",
       "\t3\n",
       "\t4\n",
       "]"
      ]
     },
     "execution_count": 37,
     "metadata": {},
     "output_type": "execute_result"
    }
   ],
   "source": [
    "series_a = pl.Series(\"a\", [1, 2])\n",
    "series_b = pl.Series(\"b\", [3, 4])\n",
    "series_a.append(series_b)"
   ]
  },
  {
   "cell_type": "markdown",
   "metadata": {},
   "source": [
    "### Extending"
   ]
  },
  {
   "cell_type": "code",
   "execution_count": 38,
   "metadata": {},
   "outputs": [
    {
     "data": {
      "text/html": [
       "<div><style>\n",
       ".dataframe > thead > tr,\n",
       ".dataframe > tbody > tr {\n",
       "  text-align: right;\n",
       "  white-space: pre-wrap;\n",
       "}\n",
       "</style>\n",
       "<small>shape: (4, 2)</small><table border=\"1\" class=\"dataframe\"><thead><tr><th>id</th><th>value</th></tr><tr><td>i64</td><td>str</td></tr></thead><tbody><tr><td>1</td><td>&quot;a&quot;</td></tr><tr><td>2</td><td>&quot;b&quot;</td></tr><tr><td>3</td><td>&quot;c&quot;</td></tr><tr><td>4</td><td>&quot;d&quot;</td></tr></tbody></table></div>"
      ],
      "text/plain": [
       "shape: (4, 2)\n",
       "┌─────┬───────┐\n",
       "│ id  ┆ value │\n",
       "│ --- ┆ ---   │\n",
       "│ i64 ┆ str   │\n",
       "╞═════╪═══════╡\n",
       "│ 1   ┆ a     │\n",
       "│ 2   ┆ b     │\n",
       "│ 3   ┆ c     │\n",
       "│ 4   ┆ d     │\n",
       "└─────┴───────┘"
      ]
     },
     "execution_count": 38,
     "metadata": {},
     "output_type": "execute_result"
    }
   ],
   "source": [
    "df1 = pl.DataFrame(\n",
    "    {\n",
    "        \"id\": [1, 2],\n",
    "        \"value\": [\"a\", \"b\"],\n",
    "    }\n",
    ")\n",
    "df2 = pl.DataFrame(\n",
    "    {\n",
    "        \"id\": [3, 4],\n",
    "        \"value\": [\"c\", \"d\"],\n",
    "    }\n",
    ")\n",
    "df1.extend(df2)"
   ]
  }
 ],
 "metadata": {
  "kernelspec": {
   "display_name": ".venv",
   "language": "python",
   "name": "python3"
  },
  "language_info": {
   "codemirror_mode": {
    "name": "ipython",
    "version": 3
   },
   "file_extension": ".py",
   "mimetype": "text/x-python",
   "name": "python",
   "nbconvert_exporter": "python",
   "pygments_lexer": "ipython3",
   "version": "3.12.3"
  }
 },
 "nbformat": 4,
 "nbformat_minor": 5
}
