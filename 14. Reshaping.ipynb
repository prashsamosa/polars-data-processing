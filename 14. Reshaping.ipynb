{
 "cells": [
  {
   "cell_type": "markdown",
   "metadata": {},
   "source": [
    "# 14. Reshaping"
   ]
  },
  {
   "cell_type": "code",
   "execution_count": null,
   "metadata": {},
   "outputs": [
    {
     "data": {
      "text/plain": [
       "'1.20.0'"
      ]
     },
     "execution_count": 1,
     "metadata": {},
     "output_type": "execute_result"
    }
   ],
   "source": [
    "import polars as pl\n",
    "pl.__version__"
   ]
  },
  {
   "cell_type": "markdown",
   "metadata": {},
   "source": [
    "## Wide Versus Long DataFrames"
   ]
  },
  {
   "cell_type": "code",
   "execution_count": 2,
   "metadata": {},
   "outputs": [
    {
     "data": {
      "text/html": [
       "<div><style>\n",
       ".dataframe > thead > tr,\n",
       ".dataframe > tbody > tr {\n",
       "  text-align: right;\n",
       "  white-space: pre-wrap;\n",
       "}\n",
       "</style>\n",
       "<small>shape: (3, 4)</small><table border=\"1\" class=\"dataframe\"><thead><tr><th>student</th><th>math</th><th>science</th><th>history</th></tr><tr><td>str</td><td>i64</td><td>i64</td><td>i64</td></tr></thead><tbody><tr><td>&quot;Jeroen&quot;</td><td>85</td><td>90</td><td>88</td></tr><tr><td>&quot;Thijs&quot;</td><td>78</td><td>82</td><td>80</td></tr><tr><td>&quot;Ritchie&quot;</td><td>92</td><td>85</td><td>87</td></tr></tbody></table></div>"
      ],
      "text/plain": [
       "shape: (3, 4)\n",
       "┌─────────┬──────┬─────────┬─────────┐\n",
       "│ student ┆ math ┆ science ┆ history │\n",
       "│ ---     ┆ ---  ┆ ---     ┆ ---     │\n",
       "│ str     ┆ i64  ┆ i64     ┆ i64     │\n",
       "╞═════════╪══════╪═════════╪═════════╡\n",
       "│ Jeroen  ┆ 85   ┆ 90      ┆ 88      │\n",
       "│ Thijs   ┆ 78   ┆ 82      ┆ 80      │\n",
       "│ Ritchie ┆ 92   ┆ 85      ┆ 87      │\n",
       "└─────────┴──────┴─────────┴─────────┘"
      ]
     },
     "execution_count": 2,
     "metadata": {},
     "output_type": "execute_result"
    }
   ],
   "source": [
    "grades_wide = pl.DataFrame(\n",
    "    {\n",
    "        \"student\": [\"Jeroen\", \"Thijs\", \"Ritchie\"],\n",
    "        \"math\": [85, 78, 92],\n",
    "        \"science\": [90, 82, 85],\n",
    "        \"history\": [88, 80, 87],\n",
    "    }\n",
    ")\n",
    "\n",
    "grades_wide"
   ]
  },
  {
   "cell_type": "code",
   "execution_count": 3,
   "metadata": {},
   "outputs": [
    {
     "data": {
      "text/html": [
       "<div><style>\n",
       ".dataframe > thead > tr,\n",
       ".dataframe > tbody > tr {\n",
       "  text-align: right;\n",
       "  white-space: pre-wrap;\n",
       "}\n",
       "</style>\n",
       "<small>shape: (9, 3)</small><table border=\"1\" class=\"dataframe\"><thead><tr><th>student</th><th>subject</th><th>grade</th></tr><tr><td>str</td><td>str</td><td>i64</td></tr></thead><tbody><tr><td>&quot;Jeroen&quot;</td><td>&quot;Math&quot;</td><td>85</td></tr><tr><td>&quot;Jeroen&quot;</td><td>&quot;Science&quot;</td><td>90</td></tr><tr><td>&quot;Jeroen&quot;</td><td>&quot;History&quot;</td><td>88</td></tr><tr><td>&quot;Thijs&quot;</td><td>&quot;Math&quot;</td><td>78</td></tr><tr><td>&quot;Thijs&quot;</td><td>&quot;Science&quot;</td><td>82</td></tr><tr><td>&quot;Thijs&quot;</td><td>&quot;History&quot;</td><td>80</td></tr><tr><td>&quot;Ritchie&quot;</td><td>&quot;Math&quot;</td><td>92</td></tr><tr><td>&quot;Ritchie&quot;</td><td>&quot;Science&quot;</td><td>85</td></tr><tr><td>&quot;Ritchie&quot;</td><td>&quot;History&quot;</td><td>87</td></tr></tbody></table></div>"
      ],
      "text/plain": [
       "shape: (9, 3)\n",
       "┌─────────┬─────────┬───────┐\n",
       "│ student ┆ subject ┆ grade │\n",
       "│ ---     ┆ ---     ┆ ---   │\n",
       "│ str     ┆ str     ┆ i64   │\n",
       "╞═════════╪═════════╪═══════╡\n",
       "│ Jeroen  ┆ Math    ┆ 85    │\n",
       "│ Jeroen  ┆ Science ┆ 90    │\n",
       "│ Jeroen  ┆ History ┆ 88    │\n",
       "│ Thijs   ┆ Math    ┆ 78    │\n",
       "│ Thijs   ┆ Science ┆ 82    │\n",
       "│ Thijs   ┆ History ┆ 80    │\n",
       "│ Ritchie ┆ Math    ┆ 92    │\n",
       "│ Ritchie ┆ Science ┆ 85    │\n",
       "│ Ritchie ┆ History ┆ 87    │\n",
       "└─────────┴─────────┴───────┘"
      ]
     },
     "execution_count": 3,
     "metadata": {},
     "output_type": "execute_result"
    }
   ],
   "source": [
    "grades_long = pl.DataFrame(\n",
    "    {\n",
    "        \"student\": [\n",
    "            \"Jeroen\",\n",
    "            \"Jeroen\",\n",
    "            \"Jeroen\",\n",
    "            \"Thijs\",\n",
    "            \"Thijs\",\n",
    "            \"Thijs\",\n",
    "            \"Ritchie\",\n",
    "            \"Ritchie\",\n",
    "            \"Ritchie\",\n",
    "        ],\n",
    "        \"subject\": [\n",
    "            \"Math\",\n",
    "            \"Science\",\n",
    "            \"History\",\n",
    "            \"Math\",\n",
    "            \"Science\",\n",
    "            \"History\",\n",
    "            \"Math\",\n",
    "            \"Science\",\n",
    "            \"History\",\n",
    "        ],\n",
    "        \"grade\": [85, 90, 88, 78, 82, 80, 92, 85, 87],\n",
    "    }\n",
    ")\n",
    "\n",
    "grades_long"
   ]
  },
  {
   "cell_type": "markdown",
   "metadata": {},
   "source": [
    "## Pivot to a Wider DataFrame"
   ]
  },
  {
   "cell_type": "code",
   "execution_count": 4,
   "metadata": {},
   "outputs": [
    {
     "data": {
      "text/html": [
       "<div><style>\n",
       ".dataframe > thead > tr,\n",
       ".dataframe > tbody > tr {\n",
       "  text-align: right;\n",
       "  white-space: pre-wrap;\n",
       "}\n",
       "</style>\n",
       "<small>shape: (9, 3)</small><table border=\"1\" class=\"dataframe\"><thead><tr><th>student</th><th>subject</th><th>grade</th></tr><tr><td>str</td><td>str</td><td>i64</td></tr></thead><tbody><tr><td>&quot;Jeroen&quot;</td><td>&quot;Math&quot;</td><td>85</td></tr><tr><td>&quot;Jeroen&quot;</td><td>&quot;Science&quot;</td><td>90</td></tr><tr><td>&quot;Jeroen&quot;</td><td>&quot;History&quot;</td><td>88</td></tr><tr><td>&quot;Thijs&quot;</td><td>&quot;Math&quot;</td><td>78</td></tr><tr><td>&quot;Thijs&quot;</td><td>&quot;Science&quot;</td><td>82</td></tr><tr><td>&quot;Thijs&quot;</td><td>&quot;History&quot;</td><td>80</td></tr><tr><td>&quot;Ritchie&quot;</td><td>&quot;Math&quot;</td><td>92</td></tr><tr><td>&quot;Ritchie&quot;</td><td>&quot;Science&quot;</td><td>85</td></tr><tr><td>&quot;Ritchie&quot;</td><td>&quot;History&quot;</td><td>87</td></tr></tbody></table></div>"
      ],
      "text/plain": [
       "shape: (9, 3)\n",
       "┌─────────┬─────────┬───────┐\n",
       "│ student ┆ subject ┆ grade │\n",
       "│ ---     ┆ ---     ┆ ---   │\n",
       "│ str     ┆ str     ┆ i64   │\n",
       "╞═════════╪═════════╪═══════╡\n",
       "│ Jeroen  ┆ Math    ┆ 85    │\n",
       "│ Jeroen  ┆ Science ┆ 90    │\n",
       "│ Jeroen  ┆ History ┆ 88    │\n",
       "│ Thijs   ┆ Math    ┆ 78    │\n",
       "│ Thijs   ┆ Science ┆ 82    │\n",
       "│ Thijs   ┆ History ┆ 80    │\n",
       "│ Ritchie ┆ Math    ┆ 92    │\n",
       "│ Ritchie ┆ Science ┆ 85    │\n",
       "│ Ritchie ┆ History ┆ 87    │\n",
       "└─────────┴─────────┴───────┘"
      ]
     },
     "execution_count": 4,
     "metadata": {},
     "output_type": "execute_result"
    }
   ],
   "source": [
    "grades = pl.DataFrame(\n",
    "    {\n",
    "        \"student\": [\n",
    "            \"Jeroen\",\n",
    "            \"Jeroen\",\n",
    "            \"Jeroen\",\n",
    "            \"Thijs\",\n",
    "            \"Thijs\",\n",
    "            \"Thijs\",\n",
    "            \"Ritchie\",\n",
    "            \"Ritchie\",\n",
    "            \"Ritchie\",\n",
    "        ],\n",
    "        \"subject\": [\n",
    "            \"Math\",\n",
    "            \"Science\",\n",
    "            \"History\",\n",
    "            \"Math\",\n",
    "            \"Science\",\n",
    "            \"History\",\n",
    "            \"Math\",\n",
    "            \"Science\",\n",
    "            \"History\",\n",
    "        ],\n",
    "        \"grade\": [85, 90, 88, 78, 82, 80, 92, 85, 87],\n",
    "    }\n",
    ")\n",
    "\n",
    "grades"
   ]
  },
  {
   "cell_type": "code",
   "execution_count": 5,
   "metadata": {},
   "outputs": [
    {
     "data": {
      "text/html": [
       "<div><style>\n",
       ".dataframe > thead > tr,\n",
       ".dataframe > tbody > tr {\n",
       "  text-align: right;\n",
       "  white-space: pre-wrap;\n",
       "}\n",
       "</style>\n",
       "<small>shape: (3, 4)</small><table border=\"1\" class=\"dataframe\"><thead><tr><th>student</th><th>Math</th><th>Science</th><th>History</th></tr><tr><td>str</td><td>i64</td><td>i64</td><td>i64</td></tr></thead><tbody><tr><td>&quot;Jeroen&quot;</td><td>85</td><td>90</td><td>88</td></tr><tr><td>&quot;Thijs&quot;</td><td>78</td><td>82</td><td>80</td></tr><tr><td>&quot;Ritchie&quot;</td><td>92</td><td>85</td><td>87</td></tr></tbody></table></div>"
      ],
      "text/plain": [
       "shape: (3, 4)\n",
       "┌─────────┬──────┬─────────┬─────────┐\n",
       "│ student ┆ Math ┆ Science ┆ History │\n",
       "│ ---     ┆ ---  ┆ ---     ┆ ---     │\n",
       "│ str     ┆ i64  ┆ i64     ┆ i64     │\n",
       "╞═════════╪══════╪═════════╪═════════╡\n",
       "│ Jeroen  ┆ 85   ┆ 90      ┆ 88      │\n",
       "│ Thijs   ┆ 78   ┆ 82      ┆ 80      │\n",
       "│ Ritchie ┆ 92   ┆ 85      ┆ 87      │\n",
       "└─────────┴──────┴─────────┴─────────┘"
      ]
     },
     "execution_count": 5,
     "metadata": {},
     "output_type": "execute_result"
    }
   ],
   "source": [
    "grades.pivot(index=\"student\", on=\"subject\", values=\"grade\")"
   ]
  },
  {
   "cell_type": "code",
   "execution_count": 6,
   "metadata": {},
   "outputs": [
    {
     "data": {
      "text/html": [
       "<div><style>\n",
       ".dataframe > thead > tr,\n",
       ".dataframe > tbody > tr {\n",
       "  text-align: right;\n",
       "  white-space: pre-wrap;\n",
       "}\n",
       "</style>\n",
       "<small>shape: (12, 3)</small><table border=\"1\" class=\"dataframe\"><thead><tr><th>student</th><th>subject</th><th>grade</th></tr><tr><td>str</td><td>str</td><td>i64</td></tr></thead><tbody><tr><td>&quot;Jeroen&quot;</td><td>&quot;Math&quot;</td><td>85</td></tr><tr><td>&quot;Jeroen&quot;</td><td>&quot;Math&quot;</td><td>88</td></tr><tr><td>&quot;Jeroen&quot;</td><td>&quot;Math&quot;</td><td>85</td></tr><tr><td>&quot;Jeroen&quot;</td><td>&quot;Science&quot;</td><td>60</td></tr><tr><td>&quot;Jeroen&quot;</td><td>&quot;Science&quot;</td><td>66</td></tr><tr><td>&hellip;</td><td>&hellip;</td><td>&hellip;</td></tr><tr><td>&quot;Thijs&quot;</td><td>&quot;Math&quot;</td><td>79</td></tr><tr><td>&quot;Thijs&quot;</td><td>&quot;Math&quot;</td><td>62</td></tr><tr><td>&quot;Thijs&quot;</td><td>&quot;Science&quot;</td><td>82</td></tr><tr><td>&quot;Thijs&quot;</td><td>&quot;Science&quot;</td><td>85</td></tr><tr><td>&quot;Thijs&quot;</td><td>&quot;Science&quot;</td><td>82</td></tr></tbody></table></div>"
      ],
      "text/plain": [
       "shape: (12, 3)\n",
       "┌─────────┬─────────┬───────┐\n",
       "│ student ┆ subject ┆ grade │\n",
       "│ ---     ┆ ---     ┆ ---   │\n",
       "│ str     ┆ str     ┆ i64   │\n",
       "╞═════════╪═════════╪═══════╡\n",
       "│ Jeroen  ┆ Math    ┆ 85    │\n",
       "│ Jeroen  ┆ Math    ┆ 88    │\n",
       "│ Jeroen  ┆ Math    ┆ 85    │\n",
       "│ Jeroen  ┆ Science ┆ 60    │\n",
       "│ Jeroen  ┆ Science ┆ 66    │\n",
       "│ …       ┆ …       ┆ …     │\n",
       "│ Thijs   ┆ Math    ┆ 79    │\n",
       "│ Thijs   ┆ Math    ┆ 62    │\n",
       "│ Thijs   ┆ Science ┆ 82    │\n",
       "│ Thijs   ┆ Science ┆ 85    │\n",
       "│ Thijs   ┆ Science ┆ 82    │\n",
       "└─────────┴─────────┴───────┘"
      ]
     },
     "execution_count": 6,
     "metadata": {},
     "output_type": "execute_result"
    }
   ],
   "source": [
    "multiple_grades = pl.DataFrame(\n",
    "    {\n",
    "        \"student\": [\n",
    "            \"Jeroen\",\n",
    "            \"Jeroen\",\n",
    "            \"Jeroen\",\n",
    "            \"Jeroen\",\n",
    "            \"Jeroen\",\n",
    "            \"Jeroen\",\n",
    "            \"Thijs\",\n",
    "            \"Thijs\",\n",
    "            \"Thijs\",\n",
    "            \"Thijs\",\n",
    "            \"Thijs\",\n",
    "            \"Thijs\",\n",
    "        ],\n",
    "        \"subject\": [\n",
    "            \"Math\",\n",
    "            \"Math\",\n",
    "            \"Math\",\n",
    "            \"Science\",\n",
    "            \"Science\",\n",
    "            \"Science\",\n",
    "            \"Math\",\n",
    "            \"Math\",\n",
    "            \"Math\",\n",
    "            \"Science\",\n",
    "            \"Science\",\n",
    "            \"Science\",\n",
    "        ],\n",
    "        \"grade\": [85, 88, 85, 60, 66, 63, 51, 79, 62, 82, 85, 82],\n",
    "    }\n",
    ")\n",
    "\n",
    "multiple_grades"
   ]
  },
  {
   "cell_type": "code",
   "execution_count": 7,
   "metadata": {},
   "outputs": [
    {
     "data": {
      "text/html": [
       "<div><style>\n",
       ".dataframe > thead > tr,\n",
       ".dataframe > tbody > tr {\n",
       "  text-align: right;\n",
       "  white-space: pre-wrap;\n",
       "}\n",
       "</style>\n",
       "<small>shape: (2, 3)</small><table border=\"1\" class=\"dataframe\"><thead><tr><th>student</th><th>Math</th><th>Science</th></tr><tr><td>str</td><td>f64</td><td>f64</td></tr></thead><tbody><tr><td>&quot;Jeroen&quot;</td><td>86.0</td><td>63.0</td></tr><tr><td>&quot;Thijs&quot;</td><td>64.0</td><td>83.0</td></tr></tbody></table></div>"
      ],
      "text/plain": [
       "shape: (2, 3)\n",
       "┌─────────┬──────┬─────────┐\n",
       "│ student ┆ Math ┆ Science │\n",
       "│ ---     ┆ ---  ┆ ---     │\n",
       "│ str     ┆ f64  ┆ f64     │\n",
       "╞═════════╪══════╪═════════╡\n",
       "│ Jeroen  ┆ 86.0 ┆ 63.0    │\n",
       "│ Thijs   ┆ 64.0 ┆ 83.0    │\n",
       "└─────────┴──────┴─────────┘"
      ]
     },
     "execution_count": 7,
     "metadata": {},
     "output_type": "execute_result"
    }
   ],
   "source": [
    "multiple_grades.pivot(\n",
    "    index=\"student\", on=\"subject\", values=\"grade\", aggregate_function=\"mean\"\n",
    ")"
   ]
  },
  {
   "cell_type": "code",
   "execution_count": 8,
   "metadata": {},
   "outputs": [
    {
     "data": {
      "text/html": [
       "<div><style>\n",
       ".dataframe > thead > tr,\n",
       ".dataframe > tbody > tr {\n",
       "  text-align: right;\n",
       "  white-space: pre-wrap;\n",
       "}\n",
       "</style>\n",
       "<small>shape: (2, 3)</small><table border=\"1\" class=\"dataframe\"><thead><tr><th>student</th><th>Math</th><th>Science</th></tr><tr><td>str</td><td>i64</td><td>i64</td></tr></thead><tbody><tr><td>&quot;Jeroen&quot;</td><td>3</td><td>6</td></tr><tr><td>&quot;Thijs&quot;</td><td>28</td><td>3</td></tr></tbody></table></div>"
      ],
      "text/plain": [
       "shape: (2, 3)\n",
       "┌─────────┬──────┬─────────┐\n",
       "│ student ┆ Math ┆ Science │\n",
       "│ ---     ┆ ---  ┆ ---     │\n",
       "│ str     ┆ i64  ┆ i64     │\n",
       "╞═════════╪══════╪═════════╡\n",
       "│ Jeroen  ┆ 3    ┆ 6       │\n",
       "│ Thijs   ┆ 28   ┆ 3       │\n",
       "└─────────┴──────┴─────────┘"
      ]
     },
     "execution_count": 8,
     "metadata": {},
     "output_type": "execute_result"
    }
   ],
   "source": [
    "multiple_grades.pivot(\n",
    "    index=\"student\",\n",
    "    on=\"subject\",\n",
    "    values=\"grade\",\n",
    "    aggregate_function=pl.element().max() - pl.element().min(),\n",
    ")"
   ]
  },
  {
   "cell_type": "code",
   "execution_count": 9,
   "metadata": {},
   "outputs": [
    {
     "data": {
      "text/html": [
       "<div><style>\n",
       ".dataframe > thead > tr,\n",
       ".dataframe > tbody > tr {\n",
       "  text-align: right;\n",
       "  white-space: pre-wrap;\n",
       "}\n",
       "</style>\n",
       "<small>shape: (2, 3)</small><table border=\"1\" class=\"dataframe\"><thead><tr><th>col1</th><th>x</th><th>y</th></tr><tr><td>str</td><td>f64</td><td>f64</td></tr></thead><tbody><tr><td>&quot;a&quot;</td><td>0.998347</td><td>null</td></tr><tr><td>&quot;b&quot;</td><td>0.964028</td><td>0.999954</td></tr></tbody></table></div>"
      ],
      "text/plain": [
       "shape: (2, 3)\n",
       "┌──────┬──────────┬──────────┐\n",
       "│ col1 ┆ x        ┆ y        │\n",
       "│ ---  ┆ ---      ┆ ---      │\n",
       "│ str  ┆ f64      ┆ f64      │\n",
       "╞══════╪══════════╪══════════╡\n",
       "│ a    ┆ 0.998347 ┆ null     │\n",
       "│ b    ┆ 0.964028 ┆ 0.999954 │\n",
       "└──────┴──────────┴──────────┘"
      ]
     },
     "execution_count": 9,
     "metadata": {},
     "output_type": "execute_result"
    }
   ],
   "source": [
    "lf = pl.LazyFrame(\n",
    "    {\n",
    "        \"col1\": [\"a\", \"a\", \"a\", \"b\", \"b\", \"b\"],\n",
    "        \"col2\": [\"x\", \"x\", \"x\", \"x\", \"y\", \"y\"],\n",
    "        \"col3\": [6, 7, 3, 2, 5, 7],\n",
    "    }\n",
    ")\n",
    "\n",
    "index = pl.col(\"col1\")\n",
    "on = pl.col(\"col2\")\n",
    "values = pl.col(\"col3\")\n",
    "unique_column_values = [\"x\", \"y\"]\n",
    "aggregate_function = lambda col: col.tanh().mean()\n",
    "\n",
    "lf.group_by(index).agg(\n",
    "    aggregate_function(values.filter(on == value)).alias(value)\n",
    "    for value in unique_column_values\n",
    ").collect()"
   ]
  },
  {
   "cell_type": "markdown",
   "metadata": {},
   "source": [
    "## Unpivot to a Longer DataFrame"
   ]
  },
  {
   "cell_type": "code",
   "execution_count": 10,
   "metadata": {},
   "outputs": [
    {
     "data": {
      "text/html": [
       "<div><style>\n",
       ".dataframe > thead > tr,\n",
       ".dataframe > tbody > tr {\n",
       "  text-align: right;\n",
       "  white-space: pre-wrap;\n",
       "}\n",
       "</style>\n",
       "<small>shape: (3, 4)</small><table border=\"1\" class=\"dataframe\"><thead><tr><th>student</th><th>math</th><th>science</th><th>history</th></tr><tr><td>str</td><td>i64</td><td>i64</td><td>i64</td></tr></thead><tbody><tr><td>&quot;Jeroen&quot;</td><td>85</td><td>90</td><td>88</td></tr><tr><td>&quot;Thijs&quot;</td><td>78</td><td>82</td><td>80</td></tr><tr><td>&quot;Ritchie&quot;</td><td>92</td><td>85</td><td>87</td></tr></tbody></table></div>"
      ],
      "text/plain": [
       "shape: (3, 4)\n",
       "┌─────────┬──────┬─────────┬─────────┐\n",
       "│ student ┆ math ┆ science ┆ history │\n",
       "│ ---     ┆ ---  ┆ ---     ┆ ---     │\n",
       "│ str     ┆ i64  ┆ i64     ┆ i64     │\n",
       "╞═════════╪══════╪═════════╪═════════╡\n",
       "│ Jeroen  ┆ 85   ┆ 90      ┆ 88      │\n",
       "│ Thijs   ┆ 78   ┆ 82      ┆ 80      │\n",
       "│ Ritchie ┆ 92   ┆ 85      ┆ 87      │\n",
       "└─────────┴──────┴─────────┴─────────┘"
      ]
     },
     "execution_count": 10,
     "metadata": {},
     "output_type": "execute_result"
    }
   ],
   "source": [
    "grades_wide = pl.DataFrame(\n",
    "    {\n",
    "        \"student\": [\"Jeroen\", \"Thijs\", \"Ritchie\"],\n",
    "        \"math\": [85, 78, 92],\n",
    "        \"science\": [90, 82, 85],\n",
    "        \"history\": [88, 80, 87],\n",
    "    }\n",
    ")\n",
    "\n",
    "grades_wide"
   ]
  },
  {
   "cell_type": "code",
   "execution_count": 11,
   "metadata": {},
   "outputs": [
    {
     "data": {
      "text/html": [
       "<div><style>\n",
       ".dataframe > thead > tr,\n",
       ".dataframe > tbody > tr {\n",
       "  text-align: right;\n",
       "  white-space: pre-wrap;\n",
       "}\n",
       "</style>\n",
       "<small>shape: (9, 3)</small><table border=\"1\" class=\"dataframe\"><thead><tr><th>student</th><th>subject</th><th>grade</th></tr><tr><td>str</td><td>str</td><td>i64</td></tr></thead><tbody><tr><td>&quot;Jeroen&quot;</td><td>&quot;math&quot;</td><td>85</td></tr><tr><td>&quot;Thijs&quot;</td><td>&quot;math&quot;</td><td>78</td></tr><tr><td>&quot;Ritchie&quot;</td><td>&quot;math&quot;</td><td>92</td></tr><tr><td>&quot;Jeroen&quot;</td><td>&quot;science&quot;</td><td>90</td></tr><tr><td>&quot;Thijs&quot;</td><td>&quot;science&quot;</td><td>82</td></tr><tr><td>&quot;Ritchie&quot;</td><td>&quot;science&quot;</td><td>85</td></tr><tr><td>&quot;Jeroen&quot;</td><td>&quot;history&quot;</td><td>88</td></tr><tr><td>&quot;Thijs&quot;</td><td>&quot;history&quot;</td><td>80</td></tr><tr><td>&quot;Ritchie&quot;</td><td>&quot;history&quot;</td><td>87</td></tr></tbody></table></div>"
      ],
      "text/plain": [
       "shape: (9, 3)\n",
       "┌─────────┬─────────┬───────┐\n",
       "│ student ┆ subject ┆ grade │\n",
       "│ ---     ┆ ---     ┆ ---   │\n",
       "│ str     ┆ str     ┆ i64   │\n",
       "╞═════════╪═════════╪═══════╡\n",
       "│ Jeroen  ┆ math    ┆ 85    │\n",
       "│ Thijs   ┆ math    ┆ 78    │\n",
       "│ Ritchie ┆ math    ┆ 92    │\n",
       "│ Jeroen  ┆ science ┆ 90    │\n",
       "│ Thijs   ┆ science ┆ 82    │\n",
       "│ Ritchie ┆ science ┆ 85    │\n",
       "│ Jeroen  ┆ history ┆ 88    │\n",
       "│ Thijs   ┆ history ┆ 80    │\n",
       "│ Ritchie ┆ history ┆ 87    │\n",
       "└─────────┴─────────┴───────┘"
      ]
     },
     "execution_count": 11,
     "metadata": {},
     "output_type": "execute_result"
    }
   ],
   "source": [
    "grades_wide.unpivot(\n",
    "    index=[\"student\"],\n",
    "    on=[\"math\", \"science\", \"history\"],\n",
    "    variable_name=\"subject\",\n",
    "    value_name=\"grade\",\n",
    ")"
   ]
  },
  {
   "cell_type": "code",
   "execution_count": 12,
   "metadata": {},
   "outputs": [
    {
     "data": {
      "text/html": [
       "<div><style>\n",
       ".dataframe > thead > tr,\n",
       ".dataframe > tbody > tr {\n",
       "  text-align: right;\n",
       "  white-space: pre-wrap;\n",
       "}\n",
       "</style>\n",
       "<small>shape: (6, 7)</small><table border=\"1\" class=\"dataframe\"><thead><tr><th>student</th><th>class</th><th>age</th><th>semester</th><th>math</th><th>science</th><th>history</th></tr><tr><td>str</td><td>str</td><td>i64</td><td>str</td><td>i64</td><td>i64</td><td>i64</td></tr></thead><tbody><tr><td>&quot;Jeroen&quot;</td><td>&quot;Math101&quot;</td><td>20</td><td>&quot;Fall&quot;</td><td>85</td><td>90</td><td>88</td></tr><tr><td>&quot;Thijs&quot;</td><td>&quot;Math101&quot;</td><td>21</td><td>&quot;Fall&quot;</td><td>78</td><td>82</td><td>80</td></tr><tr><td>&quot;Ritchie&quot;</td><td>&quot;Math101&quot;</td><td>22</td><td>&quot;Fall&quot;</td><td>92</td><td>85</td><td>87</td></tr><tr><td>&quot;Jeroen&quot;</td><td>&quot;Math102&quot;</td><td>20</td><td>&quot;Spring&quot;</td><td>88</td><td>92</td><td>85</td></tr><tr><td>&quot;Thijs&quot;</td><td>&quot;Math102&quot;</td><td>21</td><td>&quot;Spring&quot;</td><td>79</td><td>81</td><td>82</td></tr><tr><td>&quot;Ritchie&quot;</td><td>&quot;Math102&quot;</td><td>22</td><td>&quot;Spring&quot;</td><td>95</td><td>87</td><td>89</td></tr></tbody></table></div>"
      ],
      "text/plain": [
       "shape: (6, 7)\n",
       "┌─────────┬─────────┬─────┬──────────┬──────┬─────────┬─────────┐\n",
       "│ student ┆ class   ┆ age ┆ semester ┆ math ┆ science ┆ history │\n",
       "│ ---     ┆ ---     ┆ --- ┆ ---      ┆ ---  ┆ ---     ┆ ---     │\n",
       "│ str     ┆ str     ┆ i64 ┆ str      ┆ i64  ┆ i64     ┆ i64     │\n",
       "╞═════════╪═════════╪═════╪══════════╪══════╪═════════╪═════════╡\n",
       "│ Jeroen  ┆ Math101 ┆ 20  ┆ Fall     ┆ 85   ┆ 90      ┆ 88      │\n",
       "│ Thijs   ┆ Math101 ┆ 21  ┆ Fall     ┆ 78   ┆ 82      ┆ 80      │\n",
       "│ Ritchie ┆ Math101 ┆ 22  ┆ Fall     ┆ 92   ┆ 85      ┆ 87      │\n",
       "│ Jeroen  ┆ Math102 ┆ 20  ┆ Spring   ┆ 88   ┆ 92      ┆ 85      │\n",
       "│ Thijs   ┆ Math102 ┆ 21  ┆ Spring   ┆ 79   ┆ 81      ┆ 82      │\n",
       "│ Ritchie ┆ Math102 ┆ 22  ┆ Spring   ┆ 95   ┆ 87      ┆ 89      │\n",
       "└─────────┴─────────┴─────┴──────────┴──────┴─────────┴─────────┘"
      ]
     },
     "execution_count": 12,
     "metadata": {},
     "output_type": "execute_result"
    }
   ],
   "source": [
    "df = pl.DataFrame(\n",
    "    {\n",
    "        \"student\": [\"Jeroen\", \"Thijs\", \"Ritchie\", \"Jeroen\", \"Thijs\", \"Ritchie\"],\n",
    "        \"class\": [\n",
    "            \"Math101\",\n",
    "            \"Math101\",\n",
    "            \"Math101\",\n",
    "            \"Math102\",\n",
    "            \"Math102\",\n",
    "            \"Math102\",\n",
    "        ],\n",
    "        \"age\": [20, 21, 22, 20, 21, 22],\n",
    "        \"semester\": [\"Fall\", \"Fall\", \"Fall\", \"Spring\", \"Spring\", \"Spring\"],\n",
    "        \"math\": [85, 78, 92, 88, 79, 95],\n",
    "        \"science\": [90, 82, 85, 92, 81, 87],\n",
    "        \"history\": [88, 80, 87, 85, 82, 89],\n",
    "    }\n",
    ")\n",
    "df"
   ]
  },
  {
   "cell_type": "code",
   "execution_count": 13,
   "metadata": {},
   "outputs": [
    {
     "data": {
      "text/html": [
       "<div><style>\n",
       ".dataframe > thead > tr,\n",
       ".dataframe > tbody > tr {\n",
       "  text-align: right;\n",
       "  white-space: pre-wrap;\n",
       "}\n",
       "</style>\n",
       "<small>shape: (18, 6)</small><table border=\"1\" class=\"dataframe\"><thead><tr><th>student</th><th>class</th><th>age</th><th>semester</th><th>subject</th><th>grade</th></tr><tr><td>str</td><td>str</td><td>i64</td><td>str</td><td>str</td><td>i64</td></tr></thead><tbody><tr><td>&quot;Jeroen&quot;</td><td>&quot;Math101&quot;</td><td>20</td><td>&quot;Fall&quot;</td><td>&quot;math&quot;</td><td>85</td></tr><tr><td>&quot;Thijs&quot;</td><td>&quot;Math101&quot;</td><td>21</td><td>&quot;Fall&quot;</td><td>&quot;math&quot;</td><td>78</td></tr><tr><td>&quot;Ritchie&quot;</td><td>&quot;Math101&quot;</td><td>22</td><td>&quot;Fall&quot;</td><td>&quot;math&quot;</td><td>92</td></tr><tr><td>&quot;Jeroen&quot;</td><td>&quot;Math102&quot;</td><td>20</td><td>&quot;Spring&quot;</td><td>&quot;math&quot;</td><td>88</td></tr><tr><td>&quot;Thijs&quot;</td><td>&quot;Math102&quot;</td><td>21</td><td>&quot;Spring&quot;</td><td>&quot;math&quot;</td><td>79</td></tr><tr><td>&hellip;</td><td>&hellip;</td><td>&hellip;</td><td>&hellip;</td><td>&hellip;</td><td>&hellip;</td></tr><tr><td>&quot;Thijs&quot;</td><td>&quot;Math101&quot;</td><td>21</td><td>&quot;Fall&quot;</td><td>&quot;history&quot;</td><td>80</td></tr><tr><td>&quot;Ritchie&quot;</td><td>&quot;Math101&quot;</td><td>22</td><td>&quot;Fall&quot;</td><td>&quot;history&quot;</td><td>87</td></tr><tr><td>&quot;Jeroen&quot;</td><td>&quot;Math102&quot;</td><td>20</td><td>&quot;Spring&quot;</td><td>&quot;history&quot;</td><td>85</td></tr><tr><td>&quot;Thijs&quot;</td><td>&quot;Math102&quot;</td><td>21</td><td>&quot;Spring&quot;</td><td>&quot;history&quot;</td><td>82</td></tr><tr><td>&quot;Ritchie&quot;</td><td>&quot;Math102&quot;</td><td>22</td><td>&quot;Spring&quot;</td><td>&quot;history&quot;</td><td>89</td></tr></tbody></table></div>"
      ],
      "text/plain": [
       "shape: (18, 6)\n",
       "┌─────────┬─────────┬─────┬──────────┬─────────┬───────┐\n",
       "│ student ┆ class   ┆ age ┆ semester ┆ subject ┆ grade │\n",
       "│ ---     ┆ ---     ┆ --- ┆ ---      ┆ ---     ┆ ---   │\n",
       "│ str     ┆ str     ┆ i64 ┆ str      ┆ str     ┆ i64   │\n",
       "╞═════════╪═════════╪═════╪══════════╪═════════╪═══════╡\n",
       "│ Jeroen  ┆ Math101 ┆ 20  ┆ Fall     ┆ math    ┆ 85    │\n",
       "│ Thijs   ┆ Math101 ┆ 21  ┆ Fall     ┆ math    ┆ 78    │\n",
       "│ Ritchie ┆ Math101 ┆ 22  ┆ Fall     ┆ math    ┆ 92    │\n",
       "│ Jeroen  ┆ Math102 ┆ 20  ┆ Spring   ┆ math    ┆ 88    │\n",
       "│ Thijs   ┆ Math102 ┆ 21  ┆ Spring   ┆ math    ┆ 79    │\n",
       "│ …       ┆ …       ┆ …   ┆ …        ┆ …       ┆ …     │\n",
       "│ Thijs   ┆ Math101 ┆ 21  ┆ Fall     ┆ history ┆ 80    │\n",
       "│ Ritchie ┆ Math101 ┆ 22  ┆ Fall     ┆ history ┆ 87    │\n",
       "│ Jeroen  ┆ Math102 ┆ 20  ┆ Spring   ┆ history ┆ 85    │\n",
       "│ Thijs   ┆ Math102 ┆ 21  ┆ Spring   ┆ history ┆ 82    │\n",
       "│ Ritchie ┆ Math102 ┆ 22  ┆ Spring   ┆ history ┆ 89    │\n",
       "└─────────┴─────────┴─────┴──────────┴─────────┴───────┘"
      ]
     },
     "execution_count": 13,
     "metadata": {},
     "output_type": "execute_result"
    }
   ],
   "source": [
    "df.unpivot(\n",
    "    index=[\"student\", \"class\", \"age\", \"semester\"],\n",
    "    on=[\"math\", \"science\", \"history\"],\n",
    "    variable_name=\"subject\",\n",
    "    value_name=\"grade\",\n",
    ")"
   ]
  },
  {
   "cell_type": "markdown",
   "metadata": {},
   "source": [
    "## Transposing"
   ]
  },
  {
   "cell_type": "code",
   "execution_count": 14,
   "metadata": {},
   "outputs": [
    {
     "data": {
      "text/html": [
       "<div><style>\n",
       ".dataframe > thead > tr,\n",
       ".dataframe > tbody > tr {\n",
       "  text-align: right;\n",
       "  white-space: pre-wrap;\n",
       "}\n",
       "</style>\n",
       "<small>shape: (3, 4)</small><table border=\"1\" class=\"dataframe\"><thead><tr><th>student</th><th>math</th><th>science</th><th>history</th></tr><tr><td>str</td><td>i64</td><td>i64</td><td>i64</td></tr></thead><tbody><tr><td>&quot;Jeroen&quot;</td><td>85</td><td>90</td><td>88</td></tr><tr><td>&quot;Thijs&quot;</td><td>78</td><td>82</td><td>80</td></tr><tr><td>&quot;Ritchie&quot;</td><td>92</td><td>85</td><td>87</td></tr></tbody></table></div>"
      ],
      "text/plain": [
       "shape: (3, 4)\n",
       "┌─────────┬──────┬─────────┬─────────┐\n",
       "│ student ┆ math ┆ science ┆ history │\n",
       "│ ---     ┆ ---  ┆ ---     ┆ ---     │\n",
       "│ str     ┆ i64  ┆ i64     ┆ i64     │\n",
       "╞═════════╪══════╪═════════╪═════════╡\n",
       "│ Jeroen  ┆ 85   ┆ 90      ┆ 88      │\n",
       "│ Thijs   ┆ 78   ┆ 82      ┆ 80      │\n",
       "│ Ritchie ┆ 92   ┆ 85      ┆ 87      │\n",
       "└─────────┴──────┴─────────┴─────────┘"
      ]
     },
     "execution_count": 14,
     "metadata": {},
     "output_type": "execute_result"
    }
   ],
   "source": [
    "grades_wide = pl.DataFrame(\n",
    "    {\n",
    "        \"student\": [\"Jeroen\", \"Thijs\", \"Ritchie\"],\n",
    "        \"math\": [85, 78, 92],\n",
    "        \"science\": [90, 82, 85],\n",
    "        \"history\": [88, 80, 87],\n",
    "    }\n",
    ")\n",
    "\n",
    "grades_wide"
   ]
  },
  {
   "cell_type": "code",
   "execution_count": 15,
   "metadata": {},
   "outputs": [
    {
     "data": {
      "text/html": [
       "<div><style>\n",
       ".dataframe > thead > tr,\n",
       ".dataframe > tbody > tr {\n",
       "  text-align: right;\n",
       "  white-space: pre-wrap;\n",
       "}\n",
       "</style>\n",
       "<small>shape: (4, 4)</small><table border=\"1\" class=\"dataframe\"><thead><tr><th>original_headers</th><th>report_1</th><th>report_2</th><th>report_3</th></tr><tr><td>str</td><td>str</td><td>str</td><td>str</td></tr></thead><tbody><tr><td>&quot;student&quot;</td><td>&quot;Jeroen&quot;</td><td>&quot;Thijs&quot;</td><td>&quot;Ritchie&quot;</td></tr><tr><td>&quot;math&quot;</td><td>&quot;85&quot;</td><td>&quot;78&quot;</td><td>&quot;92&quot;</td></tr><tr><td>&quot;science&quot;</td><td>&quot;90&quot;</td><td>&quot;82&quot;</td><td>&quot;85&quot;</td></tr><tr><td>&quot;history&quot;</td><td>&quot;88&quot;</td><td>&quot;80&quot;</td><td>&quot;87&quot;</td></tr></tbody></table></div>"
      ],
      "text/plain": [
       "shape: (4, 4)\n",
       "┌──────────────────┬──────────┬──────────┬──────────┐\n",
       "│ original_headers ┆ report_1 ┆ report_2 ┆ report_3 │\n",
       "│ ---              ┆ ---      ┆ ---      ┆ ---      │\n",
       "│ str              ┆ str      ┆ str      ┆ str      │\n",
       "╞══════════════════╪══════════╪══════════╪══════════╡\n",
       "│ student          ┆ Jeroen   ┆ Thijs    ┆ Ritchie  │\n",
       "│ math             ┆ 85       ┆ 78       ┆ 92       │\n",
       "│ science          ┆ 90       ┆ 82       ┆ 85       │\n",
       "│ history          ┆ 88       ┆ 80       ┆ 87       │\n",
       "└──────────────────┴──────────┴──────────┴──────────┘"
      ]
     },
     "execution_count": 15,
     "metadata": {},
     "output_type": "execute_result"
    }
   ],
   "source": [
    "report_columns = (f\"report_{i + 1}\" for i, _ in enumerate(df.columns))\n",
    "\n",
    "grades_wide.transpose(\n",
    "    include_header=True,\n",
    "    header_name=\"original_headers\",\n",
    "    column_names=report_columns,\n",
    ")"
   ]
  },
  {
   "cell_type": "markdown",
   "metadata": {},
   "source": [
    "## Exploding"
   ]
  },
  {
   "cell_type": "code",
   "execution_count": 16,
   "metadata": {},
   "outputs": [
    {
     "data": {
      "text/html": [
       "<div><style>\n",
       ".dataframe > thead > tr,\n",
       ".dataframe > tbody > tr {\n",
       "  text-align: right;\n",
       "  white-space: pre-wrap;\n",
       "}\n",
       "</style>\n",
       "<small>shape: (3, 2)</small><table border=\"1\" class=\"dataframe\"><thead><tr><th>student</th><th>math</th></tr><tr><td>str</td><td>list[i64]</td></tr></thead><tbody><tr><td>&quot;Jeroen&quot;</td><td>[85, 90, 88]</td></tr><tr><td>&quot;Thijs&quot;</td><td>[78, 82, 80]</td></tr><tr><td>&quot;Ritchie&quot;</td><td>[92, 85, 87]</td></tr></tbody></table></div>"
      ],
      "text/plain": [
       "shape: (3, 2)\n",
       "┌─────────┬──────────────┐\n",
       "│ student ┆ math         │\n",
       "│ ---     ┆ ---          │\n",
       "│ str     ┆ list[i64]    │\n",
       "╞═════════╪══════════════╡\n",
       "│ Jeroen  ┆ [85, 90, 88] │\n",
       "│ Thijs   ┆ [78, 82, 80] │\n",
       "│ Ritchie ┆ [92, 85, 87] │\n",
       "└─────────┴──────────────┘"
      ]
     },
     "execution_count": 16,
     "metadata": {},
     "output_type": "execute_result"
    }
   ],
   "source": [
    "grades_nested = pl.DataFrame(\n",
    "    {\n",
    "        \"student\": [\"Jeroen\", \"Thijs\", \"Ritchie\"],\n",
    "        \"math\": [[85, 90, 88], [78, 82, 80], [92, 85, 87]],\n",
    "    }\n",
    ")\n",
    "\n",
    "grades_nested"
   ]
  },
  {
   "cell_type": "code",
   "execution_count": 17,
   "metadata": {},
   "outputs": [
    {
     "data": {
      "text/html": [
       "<div><style>\n",
       ".dataframe > thead > tr,\n",
       ".dataframe > tbody > tr {\n",
       "  text-align: right;\n",
       "  white-space: pre-wrap;\n",
       "}\n",
       "</style>\n",
       "<small>shape: (9, 2)</small><table border=\"1\" class=\"dataframe\"><thead><tr><th>student</th><th>math</th></tr><tr><td>str</td><td>i64</td></tr></thead><tbody><tr><td>&quot;Jeroen&quot;</td><td>85</td></tr><tr><td>&quot;Jeroen&quot;</td><td>90</td></tr><tr><td>&quot;Jeroen&quot;</td><td>88</td></tr><tr><td>&quot;Thijs&quot;</td><td>78</td></tr><tr><td>&quot;Thijs&quot;</td><td>82</td></tr><tr><td>&quot;Thijs&quot;</td><td>80</td></tr><tr><td>&quot;Ritchie&quot;</td><td>92</td></tr><tr><td>&quot;Ritchie&quot;</td><td>85</td></tr><tr><td>&quot;Ritchie&quot;</td><td>87</td></tr></tbody></table></div>"
      ],
      "text/plain": [
       "shape: (9, 2)\n",
       "┌─────────┬──────┐\n",
       "│ student ┆ math │\n",
       "│ ---     ┆ ---  │\n",
       "│ str     ┆ i64  │\n",
       "╞═════════╪══════╡\n",
       "│ Jeroen  ┆ 85   │\n",
       "│ Jeroen  ┆ 90   │\n",
       "│ Jeroen  ┆ 88   │\n",
       "│ Thijs   ┆ 78   │\n",
       "│ Thijs   ┆ 82   │\n",
       "│ Thijs   ┆ 80   │\n",
       "│ Ritchie ┆ 92   │\n",
       "│ Ritchie ┆ 85   │\n",
       "│ Ritchie ┆ 87   │\n",
       "└─────────┴──────┘"
      ]
     },
     "execution_count": 17,
     "metadata": {},
     "output_type": "execute_result"
    }
   ],
   "source": [
    "grades_nested.explode(\"math\")"
   ]
  },
  {
   "cell_type": "code",
   "execution_count": 18,
   "metadata": {},
   "outputs": [
    {
     "data": {
      "text/html": [
       "<div><style>\n",
       ".dataframe > thead > tr,\n",
       ".dataframe > tbody > tr {\n",
       "  text-align: right;\n",
       "  white-space: pre-wrap;\n",
       "}\n",
       "</style>\n",
       "<small>shape: (3, 4)</small><table border=\"1\" class=\"dataframe\"><thead><tr><th>student</th><th>math</th><th>science</th><th>history</th></tr><tr><td>str</td><td>list[i64]</td><td>list[i64]</td><td>list[i64]</td></tr></thead><tbody><tr><td>&quot;Jeroen&quot;</td><td>[85, 90, 88]</td><td>[85, 90, 88]</td><td>[85, 90, 88]</td></tr><tr><td>&quot;Thijs&quot;</td><td>[78, 82, 80]</td><td>[78, 82]</td><td>[78, 82]</td></tr><tr><td>&quot;Ritchie&quot;</td><td>[92, 85, 87]</td><td>[92, 85, 87]</td><td>[92, 85, 87]</td></tr></tbody></table></div>"
      ],
      "text/plain": [
       "shape: (3, 4)\n",
       "┌─────────┬──────────────┬──────────────┬──────────────┐\n",
       "│ student ┆ math         ┆ science      ┆ history      │\n",
       "│ ---     ┆ ---          ┆ ---          ┆ ---          │\n",
       "│ str     ┆ list[i64]    ┆ list[i64]    ┆ list[i64]    │\n",
       "╞═════════╪══════════════╪══════════════╪══════════════╡\n",
       "│ Jeroen  ┆ [85, 90, 88] ┆ [85, 90, 88] ┆ [85, 90, 88] │\n",
       "│ Thijs   ┆ [78, 82, 80] ┆ [78, 82]     ┆ [78, 82]     │\n",
       "│ Ritchie ┆ [92, 85, 87] ┆ [92, 85, 87] ┆ [92, 85, 87] │\n",
       "└─────────┴──────────────┴──────────────┴──────────────┘"
      ]
     },
     "execution_count": 18,
     "metadata": {},
     "output_type": "execute_result"
    }
   ],
   "source": [
    "grades_nested = pl.DataFrame(\n",
    "    {\n",
    "        \"student\": [\"Jeroen\", \"Thijs\", \"Ritchie\"],\n",
    "        \"math\": [[85, 90, 88], [78, 82, 80], [92, 85, 87]],\n",
    "        \"science\": [[85, 90, 88], [78, 82], [92, 85, 87]],\n",
    "        \"history\": [[85, 90, 88], [78, 82], [92, 85, 87]],\n",
    "    }\n",
    ")\n",
    "\n",
    "grades_nested"
   ]
  },
  {
   "cell_type": "code",
   "execution_count": null,
   "metadata": {},
   "outputs": [],
   "source": [
    "# This raises a ShapeError:\n",
    "# grades_nested.explode(\"math\", \"science\", \"history\")"
   ]
  },
  {
   "cell_type": "code",
   "execution_count": 19,
   "metadata": {},
   "outputs": [
    {
     "data": {
      "text/html": [
       "<div><style>\n",
       ".dataframe > thead > tr,\n",
       ".dataframe > tbody > tr {\n",
       "  text-align: right;\n",
       "  white-space: pre-wrap;\n",
       "}\n",
       "</style>\n",
       "<small>shape: (9, 3)</small><table border=\"1\" class=\"dataframe\"><thead><tr><th>student</th><th>subject</th><th>grade</th></tr><tr><td>str</td><td>str</td><td>list[i64]</td></tr></thead><tbody><tr><td>&quot;Jeroen&quot;</td><td>&quot;math&quot;</td><td>[85, 90, 88]</td></tr><tr><td>&quot;Thijs&quot;</td><td>&quot;math&quot;</td><td>[78, 82, 80]</td></tr><tr><td>&quot;Ritchie&quot;</td><td>&quot;math&quot;</td><td>[92, 85, 87]</td></tr><tr><td>&quot;Jeroen&quot;</td><td>&quot;science&quot;</td><td>[85, 90, 88]</td></tr><tr><td>&quot;Thijs&quot;</td><td>&quot;science&quot;</td><td>[78, 82]</td></tr><tr><td>&quot;Ritchie&quot;</td><td>&quot;science&quot;</td><td>[92, 85, 87]</td></tr><tr><td>&quot;Jeroen&quot;</td><td>&quot;history&quot;</td><td>[85, 90, 88]</td></tr><tr><td>&quot;Thijs&quot;</td><td>&quot;history&quot;</td><td>[78, 82]</td></tr><tr><td>&quot;Ritchie&quot;</td><td>&quot;history&quot;</td><td>[92, 85, 87]</td></tr></tbody></table></div>"
      ],
      "text/plain": [
       "shape: (9, 3)\n",
       "┌─────────┬─────────┬──────────────┐\n",
       "│ student ┆ subject ┆ grade        │\n",
       "│ ---     ┆ ---     ┆ ---          │\n",
       "│ str     ┆ str     ┆ list[i64]    │\n",
       "╞═════════╪═════════╪══════════════╡\n",
       "│ Jeroen  ┆ math    ┆ [85, 90, 88] │\n",
       "│ Thijs   ┆ math    ┆ [78, 82, 80] │\n",
       "│ Ritchie ┆ math    ┆ [92, 85, 87] │\n",
       "│ Jeroen  ┆ science ┆ [85, 90, 88] │\n",
       "│ Thijs   ┆ science ┆ [78, 82]     │\n",
       "│ Ritchie ┆ science ┆ [92, 85, 87] │\n",
       "│ Jeroen  ┆ history ┆ [85, 90, 88] │\n",
       "│ Thijs   ┆ history ┆ [78, 82]     │\n",
       "│ Ritchie ┆ history ┆ [92, 85, 87] │\n",
       "└─────────┴─────────┴──────────────┘"
      ]
     },
     "execution_count": 19,
     "metadata": {},
     "output_type": "execute_result"
    }
   ],
   "source": [
    "grades_nested_long = grades_nested.unpivot(\n",
    "    index=\"student\", variable_name=\"subject\", value_name=\"grade\"\n",
    ")\n",
    "\n",
    "grades_nested_long"
   ]
  },
  {
   "cell_type": "code",
   "execution_count": 20,
   "metadata": {},
   "outputs": [
    {
     "data": {
      "text/html": [
       "<div><style>\n",
       ".dataframe > thead > tr,\n",
       ".dataframe > tbody > tr {\n",
       "  text-align: right;\n",
       "  white-space: pre-wrap;\n",
       "}\n",
       "</style>\n",
       "<small>shape: (25, 3)</small><table border=\"1\" class=\"dataframe\"><thead><tr><th>student</th><th>subject</th><th>grade</th></tr><tr><td>str</td><td>str</td><td>i64</td></tr></thead><tbody><tr><td>&quot;Jeroen&quot;</td><td>&quot;math&quot;</td><td>85</td></tr><tr><td>&quot;Jeroen&quot;</td><td>&quot;math&quot;</td><td>90</td></tr><tr><td>&quot;Jeroen&quot;</td><td>&quot;math&quot;</td><td>88</td></tr><tr><td>&quot;Thijs&quot;</td><td>&quot;math&quot;</td><td>78</td></tr><tr><td>&quot;Thijs&quot;</td><td>&quot;math&quot;</td><td>82</td></tr><tr><td>&hellip;</td><td>&hellip;</td><td>&hellip;</td></tr><tr><td>&quot;Thijs&quot;</td><td>&quot;history&quot;</td><td>78</td></tr><tr><td>&quot;Thijs&quot;</td><td>&quot;history&quot;</td><td>82</td></tr><tr><td>&quot;Ritchie&quot;</td><td>&quot;history&quot;</td><td>92</td></tr><tr><td>&quot;Ritchie&quot;</td><td>&quot;history&quot;</td><td>85</td></tr><tr><td>&quot;Ritchie&quot;</td><td>&quot;history&quot;</td><td>87</td></tr></tbody></table></div>"
      ],
      "text/plain": [
       "shape: (25, 3)\n",
       "┌─────────┬─────────┬───────┐\n",
       "│ student ┆ subject ┆ grade │\n",
       "│ ---     ┆ ---     ┆ ---   │\n",
       "│ str     ┆ str     ┆ i64   │\n",
       "╞═════════╪═════════╪═══════╡\n",
       "│ Jeroen  ┆ math    ┆ 85    │\n",
       "│ Jeroen  ┆ math    ┆ 90    │\n",
       "│ Jeroen  ┆ math    ┆ 88    │\n",
       "│ Thijs   ┆ math    ┆ 78    │\n",
       "│ Thijs   ┆ math    ┆ 82    │\n",
       "│ …       ┆ …       ┆ …     │\n",
       "│ Thijs   ┆ history ┆ 78    │\n",
       "│ Thijs   ┆ history ┆ 82    │\n",
       "│ Ritchie ┆ history ┆ 92    │\n",
       "│ Ritchie ┆ history ┆ 85    │\n",
       "│ Ritchie ┆ history ┆ 87    │\n",
       "└─────────┴─────────┴───────┘"
      ]
     },
     "execution_count": 20,
     "metadata": {},
     "output_type": "execute_result"
    }
   ],
   "source": [
    "grades_nested_long.explode(\"grade\")"
   ]
  },
  {
   "cell_type": "code",
   "execution_count": 21,
   "metadata": {},
   "outputs": [
    {
     "data": {
      "text/html": [
       "<div><style>\n",
       ".dataframe > thead > tr,\n",
       ".dataframe > tbody > tr {\n",
       "  text-align: right;\n",
       "  white-space: pre-wrap;\n",
       "}\n",
       "</style>\n",
       "<small>shape: (2, 2)</small><table border=\"1\" class=\"dataframe\"><thead><tr><th>id</th><th>nested_value</th></tr><tr><td>i64</td><td>list[list[str]]</td></tr></thead><tbody><tr><td>1</td><td>[[&quot;a&quot;, &quot;b&quot;]]</td></tr><tr><td>2</td><td>[[&quot;c&quot;], [&quot;d&quot;, &quot;e&quot;]]</td></tr></tbody></table></div>"
      ],
      "text/plain": [
       "shape: (2, 2)\n",
       "┌─────┬─────────────────────┐\n",
       "│ id  ┆ nested_value        │\n",
       "│ --- ┆ ---                 │\n",
       "│ i64 ┆ list[list[str]]     │\n",
       "╞═════╪═════════════════════╡\n",
       "│ 1   ┆ [[\"a\", \"b\"]]        │\n",
       "│ 2   ┆ [[\"c\"], [\"d\", \"e\"]] │\n",
       "└─────┴─────────────────────┘"
      ]
     },
     "execution_count": 21,
     "metadata": {},
     "output_type": "execute_result"
    }
   ],
   "source": [
    "nested_lists = pl.DataFrame(\n",
    "    {\n",
    "        \"id\": [1, 2],\n",
    "        \"nested_value\": [[[\"a\", \"b\"]], [[\"c\"], [\"d\", \"e\"]]],\n",
    "    },\n",
    "    strict=False,\n",
    ")\n",
    "nested_lists"
   ]
  },
  {
   "cell_type": "code",
   "execution_count": 22,
   "metadata": {},
   "outputs": [
    {
     "data": {
      "text/html": [
       "<div><style>\n",
       ".dataframe > thead > tr,\n",
       ".dataframe > tbody > tr {\n",
       "  text-align: right;\n",
       "  white-space: pre-wrap;\n",
       "}\n",
       "</style>\n",
       "<small>shape: (3, 2)</small><table border=\"1\" class=\"dataframe\"><thead><tr><th>id</th><th>nested_value</th></tr><tr><td>i64</td><td>list[str]</td></tr></thead><tbody><tr><td>1</td><td>[&quot;a&quot;, &quot;b&quot;]</td></tr><tr><td>2</td><td>[&quot;c&quot;]</td></tr><tr><td>2</td><td>[&quot;d&quot;, &quot;e&quot;]</td></tr></tbody></table></div>"
      ],
      "text/plain": [
       "shape: (3, 2)\n",
       "┌─────┬──────────────┐\n",
       "│ id  ┆ nested_value │\n",
       "│ --- ┆ ---          │\n",
       "│ i64 ┆ list[str]    │\n",
       "╞═════╪══════════════╡\n",
       "│ 1   ┆ [\"a\", \"b\"]   │\n",
       "│ 2   ┆ [\"c\"]        │\n",
       "│ 2   ┆ [\"d\", \"e\"]   │\n",
       "└─────┴──────────────┘"
      ]
     },
     "execution_count": 22,
     "metadata": {},
     "output_type": "execute_result"
    }
   ],
   "source": [
    "nested_lists.explode(\"nested_value\")"
   ]
  },
  {
   "cell_type": "code",
   "execution_count": 23,
   "metadata": {},
   "outputs": [
    {
     "data": {
      "text/html": [
       "<div><style>\n",
       ".dataframe > thead > tr,\n",
       ".dataframe > tbody > tr {\n",
       "  text-align: right;\n",
       "  white-space: pre-wrap;\n",
       "}\n",
       "</style>\n",
       "<small>shape: (5, 2)</small><table border=\"1\" class=\"dataframe\"><thead><tr><th>id</th><th>nested_value</th></tr><tr><td>i64</td><td>str</td></tr></thead><tbody><tr><td>1</td><td>&quot;a&quot;</td></tr><tr><td>1</td><td>&quot;b&quot;</td></tr><tr><td>2</td><td>&quot;c&quot;</td></tr><tr><td>2</td><td>&quot;d&quot;</td></tr><tr><td>2</td><td>&quot;e&quot;</td></tr></tbody></table></div>"
      ],
      "text/plain": [
       "shape: (5, 2)\n",
       "┌─────┬──────────────┐\n",
       "│ id  ┆ nested_value │\n",
       "│ --- ┆ ---          │\n",
       "│ i64 ┆ str          │\n",
       "╞═════╪══════════════╡\n",
       "│ 1   ┆ a            │\n",
       "│ 1   ┆ b            │\n",
       "│ 2   ┆ c            │\n",
       "│ 2   ┆ d            │\n",
       "│ 2   ┆ e            │\n",
       "└─────┴──────────────┘"
      ]
     },
     "execution_count": 23,
     "metadata": {},
     "output_type": "execute_result"
    }
   ],
   "source": [
    "nested_lists.explode(\"nested_value\").explode(\"nested_value\")"
   ]
  },
  {
   "cell_type": "markdown",
   "metadata": {},
   "source": [
    "## Partition into Multiple DataFrames"
   ]
  },
  {
   "cell_type": "code",
   "execution_count": 24,
   "metadata": {},
   "outputs": [],
   "source": [
    "sales = pl.DataFrame(\n",
    "    {\n",
    "        \"OrderID\": [1, 2, 3, 4, 5, 6],\n",
    "        \"Product\": [\"A\", \"B\", \"A\", \"C\", \"B\", \"A\"],\n",
    "        \"Quantity\": [10, 5, 8, 7, 3, 12],\n",
    "        \"Region\": [\"North\", \"South\", \"North\", \"West\", \"South\", \"West\"],\n",
    "    }\n",
    ")"
   ]
  },
  {
   "cell_type": "code",
   "execution_count": 25,
   "metadata": {},
   "outputs": [
    {
     "data": {
      "text/plain": [
       "[shape: (2, 4)\n",
       " ┌─────────┬─────────┬──────────┬────────┐\n",
       " │ OrderID ┆ Product ┆ Quantity ┆ Region │\n",
       " │ ---     ┆ ---     ┆ ---      ┆ ---    │\n",
       " │ i64     ┆ str     ┆ i64      ┆ str    │\n",
       " ╞═════════╪═════════╪══════════╪════════╡\n",
       " │ 1       ┆ A       ┆ 10       ┆ North  │\n",
       " │ 3       ┆ A       ┆ 8        ┆ North  │\n",
       " └─────────┴─────────┴──────────┴────────┘,\n",
       " shape: (2, 4)\n",
       " ┌─────────┬─────────┬──────────┬────────┐\n",
       " │ OrderID ┆ Product ┆ Quantity ┆ Region │\n",
       " │ ---     ┆ ---     ┆ ---      ┆ ---    │\n",
       " │ i64     ┆ str     ┆ i64      ┆ str    │\n",
       " ╞═════════╪═════════╪══════════╪════════╡\n",
       " │ 2       ┆ B       ┆ 5        ┆ South  │\n",
       " │ 5       ┆ B       ┆ 3        ┆ South  │\n",
       " └─────────┴─────────┴──────────┴────────┘,\n",
       " shape: (2, 4)\n",
       " ┌─────────┬─────────┬──────────┬────────┐\n",
       " │ OrderID ┆ Product ┆ Quantity ┆ Region │\n",
       " │ ---     ┆ ---     ┆ ---      ┆ ---    │\n",
       " │ i64     ┆ str     ┆ i64      ┆ str    │\n",
       " ╞═════════╪═════════╪══════════╪════════╡\n",
       " │ 4       ┆ C       ┆ 7        ┆ West   │\n",
       " │ 6       ┆ A       ┆ 12       ┆ West   │\n",
       " └─────────┴─────────┴──────────┴────────┘]"
      ]
     },
     "execution_count": 25,
     "metadata": {},
     "output_type": "execute_result"
    }
   ],
   "source": [
    "sales.partition_by(\"Region\")"
   ]
  },
  {
   "cell_type": "code",
   "execution_count": 26,
   "metadata": {},
   "outputs": [
    {
     "data": {
      "text/plain": [
       "[shape: (2, 3)\n",
       " ┌─────────┬─────────┬──────────┐\n",
       " │ OrderID ┆ Product ┆ Quantity │\n",
       " │ ---     ┆ ---     ┆ ---      │\n",
       " │ i64     ┆ str     ┆ i64      │\n",
       " ╞═════════╪═════════╪══════════╡\n",
       " │ 1       ┆ A       ┆ 10       │\n",
       " │ 3       ┆ A       ┆ 8        │\n",
       " └─────────┴─────────┴──────────┘,\n",
       " shape: (2, 3)\n",
       " ┌─────────┬─────────┬──────────┐\n",
       " │ OrderID ┆ Product ┆ Quantity │\n",
       " │ ---     ┆ ---     ┆ ---      │\n",
       " │ i64     ┆ str     ┆ i64      │\n",
       " ╞═════════╪═════════╪══════════╡\n",
       " │ 2       ┆ B       ┆ 5        │\n",
       " │ 5       ┆ B       ┆ 3        │\n",
       " └─────────┴─────────┴──────────┘,\n",
       " shape: (2, 3)\n",
       " ┌─────────┬─────────┬──────────┐\n",
       " │ OrderID ┆ Product ┆ Quantity │\n",
       " │ ---     ┆ ---     ┆ ---      │\n",
       " │ i64     ┆ str     ┆ i64      │\n",
       " ╞═════════╪═════════╪══════════╡\n",
       " │ 4       ┆ C       ┆ 7        │\n",
       " │ 6       ┆ A       ┆ 12       │\n",
       " └─────────┴─────────┴──────────┘]"
      ]
     },
     "execution_count": 26,
     "metadata": {},
     "output_type": "execute_result"
    }
   ],
   "source": [
    "sales.partition_by(\"Region\", include_key=False)"
   ]
  },
  {
   "cell_type": "code",
   "execution_count": 27,
   "metadata": {},
   "outputs": [
    {
     "data": {
      "text/plain": [
       "{('North',): shape: (2, 4)\n",
       " ┌─────────┬─────────┬──────────┬────────┐\n",
       " │ OrderID ┆ Product ┆ Quantity ┆ Region │\n",
       " │ ---     ┆ ---     ┆ ---      ┆ ---    │\n",
       " │ i64     ┆ str     ┆ i64      ┆ str    │\n",
       " ╞═════════╪═════════╪══════════╪════════╡\n",
       " │ 1       ┆ A       ┆ 10       ┆ North  │\n",
       " │ 3       ┆ A       ┆ 8        ┆ North  │\n",
       " └─────────┴─────────┴──────────┴────────┘,\n",
       " ('South',): shape: (2, 4)\n",
       " ┌─────────┬─────────┬──────────┬────────┐\n",
       " │ OrderID ┆ Product ┆ Quantity ┆ Region │\n",
       " │ ---     ┆ ---     ┆ ---      ┆ ---    │\n",
       " │ i64     ┆ str     ┆ i64      ┆ str    │\n",
       " ╞═════════╪═════════╪══════════╪════════╡\n",
       " │ 2       ┆ B       ┆ 5        ┆ South  │\n",
       " │ 5       ┆ B       ┆ 3        ┆ South  │\n",
       " └─────────┴─────────┴──────────┴────────┘,\n",
       " ('West',): shape: (2, 4)\n",
       " ┌─────────┬─────────┬──────────┬────────┐\n",
       " │ OrderID ┆ Product ┆ Quantity ┆ Region │\n",
       " │ ---     ┆ ---     ┆ ---      ┆ ---    │\n",
       " │ i64     ┆ str     ┆ i64      ┆ str    │\n",
       " ╞═════════╪═════════╪══════════╪════════╡\n",
       " │ 4       ┆ C       ┆ 7        ┆ West   │\n",
       " │ 6       ┆ A       ┆ 12       ┆ West   │\n",
       " └─────────┴─────────┴──────────┴────────┘}"
      ]
     },
     "execution_count": 27,
     "metadata": {},
     "output_type": "execute_result"
    }
   ],
   "source": [
    "sales_dict = sales.partition_by([\"Region\"], as_dict=True)\n",
    "\n",
    "sales_dict"
   ]
  },
  {
   "cell_type": "code",
   "execution_count": 28,
   "metadata": {},
   "outputs": [
    {
     "data": {
      "text/html": [
       "<div><style>\n",
       ".dataframe > thead > tr,\n",
       ".dataframe > tbody > tr {\n",
       "  text-align: right;\n",
       "  white-space: pre-wrap;\n",
       "}\n",
       "</style>\n",
       "<small>shape: (2, 4)</small><table border=\"1\" class=\"dataframe\"><thead><tr><th>OrderID</th><th>Product</th><th>Quantity</th><th>Region</th></tr><tr><td>i64</td><td>str</td><td>i64</td><td>str</td></tr></thead><tbody><tr><td>1</td><td>&quot;A&quot;</td><td>10</td><td>&quot;North&quot;</td></tr><tr><td>3</td><td>&quot;A&quot;</td><td>8</td><td>&quot;North&quot;</td></tr></tbody></table></div>"
      ],
      "text/plain": [
       "shape: (2, 4)\n",
       "┌─────────┬─────────┬──────────┬────────┐\n",
       "│ OrderID ┆ Product ┆ Quantity ┆ Region │\n",
       "│ ---     ┆ ---     ┆ ---      ┆ ---    │\n",
       "│ i64     ┆ str     ┆ i64      ┆ str    │\n",
       "╞═════════╪═════════╪══════════╪════════╡\n",
       "│ 1       ┆ A       ┆ 10       ┆ North  │\n",
       "│ 3       ┆ A       ┆ 8        ┆ North  │\n",
       "└─────────┴─────────┴──────────┴────────┘"
      ]
     },
     "execution_count": 28,
     "metadata": {},
     "output_type": "execute_result"
    }
   ],
   "source": [
    "sales_dict[(\"North\",)]"
   ]
  },
  {
   "cell_type": "markdown",
   "metadata": {},
   "source": [
    "## Takeaways"
   ]
  }
 ],
 "metadata": {
  "kernelspec": {
   "display_name": ".venv",
   "language": "python",
   "name": "python3"
  },
  "language_info": {
   "codemirror_mode": {
    "name": "ipython",
    "version": 3
   },
   "file_extension": ".py",
   "mimetype": "text/x-python",
   "name": "python",
   "nbconvert_exporter": "python",
   "pygments_lexer": "ipython3",
   "version": "3.12.3"
  }
 },
 "nbformat": 4,
 "nbformat_minor": 5
}
