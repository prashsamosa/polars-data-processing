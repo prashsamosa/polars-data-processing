{
 "cells": [
  {
   "cell_type": "markdown",
   "metadata": {},
   "source": [
    "# 16. Extending Polars"
   ]
  },
  {
   "cell_type": "code",
   "execution_count": 2,
   "metadata": {},
   "outputs": [
    {
     "data": {
      "text/plain": [
       "'1.20.0'"
      ]
     },
     "execution_count": 2,
     "metadata": {},
     "output_type": "execute_result"
    }
   ],
   "source": [
    "import polars as pl\n",
    "pl.__version__"
   ]
  },
  {
   "cell_type": "markdown",
   "metadata": {},
   "source": [
    "## User-Defined Functions in Python"
   ]
  },
  {
   "cell_type": "markdown",
   "metadata": {},
   "source": [
    "### Applying a Function to Elements"
   ]
  },
  {
   "cell_type": "code",
   "execution_count": 2,
   "metadata": {},
   "outputs": [
    {
     "data": {
      "text/html": [
       "<div><style>\n",
       ".dataframe > thead > tr,\n",
       ".dataframe > tbody > tr {\n",
       "  text-align: right;\n",
       "  white-space: pre-wrap;\n",
       "}\n",
       "</style>\n",
       "<small>shape: (4, 2)</small><table border=\"1\" class=\"dataframe\"><thead><tr><th>reviews</th><th>sentiment_score</th></tr><tr><td>str</td><td>f64</td></tr></thead><tbody><tr><td>&quot;This product is great!&quot;</td><td>1.0</td></tr><tr><td>&quot;Terrible service.&quot;</td><td>-1.0</td></tr><tr><td>&quot;Okay, but not what I expected.&quot;</td><td>0.2</td></tr><tr><td>&quot;Excellent! I love it.&quot;</td><td>0.75</td></tr></tbody></table></div>"
      ],
      "text/plain": [
       "shape: (4, 2)\n",
       "┌────────────────────────────────┬─────────────────┐\n",
       "│ reviews                        ┆ sentiment_score │\n",
       "│ ---                            ┆ ---             │\n",
       "│ str                            ┆ f64             │\n",
       "╞════════════════════════════════╪═════════════════╡\n",
       "│ This product is great!         ┆ 1.0             │\n",
       "│ Terrible service.              ┆ -1.0            │\n",
       "│ Okay, but not what I expected. ┆ 0.2             │\n",
       "│ Excellent! I love it.          ┆ 0.75            │\n",
       "└────────────────────────────────┴─────────────────┘"
      ]
     },
     "execution_count": 2,
     "metadata": {},
     "output_type": "execute_result"
    }
   ],
   "source": [
    "from textblob import TextBlob\n",
    "\n",
    "\n",
    "def analyze_sentiment(review):\n",
    "    return TextBlob(review).sentiment.polarity\n",
    "\n",
    "\n",
    "reviews = pl.DataFrame(\n",
    "    {\n",
    "        \"reviews\": [\n",
    "            \"This product is great!\",\n",
    "            \"Terrible service.\",\n",
    "            \"Okay, but not what I expected.\",\n",
    "            \"Excellent! I love it.\",\n",
    "        ]\n",
    "    }\n",
    ")\n",
    "\n",
    "reviews.with_columns(\n",
    "    sentiment_score=pl.col(\"reviews\").map_elements(\n",
    "        analyze_sentiment, return_dtype=pl.Float64\n",
    "    )\n",
    ")"
   ]
  },
  {
   "cell_type": "code",
   "execution_count": 3,
   "metadata": {},
   "outputs": [
    {
     "name": "stderr",
     "output_type": "stream",
     "text": [
      "/tmp/ipykernel_27036/2655116744.py:10: PolarsInefficientMapWarning: \n",
      "Expr.map_elements is significantly slower than the native expressions API.\n",
      "Only use if you absolutely CANNOT implement your logic otherwise.\n",
      "Replace this expression...\n",
      "  - pl.col(\"x\").map_elements(add_one)\n",
      "with this one instead:\n",
      "  + pl.col(\"x\") + 1\n",
      "\n",
      "  .map_elements(\n"
     ]
    },
    {
     "data": {
      "text/html": [
       "<div><style>\n",
       ".dataframe > thead > tr,\n",
       ".dataframe > tbody > tr {\n",
       "  text-align: right;\n",
       "  white-space: pre-wrap;\n",
       "}\n",
       "</style>\n",
       "<small>shape: (4, 2)</small><table border=\"1\" class=\"dataframe\"><thead><tr><th>x</th><th>x + 1</th></tr><tr><td>i64</td><td>i64</td></tr></thead><tbody><tr><td>1</td><td>2</td></tr><tr><td>2</td><td>3</td></tr><tr><td>3</td><td>4</td></tr><tr><td>4</td><td>5</td></tr></tbody></table></div>"
      ],
      "text/plain": [
       "shape: (4, 2)\n",
       "┌─────┬───────┐\n",
       "│ x   ┆ x + 1 │\n",
       "│ --- ┆ ---   │\n",
       "│ i64 ┆ i64   │\n",
       "╞═════╪═══════╡\n",
       "│ 1   ┆ 2     │\n",
       "│ 2   ┆ 3     │\n",
       "│ 3   ┆ 4     │\n",
       "│ 4   ┆ 5     │\n",
       "└─────┴───────┘"
      ]
     },
     "execution_count": 3,
     "metadata": {},
     "output_type": "execute_result"
    }
   ],
   "source": [
    "ints = pl.DataFrame({\"x\": [1, 2, 3, 4]})\n",
    "\n",
    "\n",
    "def add_one(x):\n",
    "    return x + 1\n",
    "\n",
    "\n",
    "ints.with_columns(\n",
    "    pl.col(\"x\")\n",
    "    .map_elements(\n",
    "        add_one,\n",
    "        return_dtype=pl.Int64,\n",
    "    )\n",
    "    .alias(\"x + 1\")\n",
    ")"
   ]
  },
  {
   "cell_type": "markdown",
   "metadata": {},
   "source": [
    "### Applying a Function to a Series"
   ]
  },
  {
   "cell_type": "code",
   "execution_count": 4,
   "metadata": {},
   "outputs": [
    {
     "data": {
      "text/html": [
       "<div><style>\n",
       ".dataframe > thead > tr,\n",
       ".dataframe > tbody > tr {\n",
       "  text-align: right;\n",
       "  white-space: pre-wrap;\n",
       "}\n",
       "</style>\n",
       "<small>shape: (7, 3)</small><table border=\"1\" class=\"dataframe\"><thead><tr><th>label</th><th>feature1</th><th>feature2</th></tr><tr><td>i64</td><td>f64</td><td>f64</td></tr></thead><tbody><tr><td>1</td><td>0.143782</td><td>3.1181e-17</td></tr><tr><td>0</td><td>0.130099</td><td>2.0474e-9</td></tr><tr><td>1</td><td>0.158904</td><td>0.993307</td></tr><tr><td>0</td><td>0.117719</td><td>0.006693</td></tr><tr><td>1</td><td>0.130099</td><td>3.9488e-31</td></tr><tr><td>0</td><td>0.143782</td><td>8.6979e-27</td></tr><tr><td>0</td><td>0.175616</td><td>1.2909e-24</td></tr></tbody></table></div>"
      ],
      "text/plain": [
       "shape: (7, 3)\n",
       "┌───────┬──────────┬────────────┐\n",
       "│ label ┆ feature1 ┆ feature2   │\n",
       "│ ---   ┆ ---      ┆ ---        │\n",
       "│ i64   ┆ f64      ┆ f64        │\n",
       "╞═══════╪══════════╪════════════╡\n",
       "│ 1     ┆ 0.143782 ┆ 3.1181e-17 │\n",
       "│ 0     ┆ 0.130099 ┆ 2.0474e-9  │\n",
       "│ 1     ┆ 0.158904 ┆ 0.993307   │\n",
       "│ 0     ┆ 0.117719 ┆ 0.006693   │\n",
       "│ 1     ┆ 0.130099 ┆ 3.9488e-31 │\n",
       "│ 0     ┆ 0.143782 ┆ 8.6979e-27 │\n",
       "│ 0     ┆ 0.175616 ┆ 1.2909e-24 │\n",
       "└───────┴──────────┴────────────┘"
      ]
     },
     "execution_count": 4,
     "metadata": {},
     "output_type": "execute_result"
    }
   ],
   "source": [
    "import polars.selectors as cs\n",
    "from scipy.special import softmax\n",
    "\n",
    "ml_dataset = pl.DataFrame(\n",
    "    {\n",
    "        \"feature1\": [0.3, 0.2, 0.4, 0.1, 0.2, 0.3, 0.5],\n",
    "        \"feature2\": [32, 50, 70, 65, 0, 10, 15],\n",
    "        \"label\": [1, 0, 1, 0, 1, 0, 0],\n",
    "    }\n",
    ")\n",
    "\n",
    "ml_dataset.select(\n",
    "    \"label\",\n",
    "    cs.starts_with(\"feature\").map_batches(\n",
    "        lambda x: softmax(x.to_numpy()),\n",
    "    ),\n",
    ")"
   ]
  },
  {
   "cell_type": "markdown",
   "metadata": {},
   "source": [
    "### Applying a Function to Groups"
   ]
  },
  {
   "cell_type": "code",
   "execution_count": 5,
   "metadata": {},
   "outputs": [
    {
     "data": {
      "text/html": [
       "<div><style>\n",
       ".dataframe > thead > tr,\n",
       ".dataframe > tbody > tr {\n",
       "  text-align: right;\n",
       "  white-space: pre-wrap;\n",
       "}\n",
       "</style>\n",
       "<small>shape: (7, 3)</small><table border=\"1\" class=\"dataframe\"><thead><tr><th>country</th><th>temperature</th><th>scaled_feature</th></tr><tr><td>str</td><td>i64</td><td>f64</td></tr></thead><tbody><tr><td>&quot;NL&quot;</td><td>0</td><td>-1.336306</td></tr><tr><td>&quot;NL&quot;</td><td>10</td><td>0.267261</td></tr><tr><td>&quot;NL&quot;</td><td>15</td><td>1.069045</td></tr><tr><td>&quot;USA&quot;</td><td>32</td><td>-1.502872</td></tr><tr><td>&quot;USA&quot;</td><td>50</td><td>-0.287066</td></tr><tr><td>&quot;USA&quot;</td><td>70</td><td>1.063831</td></tr><tr><td>&quot;USA&quot;</td><td>65</td><td>0.726107</td></tr></tbody></table></div>"
      ],
      "text/plain": [
       "shape: (7, 3)\n",
       "┌─────────┬─────────────┬────────────────┐\n",
       "│ country ┆ temperature ┆ scaled_feature │\n",
       "│ ---     ┆ ---         ┆ ---            │\n",
       "│ str     ┆ i64         ┆ f64            │\n",
       "╞═════════╪═════════════╪════════════════╡\n",
       "│ NL      ┆ 0           ┆ -1.336306      │\n",
       "│ NL      ┆ 10          ┆ 0.267261       │\n",
       "│ NL      ┆ 15          ┆ 1.069045       │\n",
       "│ USA     ┆ 32          ┆ -1.502872      │\n",
       "│ USA     ┆ 50          ┆ -0.287066      │\n",
       "│ USA     ┆ 70          ┆ 1.063831       │\n",
       "│ USA     ┆ 65          ┆ 0.726107       │\n",
       "└─────────┴─────────────┴────────────────┘"
      ]
     },
     "execution_count": 5,
     "metadata": {},
     "output_type": "execute_result"
    }
   ],
   "source": [
    "from sklearn.preprocessing import StandardScaler\n",
    "\n",
    "\n",
    "def scale_temperature(group):\n",
    "    scaler = StandardScaler()\n",
    "    scaled_values = scaler.fit_transform(group[[\"temperature\"]].to_numpy())\n",
    "    return group.with_columns(\n",
    "        pl.Series(values=scaled_values.flatten(), name=\"scaled_feature\")\n",
    "    )\n",
    "\n",
    "\n",
    "temperatures = pl.DataFrame(\n",
    "    {\n",
    "        \"country\": [\"USA\", \"USA\", \"USA\", \"USA\", \"NL\", \"NL\", \"NL\"],\n",
    "        \"temperature\": [32, 50, 70, 65, 0, 10, 15],\n",
    "    }\n",
    ")\n",
    "\n",
    "temperatures.group_by(\"country\").map_groups(scale_temperature)"
   ]
  },
  {
   "cell_type": "code",
   "execution_count": 6,
   "metadata": {},
   "outputs": [
    {
     "name": "stdout",
     "output_type": "stream",
     "text": [
      "NL:\n",
      "shape: (3, 2)\n",
      "┌─────────┬─────────────┐\n",
      "│ country ┆ temperature │\n",
      "│ ---     ┆ ---         │\n",
      "│ str     ┆ i64         │\n",
      "╞═════════╪═════════════╡\n",
      "│ NL      ┆ 0           │\n",
      "│ NL      ┆ 10          │\n",
      "│ NL      ┆ 15          │\n",
      "└─────────┴─────────────┘\n",
      "\n",
      "USA:\n",
      "shape: (4, 2)\n",
      "┌─────────┬─────────────┐\n",
      "│ country ┆ temperature │\n",
      "│ ---     ┆ ---         │\n",
      "│ str     ┆ i64         │\n",
      "╞═════════╪═════════════╡\n",
      "│ USA     ┆ 32          │\n",
      "│ USA     ┆ 50          │\n",
      "│ USA     ┆ 70          │\n",
      "│ USA     ┆ 65          │\n",
      "└─────────┴─────────────┘\n",
      "\n"
     ]
    }
   ],
   "source": [
    "temperatures = pl.DataFrame(\n",
    "    {\n",
    "        \"country\": [\"USA\", \"USA\", \"USA\", \"USA\", \"NL\", \"NL\", \"NL\"],\n",
    "        \"temperature\": [32, 50, 70, 65, 0, 10, 15],\n",
    "    }\n",
    ")\n",
    "\n",
    "for group, df in temperatures.group_by(\"country\"):\n",
    "    print(f\"{group[0]}:\\n{df}\\n\")"
   ]
  },
  {
   "cell_type": "code",
   "execution_count": 7,
   "metadata": {},
   "outputs": [
    {
     "data": {
      "text/html": [
       "<div><style>\n",
       ".dataframe > thead > tr,\n",
       ".dataframe > tbody > tr {\n",
       "  text-align: right;\n",
       "  white-space: pre-wrap;\n",
       "}\n",
       "</style>\n",
       "<small>shape: (4, 2)</small><table border=\"1\" class=\"dataframe\"><thead><tr><th>reviews</th><th>sentiment_score</th></tr><tr><td>str</td><td>f64</td></tr></thead><tbody><tr><td>&quot;This product is great!&quot;</td><td>1.0</td></tr><tr><td>&quot;Terrible service.&quot;</td><td>-1.0</td></tr><tr><td>&quot;Okay, but not what I expected.&quot;</td><td>0.2</td></tr><tr><td>&quot;Excellent! I love it.&quot;</td><td>0.75</td></tr></tbody></table></div>"
      ],
      "text/plain": [
       "shape: (4, 2)\n",
       "┌────────────────────────────────┬─────────────────┐\n",
       "│ reviews                        ┆ sentiment_score │\n",
       "│ ---                            ┆ ---             │\n",
       "│ str                            ┆ f64             │\n",
       "╞════════════════════════════════╪═════════════════╡\n",
       "│ This product is great!         ┆ 1.0             │\n",
       "│ Terrible service.              ┆ -1.0            │\n",
       "│ Okay, but not what I expected. ┆ 0.2             │\n",
       "│ Excellent! I love it.          ┆ 0.75            │\n",
       "└────────────────────────────────┴─────────────────┘"
      ]
     },
     "execution_count": 7,
     "metadata": {},
     "output_type": "execute_result"
    }
   ],
   "source": [
    "from functools import lru_cache\n",
    "\n",
    "from textblob import TextBlob\n",
    "\n",
    "\n",
    "@lru_cache(maxsize=256)\n",
    "def analyze_sentiment(review):\n",
    "    return TextBlob(review).sentiment.polarity\n",
    "\n",
    "\n",
    "reviews = pl.DataFrame(\n",
    "    {\n",
    "        \"reviews\": [\n",
    "            \"This product is great!\",\n",
    "            \"Terrible service.\",\n",
    "            \"Okay, but not what I expected.\",\n",
    "            \"Excellent! I love it.\",\n",
    "        ]\n",
    "    }\n",
    ")\n",
    "\n",
    "reviews.with_columns(\n",
    "    sentiment_score=pl.col(\"reviews\").map_elements(\n",
    "        analyze_sentiment, return_dtype=pl.Float64\n",
    "    )\n",
    ")"
   ]
  },
  {
   "cell_type": "markdown",
   "metadata": {},
   "source": [
    "### Applying a Function to an Expression"
   ]
  },
  {
   "cell_type": "code",
   "execution_count": 8,
   "metadata": {},
   "outputs": [
    {
     "data": {
      "text/html": [
       "<div><style>\n",
       ".dataframe > thead > tr,\n",
       ".dataframe > tbody > tr {\n",
       "  text-align: right;\n",
       "  white-space: pre-wrap;\n",
       "}\n",
       "</style>\n",
       "<small>shape: (3, 2)</small><table border=\"1\" class=\"dataframe\"><thead><tr><th>address</th><th>house_numbers</th></tr><tr><td>str</td><td>i64</td></tr></thead><tbody><tr><td>&quot;Nieuwezijds Voorburgwal 147&quot;</td><td>147</td></tr><tr><td>&quot;Museumstraat 1&quot;</td><td>1</td></tr><tr><td>&quot;Oosterdok 2&quot;</td><td>2</td></tr></tbody></table></div>"
      ],
      "text/plain": [
       "shape: (3, 2)\n",
       "┌─────────────────────────────┬───────────────┐\n",
       "│ address                     ┆ house_numbers │\n",
       "│ ---                         ┆ ---           │\n",
       "│ str                         ┆ i64           │\n",
       "╞═════════════════════════════╪═══════════════╡\n",
       "│ Nieuwezijds Voorburgwal 147 ┆ 147           │\n",
       "│ Museumstraat 1              ┆ 1             │\n",
       "│ Oosterdok 2                 ┆ 2             │\n",
       "└─────────────────────────────┴───────────────┘"
      ]
     },
     "execution_count": 8,
     "metadata": {},
     "output_type": "execute_result"
    }
   ],
   "source": [
    "addresses = pl.DataFrame(\n",
    "    {\n",
    "        \"address\": [\n",
    "            \"Nieuwezijds Voorburgwal 147\",\n",
    "            \"Museumstraat 1\",\n",
    "            \"Oosterdok 2\",\n",
    "        ]\n",
    "    }\n",
    ")\n",
    "\n",
    "\n",
    "def extract_house_number(input_expr: pl.Expr) -> pl.Expr:\n",
    "    \"\"\"Extract the house number from an address String\"\"\"\n",
    "    return input_expr.str.extract(r\"\\d+\", 0).cast(pl.Int64)\n",
    "\n",
    "\n",
    "addresses.with_columns(\n",
    "    house_numbers=pl.col(\"address\").pipe(extract_house_number)\n",
    ")"
   ]
  },
  {
   "cell_type": "markdown",
   "metadata": {},
   "source": [
    "### Applying a Function to a DataFrame or LazyFrame"
   ]
  },
  {
   "cell_type": "code",
   "execution_count": 9,
   "metadata": {},
   "outputs": [
    {
     "data": {
      "text/html": [
       "<div><style>\n",
       ".dataframe > thead > tr,\n",
       ".dataframe > tbody > tr {\n",
       "  text-align: right;\n",
       "  white-space: pre-wrap;\n",
       "}\n",
       "</style>\n",
       "<small>shape: (3, 2)</small><table border=\"1\" class=\"dataframe\"><thead><tr><th>ints</th><th>floats</th></tr><tr><td>f64</td><td>f64</td></tr></thead><tbody><tr><td>10.0</td><td>50.0</td></tr><tr><td>20.0</td><td>100.0</td></tr><tr><td>30.0</td><td>150.0</td></tr></tbody></table></div>"
      ],
      "text/plain": [
       "shape: (3, 2)\n",
       "┌──────┬────────┐\n",
       "│ ints ┆ floats │\n",
       "│ ---  ┆ ---    │\n",
       "│ f64  ┆ f64    │\n",
       "╞══════╪════════╡\n",
       "│ 10.0 ┆ 50.0   │\n",
       "│ 20.0 ┆ 100.0  │\n",
       "│ 30.0 ┆ 150.0  │\n",
       "└──────┴────────┘"
      ]
     },
     "execution_count": 9,
     "metadata": {},
     "output_type": "execute_result"
    }
   ],
   "source": [
    "small_numbers = pl.DataFrame({\"ints\": [2, 4, 6], \"floats\": [10.0, 20.0, 30.0]})\n",
    "\n",
    "\n",
    "def scale_the_input(\n",
    "    df: pl.DataFrame | pl.LazyFrame, scale_factor: int\n",
    ") -> pl.DataFrame | pl.LazyFrame:\n",
    "    \"\"\"Scales the input by the input factor\"\"\"\n",
    "    return df * scale_factor\n",
    "\n",
    "\n",
    "small_numbers.pipe(scale_the_input, 5)"
   ]
  },
  {
   "cell_type": "markdown",
   "metadata": {},
   "source": [
    "## Registering Your Own Namespace"
   ]
  },
  {
   "cell_type": "code",
   "execution_count": 10,
   "metadata": {},
   "outputs": [],
   "source": [
    "@pl.api.register_expr_namespace(\"celsius\")\n",
    "class Celsius:\n",
    "    def __init__(self, expr: pl.Expr):\n",
    "        self._expr = expr\n",
    "\n",
    "    def to_fahrenheit(self) -> pl.Expr:\n",
    "        return (self._expr * 9 / 5) + 32\n",
    "\n",
    "    def to_kelvin(self) -> pl.Expr:\n",
    "        return self._expr + 273.15"
   ]
  },
  {
   "cell_type": "code",
   "execution_count": 11,
   "metadata": {},
   "outputs": [
    {
     "data": {
      "text/html": [
       "<div><style>\n",
       ".dataframe > thead > tr,\n",
       ".dataframe > tbody > tr {\n",
       "  text-align: right;\n",
       "  white-space: pre-wrap;\n",
       "}\n",
       "</style>\n",
       "<small>shape: (5, 2)</small><table border=\"1\" class=\"dataframe\"><thead><tr><th>celsius</th><th>fahrenheit</th></tr><tr><td>i64</td><td>f64</td></tr></thead><tbody><tr><td>0</td><td>32.0</td></tr><tr><td>10</td><td>50.0</td></tr><tr><td>20</td><td>68.0</td></tr><tr><td>30</td><td>86.0</td></tr><tr><td>40</td><td>104.0</td></tr></tbody></table></div>"
      ],
      "text/plain": [
       "shape: (5, 2)\n",
       "┌─────────┬────────────┐\n",
       "│ celsius ┆ fahrenheit │\n",
       "│ ---     ┆ ---        │\n",
       "│ i64     ┆ f64        │\n",
       "╞═════════╪════════════╡\n",
       "│ 0       ┆ 32.0       │\n",
       "│ 10      ┆ 50.0       │\n",
       "│ 20      ┆ 68.0       │\n",
       "│ 30      ┆ 86.0       │\n",
       "│ 40      ┆ 104.0      │\n",
       "└─────────┴────────────┘"
      ]
     },
     "execution_count": 11,
     "metadata": {},
     "output_type": "execute_result"
    }
   ],
   "source": [
    "temperatures = pl.DataFrame({\"celsius\": [0, 10, 20, 30, 40]})\n",
    "\n",
    "temperatures.with_columns(fahrenheit=pl.col(\"celsius\").celsius.to_fahrenheit())"
   ]
  },
  {
   "cell_type": "markdown",
   "metadata": {},
   "source": [
    "## Polars Plugins in Rust"
   ]
  },
  {
   "cell_type": "markdown",
   "metadata": {},
   "source": [
    "### Prerequisites"
   ]
  },
  {
   "cell_type": "code",
   "execution_count": 12,
   "metadata": {},
   "outputs": [
    {
     "name": "stdout",
     "output_type": "stream",
     "text": [
      "rustc 1.88.0 (6b00bc388 2025-06-23) (Homebrew)\n"
     ]
    }
   ],
   "source": [
    "! rustc --version"
   ]
  },
  {
   "cell_type": "markdown",
   "metadata": {},
   "source": [
    "### The Anatomy of a Plugin Project"
   ]
  },
  {
   "cell_type": "markdown",
   "metadata": {},
   "source": [
    "### The Plugin"
   ]
  },
  {
   "cell_type": "markdown",
   "metadata": {},
   "source": [
    "### Compiling the Plugin"
   ]
  },
  {
   "cell_type": "code",
   "execution_count": 13,
   "metadata": {},
   "outputs": [
    {
     "name": "stdout",
     "output_type": "stream",
     "text": [
      "🍹 Building a mixed python/rust project\n",
      "🔗 Found pyo3 bindings\n",
      "🐍 Found CPython 3.12 at /home/prashant/Desktop/samosa/extra/books/code/python-polars-the-definitive-guide/python-polars-the-definitive-guide-main/.venv/bin/python\n",
      "\u001b[1m\u001b[32m   Compiling\u001b[0m proc-macro2 v1.0.92\n",
      "\u001b[1m\u001b[32m   Compiling\u001b[0m unicode-ident v1.0.14\n",
      "\u001b[1m\u001b[32m   Compiling\u001b[0m libc v0.2.169\n",
      "\u001b[1m\u001b[32m   Compiling\u001b[0m version_check v0.9.5\n",
      "\u001b[1m\u001b[32m   Compiling\u001b[0m autocfg v1.4.0\n",
      "\u001b[1m\u001b[32m   Compiling\u001b[0m libm v0.2.11\n",
      "\u001b[1m\u001b[32m   Compiling\u001b[0m crossbeam-utils v0.8.21\n",
      "\u001b[1m\u001b[32m   Compiling\u001b[0m cfg-if v1.0.0\n",
      "\u001b[1m\u001b[32m   Compiling\u001b[0m byteorder v1.5.0\n",
      "\u001b[1m\u001b[32m   Compiling\u001b[0m shlex v1.3.0\n",
      "\u001b[1m\u001b[32m   Compiling\u001b[0m rayon-core v1.12.1\n",
      "\u001b[1m\u001b[32m   Compiling\u001b[0m rustversion v1.0.19\n",
      "\u001b[K\u001b[1m\u001b[32m   Compiling\u001b[0m memchr v2.7.4            ] 0/316: libm(build.rs), proc-macr...\n",
      "\u001b[K\u001b[1m\u001b[32m   Compiling\u001b[0m thiserror v2.0.9            ] 1/316: libm(build.rs), proc-macr...\n",
      "\u001b[K\u001b[1m\u001b[32m   Compiling\u001b[0m cc v1.2.6                ] 2/316: libm(build.rs), proc-macr...\n",
      "\u001b[K\u001b[1m\u001b[32m   Compiling\u001b[0m siphasher v0.3.11           ] 3/316: libm(build.rs), proc-macr...\n",
      "\u001b[K\u001b[1m\u001b[32m   Compiling\u001b[0m regex-syntax v0.8.5      ] 4/316: libm(build.rs), proc-macr...\n",
      "\u001b[K\u001b[1m\u001b[32m   Compiling\u001b[0m parking_lot_core v0.9.10    ] 5/316: regex-syntax, proc-macro2...\n",
      "\u001b[K\u001b[1m\u001b[32m   Compiling\u001b[0m ahash v0.8.11               ] 9/316: regex-syntax, proc-macro2...\n",
      "\u001b[K\u001b[1m\u001b[32m   Compiling\u001b[0m phf_shared v0.11.2         ] 13/316: regex-syntax, proc-macro2...m\u001b[36m    Building\u001b[0m [                          ] 11/316: regex-syntax, proc-macro2...\n",
      "\u001b[K\u001b[1m\u001b[32m   Compiling\u001b[0m target-features v0.1.6  ] 14/316: regex-syntax, proc-macro2...\n",
      "\u001b[K\u001b[1m\u001b[32m   Compiling\u001b[0m polars-utils v0.45.1       ] 18/316: regex-syntax, ahash(build...\n",
      "\u001b[K\u001b[1m\u001b[32m   Compiling\u001b[0m lock_api v0.4.12        ] 19/316: regex-syntax, polars-util...\n",
      "\u001b[K\u001b[1m\u001b[32m   Compiling\u001b[0m heck v0.5.0             ] 20/316: regex-syntax, polars-util...\n",
      "\u001b[K\u001b[1m\u001b[32m   Compiling\u001b[0m syn v1.0.109               ] 21/316: regex-syntax, polars-util...\n",
      "\u001b[K\u001b[1m\u001b[32m   Compiling\u001b[0m num-traits v0.2.19         ] 22/316: regex-syntax, polars-util...\n",
      "\u001b[K\u001b[1m\u001b[32m   Compiling\u001b[0m polars-schema v0.45.1      ] 23/316: regex-syntax, polars-util...\n",
      "\u001b[K\u001b[1m\u001b[32m   Compiling\u001b[0m aho-corasick v1.1.3        ] 24/316: regex-syntax, target-feat...\n",
      "\u001b[K\u001b[1m\u001b[36m    Building\u001b[0m [=>                        ] 26/316: regex-syntax, libm(build)...\u001b[1m\u001b[32m   Compiling\u001b[0m once_cell v1.20.2\n",
      "\u001b[K\u001b[1m\u001b[32m   Compiling\u001b[0m quote v1.0.38              ] 29/316: regex-syntax, once_cell, ...\n",
      "\u001b[K\u001b[1m\u001b[32m   Compiling\u001b[0m serde v1.0.216             ] 31/316: regex-syntax, once_cell, ...\n",
      "\u001b[K\u001b[1m\u001b[32m   Compiling\u001b[0m syn v2.0.92                ] 37/316: regex-syntax, target-feat...\n",
      "\u001b[K\u001b[1m\u001b[32m   Compiling\u001b[0m getrandom v0.2.15          ] 46/316: regex-syntax, syn, crossb...[==>                       ] 41/316: regex-syntax, target-feat...\n",
      "\u001b[K\u001b[1m\u001b[32m   Compiling\u001b[0m either v1.13.0             ] 48/316: regex-syntax, syn, crossb...\n",
      "\u001b[K\u001b[1m\u001b[32m   Compiling\u001b[0m rand_core v0.6.4           ] 49/316: regex-syntax, syn, crossb...\n",
      "\u001b[K\u001b[1m\u001b[32m   Compiling\u001b[0m crossbeam-epoch v0.9.18    ] 51/316: regex-syntax, syn, crossb...\n",
      "\u001b[K\u001b[1m\u001b[32m   Compiling\u001b[0m psm v0.1.24                ] 54/316: regex-syntax, crossbeam-e...\n",
      "\u001b[K\u001b[1m\u001b[32m   Compiling\u001b[0m stacker v0.1.17            ] 55/316: regex-syntax, crossbeam-e...\n",
      "\u001b[K\u001b[1m\u001b[32m   Compiling\u001b[0m crossbeam-deque v0.8.6     ] 56/316: regex-syntax, crossbeam-e...\n",
      "\u001b[K\u001b[1m\u001b[32m   Compiling\u001b[0m bitflags v2.6.0         ] 57/316: regex-syntax, crossbeam-e...\n",
      "\u001b[K\u001b[1m\u001b[32m   Compiling\u001b[0m regex-automata v0.4.9      ] 65/316: regex-syntax, syn, bitfla...\n",
      "\u001b[K\u001b[1m\u001b[32m   Compiling\u001b[0m array-init-cursor v0.2.0   ] 69/316: regex-syntax, syn, num-tr...\n",
      "\u001b[K\u001b[1m\u001b[32m   Compiling\u001b[0m allocator-api2 v0.2.21     ] 71/316: regex-syntax, syn, num-tr...\n",
      "\u001b[K\u001b[1m\u001b[32m   Compiling\u001b[0m planus v0.3.1           ] 72/316: regex-syntax, syn, libm, ...\n",
      "\u001b[K\u001b[1m\u001b[32m   Compiling\u001b[0m rayon v1.10.0              ] 74/316: regex-syntax, rayon-core,...\n",
      "\u001b[K\u001b[1m\u001b[32m   Compiling\u001b[0m target-lexicon v0.12.16 ] 83/316: regex-syntax, rayon-core,......\u001b[1m\u001b[36m    Building\u001b[0m [=====>                    ] 78/316: regex-syntax, rayon-core,...\n",
      "\u001b[K\u001b[1m\u001b[32m   Compiling\u001b[0m equivalent v1.0.1          ] 84/316: rayon-core, syn, num-trai...\n",
      "\u001b[K\u001b[1m\u001b[32m   Compiling\u001b[0m smallvec v1.13.2        ] 85/316: rayon-core, syn, num-trai...\n",
      "\u001b[K\u001b[1m\u001b[32m   Compiling\u001b[0m foldhash v0.1.4            ] 86/316: rayon-core, syn, num-trai...\n",
      "\u001b[K\u001b[1m\u001b[32m   Compiling\u001b[0m scopeguard v1.2.0          ] 87/316: syn, num-traits, smallvec...\n",
      "\u001b[K\u001b[1m\u001b[32m   Compiling\u001b[0m castaway v0.2.3            ] 94/316: stacker, syn, num-traits,...\n",
      "\u001b[K\u001b[1m\u001b[32m   Compiling\u001b[0m itoa v1.0.14               ] 95/316: stacker, syn, num-traits,...\n",
      "\u001b[K\u001b[1m\u001b[32m   Compiling\u001b[0m ryu v1.0.18                ] 97/316: allocator-api2, syn, num-...\n",
      "\u001b[K\u001b[1m\u001b[32m   Compiling\u001b[0m static_assertions v1.1.0   ] 98/316: allocator-api2, ryu, syn,...\n",
      "\u001b[K\u001b[1m\u001b[32m   Compiling\u001b[0m simdutf8 v0.1.5           ] 100/316: allocator-api2, ryu, syn,...\n",
      "\u001b[K\u001b[1m\u001b[32m   Compiling\u001b[0m iana-time-zone v0.1.61 ] 101/316: allocator-api2, ryu, syn,...\n",
      "\u001b[K\u001b[1m\u001b[32m   Compiling\u001b[0m parking_lot v0.12.3       ] 103/316: ryu, syn, phf_shared, ian...\n",
      "\u001b[K\u001b[1m\u001b[32m   Compiling\u001b[0m chrono v0.4.39            ] 104/316: syn, phf_shared, iana-tim...\n",
      "\u001b[K\u001b[1m\u001b[32m   Compiling\u001b[0m raw-cpuid v11.2.0      ] 107/316: syn, target-lexicon, iana......\n",
      "\u001b[K\u001b[1m\u001b[32m   Compiling\u001b[0m regex v1.11.1          ] 108/316: syn, target-lexicon, iana...\n",
      "\u001b[K\u001b[1m\u001b[32m   Compiling\u001b[0m memmap2 v0.9.5            ] 110/316: stacker(build), syn, rayo...\n",
      "\u001b[K\u001b[1m\u001b[32m   Compiling\u001b[0m parse-zoneinfo v0.3.1     ] 112/316: regex-automata, syn, rayo...\n",
      "\u001b[K\u001b[1m\u001b[32m   Compiling\u001b[0m bytes v1.9.0           ] 117/316: regex-automata, syn, pars......\n",
      "\u001b[K\u001b[1m\u001b[32m   Compiling\u001b[0m pyo3-build-config v0.22.6 ] 122/316: regex-automata, syn, byte...\n",
      "\u001b[1m\u001b[32m   Compiling\u001b[0m phf v0.11.2\n",
      "\u001b[K\u001b[1m\u001b[32m   Compiling\u001b[0m polars-arrow v0.45.1      ] 126/316: regex-automata, pyo3-buil...\n",
      "\u001b[K\u001b[1m\u001b[32m   Compiling\u001b[0m zerocopy-derive v0.7.35   ] 129/316: regex-automata, pyo3-buil...\n",
      "\u001b[1m\u001b[32m   Compiling\u001b[0m serde_derive v1.0.216\n",
      "\u001b[K\u001b[1m\u001b[32m   Compiling\u001b[0m thiserror-impl v2.0.9  ] 131/316: regex-automata, pyo3-buil...\n",
      "\u001b[K\u001b[1m\u001b[32m   Compiling\u001b[0m bytemuck_derive v1.8.1    ] 132/316: regex-automata, pyo3-buil...\n",
      "\u001b[K\u001b[1m\u001b[32m   Compiling\u001b[0m multiversion-macros v0.7.4] 133/316: regex-automata, pyo3-buil...\n",
      "\u001b[K\u001b[1m\u001b[32m   Compiling\u001b[0m strum_macros v0.26.4      ] 134/316: regex-automata, pyo3-buil...\n",
      "\u001b[K\u001b[1m\u001b[32m   Compiling\u001b[0m zerocopy v0.7.35          ] 139/316: regex-automata, multivers...\n",
      "\u001b[K\u001b[1m\u001b[32m   Compiling\u001b[0m bytemuck v1.21.0          ] 144/316: regex-automata, zerocopy,...\n",
      "\u001b[K\u001b[1m\u001b[32m   Compiling\u001b[0m ppv-lite86 v0.2.20        ] 145/316: regex-automata, zerocopy,...\n",
      "\u001b[K\u001b[1m\u001b[32m   Compiling\u001b[0m rand_chacha v0.3.1        ] 149/316: regex-automata, ahash, ra...\n",
      "\u001b[K\u001b[1m\u001b[32m   Compiling\u001b[0m multiversion v0.7.4    ] 151/316: regex-automata, ahash, ra......\n",
      "\u001b[K\u001b[1m\u001b[32m   Compiling\u001b[0m polars-error v0.45.1   ] 152/316: regex-automata, raw-cpuid...\n",
      "\u001b[K\u001b[1m\u001b[32m   Compiling\u001b[0m rand v0.8.5=>             ] 155/316: regex-automata, rand_chac...\n",
      "\u001b[K\u001b[1m\u001b[32m   Compiling\u001b[0m polars-compute v0.45.1    ] 162/316: regex-automata, rand_chac...[===========>             ] 160/316: regex-automata, rand_chac...\n",
      "\u001b[K\u001b[1m\u001b[32m   Compiling\u001b[0m strength_reduce v0.2.4    ] 164/316: regex-automata, rand_chac...\n",
      "\u001b[K\u001b[1m\u001b[32m   Compiling\u001b[0m ethnum v1.5.0          ] 165/316: regex-automata, rand_chac...\n",
      "\u001b[K\u001b[1m\u001b[32m   Compiling\u001b[0m dyn-clone v1.0.17         ] 166/316: regex-automata, rand_chac...\n",
      "\u001b[K\u001b[1m\u001b[32m   Compiling\u001b[0m streaming-iterator v0.1.9 ] 167/316: regex-automata, rand_chac...\n",
      "\u001b[K\u001b[1m\u001b[32m   Compiling\u001b[0m phf_generator v0.11.2  ] 169/316: regex-automata, rand_chac......\n",
      "\u001b[K\u001b[1m\u001b[32m   Compiling\u001b[0m rustix v0.38.42           ] 171/316: regex-automata, bytes, ra...\n",
      "\u001b[K\u001b[1m\u001b[32m   Compiling\u001b[0m phf_codegen v0.11.2    ] 172/316: regex-automata, bytes, ra...\n",
      "\u001b[K\u001b[1m\u001b[32m   Compiling\u001b[0m chrono-tz-build v0.4.0    ] 174/316: regex-automata, bytes, ra...\n",
      "\u001b[K\u001b[1m\u001b[32m   Compiling\u001b[0m linux-raw-sys v0.4.14     ] 183/316: regex-automata, bytes, pa...\u001b[1m\u001b[36m    Building\u001b[0m [=============>           ] 181/316: regex-automata, bytes, pa...\n",
      "\u001b[K\u001b[1m\u001b[32m   Compiling\u001b[0m atoi_simd v0.16.0         ] 184/316: regex-automata, bytes, ch...\n",
      "\u001b[K\u001b[1m\u001b[32m   Compiling\u001b[0m fast-float2 v0.2.3     ] 185/316: regex-automata, bytes, ch...\n",
      "\u001b[K\u001b[1m\u001b[32m   Compiling\u001b[0m itoap v1.0.1           ] 186/316: regex-automata, bytes, ch...\n",
      "\u001b[K\u001b[1m\u001b[32m   Compiling\u001b[0m chrono-tz v0.10.0         ] 191/316: regex-automata, serde, it...\n",
      "\u001b[K\u001b[1m\u001b[32m   Compiling\u001b[0m polars-core v0.45.1       ] 200/316: regex-automata, serde, po...\n",
      "\u001b[K\u001b[1m\u001b[32m   Compiling\u001b[0m unicode-width v0.2.0   ] 201/316: regex-automata, serde, po...\n",
      "\u001b[K\u001b[1m\u001b[32m   Compiling\u001b[0m strum v0.26.3===>         ] 204/316: regex-automata, serde, un...\n",
      "\u001b[K\u001b[1m\u001b[32m   Compiling\u001b[0m rand_distr v0.4.3         ] 209/316: regex-automata, serde, ch...\n",
      "\u001b[K\u001b[1m\u001b[32m   Compiling\u001b[0m xxhash-rust v0.8.14       ] 211/316: regex-automata, serde, ch...\n",
      "\u001b[K\u001b[1m\u001b[32m   Compiling\u001b[0m polars-ops v0.45.1        ] 215/316: regex-automata, serde, se...\n",
      "\u001b[K\u001b[1m\u001b[32m   Compiling\u001b[0m recursive-proc-macro-impl v0.1.1316: regex-automata, serde, se...\n",
      "\u001b[K\u001b[1m\u001b[32m   Compiling\u001b[0m crossterm v0.28.1>        ] 220/316: regex-automata, serde, se...\n",
      "\u001b[K\u001b[1m\u001b[32m   Compiling\u001b[0m argminmax v0.6.2=>        ] 221/316: regex-automata, serde, cr...\n",
      "\u001b[K\u001b[1m\u001b[32m   Compiling\u001b[0m polars-plan v0.45.1       ] 222/316: regex-automata, serde, cr...\n",
      "\u001b[K\u001b[1m\u001b[32m   Compiling\u001b[0m pyo3-macros-backend v0.22.6 223/316: regex-automata, serde, cr...\n",
      "\u001b[K\u001b[1m\u001b[32m   Compiling\u001b[0m pyo3-ffi v0.22.6       ] 224/316: regex-automata, serde, cr...\n",
      "\u001b[K\u001b[1m\u001b[32m   Compiling\u001b[0m now v0.1.3=======>        ] 225/316: regex-automata, serde, cr...\n",
      "\u001b[K\u001b[1m\u001b[32m   Compiling\u001b[0m atoi v2.0.0======>        ] 226/316: regex-automata, serde, cr...\n",
      "\u001b[K\u001b[1m\u001b[32m   Compiling\u001b[0m comfy-table v7.1.3>       ] 229/316: regex-automata, serde, cr...\n",
      "\u001b[K\u001b[1m\u001b[32m   Compiling\u001b[0m memoffset v0.9.1       ] 233/316: regex-automata, serde, cr......\n",
      "\u001b[K\u001b[1m\u001b[32m   Compiling\u001b[0m glob v0.3.1====>       ] 234/316: regex-automata, serde, cr...\n",
      "\u001b[K\u001b[1m\u001b[32m   Compiling\u001b[0m percent-encoding v2.3.1   ] 235/316: regex-automata, serde, cr...\n",
      "\u001b[K\u001b[1m\u001b[32m   Compiling\u001b[0m home v0.5.11===>       ] 237/316: regex-automata, serde, cr......\n",
      "\u001b[K\u001b[1m\u001b[32m   Compiling\u001b[0m fallible-streaming-iterator v0.1.9regex-automata, serde, cr...\n",
      "\u001b[K\u001b[1m\u001b[32m   Compiling\u001b[0m streaming-decompression v0.1.216: regex-automata, serde, cr......\n",
      "\u001b[K\u001b[1m\u001b[32m   Compiling\u001b[0m recursive v0.1.1===>      ] 244/316: regex-automata, serde, cr...\n",
      "\u001b[K\u001b[1m\u001b[32m   Compiling\u001b[0m pyo3 v0.22.6=======>      ] 246/316: regex-automata, serde, ar...\n",
      "\u001b[K\u001b[1m\u001b[32m   Compiling\u001b[0m num-integer v0.1.46    ] 247/316: regex-automata, serde, py...\n",
      "\u001b[K\u001b[1m\u001b[32m   Compiling\u001b[0m hashbrown v0.15.2==>      ] 248/316: regex-automata, serde, py...\n",
      "\u001b[K\u001b[1m\u001b[32m   Compiling\u001b[0m compact_str v0.8.0     ] 249/316: regex-automata, serde, ar...\n",
      "\u001b[K\u001b[1m\u001b[32m   Compiling\u001b[0m hashbrown v0.14.5==>      ] 250/316: regex-automata, argminmax...\n",
      "\u001b[K\u001b[1m\u001b[32m   Compiling\u001b[0m polars v0.45.1=====>      ] 251/316: regex-automata, argminmax...\n",
      "\u001b[K\u001b[1m\u001b[32m   Compiling\u001b[0m polars-arrow-format v0.1.052/316: regex-automata, polars(bu...\n",
      "\u001b[K\u001b[1m\u001b[32m   Compiling\u001b[0m indexmap v2.7.0=====>     ] 256/316: regex-automata, hashbrown...m\u001b[36m    Building\u001b[0m [===================>     ] 253/316: regex-automata, argminmax...\n",
      "\u001b[K\u001b[1m\u001b[32m   Compiling\u001b[0m base64 v0.22.1===>     ] 257/316: regex-automata, hashbrown...\n",
      "\u001b[K\u001b[1m\u001b[32m   Compiling\u001b[0m thiserror v1.0.69===>     ] 259/316: regex-automata, indexmap,...\n",
      "\u001b[K\u001b[1m\u001b[32m   Compiling\u001b[0m polars-parquet-format v0.1.0261/316: regex-automata, indexmap,...\n",
      "\u001b[K\u001b[1m\u001b[32m   Compiling\u001b[0m num-bigint v0.4.6>     ] 264/316: regex-automata, indexmap,......\n",
      "\u001b[K\u001b[1m\u001b[32m   Compiling\u001b[0m thiserror-impl v1.0.69    ] 271/316: regex-automata, indexmap,...\n",
      "\u001b[K\u001b[1m\u001b[32m   Compiling\u001b[0m unindent v0.2.3======>    ] 272/316: regex-automata, thiserror...\n",
      "\u001b[K\u001b[1m\u001b[32m   Compiling\u001b[0m iter-read v1.1.0=====>    ] 273/316: regex-automata, thiserror...\n",
      "\u001b[K\u001b[1m\u001b[32m   Compiling\u001b[0m indoc v2.0.5=========>    ] 274/316: regex-automata, thiserror...\n",
      "\u001b[K\u001b[1m\u001b[32m   Compiling\u001b[0m serde-pickle v1.2.0===>   ] 279/316: regex-automata, thiserror...\u001b[1m\u001b[36m    Building\u001b[0m [====================>    ] 278/316: regex-automata, thiserror...\n",
      "\u001b[K\u001b[1m\u001b[32m   Compiling\u001b[0m pyo3-macros v0.22.6===>   ] 283/316: regex-automata, chrono-tz...===================>   ] 281/316: regex-automata, thiserror...\n",
      "\u001b[K\u001b[1m\u001b[32m   Compiling\u001b[0m polars-row v0.45.1==>  ] 295/316: polars-arrow, polars-compute...\n",
      "\u001b[K\u001b[1m\u001b[32m   Compiling\u001b[0m polars-parquet v0.45.1=>  ] 297/316: polars-arrow, polars-comp...\n",
      "\u001b[K\u001b[1m\u001b[32m   Compiling\u001b[0m polars-io v0.45.1===>  ] 299/316: polars-parquet, polars-co......\n",
      "\u001b[K\u001b[1m\u001b[32m   Compiling\u001b[0m polars-ffi v0.45.1==>  ] 299/316: polars-parquet, polars-co...\n",
      "\u001b[K\u001b[1m\u001b[32m   Compiling\u001b[0m pyo3-polars-derive v0.13.0] 304/316: polars-parquet, polars-co...\n",
      "\u001b[K\u001b[1m\u001b[32m   Compiling\u001b[0m polars-time v0.45.1==> ] 307/316: polars-parquet, polars-co......\n",
      "\u001b[K\u001b[1m\u001b[32m   Compiling\u001b[0m pyo3-polars v0.19.0==> ] 309/316: polars-plan, polars-time,......\n",
      "\u001b[K\u001b[1m\u001b[32m   Compiling\u001b[0m hello_world_plugin v1.0.0 (/home/prashant/Desktop/samosa/extra/books/code/python-polars-the-definitive-guide/python-polars-the-definitive-guide-main/plugins/hello_world_plugin)\n",
      "\u001b[K\u001b[1m\u001b[32m    Finished\u001b[0m `release` profile [optimized] target(s) in 3m 36splugin          \n",
      "📦 Built wheel for CPython 3.12 to /tmp/.tmp0PLSyu/hello_world_plugin-1.0.0-cp312-cp312-linux_x86_64.whl\n",
      "✏️ Setting installed package as editable\n",
      "⚠️ Warning: failed to set package as editable: failed to get version of install backend\n",
      "🛠 Installed hello_world_plugin-1.0.0\n"
     ]
    }
   ],
   "source": [
    "! cd plugins/hello_world_plugin && uv run maturin develop --release"
   ]
  },
  {
   "cell_type": "code",
   "execution_count": null,
   "metadata": {},
   "outputs": [
    {
     "data": {
      "text/plain": [
       "{'status': 'ok', 'restart': True}"
      ]
     },
     "execution_count": 14,
     "metadata": {},
     "output_type": "execute_result"
    },
    {
     "ename": "",
     "evalue": "",
     "output_type": "error",
     "traceback": [
      "\u001b[1;31mThe Kernel crashed while executing code in the current cell or a previous cell. \n",
      "\u001b[1;31mPlease review the code in the cell(s) to identify a possible cause of the failure. \n",
      "\u001b[1;31mClick <a href='https://aka.ms/vscodeJupyterKernelCrash'>here</a> for more info. \n",
      "\u001b[1;31mView Jupyter <a href='command:jupyter.viewOutput'>log</a> for further details."
     ]
    }
   ],
   "source": [
    "# Reset the kernel to make the new plugin available\n",
    "\n",
    "# The code below will do this automatically when run in IPython\n",
    "get_ipython().kernel.do_shutdown(restart=True)"
   ]
  },
  {
   "cell_type": "markdown",
   "metadata": {},
   "source": [
    "### Performance Benchmark"
   ]
  },
  {
   "cell_type": "code",
   "execution_count": 1,
   "metadata": {},
   "outputs": [
    {
     "name": "stdout",
     "output_type": "stream",
     "text": [
      "Polars native string replace:        0.14572\n",
      "Our custom made Hello world replace: 0.03959\n"
     ]
    }
   ],
   "source": [
    "import polars as pl\n",
    "from hello_world_func import hello_world\n",
    "import time\n",
    "\n",
    "lots_of_strings = pl.DataFrame(\n",
    "    {\n",
    "        \"a\": [\"1\", \"2\", \"3\", \"4\"] * 100_000,\n",
    "    }\n",
    ")\n",
    "\n",
    "times = []\n",
    "for i in range(10):\n",
    "    t0 = time.time()\n",
    "    out = lots_of_strings.with_columns(\n",
    "        pl.col(\"a\").str.replace_all(r\".*\", \"Hello, world!\")\n",
    "    )\n",
    "    t1 = time.time()\n",
    "    times.append(t1 - t0)\n",
    "print(\n",
    "    f\"Polars native string replace:        {sum(times) / len(times):.5f}\"\n",
    ")\n",
    "\n",
    "\n",
    "times = []\n",
    "for i in range(10):\n",
    "    t0 = time.time()\n",
    "    out = lots_of_strings.with_columns(hello_world(\"a\"))\n",
    "    t1 = time.time()\n",
    "    times.append(t1 - t0)\n",
    "print(f\"Our custom made Hello world replace: {sum(times) / len(times):.5f}\")"
   ]
  },
  {
   "cell_type": "markdown",
   "metadata": {},
   "source": [
    "### Register Arguments"
   ]
  },
  {
   "cell_type": "markdown",
   "metadata": {},
   "source": [
    "#### Working with multiple arguments as input"
   ]
  },
  {
   "cell_type": "markdown",
   "metadata": {},
   "source": [
    "#### Other register arguments"
   ]
  },
  {
   "cell_type": "markdown",
   "metadata": {},
   "source": [
    "### Using a Rust Crate"
   ]
  },
  {
   "cell_type": "markdown",
   "metadata": {},
   "source": [
    "### Use Case: geo"
   ]
  },
  {
   "cell_type": "markdown",
   "metadata": {},
   "source": [
    "#### Adding the geo crate"
   ]
  },
  {
   "cell_type": "markdown",
   "metadata": {},
   "source": [
    "#### The Rust code"
   ]
  },
  {
   "cell_type": "code",
   "execution_count": 2,
   "metadata": {},
   "outputs": [
    {
     "name": "stdout",
     "output_type": "stream",
     "text": [
      "🍹 Building a mixed python/rust project\n",
      "🔗 Found pyo3 bindings with abi3 support for Python ≥ 3.8\n",
      "🐍 Not using a specific python interpreter\n",
      "\u001b[1m\u001b[32m    Finished\u001b[0m `release` profile [optimized] target(s) in 0.58s\n",
      "📦 Built wheel for abi3 Python ≥ 3.8 to /tmp/.tmpgzfIYM/polars_geo-1.0.0-cp38-abi3-linux_x86_64.whl\n",
      "✏️ Setting installed package as editable\n",
      "⚠️ Warning: failed to set package as editable: failed to get version of install backend\n",
      "🛠 Installed polars_geo-1.0.0\n"
     ]
    }
   ],
   "source": [
    "! cd plugins/polars_geo && uv run maturin develop --release"
   ]
  },
  {
   "cell_type": "code",
   "execution_count": null,
   "metadata": {},
   "outputs": [
    {
     "data": {
      "text/plain": [
       "{'status': 'ok', 'restart': True}"
      ]
     },
     "execution_count": 3,
     "metadata": {},
     "output_type": "execute_result"
    },
    {
     "ename": "",
     "evalue": "",
     "output_type": "error",
     "traceback": [
      "\u001b[1;31mThe Kernel crashed while executing code in the current cell or a previous cell. \n",
      "\u001b[1;31mPlease review the code in the cell(s) to identify a possible cause of the failure. \n",
      "\u001b[1;31mClick <a href='https://aka.ms/vscodeJupyterKernelCrash'>here</a> for more info. \n",
      "\u001b[1;31mView Jupyter <a href='command:jupyter.viewOutput'>log</a> for further details."
     ]
    }
   ],
   "source": [
    "# Reset the kernel to make the new plugin available\n",
    "\n",
    "# The code below will do this automatically when run in IPython\n",
    "get_ipython().kernel.do_shutdown(restart=True)"
   ]
  },
  {
   "cell_type": "markdown",
   "metadata": {},
   "source": [
    "#### The Python code"
   ]
  },
  {
   "cell_type": "markdown",
   "metadata": {},
   "source": [
    "#### Making the custom namespace"
   ]
  },
  {
   "cell_type": "code",
   "execution_count": 3,
   "metadata": {},
   "outputs": [],
   "source": [
    "points_and_polygons = pl.DataFrame(\n",
    "    {\n",
    "        \"point\": [[5.0, 5.0], [20.0, 20.0], [20.0, 20.0]],\n",
    "        \"polygon\": [\n",
    "            [[0.0, 0.0], [10.0, 0.0], [10.0, 10.0], [0.0, 10.0]],\n",
    "            [\n",
    "                [0.0, 0.0],\n",
    "                [10.0, 0.0],\n",
    "                [10.0, 10.0],\n",
    "            ],\n",
    "            [[0.0, None], [10.0, 0.0], [10.0, 10.0], [0.0, 10.0], [0.0, 0.0]],\n",
    "        ],\n",
    "    }\n",
    ")"
   ]
  },
  {
   "cell_type": "code",
   "execution_count": 4,
   "metadata": {},
   "outputs": [
    {
     "data": {
      "text/html": [
       "<div><style>\n",
       ".dataframe > thead > tr,\n",
       ".dataframe > tbody > tr {\n",
       "  text-align: right;\n",
       "  white-space: pre-wrap;\n",
       "}\n",
       "</style>\n",
       "<small>shape: (3, 3)</small><table border=\"1\" class=\"dataframe\"><thead><tr><th>point</th><th>polygon</th><th>in_polygon</th></tr><tr><td>list[f64]</td><td>list[list[f64]]</td><td>bool</td></tr></thead><tbody><tr><td>[5.0, 5.0]</td><td>[[0.0, 0.0], [10.0, 0.0], … [0.0, 10.0]]</td><td>true</td></tr><tr><td>[20.0, 20.0]</td><td>[[0.0, 0.0], [10.0, 0.0], [10.0, 10.0]]</td><td>false</td></tr><tr><td>[20.0, 20.0]</td><td>[[0.0, null], [10.0, 0.0], … [0.0, 0.0]]</td><td>null</td></tr></tbody></table></div>"
      ],
      "text/plain": [
       "shape: (3, 3)\n",
       "┌──────────────┬─────────────────────────────────┬────────────┐\n",
       "│ point        ┆ polygon                         ┆ in_polygon │\n",
       "│ ---          ┆ ---                             ┆ ---        │\n",
       "│ list[f64]    ┆ list[list[f64]]                 ┆ bool       │\n",
       "╞══════════════╪═════════════════════════════════╪════════════╡\n",
       "│ [5.0, 5.0]   ┆ [[0.0, 0.0], [10.0, 0.0], … [0… ┆ true       │\n",
       "│ [20.0, 20.0] ┆ [[0.0, 0.0], [10.0, 0.0], [10.… ┆ false      │\n",
       "│ [20.0, 20.0] ┆ [[0.0, null], [10.0, 0.0], … [… ┆ null       │\n",
       "└──────────────┴─────────────────────────────────┴────────────┘"
      ]
     },
     "execution_count": 4,
     "metadata": {},
     "output_type": "execute_result"
    }
   ],
   "source": [
    "from plugins.polars_geo import polars_geo\n",
    "\n",
    "# Apply the point_in_polygon function\n",
    "points_and_polygons.with_columns(\n",
    "    pl.col(\"point\").geo.point_in_polygon(pl.col(\"polygon\")).alias(\"in_polygon\")\n",
    ")"
   ]
  }
 ],
 "metadata": {
  "kernelspec": {
   "display_name": ".venv",
   "language": "python",
   "name": "python3"
  },
  "language_info": {
   "codemirror_mode": {
    "name": "ipython",
    "version": 3
   },
   "file_extension": ".py",
   "mimetype": "text/x-python",
   "name": "python",
   "nbconvert_exporter": "python",
   "pygments_lexer": "ipython3",
   "version": "3.12.3"
  }
 },
 "nbformat": 4,
 "nbformat_minor": 5
}
