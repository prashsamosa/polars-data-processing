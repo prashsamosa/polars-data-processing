{
 "cells": [
  {
   "cell_type": "markdown",
   "metadata": {},
   "source": [
    "# Internals"
   ]
  },
  {
   "cell_type": "code",
   "execution_count": 1,
   "metadata": {},
   "outputs": [
    {
     "data": {
      "text/plain": [
       "'1.20.0'"
      ]
     },
     "execution_count": 1,
     "metadata": {},
     "output_type": "execute_result"
    }
   ],
   "source": [
    "import polars as pl\n",
    "pl.__version__"
   ]
  },
  {
   "cell_type": "markdown",
   "metadata": {},
   "source": [
    "## Polars' Architecture"
   ]
  },
  {
   "cell_type": "markdown",
   "metadata": {},
   "source": [
    "## Arrow"
   ]
  },
  {
   "cell_type": "markdown",
   "metadata": {},
   "source": [
    "## Multithreaded Computations and SIMD Operations"
   ]
  },
  {
   "cell_type": "markdown",
   "metadata": {},
   "source": [
    "## The String Data Type in Memory"
   ]
  },
  {
   "cell_type": "markdown",
   "metadata": {},
   "source": [
    "## ChunkedArrays in Series"
   ]
  },
  {
   "cell_type": "markdown",
   "metadata": {},
   "source": [
    "## Query Optimization"
   ]
  },
  {
   "cell_type": "markdown",
   "metadata": {},
   "source": [
    "### LazyFrame Scan-Level Optimizations"
   ]
  },
  {
   "cell_type": "code",
   "execution_count": 2,
   "metadata": {},
   "outputs": [
    {
     "data": {
      "image/svg+xml": [
       "<svg xmlns=\"http://www.w3.org/2000/svg\" xmlns:xlink=\"http://www.w3.org/1999/xlink\" width=\"461pt\" height=\"49pt\" viewBox=\"0.00 0.00 461.00 49.00\">\n",
       "<g id=\"graph0\" class=\"graph\" transform=\"scale(1 1) rotate(0) translate(4 45)\">\n",
       "<title>polars_query</title>\n",
       "<polygon fill=\"white\" stroke=\"none\" points=\"-4,4 -4,-45 456.5,-45 456.5,4 -4,4\"/>\n",
       "<!-- p1 -->\n",
       "<g id=\"node1\" class=\"node\">\n",
       "<title>p1</title>\n",
       "<polygon fill=\"none\" stroke=\"black\" points=\"452.5,-41 0,-41 0,0 452.5,0 452.5,-41\"/>\n",
       "<text xml:space=\"preserve\" text-anchor=\"middle\" x=\"226.25\" y=\"-23.7\" font-family=\"Times,serif\" font-size=\"14.00\">Parquet SCAN [data/taxi/yellow_tripdata_2022-01.parquet, ... 11 other sources]</text>\n",
       "<text xml:space=\"preserve\" text-anchor=\"middle\" x=\"226.25\" y=\"-7.2\" font-family=\"Times,serif\" font-size=\"14.00\">π 1/19;</text>\n",
       "</g>\n",
       "</g>\n",
       "</svg>"
      ],
      "text/plain": [
       "<IPython.core.display.SVG object>"
      ]
     },
     "metadata": {},
     "output_type": "display_data"
    }
   ],
   "source": [
    "taxis = pl.scan_parquet(\"data/taxi/yellow_tripdata_*.parquet\")\n",
    "taxis.select(pl.col(\"trip_distance\")).show_graph()"
   ]
  },
  {
   "cell_type": "code",
   "execution_count": 3,
   "metadata": {},
   "outputs": [
    {
     "data": {
      "image/svg+xml": [
       "<svg xmlns=\"http://www.w3.org/2000/svg\" xmlns:xlink=\"http://www.w3.org/1999/xlink\" width=\"461pt\" height=\"66pt\" viewBox=\"0.00 0.00 461.00 66.00\">\n",
       "<g id=\"graph0\" class=\"graph\" transform=\"scale(1 1) rotate(0) translate(4 61.5)\">\n",
       "<title>polars_query</title>\n",
       "<polygon fill=\"white\" stroke=\"none\" points=\"-4,4 -4,-61.5 456.5,-61.5 456.5,4 -4,4\"/>\n",
       "<!-- p1 -->\n",
       "<g id=\"node1\" class=\"node\">\n",
       "<title>p1</title>\n",
       "<polygon fill=\"none\" stroke=\"black\" points=\"452.5,-57.5 0,-57.5 0,0 452.5,0 452.5,-57.5\"/>\n",
       "<text xml:space=\"preserve\" text-anchor=\"middle\" x=\"226.25\" y=\"-40.2\" font-family=\"Times,serif\" font-size=\"14.00\">Parquet SCAN [data/taxi/yellow_tripdata_2022-01.parquet, ... 11 other sources]</text>\n",
       "<text xml:space=\"preserve\" text-anchor=\"middle\" x=\"226.25\" y=\"-23.7\" font-family=\"Times,serif\" font-size=\"14.00\">π */19;</text>\n",
       "<text xml:space=\"preserve\" text-anchor=\"middle\" x=\"226.25\" y=\"-7.2\" font-family=\"Times,serif\" font-size=\"14.00\">σ [(col(&quot;trip_distance&quot;)) &gt; (10.0)]</text>\n",
       "</g>\n",
       "</g>\n",
       "</svg>"
      ],
      "text/plain": [
       "<IPython.core.display.SVG object>"
      ]
     },
     "metadata": {},
     "output_type": "display_data"
    }
   ],
   "source": [
    "taxis.filter(pl.col(\"trip_distance\") > 10).show_graph()"
   ]
  },
  {
   "cell_type": "code",
   "execution_count": 4,
   "metadata": {},
   "outputs": [
    {
     "data": {
      "text/html": [
       "<div><style>\n",
       ".dataframe > thead > tr,\n",
       ".dataframe > tbody > tr {\n",
       "  text-align: right;\n",
       "  white-space: pre-wrap;\n",
       "}\n",
       "</style>\n",
       "<small>shape: (2, 19)</small><table border=\"1\" class=\"dataframe\"><thead><tr><th>VendorID</th><th>tpep_pickup_datetime</th><th>tpep_dropoff_datetime</th><th>passenger_count</th><th>trip_distance</th><th>RatecodeID</th><th>store_and_fwd_flag</th><th>PULocationID</th><th>DOLocationID</th><th>payment_type</th><th>fare_amount</th><th>extra</th><th>mta_tax</th><th>tip_amount</th><th>tolls_amount</th><th>improvement_surcharge</th><th>total_amount</th><th>congestion_surcharge</th><th>airport_fee</th></tr><tr><td>i64</td><td>datetime[ns]</td><td>datetime[ns]</td><td>f64</td><td>f64</td><td>f64</td><td>str</td><td>i64</td><td>i64</td><td>i64</td><td>f64</td><td>f64</td><td>f64</td><td>f64</td><td>f64</td><td>f64</td><td>f64</td><td>f64</td><td>f64</td></tr></thead><tbody><tr><td>1</td><td>2022-01-01 00:35:40</td><td>2022-01-01 00:53:29</td><td>2.0</td><td>3.8</td><td>1.0</td><td>&quot;N&quot;</td><td>142</td><td>236</td><td>1</td><td>14.5</td><td>3.0</td><td>0.5</td><td>3.65</td><td>0.0</td><td>0.3</td><td>21.95</td><td>2.5</td><td>0.0</td></tr><tr><td>1</td><td>2022-01-01 00:33:43</td><td>2022-01-01 00:42:07</td><td>1.0</td><td>2.1</td><td>1.0</td><td>&quot;N&quot;</td><td>236</td><td>42</td><td>1</td><td>8.0</td><td>0.5</td><td>0.5</td><td>4.0</td><td>0.0</td><td>0.3</td><td>13.3</td><td>0.0</td><td>0.0</td></tr></tbody></table></div>"
      ],
      "text/plain": [
       "shape: (2, 19)\n",
       "┌──────────┬───────────┬───────────┬───────────┬───┬───────────┬───────────┬───────────┬───────────┐\n",
       "│ VendorID ┆ tpep_pick ┆ tpep_drop ┆ passenger ┆ … ┆ improveme ┆ total_amo ┆ congestio ┆ airport_f │\n",
       "│ ---      ┆ up_dateti ┆ off_datet ┆ _count    ┆   ┆ nt_surcha ┆ unt       ┆ n_surchar ┆ ee        │\n",
       "│ i64      ┆ me        ┆ ime       ┆ ---       ┆   ┆ rge       ┆ ---       ┆ ge        ┆ ---       │\n",
       "│          ┆ ---       ┆ ---       ┆ f64       ┆   ┆ ---       ┆ f64       ┆ ---       ┆ f64       │\n",
       "│          ┆ datetime[ ┆ datetime[ ┆           ┆   ┆ f64       ┆           ┆ f64       ┆           │\n",
       "│          ┆ ns]       ┆ ns]       ┆           ┆   ┆           ┆           ┆           ┆           │\n",
       "╞══════════╪═══════════╪═══════════╪═══════════╪═══╪═══════════╪═══════════╪═══════════╪═══════════╡\n",
       "│ 1        ┆ 2022-01-0 ┆ 2022-01-0 ┆ 2.0       ┆ … ┆ 0.3       ┆ 21.95     ┆ 2.5       ┆ 0.0       │\n",
       "│          ┆ 1         ┆ 1         ┆           ┆   ┆           ┆           ┆           ┆           │\n",
       "│          ┆ 00:35:40  ┆ 00:53:29  ┆           ┆   ┆           ┆           ┆           ┆           │\n",
       "│ 1        ┆ 2022-01-0 ┆ 2022-01-0 ┆ 1.0       ┆ … ┆ 0.3       ┆ 13.3      ┆ 0.0       ┆ 0.0       │\n",
       "│          ┆ 1         ┆ 1         ┆           ┆   ┆           ┆           ┆           ┆           │\n",
       "│          ┆ 00:33:43  ┆ 00:42:07  ┆           ┆   ┆           ┆           ┆           ┆           │\n",
       "└──────────┴───────────┴───────────┴───────────┴───┴───────────┴───────────┴───────────┴───────────┘"
      ]
     },
     "execution_count": 4,
     "metadata": {},
     "output_type": "execute_result"
    }
   ],
   "source": [
    "taxis.head(2).collect()"
   ]
  },
  {
   "cell_type": "markdown",
   "metadata": {},
   "source": [
    "### Other Optimizations"
   ]
  },
  {
   "cell_type": "code",
   "execution_count": 5,
   "metadata": {},
   "outputs": [
    {
     "data": {
      "image/svg+xml": [
       "<svg xmlns=\"http://www.w3.org/2000/svg\" xmlns:xlink=\"http://www.w3.org/1999/xlink\" width=\"526pt\" height=\"265pt\" viewBox=\"0.00 0.00 526.00 265.00\">\n",
       "<g id=\"graph0\" class=\"graph\" transform=\"scale(1 1) rotate(0) translate(4 261)\">\n",
       "<title>polars_query</title>\n",
       "<polygon fill=\"white\" stroke=\"none\" points=\"-4,4 -4,-261 522,-261 522,4 -4,4\"/>\n",
       "<!-- p1 -->\n",
       "<g id=\"node1\" class=\"node\">\n",
       "<title>p1</title>\n",
       "<polygon fill=\"none\" stroke=\"black\" points=\"288.75,-257 229.25,-257 229.25,-221 288.75,-221 288.75,-257\"/>\n",
       "<text xml:space=\"preserve\" text-anchor=\"middle\" x=\"259\" y=\"-233.95\" font-family=\"Times,serif\" font-size=\"14.00\">UNION</text>\n",
       "</g>\n",
       "<!-- p2 -->\n",
       "<g id=\"node2\" class=\"node\">\n",
       "<title>p2</title>\n",
       "<polygon fill=\"none\" stroke=\"black\" points=\"250,-185 196,-185 196,-149 250,-149 250,-185\"/>\n",
       "<text xml:space=\"preserve\" text-anchor=\"middle\" x=\"223\" y=\"-161.95\" font-family=\"Times,serif\" font-size=\"14.00\">π 1/1</text>\n",
       "</g>\n",
       "<!-- p1&#45;&#45;p2 -->\n",
       "<g id=\"edge1\" class=\"edge\">\n",
       "<title>p1--p2</title>\n",
       "<path fill=\"none\" stroke=\"black\" d=\"M250.1,-220.7C244.52,-209.85 237.36,-195.92 231.8,-185.1\"/>\n",
       "</g>\n",
       "<!-- p5 -->\n",
       "<g id=\"node5\" class=\"node\">\n",
       "<title>p5</title>\n",
       "<polygon fill=\"none\" stroke=\"black\" points=\"371,-185 317,-185 317,-149 371,-149 371,-185\"/>\n",
       "<text xml:space=\"preserve\" text-anchor=\"middle\" x=\"344\" y=\"-161.95\" font-family=\"Times,serif\" font-size=\"14.00\">π 1/1</text>\n",
       "</g>\n",
       "<!-- p1&#45;&#45;p5 -->\n",
       "<g id=\"edge4\" class=\"edge\">\n",
       "<title>p1--p5</title>\n",
       "<path fill=\"none\" stroke=\"black\" d=\"M280.01,-220.7C293.09,-209.93 309.85,-196.12 322.94,-185.35\"/>\n",
       "</g>\n",
       "<!-- p3 -->\n",
       "<g id=\"node3\" class=\"node\">\n",
       "<title>p3</title>\n",
       "<polygon fill=\"none\" stroke=\"black\" points=\"250,-113 0,-113 0,-77 250,-77 250,-113\"/>\n",
       "<text xml:space=\"preserve\" text-anchor=\"middle\" x=\"125\" y=\"-89.95\" font-family=\"Times,serif\" font-size=\"14.00\">WITH COLUMNS [[(col(&quot;value&quot;)) * (2)]]</text>\n",
       "</g>\n",
       "<!-- p2&#45;&#45;p3 -->\n",
       "<g id=\"edge2\" class=\"edge\">\n",
       "<title>p2--p3</title>\n",
       "<path fill=\"none\" stroke=\"black\" d=\"M198.52,-148.52C183.44,-137.74 164.19,-123.99 149.16,-113.26\"/>\n",
       "</g>\n",
       "<!-- p4 -->\n",
       "<g id=\"node4\" class=\"node\">\n",
       "<title>p4</title>\n",
       "<polygon fill=\"none\" stroke=\"black\" points=\"154.75,-41 95.25,-41 95.25,0 154.75,0 154.75,-41\"/>\n",
       "<text xml:space=\"preserve\" text-anchor=\"middle\" x=\"125\" y=\"-23.7\" font-family=\"Times,serif\" font-size=\"14.00\">TABLE</text>\n",
       "<text xml:space=\"preserve\" text-anchor=\"middle\" x=\"125\" y=\"-7.2\" font-family=\"Times,serif\" font-size=\"14.00\">π */1</text>\n",
       "</g>\n",
       "<!-- p3&#45;&#45;p4 -->\n",
       "<g id=\"edge3\" class=\"edge\">\n",
       "<title>p3--p4</title>\n",
       "<path fill=\"none\" stroke=\"black\" d=\"M125,-76.82C125,-66.18 125,-52.49 125,-41.38\"/>\n",
       "</g>\n",
       "<!-- p6 -->\n",
       "<g id=\"node6\" class=\"node\">\n",
       "<title>p6</title>\n",
       "<polygon fill=\"none\" stroke=\"black\" points=\"518,-113 268,-113 268,-77 518,-77 518,-113\"/>\n",
       "<text xml:space=\"preserve\" text-anchor=\"middle\" x=\"393\" y=\"-89.95\" font-family=\"Times,serif\" font-size=\"14.00\">WITH COLUMNS [[(col(&quot;value&quot;)) * (2)]]</text>\n",
       "</g>\n",
       "<!-- p5&#45;&#45;p6 -->\n",
       "<g id=\"edge5\" class=\"edge\">\n",
       "<title>p5--p6</title>\n",
       "<path fill=\"none\" stroke=\"black\" d=\"M356.11,-148.7C363.71,-137.85 373.46,-123.92 381.03,-113.1\"/>\n",
       "</g>\n",
       "<!-- p7 -->\n",
       "<g id=\"node7\" class=\"node\">\n",
       "<title>p7</title>\n",
       "<polygon fill=\"none\" stroke=\"black\" points=\"422.75,-41 363.25,-41 363.25,0 422.75,0 422.75,-41\"/>\n",
       "<text xml:space=\"preserve\" text-anchor=\"middle\" x=\"393\" y=\"-23.7\" font-family=\"Times,serif\" font-size=\"14.00\">TABLE</text>\n",
       "<text xml:space=\"preserve\" text-anchor=\"middle\" x=\"393\" y=\"-7.2\" font-family=\"Times,serif\" font-size=\"14.00\">π */1</text>\n",
       "</g>\n",
       "<!-- p6&#45;&#45;p7 -->\n",
       "<g id=\"edge6\" class=\"edge\">\n",
       "<title>p6--p7</title>\n",
       "<path fill=\"none\" stroke=\"black\" d=\"M393,-76.82C393,-66.18 393,-52.49 393,-41.38\"/>\n",
       "</g>\n",
       "</g>\n",
       "</svg>"
      ],
      "text/plain": [
       "<IPython.core.display.SVG object>"
      ]
     },
     "metadata": {},
     "output_type": "display_data"
    }
   ],
   "source": [
    "values = pl.LazyFrame({\"value\": [10, 20, 30, 40, 50, 60]})\n",
    "\n",
    "common_subplan = values.with_columns(pl.col(\"value\") * 2)\n",
    "\n",
    "branch1 = common_subplan.select(value2=pl.col(\"value\") * 4)\n",
    "branch2 = common_subplan.select(value3=pl.col(\"value\") * 2)\n",
    "\n",
    "combined = pl.concat([branch1, branch2])\n",
    "\n",
    "combined.show_graph(optimized=False)"
   ]
  },
  {
   "cell_type": "code",
   "execution_count": 6,
   "metadata": {},
   "outputs": [
    {
     "data": {
      "image/svg+xml": [
       "<svg xmlns=\"http://www.w3.org/2000/svg\" xmlns:xlink=\"http://www.w3.org/1999/xlink\" width=\"526pt\" height=\"414pt\" viewBox=\"0.00 0.00 526.00 414.00\">\n",
       "<g id=\"graph0\" class=\"graph\" transform=\"scale(1 1) rotate(0) translate(4 410)\">\n",
       "<title>polars_query</title>\n",
       "<polygon fill=\"white\" stroke=\"none\" points=\"-4,4 -4,-410 522,-410 522,4 -4,4\"/>\n",
       "<!-- p1 -->\n",
       "<g id=\"node1\" class=\"node\">\n",
       "<title>p1</title>\n",
       "<polygon fill=\"none\" stroke=\"black\" points=\"288.75,-406 229.25,-406 229.25,-370 288.75,-370 288.75,-406\"/>\n",
       "<text xml:space=\"preserve\" text-anchor=\"middle\" x=\"259\" y=\"-382.95\" font-family=\"Times,serif\" font-size=\"14.00\">UNION</text>\n",
       "</g>\n",
       "<!-- p2 -->\n",
       "<g id=\"node2\" class=\"node\">\n",
       "<title>p2</title>\n",
       "<polygon fill=\"none\" stroke=\"black\" points=\"250,-334 196,-334 196,-298 250,-298 250,-334\"/>\n",
       "<text xml:space=\"preserve\" text-anchor=\"middle\" x=\"223\" y=\"-310.95\" font-family=\"Times,serif\" font-size=\"14.00\">π 1/1</text>\n",
       "</g>\n",
       "<!-- p1&#45;&#45;p2 -->\n",
       "<g id=\"edge1\" class=\"edge\">\n",
       "<title>p1--p2</title>\n",
       "<path fill=\"none\" stroke=\"black\" d=\"M250.1,-369.7C244.52,-358.85 237.36,-344.92 231.8,-334.1\"/>\n",
       "</g>\n",
       "<!-- p6 -->\n",
       "<g id=\"node7\" class=\"node\">\n",
       "<title>p6</title>\n",
       "<polygon fill=\"none\" stroke=\"black\" points=\"322,-334 268,-334 268,-298 322,-298 322,-334\"/>\n",
       "<text xml:space=\"preserve\" text-anchor=\"middle\" x=\"295\" y=\"-310.95\" font-family=\"Times,serif\" font-size=\"14.00\">π 1/1</text>\n",
       "</g>\n",
       "<!-- p1&#45;&#45;p6 -->\n",
       "<g id=\"edge6\" class=\"edge\">\n",
       "<title>p1--p6</title>\n",
       "<path fill=\"none\" stroke=\"black\" d=\"M267.9,-369.7C273.48,-358.85 280.64,-344.92 286.2,-334.1\"/>\n",
       "</g>\n",
       "<!-- c0 -->\n",
       "<g id=\"node3\" class=\"node\">\n",
       "<title>c0</title>\n",
       "<polygon fill=\"none\" stroke=\"black\" points=\"313.88,-262 204.12,-262 204.12,-226 313.88,-226 313.88,-262\"/>\n",
       "<text xml:space=\"preserve\" text-anchor=\"middle\" x=\"259\" y=\"-238.95\" font-family=\"Times,serif\" font-size=\"14.00\">CACHE: 1 times</text>\n",
       "</g>\n",
       "<!-- p2&#45;&#45;c0 -->\n",
       "<g id=\"edge2\" class=\"edge\">\n",
       "<title>p2--c0</title>\n",
       "<path fill=\"none\" stroke=\"black\" d=\"M231.9,-297.7C237.48,-286.85 244.64,-272.92 250.2,-262.1\"/>\n",
       "</g>\n",
       "<!-- p3 -->\n",
       "<g id=\"node4\" class=\"node\">\n",
       "<title>p3</title>\n",
       "<polygon fill=\"none\" stroke=\"black\" points=\"250.12,-190 165.88,-190 165.88,-149 250.12,-149 250.12,-190\"/>\n",
       "<text xml:space=\"preserve\" text-anchor=\"middle\" x=\"208\" y=\"-172.7\" font-family=\"Times,serif\" font-size=\"14.00\">simple π 1/1</text>\n",
       "<text xml:space=\"preserve\" text-anchor=\"middle\" x=\"208\" y=\"-156.2\" font-family=\"Times,serif\" font-size=\"14.00\">[&quot;value&quot;]</text>\n",
       "</g>\n",
       "<!-- c0&#45;&#45;p3 -->\n",
       "<g id=\"edge3\" class=\"edge\">\n",
       "<title>c0--p3</title>\n",
       "<path fill=\"none\" stroke=\"black\" d=\"M246.91,-225.82C239.43,-215.18 229.8,-201.49 221.99,-190.38\"/>\n",
       "</g>\n",
       "<!-- p7 -->\n",
       "<g id=\"node8\" class=\"node\">\n",
       "<title>p7</title>\n",
       "<polygon fill=\"none\" stroke=\"black\" points=\"393.12,-190 308.88,-190 308.88,-149 393.12,-149 393.12,-190\"/>\n",
       "<text xml:space=\"preserve\" text-anchor=\"middle\" x=\"351\" y=\"-172.7\" font-family=\"Times,serif\" font-size=\"14.00\">simple π 1/1</text>\n",
       "<text xml:space=\"preserve\" text-anchor=\"middle\" x=\"351\" y=\"-156.2\" font-family=\"Times,serif\" font-size=\"14.00\">[&quot;value&quot;]</text>\n",
       "</g>\n",
       "<!-- c0&#45;&#45;p7 -->\n",
       "<g id=\"edge8\" class=\"edge\">\n",
       "<title>c0--p7</title>\n",
       "<path fill=\"none\" stroke=\"black\" d=\"M280.8,-225.82C294.3,-215.18 311.68,-201.49 325.77,-190.38\"/>\n",
       "</g>\n",
       "<!-- p4 -->\n",
       "<g id=\"node5\" class=\"node\">\n",
       "<title>p4</title>\n",
       "<polygon fill=\"none\" stroke=\"black\" points=\"250,-113 0,-113 0,-77 250,-77 250,-113\"/>\n",
       "<text xml:space=\"preserve\" text-anchor=\"middle\" x=\"125\" y=\"-89.95\" font-family=\"Times,serif\" font-size=\"14.00\">WITH COLUMNS [[(col(&quot;value&quot;)) * (2)]]</text>\n",
       "</g>\n",
       "<!-- p3&#45;&#45;p4 -->\n",
       "<g id=\"edge4\" class=\"edge\">\n",
       "<title>p3--p4</title>\n",
       "<path fill=\"none\" stroke=\"black\" d=\"M185.32,-148.69C172.65,-137.62 157.01,-123.96 144.83,-113.32\"/>\n",
       "</g>\n",
       "<!-- p5 -->\n",
       "<g id=\"node6\" class=\"node\">\n",
       "<title>p5</title>\n",
       "<polygon fill=\"none\" stroke=\"black\" points=\"154.75,-41 95.25,-41 95.25,0 154.75,0 154.75,-41\"/>\n",
       "<text xml:space=\"preserve\" text-anchor=\"middle\" x=\"125\" y=\"-23.7\" font-family=\"Times,serif\" font-size=\"14.00\">TABLE</text>\n",
       "<text xml:space=\"preserve\" text-anchor=\"middle\" x=\"125\" y=\"-7.2\" font-family=\"Times,serif\" font-size=\"14.00\">π 1/1</text>\n",
       "</g>\n",
       "<!-- p4&#45;&#45;p5 -->\n",
       "<g id=\"edge5\" class=\"edge\">\n",
       "<title>p4--p5</title>\n",
       "<path fill=\"none\" stroke=\"black\" d=\"M125,-76.82C125,-66.18 125,-52.49 125,-41.38\"/>\n",
       "</g>\n",
       "<!-- p6&#45;&#45;c0 -->\n",
       "<g id=\"edge7\" class=\"edge\">\n",
       "<title>p6--c0</title>\n",
       "<path fill=\"none\" stroke=\"black\" d=\"M286.1,-297.7C280.52,-286.85 273.36,-272.92 267.8,-262.1\"/>\n",
       "</g>\n",
       "<!-- p8 -->\n",
       "<g id=\"node9\" class=\"node\">\n",
       "<title>p8</title>\n",
       "<polygon fill=\"none\" stroke=\"black\" points=\"518,-113 268,-113 268,-77 518,-77 518,-113\"/>\n",
       "<text xml:space=\"preserve\" text-anchor=\"middle\" x=\"393\" y=\"-89.95\" font-family=\"Times,serif\" font-size=\"14.00\">WITH COLUMNS [[(col(&quot;value&quot;)) * (2)]]</text>\n",
       "</g>\n",
       "<!-- p7&#45;&#45;p8 -->\n",
       "<g id=\"edge9\" class=\"edge\">\n",
       "<title>p7--p8</title>\n",
       "<path fill=\"none\" stroke=\"black\" d=\"M362.48,-148.69C368.89,-137.62 376.8,-123.96 382.97,-113.32\"/>\n",
       "</g>\n",
       "<!-- p9 -->\n",
       "<g id=\"node10\" class=\"node\">\n",
       "<title>p9</title>\n",
       "<polygon fill=\"none\" stroke=\"black\" points=\"422.75,-41 363.25,-41 363.25,0 422.75,0 422.75,-41\"/>\n",
       "<text xml:space=\"preserve\" text-anchor=\"middle\" x=\"393\" y=\"-23.7\" font-family=\"Times,serif\" font-size=\"14.00\">TABLE</text>\n",
       "<text xml:space=\"preserve\" text-anchor=\"middle\" x=\"393\" y=\"-7.2\" font-family=\"Times,serif\" font-size=\"14.00\">π 1/1</text>\n",
       "</g>\n",
       "<!-- p8&#45;&#45;p9 -->\n",
       "<g id=\"edge10\" class=\"edge\">\n",
       "<title>p8--p9</title>\n",
       "<path fill=\"none\" stroke=\"black\" d=\"M393,-76.82C393,-66.18 393,-52.49 393,-41.38\"/>\n",
       "</g>\n",
       "</g>\n",
       "</svg>"
      ],
      "text/plain": [
       "<IPython.core.display.SVG object>"
      ]
     },
     "metadata": {},
     "output_type": "display_data"
    }
   ],
   "source": [
    "combined.show_graph()"
   ]
  },
  {
   "cell_type": "code",
   "execution_count": 7,
   "metadata": {},
   "outputs": [],
   "source": [
    "bmi = pl.LazyFrame(\n",
    "    {\"weight_kg\": [70, 80, 60, 90], \"length_cm\": [175, 180, 160, 190]}\n",
    ")"
   ]
  },
  {
   "cell_type": "code",
   "execution_count": 8,
   "metadata": {},
   "outputs": [],
   "source": [
    "bmi = (\n",
    "    bmi.with_columns(weight_per_cm=pl.col(\"weight_kg\") / pl.col(\"length_cm\"))\n",
    "    .with_columns(weight_kg_average=pl.lit(0))\n",
    "    .with_columns(length_m=pl.col(\"length_cm\") / 100)\n",
    "    .with_columns(weight_kg_average=pl.col(\"weight_kg\").mean())\n",
    ")"
   ]
  },
  {
   "cell_type": "code",
   "execution_count": 9,
   "metadata": {},
   "outputs": [],
   "source": [
    "bmi = bmi.with_columns(\n",
    "    weight_per_cm=pl.col(\"weight_kg\") / pl.col(\"length_cm\"),\n",
    "    weight_kg_average=pl.col(\"weight_kg\").mean(),\n",
    "    length_m=pl.col(\"length_cm\") / 100,\n",
    ")"
   ]
  },
  {
   "cell_type": "markdown",
   "metadata": {},
   "source": [
    "## Checking Your Expressions"
   ]
  },
  {
   "cell_type": "markdown",
   "metadata": {},
   "source": [
    "### meta Namespace Overview"
   ]
  },
  {
   "cell_type": "markdown",
   "metadata": {},
   "source": [
    "### meta Namespace Examples"
   ]
  },
  {
   "cell_type": "code",
   "execution_count": 10,
   "metadata": {},
   "outputs": [
    {
     "name": "stdout",
     "output_type": "stream",
     "text": [
      "Is col(\"name\") a column: True\n",
      "Is String(constant) a column: False\n"
     ]
    }
   ],
   "source": [
    "expr1 = pl.col(\"name\")\n",
    "expr2 = pl.lit(\"constant\")\n",
    "\n",
    "print(f\"Is {expr1} a column: {expr1.meta.is_column()}\")\n",
    "print(f\"Is {expr2} a column: {expr2.meta.is_column()}\")"
   ]
  },
  {
   "cell_type": "code",
   "execution_count": 11,
   "metadata": {},
   "outputs": [
    {
     "name": "stdout",
     "output_type": "stream",
     "text": [
      "Is col(\"name\") a literal: False\n",
      "Is String(constant) a literal: True\n"
     ]
    }
   ],
   "source": [
    "print(f\"Is {expr1} a literal: {expr1.meta.is_literal()}\")\n",
    "print(f\"Is {expr2} a literal: {expr2.meta.is_literal()}\")"
   ]
  },
  {
   "cell_type": "code",
   "execution_count": 12,
   "metadata": {},
   "outputs": [
    {
     "name": "stdout",
     "output_type": "stream",
     "text": [
      "[(col(\"age\")) * (dyn int: 2)] output name: age\n",
      "col(\"name\").alias(\"username\") output name: username\n"
     ]
    }
   ],
   "source": [
    "expr1 = pl.col(\"age\") * 2\n",
    "expr2 = pl.col(\"name\").alias(\"username\")\n",
    "\n",
    "# Get output names\n",
    "print(f\"{expr1} output name: {expr1.meta.output_name()}\")\n",
    "print(f\"{expr2} output name: {expr2.meta.output_name()}\")"
   ]
  },
  {
   "cell_type": "code",
   "execution_count": 13,
   "metadata": {},
   "outputs": [
    {
     "data": {
      "image/svg+xml": [
       "<svg xmlns=\"http://www.w3.org/2000/svg\" xmlns:xlink=\"http://www.w3.org/1999/xlink\" width=\"176pt\" height=\"188pt\" viewBox=\"0.00 0.00 176.00 188.00\">\n",
       "<g id=\"graph0\" class=\"graph\" transform=\"scale(1 1) rotate(0) translate(4 184)\">\n",
       "<polygon fill=\"white\" stroke=\"none\" points=\"-4,4 -4,-184 171.5,-184 171.5,4 -4,4\"/>\n",
       "<!-- n00 -->\n",
       "<g id=\"node1\" class=\"node\">\n",
       "<title>n00</title>\n",
       "<polygon fill=\"none\" stroke=\"black\" points=\"132.12,-180 20.12,-180 20.12,-144 132.12,-144 132.12,-180\"/>\n",
       "<text xml:space=\"preserve\" text-anchor=\"middle\" x=\"76.12\" y=\"-156.95\" font-family=\"Times,serif\" font-size=\"14.00\">alias(double_age)</text>\n",
       "</g>\n",
       "<!-- n10 -->\n",
       "<g id=\"node2\" class=\"node\">\n",
       "<title>n10</title>\n",
       "<polygon fill=\"none\" stroke=\"black\" points=\"108.5,-108 43.75,-108 43.75,-72 108.5,-72 108.5,-108\"/>\n",
       "<text xml:space=\"preserve\" text-anchor=\"middle\" x=\"76.12\" y=\"-84.95\" font-family=\"Times,serif\" font-size=\"14.00\">binary: *</text>\n",
       "</g>\n",
       "<!-- n00&#45;&#45;n10 -->\n",
       "<g id=\"edge1\" class=\"edge\">\n",
       "<title>n00--n10</title>\n",
       "<path fill=\"none\" stroke=\"black\" d=\"M76.12,-143.7C76.12,-132.85 76.12,-118.92 76.12,-108.1\"/>\n",
       "</g>\n",
       "<!-- n21 -->\n",
       "<g id=\"node3\" class=\"node\">\n",
       "<title>n21</title>\n",
       "<polygon fill=\"none\" stroke=\"black\" points=\"60.25,-36 0,-36 0,0 60.25,0 60.25,-36\"/>\n",
       "<text xml:space=\"preserve\" text-anchor=\"middle\" x=\"30.12\" y=\"-12.95\" font-family=\"Times,serif\" font-size=\"14.00\">col(age)</text>\n",
       "</g>\n",
       "<!-- n10&#45;&#45;n21 -->\n",
       "<g id=\"edge2\" class=\"edge\">\n",
       "<title>n10--n21</title>\n",
       "<path fill=\"none\" stroke=\"black\" d=\"M64.75,-71.7C57.62,-60.85 48.47,-46.92 41.36,-36.1\"/>\n",
       "</g>\n",
       "<!-- n20 -->\n",
       "<g id=\"node4\" class=\"node\">\n",
       "<title>n20</title>\n",
       "<polygon fill=\"none\" stroke=\"black\" points=\"167.5,-36 78.75,-36 78.75,0 167.5,0 167.5,-36\"/>\n",
       "<text xml:space=\"preserve\" text-anchor=\"middle\" x=\"123.12\" y=\"-12.95\" font-family=\"Times,serif\" font-size=\"14.00\">lit(dyn int: 2)</text>\n",
       "</g>\n",
       "<!-- n10&#45;&#45;n20 -->\n",
       "<g id=\"edge3\" class=\"edge\">\n",
       "<title>n10--n20</title>\n",
       "<path fill=\"none\" stroke=\"black\" d=\"M87.74,-71.7C95.03,-60.85 104.38,-46.92 111.64,-36.1\"/>\n",
       "</g>\n",
       "</g>\n",
       "</svg>"
      ],
      "text/plain": [
       "<IPython.core.display.SVG object>"
      ]
     },
     "metadata": {},
     "output_type": "display_data"
    }
   ],
   "source": [
    "expr = (pl.col(\"age\") * 2).alias(\"double_age\")\n",
    "\n",
    "expr.meta.show_graph()"
   ]
  },
  {
   "cell_type": "code",
   "execution_count": 14,
   "metadata": {},
   "outputs": [
    {
     "data": {
      "text/plain": [
       "'original_name'"
      ]
     },
     "execution_count": 14,
     "metadata": {},
     "output_type": "execute_result"
    }
   ],
   "source": [
    "expr = pl.col(\"original_name\").alias(\"new_name\")\n",
    "\n",
    "original_expr = expr.meta.undo_aliases()\n",
    "\n",
    "original_expr.meta.output_name()"
   ]
  },
  {
   "cell_type": "code",
   "execution_count": 15,
   "metadata": {},
   "outputs": [
    {
     "data": {
      "text/plain": [
       "['origin']"
      ]
     },
     "execution_count": 15,
     "metadata": {},
     "output_type": "execute_result"
    }
   ],
   "source": [
    "expr = pl.col(\"origin\").alias(\"destination\")\n",
    "\n",
    "expr.meta.root_names()"
   ]
  },
  {
   "cell_type": "markdown",
   "metadata": {},
   "source": [
    "## Profiling Polars"
   ]
  },
  {
   "cell_type": "code",
   "execution_count": 16,
   "metadata": {},
   "outputs": [
    {
     "data": {
      "image/svg+xml": [
       "<svg xmlns=\"http://www.w3.org/2000/svg\" xmlns:xlink=\"http://www.w3.org/1999/xlink\" width=\"608pt\" height=\"308pt\" viewBox=\"0.00 0.00 608.00 308.00\">\n",
       "<g id=\"graph0\" class=\"graph\" transform=\"scale(1 1) rotate(0) translate(4 304)\">\n",
       "<title>polars_query</title>\n",
       "<polygon fill=\"white\" stroke=\"none\" points=\"-4,4 -4,-304 604.25,-304 604.25,4 -4,4\"/>\n",
       "<!-- p1 -->\n",
       "<g id=\"node1\" class=\"node\">\n",
       "<title>p1</title>\n",
       "<polygon fill=\"none\" stroke=\"black\" points=\"398.5,-300 201.75,-300 201.75,-264 398.5,-264 398.5,-300\"/>\n",
       "<text xml:space=\"preserve\" text-anchor=\"middle\" x=\"300.12\" y=\"-276.95\" font-family=\"Times,serif\" font-size=\"14.00\">SORT BY [col(&quot;total_distance&quot;)]</text>\n",
       "</g>\n",
       "<!-- p2 -->\n",
       "<g id=\"node2\" class=\"node\">\n",
       "<title>p2</title>\n",
       "<polygon fill=\"none\" stroke=\"black\" points=\"600.25,-228 0,-228 0,-170.5 600.25,-170.5 600.25,-228\"/>\n",
       "<text xml:space=\"preserve\" text-anchor=\"middle\" x=\"300.12\" y=\"-210.7\" font-family=\"Times,serif\" font-size=\"14.00\">AGG [col(&quot;trip_distance&quot;).sum().alias(&quot;total_distance&quot;), col(&quot;total_amount&quot;).sum().alias(&quot;total_amount&quot;)]</text>\n",
       "<text xml:space=\"preserve\" text-anchor=\"middle\" x=\"300.12\" y=\"-194.2\" font-family=\"Times,serif\" font-size=\"14.00\">BY</text>\n",
       "<text xml:space=\"preserve\" text-anchor=\"middle\" x=\"300.12\" y=\"-177.7\" font-family=\"Times,serif\" font-size=\"14.00\">[col(&quot;VendorID&quot;)]</text>\n",
       "</g>\n",
       "<!-- p1&#45;&#45;p2 -->\n",
       "<g id=\"edge1\" class=\"edge\">\n",
       "<title>p1--p2</title>\n",
       "<path fill=\"none\" stroke=\"black\" d=\"M300.12,-263.88C300.12,-253.6 300.12,-240.27 300.12,-228.47\"/>\n",
       "</g>\n",
       "<!-- p3 -->\n",
       "<g id=\"node3\" class=\"node\">\n",
       "<title>p3</title>\n",
       "<polygon fill=\"none\" stroke=\"black\" points=\"442.75,-134.5 157.5,-134.5 157.5,-93.5 442.75,-93.5 442.75,-134.5\"/>\n",
       "<text xml:space=\"preserve\" text-anchor=\"middle\" x=\"300.12\" y=\"-117.2\" font-family=\"Times,serif\" font-size=\"14.00\">simple π 3/3</text>\n",
       "<text xml:space=\"preserve\" text-anchor=\"middle\" x=\"300.12\" y=\"-100.7\" font-family=\"Times,serif\" font-size=\"14.00\">[&quot;VendorID&quot;, &quot;trip_distance&quot;, ... 1 other column]</text>\n",
       "</g>\n",
       "<!-- p2&#45;&#45;p3 -->\n",
       "<g id=\"edge2\" class=\"edge\">\n",
       "<title>p2--p3</title>\n",
       "<path fill=\"none\" stroke=\"black\" d=\"M300.12,-170.07C300.12,-158.46 300.12,-145.3 300.12,-134.75\"/>\n",
       "</g>\n",
       "<!-- p4 -->\n",
       "<g id=\"node4\" class=\"node\">\n",
       "<title>p4</title>\n",
       "<polygon fill=\"none\" stroke=\"black\" points=\"526.38,-57.5 73.88,-57.5 73.88,0 526.38,0 526.38,-57.5\"/>\n",
       "<text xml:space=\"preserve\" text-anchor=\"middle\" x=\"300.12\" y=\"-40.2\" font-family=\"Times,serif\" font-size=\"14.00\">Parquet SCAN [data/taxi/yellow_tripdata_2022-01.parquet, ... 11 other sources]</text>\n",
       "<text xml:space=\"preserve\" text-anchor=\"middle\" x=\"300.12\" y=\"-23.7\" font-family=\"Times,serif\" font-size=\"14.00\">π 3/19;</text>\n",
       "<text xml:space=\"preserve\" text-anchor=\"middle\" x=\"300.12\" y=\"-7.2\" font-family=\"Times,serif\" font-size=\"14.00\">σ [(col(&quot;trip_distance&quot;)) &gt; (10.0)]</text>\n",
       "</g>\n",
       "<!-- p3&#45;&#45;p4 -->\n",
       "<g id=\"edge3\" class=\"edge\">\n",
       "<title>p3--p4</title>\n",
       "<path fill=\"none\" stroke=\"black\" d=\"M300.12,-93.27C300.12,-82.69 300.12,-69.48 300.12,-57.84\"/>\n",
       "</g>\n",
       "</g>\n",
       "</svg>"
      ],
      "text/plain": [
       "<IPython.core.display.SVG object>"
      ]
     },
     "metadata": {},
     "output_type": "display_data"
    }
   ],
   "source": [
    "long_distance_taxis_per_vendor_sorted = (\n",
    "    pl.scan_parquet(\"data/taxi/yellow_tripdata_*.parquet\")\n",
    "    .filter(pl.col(\"trip_distance\") > 10)\n",
    "    .select(pl.col(\"VendorID\"), pl.col(\"trip_distance\"), pl.col(\"total_amount\"))\n",
    "    .group_by(\"VendorID\")\n",
    "    .agg(\n",
    "        total_distance=pl.col(\"trip_distance\").sum(),\n",
    "        total_amount=pl.col(\"total_amount\").sum(),\n",
    "    )\n",
    "    .sort(\"total_distance\", descending=True)\n",
    ")\n",
    "\n",
    "long_distance_taxis_per_vendor_sorted.show_graph()"
   ]
  },
  {
   "cell_type": "code",
   "execution_count": 17,
   "metadata": {},
   "outputs": [],
   "source": [
    "result, profiling_info = long_distance_taxis_per_vendor_sorted.profile()"
   ]
  },
  {
   "cell_type": "code",
   "execution_count": null,
   "metadata": {},
   "outputs": [],
   "source": [
    "result"
   ]
  },
  {
   "cell_type": "code",
   "execution_count": null,
   "metadata": {},
   "outputs": [],
   "source": [
    "profiling_info"
   ]
  },
  {
   "cell_type": "code",
   "execution_count": 18,
   "metadata": {},
   "outputs": [
    {
     "data": {
      "image/png": "[encoded data removed]",
      "text/plain": [
       "<Figure size 1500x500 with 1 Axes>"
      ]
     },
     "metadata": {},
     "output_type": "display_data"
    },
    {
     "data": {
      "text/plain": [
       "(shape: (4, 3)\n",
       " ┌──────────┬────────────────┬──────────────┐\n",
       " │ VendorID ┆ total_distance ┆ total_amount │\n",
       " │ ---      ┆ ---            ┆ ---          │\n",
       " │ i64      ┆ f64            ┆ f64          │\n",
       " ╞══════════╪════════════════╪══════════════╡\n",
       " │ 2        ┆ 1.3752e8       ┆ 1.6152e8     │\n",
       " │ 1        ┆ 1.3095e7       ┆ 5.2274e7     │\n",
       " │ 6        ┆ 347579.41      ┆ 1.3881e6     │\n",
       " │ 5        ┆ 1956.44        ┆ 8702.21      │\n",
       " └──────────┴────────────────┴──────────────┘,\n",
       " shape: (5, 3)\n",
       " ┌─────────────────────────────────┬────────┬────────┐\n",
       " │ node                            ┆ start  ┆ end    │\n",
       " │ ---                             ┆ ---    ┆ ---    │\n",
       " │ str                             ┆ u64    ┆ u64    │\n",
       " ╞═════════════════════════════════╪════════╪════════╡\n",
       " │ optimization                    ┆ 0      ┆ 10     │\n",
       " │ parquet(data/taxi/yellow_tripd… ┆ 10     ┆ 474465 │\n",
       " │ simple-projection(VendorID, tr… ┆ 474467 ┆ 474473 │\n",
       " │ group_by_partitioned(VendorID)  ┆ 474476 ┆ 529928 │\n",
       " │ sort(total_distance)            ┆ 529936 ┆ 530080 │\n",
       " └─────────────────────────────────┴────────┴────────┘)"
      ]
     },
     "execution_count": 18,
     "metadata": {},
     "output_type": "execute_result"
    }
   ],
   "source": [
    "long_distance_taxis_per_vendor_sorted.profile(show_plot=True, figsize=(15, 5))"
   ]
  },
  {
   "cell_type": "markdown",
   "metadata": {},
   "source": [
    "## Tests in Polars"
   ]
  },
  {
   "cell_type": "markdown",
   "metadata": {},
   "source": [
    "### Comparing DataFrames and Series"
   ]
  },
  {
   "cell_type": "code",
   "execution_count": 19,
   "metadata": {},
   "outputs": [],
   "source": [
    "from polars.testing import (\n",
    "    assert_series_equal,\n",
    "    assert_frame_equal,\n",
    "    assert_series_not_equal,\n",
    "    assert_frame_not_equal,\n",
    ")"
   ]
  },
  {
   "cell_type": "code",
   "execution_count": 20,
   "metadata": {},
   "outputs": [],
   "source": [
    "floats = pl.DataFrame({\"a\": [1.0, 2.0, 3.0, 4.0]})\n",
    "\n",
    "different_floats = pl.DataFrame({\"a\": [1.001, 2.0, 3.0, 4.0]})"
   ]
  },
  {
   "cell_type": "code",
   "execution_count": null,
   "metadata": {},
   "outputs": [],
   "source": [
    "# This raises an AssertionError:\n",
    "# assert_frame_equal(floats, different_floats)"
   ]
  },
  {
   "cell_type": "code",
   "execution_count": 21,
   "metadata": {},
   "outputs": [
    {
     "name": "stdout",
     "output_type": "stream",
     "text": [
      "The DataFrames are equal.\n"
     ]
    }
   ],
   "source": [
    "assert_frame_equal(floats, different_floats, rtol=0.01)\n",
    "print(\"The DataFrames are equal.\")"
   ]
  },
  {
   "cell_type": "code",
   "execution_count": 22,
   "metadata": {},
   "outputs": [
    {
     "name": "stdout",
     "output_type": "stream",
     "text": [
      "DataFrames are equal\n"
     ]
    }
   ],
   "source": [
    "result = pl.DataFrame({\"a\": [1, 3], \"b\": [2, 4]}).cast(\n",
    "    pl.Schema({\"a\": pl.Int8, \"b\": pl.Int8})\n",
    ")\n",
    "\n",
    "expected = pl.from_repr(\n",
    "    \"\"\"\n",
    "┌─────┬─────┐\n",
    "│ a   ┆ b   │\n",
    "│ --- ┆ --- │\n",
    "│ i8  ┆ i8  │\n",
    "╞═════╪═════╡\n",
    "│ 1   ┆ 2   │\n",
    "│ 3   ┆ 4   │\n",
    "└─────┴─────┘\n",
    "    \"\"\"\n",
    ")\n",
    "\n",
    "assert_frame_equal(result, expected)\n",
    "print(\"DataFrames are equal\")"
   ]
  },
  {
   "cell_type": "markdown",
   "metadata": {},
   "source": [
    "## Common Antipatterns"
   ]
  },
  {
   "cell_type": "markdown",
   "metadata": {},
   "source": [
    "### Using Brackets for Column Selection"
   ]
  },
  {
   "cell_type": "markdown",
   "metadata": {},
   "source": [
    "### Misusing Collect"
   ]
  },
  {
   "cell_type": "code",
   "execution_count": null,
   "metadata": {},
   "outputs": [],
   "source": [
    "%%time\n",
    "taxis = pl.scan_parquet(\"data/taxi/yellow_tripdata_*.parquet\")\n",
    "vendor0 = taxis.filter(pl.col(\"VendorID\") == 0).collect()\n",
    "vendor1 = taxis.filter(pl.col(\"VendorID\") == 1).collect()"
   ]
  },
  {
   "cell_type": "code",
   "execution_count": null,
   "metadata": {},
   "outputs": [],
   "source": [
    "%%time\n",
    "taxis = pl.scan_parquet(\"data/taxi/yellow_tripdata_*.parquet\")\n",
    "vendors = taxis.filter(pl.col(\"VendorID\").is_in([0, 1])).collect()\n",
    "vendor0 = vendors.filter(pl.col(\"VendorID\") == 0)\n",
    "vendor1 = vendors.filter(pl.col(\"VendorID\") == 1)"
   ]
  },
  {
   "cell_type": "markdown",
   "metadata": {},
   "source": [
    "### Using Python Code in your Polars Queries"
   ]
  }
 ],
 "metadata": {
  "kernelspec": {
   "display_name": ".venv",
   "language": "python",
   "name": "python3"
  },
  "language_info": {
   "codemirror_mode": {
    "name": "ipython",
    "version": 3
   },
   "file_extension": ".py",
   "mimetype": "text/x-python",
   "name": "python",
   "nbconvert_exporter": "python",
   "pygments_lexer": "ipython3",
   "version": "3.12.3"
  }
 },
 "nbformat": 4,
 "nbformat_minor": 5
}
