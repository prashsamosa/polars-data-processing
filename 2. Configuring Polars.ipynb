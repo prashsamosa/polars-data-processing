{
 "cells": [
  {
   "cell_type": "code",
   "execution_count": null,
   "metadata": {},
   "outputs": [
    {
     "data": {
      "text/plain": [
       "'1.20.0'"
      ]
     },
     "execution_count": 1,
     "metadata": {},
     "output_type": "execute_result"
    }
   ],
   "source": [
    "import polars as pl\n",
    "pl.__version__  "
   ]
  },
  {
   "cell_type": "code",
   "execution_count": 2,
   "metadata": {},
   "outputs": [
    {
     "name": "stdout",
     "output_type": "stream",
     "text": [
      "--------Version info---------\n",
      "Polars:              1.20.0\n",
      "Index type:          UInt32\n",
      "Platform:            Linux-6.14.0-27-generic-x86_64-with-glibc2.39\n",
      "Python:              3.12.3 (main, Jun 18 2025, 17:59:45) [GCC 13.3.0]\n",
      "LTS CPU:             False\n",
      "\n",
      "----Optional dependencies----\n",
      "Azure CLI            <not installed>\n",
      "adbc_driver_manager  1.7.0\n",
      "altair               5.5.0\n",
      "azure.identity       <not installed>\n",
      "boto3                <not installed>\n",
      "cloudpickle          3.1.1\n",
      "connectorx           0.4.3\n",
      "deltalake            1.1.4\n",
      "fastexcel            0.14.0\n",
      "fsspec               2025.7.0\n",
      "gevent               25.5.1\n",
      "google.auth          <not installed>\n",
      "great_tables         0.16.1\n",
      "matplotlib           3.10.5\n",
      "nest_asyncio         1.6.0\n",
      "numpy                2.2.6\n",
      "openpyxl             3.1.5\n",
      "pandas               2.3.1\n",
      "pyarrow              19.0.0\n",
      "pydantic             2.11.7\n",
      "pyiceberg            0.9.1\n",
      "sqlalchemy           2.0.43\n",
      "torch                <not installed>\n",
      "xlsx2csv             0.8.4\n",
      "xlsxwriter           3.2.5\n"
     ]
    }
   ],
   "source": [
    "import polars as pl\n",
    "\n",
    "pl.show_versions()"
   ]
  },
  {
   "cell_type": "markdown",
   "metadata": {},
   "source": [
    "#### Edit mode"
   ]
  },
  {
   "cell_type": "code",
   "execution_count": 3,
   "metadata": {},
   "outputs": [
    {
     "name": "stdout",
     "output_type": "stream",
     "text": [
      "'1. ETL.ipynb'\t\t\t\t    ch09.ipynb\t ch16.ipynb\n",
      "'2. Configuring Polars.ipynb'\t\t    ch10.ipynb\t ch17.ipynb\n",
      "'3. Data Structures and Data Types.ipynb'   ch11.ipynb\t ch18.ipynb\n",
      "'4. Eager and Lazy APIs.ipynb'\t\t    ch12.ipynb\t data\n",
      " ch06.ipynb\t\t\t\t    ch13.ipynb\t plugins\n",
      " ch07.ipynb\t\t\t\t    ch14.ipynb\t pyproject.toml\n",
      " ch08.ipynb\t\t\t\t    ch15.ipynb\t uv.lock\n"
     ]
    }
   ],
   "source": [
    "! ls"
   ]
  },
  {
   "cell_type": "markdown",
   "metadata": {},
   "source": [
    "## Configuring Polars"
   ]
  },
  {
   "cell_type": "markdown",
   "metadata": {},
   "source": [
    "### Temporary Configuration Using a Context Manager"
   ]
  },
  {
   "cell_type": "code",
   "execution_count": 4,
   "metadata": {},
   "outputs": [],
   "source": [
    "with pl.Config() as cfg:\n",
    "    cfg.set_verbose(True)\n",
    "    # Polars operation for which you want to see the verbose logging\n",
    "\n",
    "# Code outside of the scope is not affected"
   ]
  },
  {
   "cell_type": "code",
   "execution_count": 5,
   "metadata": {},
   "outputs": [],
   "source": [
    "with pl.Config(verbose=True):\n",
    "    # Polars operation you want to see the verbose logging of\n",
    "    pass"
   ]
  },
  {
   "cell_type": "code",
   "execution_count": 8,
   "metadata": {},
   "outputs": [],
   "source": [
    "import random\n",
    "import string\n",
    "\n",
    "\n",
    "def generate_random_string(length: int) -> str:\n",
    "    return \"\".join(random.choice(string.ascii_letters) for i in range(length))\n",
    "\n",
    "\n",
    "data = {}\n",
    "for i in range(1, 11):\n",
    "    data[f\"column_{i}\"] = [generate_random_string(50) for _ in range(5)]\n",
    "\n",
    "df = pl.DataFrame(data)"
   ]
  },
  {
   "cell_type": "code",
   "execution_count": 9,
   "metadata": {},
   "outputs": [
    {
     "data": {
      "text/html": [
       "<div><style>\n",
       ".dataframe > thead > tr,\n",
       ".dataframe > tbody > tr {\n",
       "  text-align: right;\n",
       "  white-space: pre-wrap;\n",
       "}\n",
       "</style>\n",
       "<small>shape: (5, 10)</small><table border=\"1\" class=\"dataframe\"><thead><tr><th>column_1</th><th>column_2</th><th>column_3</th><th>column_4</th><th>column_5</th><th>column_6</th><th>column_7</th><th>column_8</th><th>column_9</th><th>column_10</th></tr><tr><td>str</td><td>str</td><td>str</td><td>str</td><td>str</td><td>str</td><td>str</td><td>str</td><td>str</td><td>str</td></tr></thead><tbody><tr><td>&quot;hFILavjSiPzviOWdJzmxUxbbBdQopI…</td><td>&quot;xvkJctazHbfNoKIbYakVpqkiEzNGPd…</td><td>&quot;PRvrzDzZCfHMlHVcAEDNTqmzfBVsKt…</td><td>&quot;XduPMLusMNXYiPHIXUABBYynqCQtzK…</td><td>&quot;tbSGwalGueKaoUiAjiUxoamwIFFZwQ…</td><td>&quot;OHxRElXhzoznZXhTEPGfaCXozkZVYh…</td><td>&quot;QKJCUUZZhFHhhhgbtXqdgvNrtApsQQ…</td><td>&quot;PvCLflbuaqSdVPyrLnVTzKPXONFDIL…</td><td>&quot;iWVeWYDmoIEVcJgAuHqNLUfWlVKAWy…</td><td>&quot;XfaYMjyZqeCuMcSDUCNAlQgEEEywfa…</td></tr><tr><td>&quot;iIIbLXWoveXDjfisJquRUKczdglfbM…</td><td>&quot;lqwcFQJNMbFVNxatFyfAPpyrmsnozC…</td><td>&quot;AqTieJzjTSORxgNvClGjqneYEoFwCc…</td><td>&quot;hkbKOSLslRgNhJLzdmrrBjSrRquinF…</td><td>&quot;dcdocPgtwzJyNdiFcNcBwWpkaCWdoM…</td><td>&quot;GXlhSuFNJdeqQYTBMqFAHpsBCDDepc…</td><td>&quot;SnHyzsWHeGSAFWEiKLeQkkNERysvpH…</td><td>&quot;lURfdFOgvKURedFbXWSBwGKItCOIXM…</td><td>&quot;iFUAMZrFfdXRBlqrlURJfRyDVrcahY…</td><td>&quot;SBHpOaflyVivOyOZJpgxsHkCqLnFJN…</td></tr><tr><td>&quot;RlQSGeRVKAUfaIKhLhOepSYttfGikW…</td><td>&quot;rysSjQKfrCobFELcFOgGfoiyqUEUKs…</td><td>&quot;WpsEvDwrFOsSYRkdzPuMKTBkFQGbxc…</td><td>&quot;DUSXhBRFAJSgjzoFGwtKuLTMmfzBzc…</td><td>&quot;FtzCjDPNLvuwYPSYZMxIMOmeZgoPKD…</td><td>&quot;NQYOKqKqEtWBQTzgmqWYUKXesPnpEY…</td><td>&quot;HopZvhnbweRiXAiUUkecSouTfQnYcn…</td><td>&quot;UyXqWvlTQvflZHrTUkoVPCxKtckqpu…</td><td>&quot;eROXkHFOaLLcGoFgSHTKzLPcfqoFjk…</td><td>&quot;NbPQyHrlRGJLOYrukPieuUgCgfcHUQ…</td></tr><tr><td>&quot;ZCiIzcnrWukmxboozQmpiTpjNEAexG…</td><td>&quot;ocEXIevligcwJjjHjuEFemcrdMuNYN…</td><td>&quot;UqZrbtYuhSMrliUUVbJETBnYMtdlHE…</td><td>&quot;yYNaoDLvnKSHCMYrddkJdAstFysSva…</td><td>&quot;foCEDtbAcTLcdZzknvbWkPQoyeSCgr…</td><td>&quot;kyRJKBpBFkJhAwMePlyrUfPFYODprO…</td><td>&quot;snMqJVgqOLsZEtOuGOoHpFTjXkmnUS…</td><td>&quot;tAbwlJevEiZnDCLeMZWoOwyjAYNQXq…</td><td>&quot;ZXDIdVWSGdDFqSLlROVrgcNlAGDHOj…</td><td>&quot;tzmeaBZopVooAAiwvWjawvhaWENCfV…</td></tr><tr><td>&quot;vzdDJPWyzCrEztwSXlbYQeGKgfkaEt…</td><td>&quot;UfAxZMpbvrdSpeEeKjItqYNpdklQMT…</td><td>&quot;MZoWzqSYmNmfhNCYknXKXxrzAqYbgJ…</td><td>&quot;YafsPxpZxVDeytsXcQkQwPAcoRPoUW…</td><td>&quot;iiSbbTXHOEnlKkncGUXjTKRvMqYVrT…</td><td>&quot;IqwBjNfaVhWWxghXRzOGhFTXUoTGFN…</td><td>&quot;TCGXcALrJpjUwMkEmunmFNyZOmCTUJ…</td><td>&quot;LrKcipLjFHKeZAczWRMZLxYTHRuEYf…</td><td>&quot;LCUsvxCiGofcMspMlIEbpwgeLhzFiu…</td><td>&quot;vDqHujQHRHKPqSvoRHVudtkgshdQiO…</td></tr></tbody></table></div>"
      ],
      "text/plain": [
       "shape: (5, 10)\n",
       "┌───────────┬───────────┬───────────┬───────────┬───┬───────────┬───────────┬───────────┬──────────┐\n",
       "│ column_1  ┆ column_2  ┆ column_3  ┆ column_4  ┆ … ┆ column_7  ┆ column_8  ┆ column_9  ┆ column_1 │\n",
       "│ ---       ┆ ---       ┆ ---       ┆ ---       ┆   ┆ ---       ┆ ---       ┆ ---       ┆ 0        │\n",
       "│ str       ┆ str       ┆ str       ┆ str       ┆   ┆ str       ┆ str       ┆ str       ┆ ---      │\n",
       "│           ┆           ┆           ┆           ┆   ┆           ┆           ┆           ┆ str      │\n",
       "╞═══════════╪═══════════╪═══════════╪═══════════╪═══╪═══════════╪═══════════╪═══════════╪══════════╡\n",
       "│ hFILavjSi ┆ xvkJctazH ┆ PRvrzDzZC ┆ XduPMLusM ┆ … ┆ QKJCUUZZh ┆ PvCLflbua ┆ iWVeWYDmo ┆ XfaYMjyZ │\n",
       "│ PzviOWdJz ┆ bfNoKIbYa ┆ fHMlHVcAE ┆ NXYiPHIXU ┆   ┆ FHhhhgbtX ┆ qSdVPyrLn ┆ IEVcJgAuH ┆ qeCuMcSD │\n",
       "│ mxUxbbBdQ ┆ kVpqkiEzN ┆ DNTqmzfBV ┆ ABBYynqCQ ┆   ┆ qdgvNrtAp ┆ VTzKPXONF ┆ qNLUfWlVK ┆ UCNAlQgE │\n",
       "│ opI…      ┆ GPd…      ┆ sKt…      ┆ tzK…      ┆   ┆ sQQ…      ┆ DIL…      ┆ AWy…      ┆ EEywfa…  │\n",
       "│ iIIbLXWov ┆ lqwcFQJNM ┆ AqTieJzjT ┆ hkbKOSLsl ┆ … ┆ SnHyzsWHe ┆ lURfdFOgv ┆ iFUAMZrFf ┆ SBHpOafl │\n",
       "│ eXDjfisJq ┆ bFVNxatFy ┆ SORxgNvCl ┆ RgNhJLzdm ┆   ┆ GSAFWEiKL ┆ KURedFbXW ┆ dXRBlqrlU ┆ yVivOyOZ │\n",
       "│ uRUKczdgl ┆ fAPpyrmsn ┆ GjqneYEoF ┆ rrBjSrRqu ┆   ┆ eQkkNERys ┆ SBwGKItCO ┆ RJfRyDVrc ┆ JpgxsHkC │\n",
       "│ fbM…      ┆ ozC…      ┆ wCc…      ┆ inF…      ┆   ┆ vpH…      ┆ IXM…      ┆ ahY…      ┆ qLnFJN…  │\n",
       "│ RlQSGeRVK ┆ rysSjQKfr ┆ WpsEvDwrF ┆ DUSXhBRFA ┆ … ┆ HopZvhnbw ┆ UyXqWvlTQ ┆ eROXkHFOa ┆ NbPQyHrl │\n",
       "│ AUfaIKhLh ┆ CobFELcFO ┆ OsSYRkdzP ┆ JSgjzoFGw ┆   ┆ eRiXAiUUk ┆ vflZHrTUk ┆ LLcGoFgSH ┆ RGJLOYru │\n",
       "│ OepSYttfG ┆ gGfoiyqUE ┆ uMKTBkFQG ┆ tKuLTMmfz ┆   ┆ ecSouTfQn ┆ oVPCxKtck ┆ TKzLPcfqo ┆ kPieuUgC │\n",
       "│ ikW…      ┆ UKs…      ┆ bxc…      ┆ Bzc…      ┆   ┆ Ycn…      ┆ qpu…      ┆ Fjk…      ┆ gfcHUQ…  │\n",
       "│ ZCiIzcnrW ┆ ocEXIevli ┆ UqZrbtYuh ┆ yYNaoDLvn ┆ … ┆ snMqJVgqO ┆ tAbwlJevE ┆ ZXDIdVWSG ┆ tzmeaBZo │\n",
       "│ ukmxboozQ ┆ gcwJjjHju ┆ SMrliUUVb ┆ KSHCMYrdd ┆   ┆ LsZEtOuGO ┆ iZnDCLeMZ ┆ dDFqSLlRO ┆ pVooAAiw │\n",
       "│ mpiTpjNEA ┆ EFemcrdMu ┆ JETBnYMtd ┆ kJdAstFys ┆   ┆ oHpFTjXkm ┆ WoOwyjAYN ┆ VrgcNlAGD ┆ vWjawvha │\n",
       "│ exG…      ┆ NYN…      ┆ lHE…      ┆ Sva…      ┆   ┆ nUS…      ┆ QXq…      ┆ HOj…      ┆ WENCfV…  │\n",
       "│ vzdDJPWyz ┆ UfAxZMpbv ┆ MZoWzqSYm ┆ YafsPxpZx ┆ … ┆ TCGXcALrJ ┆ LrKcipLjF ┆ LCUsvxCiG ┆ vDqHujQH │\n",
       "│ CrEztwSXl ┆ rdSpeEeKj ┆ NmfhNCYkn ┆ VDeytsXcQ ┆   ┆ pjUwMkEmu ┆ HKeZAczWR ┆ ofcMspMlI ┆ RHKPqSvo │\n",
       "│ bYQeGKgfk ┆ ItqYNpdkl ┆ XKXxrzAqY ┆ kQwPAcoRP ┆   ┆ nmFNyZOmC ┆ MZLxYTHRu ┆ EbpwgeLhz ┆ RHVudtkg │\n",
       "│ aEt…      ┆ QMT…      ┆ bgJ…      ┆ oUW…      ┆   ┆ TUJ…      ┆ EYf…      ┆ Fiu…      ┆ shdQiO…  │\n",
       "└───────────┴───────────┴───────────┴───────────┴───┴───────────┴───────────┴───────────┴──────────┘"
      ]
     },
     "execution_count": 9,
     "metadata": {},
     "output_type": "execute_result"
    }
   ],
   "source": [
    "df"
   ]
  },
  {
   "cell_type": "code",
   "execution_count": 10,
   "metadata": {},
   "outputs": [
    {
     "name": "stdout",
     "output_type": "stream",
     "text": [
      "shape: (5, 10)\n",
      "┌───────┬───────┬───────┬───────┬───────┬───────┬───────┬───────┬───────┬───────┐\n",
      "│ colu… ┆ colu… ┆ colu… ┆ colu… ┆ colu… ┆ colu… ┆ colu… ┆ colu… ┆ colu… ┆ colu… │\n",
      "│ ---   ┆ ---   ┆ ---   ┆ ---   ┆ ---   ┆ ---   ┆ ---   ┆ ---   ┆ ---   ┆ ---   │\n",
      "│ str   ┆ str   ┆ str   ┆ str   ┆ str   ┆ str   ┆ str   ┆ str   ┆ str   ┆ str   │\n",
      "╞═══════╪═══════╪═══════╪═══════╪═══════╪═══════╪═══════╪═══════╪═══════╪═══════╡\n",
      "│ hFIL… ┆ xvkJ… ┆ PRvr… ┆ XduP… ┆ tbSG… ┆ OHxR… ┆ QKJC… ┆ PvCL… ┆ iWVe… ┆ XfaY… │\n",
      "│ iIIb… ┆ lqwc… ┆ AqTi… ┆ hkbK… ┆ dcdo… ┆ GXlh… ┆ SnHy… ┆ lURf… ┆ iFUA… ┆ SBHp… │\n",
      "│ RlQS… ┆ rysS… ┆ WpsE… ┆ DUSX… ┆ FtzC… ┆ NQYO… ┆ HopZ… ┆ UyXq… ┆ eROX… ┆ NbPQ… │\n",
      "│ ZCiI… ┆ ocEX… ┆ UqZr… ┆ yYNa… ┆ foCE… ┆ kyRJ… ┆ snMq… ┆ tAbw… ┆ ZXDI… ┆ tzme… │\n",
      "│ vzdD… ┆ UfAx… ┆ MZoW… ┆ Yafs… ┆ iiSb… ┆ IqwB… ┆ TCGX… ┆ LrKc… ┆ LCUs… ┆ vDqH… │\n",
      "└───────┴───────┴───────┴───────┴───────┴───────┴───────┴───────┴───────┴───────┘\n"
     ]
    }
   ],
   "source": [
    "with pl.Config(tbl_cols=-1, fmt_str_lengths=4):\n",
    "    print(df)"
   ]
  },
  {
   "cell_type": "code",
   "execution_count": 11,
   "metadata": {},
   "outputs": [
    {
     "name": "stdout",
     "output_type": "stream",
     "text": [
      "Entering context\n",
      "Your code\n",
      "Exiting context\n"
     ]
    }
   ],
   "source": [
    "class YourContextManager:\n",
    "    def __enter__(self):\n",
    "        print(\"Entering context\")\n",
    "\n",
    "    def __exit__(self, type, value, traceback):\n",
    "        print(\"Exiting context\")\n",
    "\n",
    "\n",
    "with YourContextManager():\n",
    "    print(\"Your code\")"
   ]
  },
  {
   "cell_type": "code",
   "execution_count": 13,
   "metadata": {},
   "outputs": [
    {
     "name": "stdout",
     "output_type": "stream",
     "text": [
      "name,weight,color,is_round,origin\n",
      "\n"
     ]
    }
   ],
   "source": [
    "with open(\"data/fruit.csv\", \"r\") as file:\n",
    "    print(file.readline())"
   ]
  },
  {
   "cell_type": "markdown",
   "metadata": {},
   "source": [
    "### Local Configuration Using a Decorator"
   ]
  },
  {
   "cell_type": "code",
   "execution_count": 12,
   "metadata": {},
   "outputs": [],
   "source": [
    "@pl.Config(ascii_tables=True)\n",
    "def write_ascii_frame_to_stdout(df: pl.DataFrame) -> None:\n",
    "    print(str(df))\n",
    "\n",
    "\n",
    "@pl.Config(verbose=True)\n",
    "def function_that_im_debugging(df: pl.DataFrame) -> None:\n",
    "    # Polars operation for which you want to see the verbose logging\n",
    "    pass"
   ]
  },
  {
   "cell_type": "markdown",
   "id": "7d6e0a88",
   "metadata": {},
   "source": [
    "## Compiling Polars from Scratch"
   ]
  },
  {
   "cell_type": "markdown",
   "metadata": {},
   "source": [
    "### Edge Case: Very Large Datasets"
   ]
  },
  {
   "cell_type": "markdown",
   "metadata": {},
   "source": [
    "### Edge Case: Processors Lacking AVX Support"
   ]
  }
 ],
 "metadata": {
  "kernelspec": {
   "display_name": ".venv",
   "language": "python",
   "name": "python3"
  },
  "language_info": {
   "codemirror_mode": {
    "name": "ipython",
    "version": 3
   },
   "file_extension": ".py",
   "mimetype": "text/x-python",
   "name": "python",
   "nbconvert_exporter": "python",
   "pygments_lexer": "ipython3",
   "version": "3.12.3"
  }
 },
 "nbformat": 4,
 "nbformat_minor": 5
}
