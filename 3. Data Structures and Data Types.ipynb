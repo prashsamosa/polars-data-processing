{
 "cells": [
  {
   "cell_type": "code",
   "execution_count": 4,
   "metadata": {},
   "outputs": [
    {
     "data": {
      "text/plain": [
       "'1.20.0'"
      ]
     },
     "execution_count": 4,
     "metadata": {},
     "output_type": "execute_result"
    }
   ],
   "source": [
    "import polars as pl\n",
    "pl.__version__"
   ]
  },
  {
   "cell_type": "markdown",
   "metadata": {},
   "source": [
    "## Series, DataFrames, and LazyFrames"
   ]
  },
  {
   "cell_type": "code",
   "execution_count": 2,
   "metadata": {},
   "outputs": [
    {
     "data": {
      "text/html": [
       "<div><style>\n",
       ".dataframe > thead > tr,\n",
       ".dataframe > tbody > tr {\n",
       "  text-align: right;\n",
       "  white-space: pre-wrap;\n",
       "}\n",
       "</style>\n",
       "<small>shape: (3,)</small><table border=\"1\" class=\"dataframe\"><thead><tr><th>sales</th></tr><tr><td>f64</td></tr></thead><tbody><tr><td>150.0</td></tr><tr><td>300.0</td></tr><tr><td>250.0</td></tr></tbody></table></div>"
      ],
      "text/plain": [
       "shape: (3,)\n",
       "Series: 'sales' [f64]\n",
       "[\n",
       "\t150.0\n",
       "\t300.0\n",
       "\t250.0\n",
       "]"
      ]
     },
     "execution_count": 2,
     "metadata": {},
     "output_type": "execute_result"
    }
   ],
   "source": [
    "sales_series = pl.Series(\"sales\", [150.00, 300.00, 250.00])\n",
    "\n",
    "sales_series"
   ]
  },
  {
   "cell_type": "code",
   "execution_count": 3,
   "metadata": {},
   "outputs": [
    {
     "data": {
      "text/html": [
       "<div><style>\n",
       ".dataframe > thead > tr,\n",
       ".dataframe > tbody > tr {\n",
       "  text-align: right;\n",
       "  white-space: pre-wrap;\n",
       "}\n",
       "</style>\n",
       "<small>shape: (3, 2)</small><table border=\"1\" class=\"dataframe\"><thead><tr><th>sales</th><th>customer_id</th></tr><tr><td>f64</td><td>i64</td></tr></thead><tbody><tr><td>150.0</td><td>24</td></tr><tr><td>300.0</td><td>25</td></tr><tr><td>250.0</td><td>26</td></tr></tbody></table></div>"
      ],
      "text/plain": [
       "shape: (3, 2)\n",
       "┌───────┬─────────────┐\n",
       "│ sales ┆ customer_id │\n",
       "│ ---   ┆ ---         │\n",
       "│ f64   ┆ i64         │\n",
       "╞═══════╪═════════════╡\n",
       "│ 150.0 ┆ 24          │\n",
       "│ 300.0 ┆ 25          │\n",
       "│ 250.0 ┆ 26          │\n",
       "└───────┴─────────────┘"
      ]
     },
     "execution_count": 3,
     "metadata": {},
     "output_type": "execute_result"
    }
   ],
   "source": [
    "sales_df = pl.DataFrame(\n",
    "    {\n",
    "        \"sales\": sales_series,\n",
    "        \"customer_id\": [24, 25, 26],\n",
    "    }\n",
    ")\n",
    "\n",
    "sales_df"
   ]
  },
  {
   "cell_type": "code",
   "execution_count": 19,
   "metadata": {},
   "outputs": [
    {
     "data": {
      "image/svg+xml": [
       "<svg xmlns=\"http://www.w3.org/2000/svg\" xmlns:xlink=\"http://www.w3.org/1999/xlink\" width=\"378pt\" height=\"121pt\" viewBox=\"0.00 0.00 378.00 121.00\">\n",
       "<g id=\"graph0\" class=\"graph\" transform=\"scale(1 1) rotate(0) translate(4 117)\">\n",
       "<title>polars_query</title>\n",
       "<polygon fill=\"white\" stroke=\"none\" points=\"-4,4 -4,-117 374,-117 374,4 -4,4\"/>\n",
       "<!-- p1 -->\n",
       "<g id=\"node1\" class=\"node\">\n",
       "<title>p1</title>\n",
       "<polygon fill=\"none\" stroke=\"black\" points=\"370,-113 0,-113 0,-77 370,-77 370,-113\"/>\n",
       "<text xml:space=\"preserve\" text-anchor=\"middle\" x=\"185\" y=\"-89.95\" font-family=\"Times,serif\" font-size=\"14.00\">WITH COLUMNS [[(col(&quot;weight&quot;)) &gt; (200)].alias(&quot;is_heavy&quot;)]</text>\n",
       "</g>\n",
       "<!-- p2 -->\n",
       "<g id=\"node2\" class=\"node\">\n",
       "<title>p2</title>\n",
       "<polygon fill=\"none\" stroke=\"black\" points=\"271,-41 99,-41 99,0 271,0 271,-41\"/>\n",
       "<text xml:space=\"preserve\" text-anchor=\"middle\" x=\"185\" y=\"-23.7\" font-family=\"Times,serif\" font-size=\"14.00\">Csv SCAN [.//data/fruit.csv]</text>\n",
       "<text xml:space=\"preserve\" text-anchor=\"middle\" x=\"185\" y=\"-7.2\" font-family=\"Times,serif\" font-size=\"14.00\">π */5;</text>\n",
       "</g>\n",
       "<!-- p1&#45;&#45;p2 -->\n",
       "<g id=\"edge1\" class=\"edge\">\n",
       "<title>p1--p2</title>\n",
       "<path fill=\"none\" stroke=\"black\" d=\"M185,-76.82C185,-66.18 185,-52.49 185,-41.38\"/>\n",
       "</g>\n",
       "</g>\n",
       "</svg>"
      ],
      "text/plain": [
       "<IPython.core.display.SVG object>"
      ]
     },
     "metadata": {},
     "output_type": "display_data"
    }
   ],
   "source": [
    "lazy_df = pl.scan_csv(\".//data/fruit.csv\").with_columns(is_heavy=pl.col(\"weight\") > 200)\n",
    "\n",
    "lazy_df.show_graph()"
   ]
  },
  {
   "cell_type": "markdown",
   "metadata": {},
   "source": [
    "## Data Types"
   ]
  },
  {
   "cell_type": "markdown",
   "metadata": {},
   "source": [
    "### Nested Data Types"
   ]
  },
  {
   "cell_type": "code",
   "execution_count": 20,
   "metadata": {},
   "outputs": [
    {
     "data": {
      "text/html": [
       "<div><style>\n",
       ".dataframe > thead > tr,\n",
       ".dataframe > tbody > tr {\n",
       "  text-align: right;\n",
       "  white-space: pre-wrap;\n",
       "}\n",
       "</style>\n",
       "<small>shape: (2, 2)</small><table border=\"1\" class=\"dataframe\"><thead><tr><th>point_2d</th><th>point_3d</th></tr><tr><td>array[i64, 2]</td><td>array[i64, 3]</td></tr></thead><tbody><tr><td>[1, 3]</td><td>[1, 7, 3]</td></tr><tr><td>[2, 5]</td><td>[8, 1, 0]</td></tr></tbody></table></div>"
      ],
      "text/plain": [
       "shape: (2, 2)\n",
       "┌───────────────┬───────────────┐\n",
       "│ point_2d      ┆ point_3d      │\n",
       "│ ---           ┆ ---           │\n",
       "│ array[i64, 2] ┆ array[i64, 3] │\n",
       "╞═══════════════╪═══════════════╡\n",
       "│ [1, 3]        ┆ [1, 7, 3]     │\n",
       "│ [2, 5]        ┆ [8, 1, 0]     │\n",
       "└───────────────┴───────────────┘"
      ]
     },
     "execution_count": 20,
     "metadata": {},
     "output_type": "execute_result"
    }
   ],
   "source": [
    "coordinates = pl.DataFrame(\n",
    "    [\n",
    "        pl.Series(\"point_2d\", [[1, 3], [2, 5]]),\n",
    "        pl.Series(\"point_3d\", [[1, 7, 3], [8, 1, 0]]),\n",
    "    ],\n",
    "    schema={\n",
    "        \"point_2d\": pl.Array(shape=2, inner=pl.Int64),\n",
    "        \"point_3d\": pl.Array(shape=3, inner=pl.Int64),\n",
    "    },\n",
    ")\n",
    "\n",
    "coordinates"
   ]
  },
  {
   "cell_type": "code",
   "execution_count": 21,
   "metadata": {},
   "outputs": [
    {
     "data": {
      "text/html": [
       "<div><style>\n",
       ".dataframe > thead > tr,\n",
       ".dataframe > tbody > tr {\n",
       "  text-align: right;\n",
       "  white-space: pre-wrap;\n",
       "}\n",
       "</style>\n",
       "<small>shape: (2, 2)</small><table border=\"1\" class=\"dataframe\"><thead><tr><th>temperature</th><th>wind_speed</th></tr><tr><td>list[f64]</td><td>list[i64]</td></tr></thead><tbody><tr><td>[72.5, 75.0, 77.3]</td><td>[15, 20]</td></tr><tr><td>[68.0, 70.2]</td><td>[10, 12, … 16]</td></tr></tbody></table></div>"
      ],
      "text/plain": [
       "shape: (2, 2)\n",
       "┌────────────────────┬────────────────┐\n",
       "│ temperature        ┆ wind_speed     │\n",
       "│ ---                ┆ ---            │\n",
       "│ list[f64]          ┆ list[i64]      │\n",
       "╞════════════════════╪════════════════╡\n",
       "│ [72.5, 75.0, 77.3] ┆ [15, 20]       │\n",
       "│ [68.0, 70.2]       ┆ [10, 12, … 16] │\n",
       "└────────────────────┴────────────────┘"
      ]
     },
     "execution_count": 21,
     "metadata": {},
     "output_type": "execute_result"
    }
   ],
   "source": [
    "weather_readings = pl.DataFrame(\n",
    "    {\n",
    "        \"temperature\": [[72.5, 75.0, 77.3], [68.0, 70.2]],\n",
    "        \"wind_speed\": [[15, 20], [10, 12, 14, 16]],\n",
    "    }\n",
    ")\n",
    "\n",
    "weather_readings"
   ]
  },
  {
   "cell_type": "code",
   "execution_count": 22,
   "metadata": {},
   "outputs": [
    {
     "data": {
      "text/html": [
       "<div><style>\n",
       ".dataframe > thead > tr,\n",
       ".dataframe > tbody > tr {\n",
       "  text-align: right;\n",
       "  white-space: pre-wrap;\n",
       "}\n",
       "</style>\n",
       "<small>shape: (2,)</small><table border=\"1\" class=\"dataframe\"><thead><tr><th>ratings</th></tr><tr><td>struct[3]</td></tr></thead><tbody><tr><td>{&quot;Cars&quot;,&quot;NE&quot;,4.5}</td></tr><tr><td>{&quot;Toy Story&quot;,&quot;ME&quot;,4.9}</td></tr></tbody></table></div>"
      ],
      "text/plain": [
       "shape: (2,)\n",
       "Series: 'ratings' [struct[3]]\n",
       "[\n",
       "\t{\"Cars\",\"NE\",4.5}\n",
       "\t{\"Toy Story\",\"ME\",4.9}\n",
       "]"
      ]
     },
     "execution_count": 22,
     "metadata": {},
     "output_type": "execute_result"
    }
   ],
   "source": [
    "rating_series = pl.Series(\n",
    "    \"ratings\",\n",
    "    [\n",
    "        {\"Movie\": \"Cars\", \"Theatre\": \"NE\", \"Avg_Rating\": 4.5},\n",
    "        {\"Movie\": \"Toy Story\", \"Theatre\": \"ME\", \"Avg_Rating\": 4.9},\n",
    "    ],\n",
    ")\n",
    "rating_series"
   ]
  },
  {
   "cell_type": "markdown",
   "metadata": {},
   "source": [
    "### Missing Values"
   ]
  },
  {
   "cell_type": "code",
   "execution_count": 23,
   "metadata": {},
   "outputs": [
    {
     "data": {
      "text/html": [
       "<div><style>\n",
       ".dataframe > thead > tr,\n",
       ".dataframe > tbody > tr {\n",
       "  text-align: right;\n",
       "  white-space: pre-wrap;\n",
       "}\n",
       "</style>\n",
       "<small>shape: (10, 1)</small><table border=\"1\" class=\"dataframe\"><thead><tr><th>value</th></tr><tr><td>i64</td></tr></thead><tbody><tr><td>null</td></tr><tr><td>2</td></tr><tr><td>3</td></tr><tr><td>4</td></tr><tr><td>null</td></tr><tr><td>null</td></tr><tr><td>7</td></tr><tr><td>8</td></tr><tr><td>9</td></tr><tr><td>null</td></tr></tbody></table></div>"
      ],
      "text/plain": [
       "shape: (10, 1)\n",
       "┌───────┐\n",
       "│ value │\n",
       "│ ---   │\n",
       "│ i64   │\n",
       "╞═══════╡\n",
       "│ null  │\n",
       "│ 2     │\n",
       "│ 3     │\n",
       "│ 4     │\n",
       "│ null  │\n",
       "│ null  │\n",
       "│ 7     │\n",
       "│ 8     │\n",
       "│ 9     │\n",
       "│ null  │\n",
       "└───────┘"
      ]
     },
     "execution_count": 23,
     "metadata": {},
     "output_type": "execute_result"
    }
   ],
   "source": [
    "missing_df = pl.DataFrame(\n",
    "    {\n",
    "        \"value\": [None, 2, 3, 4, None, None, 7, 8, 9, None],\n",
    "    },\n",
    ")\n",
    "missing_df"
   ]
  },
  {
   "cell_type": "code",
   "execution_count": 24,
   "metadata": {},
   "outputs": [
    {
     "data": {
      "text/html": [
       "<div><style>\n",
       ".dataframe > thead > tr,\n",
       ".dataframe > tbody > tr {\n",
       "  text-align: right;\n",
       "  white-space: pre-wrap;\n",
       "}\n",
       "</style>\n",
       "<small>shape: (10, 2)</small><table border=\"1\" class=\"dataframe\"><thead><tr><th>value</th><th>filled_with_single</th></tr><tr><td>i64</td><td>i64</td></tr></thead><tbody><tr><td>null</td><td>-1</td></tr><tr><td>2</td><td>2</td></tr><tr><td>3</td><td>3</td></tr><tr><td>4</td><td>4</td></tr><tr><td>null</td><td>-1</td></tr><tr><td>null</td><td>-1</td></tr><tr><td>7</td><td>7</td></tr><tr><td>8</td><td>8</td></tr><tr><td>9</td><td>9</td></tr><tr><td>null</td><td>-1</td></tr></tbody></table></div>"
      ],
      "text/plain": [
       "shape: (10, 2)\n",
       "┌───────┬────────────────────┐\n",
       "│ value ┆ filled_with_single │\n",
       "│ ---   ┆ ---                │\n",
       "│ i64   ┆ i64                │\n",
       "╞═══════╪════════════════════╡\n",
       "│ null  ┆ -1                 │\n",
       "│ 2     ┆ 2                  │\n",
       "│ 3     ┆ 3                  │\n",
       "│ 4     ┆ 4                  │\n",
       "│ null  ┆ -1                 │\n",
       "│ null  ┆ -1                 │\n",
       "│ 7     ┆ 7                  │\n",
       "│ 8     ┆ 8                  │\n",
       "│ 9     ┆ 9                  │\n",
       "│ null  ┆ -1                 │\n",
       "└───────┴────────────────────┘"
      ]
     },
     "execution_count": 24,
     "metadata": {},
     "output_type": "execute_result"
    }
   ],
   "source": [
    "missing_df.with_columns(filled_with_single=pl.col(\"value\").fill_null(-1))"
   ]
  },
  {
   "cell_type": "code",
   "execution_count": 25,
   "metadata": {},
   "outputs": [
    {
     "data": {
      "text/html": [
       "<div><style>\n",
       ".dataframe > thead > tr,\n",
       ".dataframe > tbody > tr {\n",
       "  text-align: right;\n",
       "  white-space: pre-wrap;\n",
       "}\n",
       "</style>\n",
       "<small>shape: (10, 8)</small><table border=\"1\" class=\"dataframe\"><thead><tr><th>value</th><th>forward</th><th>backward</th><th>min</th><th>max</th><th>mean</th><th>zero</th><th>one</th></tr><tr><td>i64</td><td>i64</td><td>i64</td><td>i64</td><td>i64</td><td>i64</td><td>i64</td><td>i64</td></tr></thead><tbody><tr><td>null</td><td>null</td><td>2</td><td>2</td><td>9</td><td>5</td><td>0</td><td>1</td></tr><tr><td>2</td><td>2</td><td>2</td><td>2</td><td>2</td><td>2</td><td>2</td><td>2</td></tr><tr><td>3</td><td>3</td><td>3</td><td>3</td><td>3</td><td>3</td><td>3</td><td>3</td></tr><tr><td>4</td><td>4</td><td>4</td><td>4</td><td>4</td><td>4</td><td>4</td><td>4</td></tr><tr><td>null</td><td>4</td><td>7</td><td>2</td><td>9</td><td>5</td><td>0</td><td>1</td></tr><tr><td>null</td><td>4</td><td>7</td><td>2</td><td>9</td><td>5</td><td>0</td><td>1</td></tr><tr><td>7</td><td>7</td><td>7</td><td>7</td><td>7</td><td>7</td><td>7</td><td>7</td></tr><tr><td>8</td><td>8</td><td>8</td><td>8</td><td>8</td><td>8</td><td>8</td><td>8</td></tr><tr><td>9</td><td>9</td><td>9</td><td>9</td><td>9</td><td>9</td><td>9</td><td>9</td></tr><tr><td>null</td><td>9</td><td>null</td><td>2</td><td>9</td><td>5</td><td>0</td><td>1</td></tr></tbody></table></div>"
      ],
      "text/plain": [
       "shape: (10, 8)\n",
       "┌───────┬─────────┬──────────┬─────┬─────┬──────┬──────┬─────┐\n",
       "│ value ┆ forward ┆ backward ┆ min ┆ max ┆ mean ┆ zero ┆ one │\n",
       "│ ---   ┆ ---     ┆ ---      ┆ --- ┆ --- ┆ ---  ┆ ---  ┆ --- │\n",
       "│ i64   ┆ i64     ┆ i64      ┆ i64 ┆ i64 ┆ i64  ┆ i64  ┆ i64 │\n",
       "╞═══════╪═════════╪══════════╪═════╪═════╪══════╪══════╪═════╡\n",
       "│ null  ┆ null    ┆ 2        ┆ 2   ┆ 9   ┆ 5    ┆ 0    ┆ 1   │\n",
       "│ 2     ┆ 2       ┆ 2        ┆ 2   ┆ 2   ┆ 2    ┆ 2    ┆ 2   │\n",
       "│ 3     ┆ 3       ┆ 3        ┆ 3   ┆ 3   ┆ 3    ┆ 3    ┆ 3   │\n",
       "│ 4     ┆ 4       ┆ 4        ┆ 4   ┆ 4   ┆ 4    ┆ 4    ┆ 4   │\n",
       "│ null  ┆ 4       ┆ 7        ┆ 2   ┆ 9   ┆ 5    ┆ 0    ┆ 1   │\n",
       "│ null  ┆ 4       ┆ 7        ┆ 2   ┆ 9   ┆ 5    ┆ 0    ┆ 1   │\n",
       "│ 7     ┆ 7       ┆ 7        ┆ 7   ┆ 7   ┆ 7    ┆ 7    ┆ 7   │\n",
       "│ 8     ┆ 8       ┆ 8        ┆ 8   ┆ 8   ┆ 8    ┆ 8    ┆ 8   │\n",
       "│ 9     ┆ 9       ┆ 9        ┆ 9   ┆ 9   ┆ 9    ┆ 9    ┆ 9   │\n",
       "│ null  ┆ 9       ┆ null     ┆ 2   ┆ 9   ┆ 5    ┆ 0    ┆ 1   │\n",
       "└───────┴─────────┴──────────┴─────┴─────┴──────┴──────┴─────┘"
      ]
     },
     "execution_count": 25,
     "metadata": {},
     "output_type": "execute_result"
    }
   ],
   "source": [
    "missing_df.with_columns(\n",
    "    forward=pl.col(\"value\").fill_null(strategy=\"forward\"),\n",
    "    backward=pl.col(\"value\").fill_null(strategy=\"backward\"),\n",
    "    min=pl.col(\"value\").fill_null(strategy=\"min\"),\n",
    "    max=pl.col(\"value\").fill_null(strategy=\"max\"),\n",
    "    mean=pl.col(\"value\").fill_null(strategy=\"mean\"),\n",
    "    zero=pl.col(\"value\").fill_null(strategy=\"zero\"),\n",
    "    one=pl.col(\"value\").fill_null(strategy=\"one\"),\n",
    ")"
   ]
  },
  {
   "cell_type": "code",
   "execution_count": 26,
   "metadata": {},
   "outputs": [
    {
     "data": {
      "text/html": [
       "<div><style>\n",
       ".dataframe > thead > tr,\n",
       ".dataframe > tbody > tr {\n",
       "  text-align: right;\n",
       "  white-space: pre-wrap;\n",
       "}\n",
       "</style>\n",
       "<small>shape: (10, 2)</small><table border=\"1\" class=\"dataframe\"><thead><tr><th>value</th><th>expression_mean</th></tr><tr><td>i64</td><td>f64</td></tr></thead><tbody><tr><td>null</td><td>5.5</td></tr><tr><td>2</td><td>2.0</td></tr><tr><td>3</td><td>3.0</td></tr><tr><td>4</td><td>4.0</td></tr><tr><td>null</td><td>5.5</td></tr><tr><td>null</td><td>5.5</td></tr><tr><td>7</td><td>7.0</td></tr><tr><td>8</td><td>8.0</td></tr><tr><td>9</td><td>9.0</td></tr><tr><td>null</td><td>5.5</td></tr></tbody></table></div>"
      ],
      "text/plain": [
       "shape: (10, 2)\n",
       "┌───────┬─────────────────┐\n",
       "│ value ┆ expression_mean │\n",
       "│ ---   ┆ ---             │\n",
       "│ i64   ┆ f64             │\n",
       "╞═══════╪═════════════════╡\n",
       "│ null  ┆ 5.5             │\n",
       "│ 2     ┆ 2.0             │\n",
       "│ 3     ┆ 3.0             │\n",
       "│ 4     ┆ 4.0             │\n",
       "│ null  ┆ 5.5             │\n",
       "│ null  ┆ 5.5             │\n",
       "│ 7     ┆ 7.0             │\n",
       "│ 8     ┆ 8.0             │\n",
       "│ 9     ┆ 9.0             │\n",
       "│ null  ┆ 5.5             │\n",
       "└───────┴─────────────────┘"
      ]
     },
     "execution_count": 26,
     "metadata": {},
     "output_type": "execute_result"
    }
   ],
   "source": [
    "missing_df.with_columns(\n",
    "    expression_mean=pl.col(\"value\").fill_null(pl.col(\"value\").mean())\n",
    ")"
   ]
  },
  {
   "cell_type": "code",
   "execution_count": 27,
   "metadata": {},
   "outputs": [
    {
     "data": {
      "text/html": [
       "<div><style>\n",
       ".dataframe > thead > tr,\n",
       ".dataframe > tbody > tr {\n",
       "  text-align: right;\n",
       "  white-space: pre-wrap;\n",
       "}\n",
       "</style>\n",
       "<small>shape: (10, 1)</small><table border=\"1\" class=\"dataframe\"><thead><tr><th>value</th></tr><tr><td>f64</td></tr></thead><tbody><tr><td>null</td></tr><tr><td>2.0</td></tr><tr><td>3.0</td></tr><tr><td>4.0</td></tr><tr><td>5.0</td></tr><tr><td>6.0</td></tr><tr><td>7.0</td></tr><tr><td>8.0</td></tr><tr><td>9.0</td></tr><tr><td>null</td></tr></tbody></table></div>"
      ],
      "text/plain": [
       "shape: (10, 1)\n",
       "┌───────┐\n",
       "│ value │\n",
       "│ ---   │\n",
       "│ f64   │\n",
       "╞═══════╡\n",
       "│ null  │\n",
       "│ 2.0   │\n",
       "│ 3.0   │\n",
       "│ 4.0   │\n",
       "│ 5.0   │\n",
       "│ 6.0   │\n",
       "│ 7.0   │\n",
       "│ 8.0   │\n",
       "│ 9.0   │\n",
       "│ null  │\n",
       "└───────┘"
      ]
     },
     "execution_count": 27,
     "metadata": {},
     "output_type": "execute_result"
    }
   ],
   "source": [
    "missing_df.interpolate()"
   ]
  },
  {
   "cell_type": "markdown",
   "metadata": {},
   "source": [
    "## Data Type Conversion"
   ]
  },
  {
   "cell_type": "code",
   "execution_count": 28,
   "metadata": {},
   "outputs": [
    {
     "name": "stdout",
     "output_type": "stream",
     "text": [
      "shape: (3, 1)\n",
      "┌───────┐\n",
      "│ id    │\n",
      "│ ---   │\n",
      "│ str   │\n",
      "╞═══════╡\n",
      "│ 10000 │\n",
      "│ 20000 │\n",
      "│ 30000 │\n",
      "└───────┘\n",
      "Estimated size: 15 bytes\n"
     ]
    }
   ],
   "source": [
    "string_df = pl.DataFrame({\"id\": [\"10000\", \"20000\", \"30000\"]})\n",
    "print(string_df)\n",
    "print(f\"Estimated size: {string_df.estimated_size('b')} bytes\")"
   ]
  },
  {
   "cell_type": "code",
   "execution_count": 29,
   "metadata": {},
   "outputs": [
    {
     "name": "stdout",
     "output_type": "stream",
     "text": [
      "shape: (3, 1)\n",
      "┌───────┐\n",
      "│ id    │\n",
      "│ ---   │\n",
      "│ u16   │\n",
      "╞═══════╡\n",
      "│ 10000 │\n",
      "│ 20000 │\n",
      "│ 30000 │\n",
      "└───────┘\n",
      "Estimated size: 6 bytes\n"
     ]
    }
   ],
   "source": [
    "int_df = string_df.select(pl.col(\"id\").cast(pl.UInt16))\n",
    "print(int_df)\n",
    "print(f\"Estimated size: {int_df.estimated_size('b')} bytes\")"
   ]
  },
  {
   "cell_type": "code",
   "execution_count": 31,
   "metadata": {},
   "outputs": [
    {
     "data": {
      "text/html": [
       "<div><style>\n",
       ".dataframe > thead > tr,\n",
       ".dataframe > tbody > tr {\n",
       "  text-align: right;\n",
       "  white-space: pre-wrap;\n",
       "}\n",
       "</style>\n",
       "<small>shape: (3, 3)</small><table border=\"1\" class=\"dataframe\"><thead><tr><th>id</th><th>value</th><th>value2</th></tr><tr><td>u16</td><td>u16</td><td>u16</td></tr></thead><tbody><tr><td>10000</td><td>1</td><td>1</td></tr><tr><td>20000</td><td>2</td><td>2</td></tr><tr><td>30000</td><td>3</td><td>3</td></tr></tbody></table></div>"
      ],
      "text/plain": [
       "shape: (3, 3)\n",
       "┌───────┬───────┬────────┐\n",
       "│ id    ┆ value ┆ value2 │\n",
       "│ ---   ┆ ---   ┆ ---    │\n",
       "│ u16   ┆ u16   ┆ u16    │\n",
       "╞═══════╪═══════╪════════╡\n",
       "│ 10000 ┆ 1     ┆ 1      │\n",
       "│ 20000 ┆ 2     ┆ 2      │\n",
       "│ 30000 ┆ 3     ┆ 3      │\n",
       "└───────┴───────┴────────┘"
      ]
     },
     "execution_count": 31,
     "metadata": {},
     "output_type": "execute_result"
    }
   ],
   "source": [
    "data_types_df = pl.DataFrame(\n",
    "    {\n",
    "        \"id\": [10000, 20000, 30000],\n",
    "        \"value\": [1.0, 2.0, 3.0],\n",
    "        \"value2\": [\"1\", \"2\", \"3\"],\n",
    "    }\n",
    ")\n",
    "\n",
    "data_types_df.cast(pl.UInt16)"
   ]
  },
  {
   "cell_type": "code",
   "execution_count": 32,
   "metadata": {},
   "outputs": [
    {
     "data": {
      "text/html": [
       "<div><style>\n",
       ".dataframe > thead > tr,\n",
       ".dataframe > tbody > tr {\n",
       "  text-align: right;\n",
       "  white-space: pre-wrap;\n",
       "}\n",
       "</style>\n",
       "<small>shape: (3, 3)</small><table border=\"1\" class=\"dataframe\"><thead><tr><th>id</th><th>value</th><th>value2</th></tr><tr><td>u16</td><td>f32</td><td>u8</td></tr></thead><tbody><tr><td>10000</td><td>1.0</td><td>1</td></tr><tr><td>20000</td><td>2.0</td><td>2</td></tr><tr><td>30000</td><td>3.0</td><td>3</td></tr></tbody></table></div>"
      ],
      "text/plain": [
       "shape: (3, 3)\n",
       "┌───────┬───────┬────────┐\n",
       "│ id    ┆ value ┆ value2 │\n",
       "│ ---   ┆ ---   ┆ ---    │\n",
       "│ u16   ┆ f32   ┆ u8     │\n",
       "╞═══════╪═══════╪════════╡\n",
       "│ 10000 ┆ 1.0   ┆ 1      │\n",
       "│ 20000 ┆ 2.0   ┆ 2      │\n",
       "│ 30000 ┆ 3.0   ┆ 3      │\n",
       "└───────┴───────┴────────┘"
      ]
     },
     "execution_count": 32,
     "metadata": {},
     "output_type": "execute_result"
    }
   ],
   "source": [
    "data_types_df.cast({\"id\": pl.UInt16, \"value\": pl.Float32, \"value2\": pl.UInt8})"
   ]
  },
  {
   "cell_type": "code",
   "execution_count": 33,
   "metadata": {},
   "outputs": [
    {
     "data": {
      "text/html": [
       "<div><style>\n",
       ".dataframe > thead > tr,\n",
       ".dataframe > tbody > tr {\n",
       "  text-align: right;\n",
       "  white-space: pre-wrap;\n",
       "}\n",
       "</style>\n",
       "<small>shape: (3, 3)</small><table border=\"1\" class=\"dataframe\"><thead><tr><th>id</th><th>value</th><th>value2</th></tr><tr><td>i64</td><td>f32</td><td>u8</td></tr></thead><tbody><tr><td>10000</td><td>1.0</td><td>1</td></tr><tr><td>20000</td><td>2.0</td><td>2</td></tr><tr><td>30000</td><td>3.0</td><td>3</td></tr></tbody></table></div>"
      ],
      "text/plain": [
       "shape: (3, 3)\n",
       "┌───────┬───────┬────────┐\n",
       "│ id    ┆ value ┆ value2 │\n",
       "│ ---   ┆ ---   ┆ ---    │\n",
       "│ i64   ┆ f32   ┆ u8     │\n",
       "╞═══════╪═══════╪════════╡\n",
       "│ 10000 ┆ 1.0   ┆ 1      │\n",
       "│ 20000 ┆ 2.0   ┆ 2      │\n",
       "│ 30000 ┆ 3.0   ┆ 3      │\n",
       "└───────┴───────┴────────┘"
      ]
     },
     "execution_count": 33,
     "metadata": {},
     "output_type": "execute_result"
    }
   ],
   "source": [
    "data_types_df.cast({pl.Float64: pl.Float32, pl.String: pl.UInt8})"
   ]
  },
  {
   "cell_type": "code",
   "execution_count": 34,
   "metadata": {},
   "outputs": [
    {
     "data": {
      "text/html": [
       "<div><style>\n",
       ".dataframe > thead > tr,\n",
       ".dataframe > tbody > tr {\n",
       "  text-align: right;\n",
       "  white-space: pre-wrap;\n",
       "}\n",
       "</style>\n",
       "<small>shape: (3, 3)</small><table border=\"1\" class=\"dataframe\"><thead><tr><th>id</th><th>value</th><th>value2</th></tr><tr><td>u16</td><td>u16</td><td>str</td></tr></thead><tbody><tr><td>10000</td><td>1</td><td>&quot;1&quot;</td></tr><tr><td>20000</td><td>2</td><td>&quot;2&quot;</td></tr><tr><td>30000</td><td>3</td><td>&quot;3&quot;</td></tr></tbody></table></div>"
      ],
      "text/plain": [
       "shape: (3, 3)\n",
       "┌───────┬───────┬────────┐\n",
       "│ id    ┆ value ┆ value2 │\n",
       "│ ---   ┆ ---   ┆ ---    │\n",
       "│ u16   ┆ u16   ┆ str    │\n",
       "╞═══════╪═══════╪════════╡\n",
       "│ 10000 ┆ 1     ┆ 1      │\n",
       "│ 20000 ┆ 2     ┆ 2      │\n",
       "│ 30000 ┆ 3     ┆ 3      │\n",
       "└───────┴───────┴────────┘"
      ]
     },
     "execution_count": 34,
     "metadata": {},
     "output_type": "execute_result"
    }
   ],
   "source": [
    "import polars.selectors as cs\n",
    "\n",
    "data_types_df.cast({cs.numeric(): pl.UInt16})"
   ]
  }
 ],
 "metadata": {
  "kernelspec": {
   "display_name": ".venv",
   "language": "python",
   "name": "python3"
  },
  "language_info": {
   "codemirror_mode": {
    "name": "ipython",
    "version": 3
   },
   "file_extension": ".py",
   "mimetype": "text/x-python",
   "name": "python",
   "nbconvert_exporter": "python",
   "pygments_lexer": "ipython3",
   "version": "3.12.3"
  }
 },
 "nbformat": 4,
 "nbformat_minor": 5
}
