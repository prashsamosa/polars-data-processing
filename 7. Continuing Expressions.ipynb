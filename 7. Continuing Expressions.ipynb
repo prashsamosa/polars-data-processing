{
 "cells": [
  {
   "cell_type": "markdown",
   "metadata": {},
   "source": [
    "# Continuing Expressions"
   ]
  },
  {
   "cell_type": "code",
   "execution_count": 1,
   "metadata": {},
   "outputs": [
    {
     "data": {
      "text/plain": [
       "'1.20.0'"
      ]
     },
     "execution_count": 1,
     "metadata": {},
     "output_type": "execute_result"
    }
   ],
   "source": [
    "import polars as pl\n",
    "pl.__version__"
   ]
  },
  {
   "cell_type": "code",
   "execution_count": 2,
   "metadata": {},
   "outputs": [
    {
     "name": "stdout",
     "output_type": "stream",
     "text": [
      "math.pi=3.141592653589793\n",
      "rng.random()=0.03074202960516803\n"
     ]
    }
   ],
   "source": [
    "import math\n",
    "import numpy as np\n",
    "\n",
    "print(f\"{math.pi=}\")\n",
    "rng = np.random.default_rng(1729)\n",
    "print(f\"{rng.random()=}\")"
   ]
  },
  {
   "cell_type": "markdown",
   "metadata": {},
   "source": [
    "## Types of Operations"
   ]
  },
  {
   "cell_type": "markdown",
   "metadata": {},
   "source": [
    "### Example A: Element-Wise Operations"
   ]
  },
  {
   "cell_type": "code",
   "execution_count": 3,
   "metadata": {},
   "outputs": [
    {
     "data": {
      "text/html": [
       "<div><style>\n",
       ".dataframe > thead > tr,\n",
       ".dataframe > tbody > tr {\n",
       "  text-align: right;\n",
       "  white-space: pre-wrap;\n",
       "}\n",
       "</style>\n",
       "<small>shape: (344, 7)</small><table border=\"1\" class=\"dataframe\"><thead><tr><th>species</th><th>island</th><th>sex</th><th>year</th><th>mass</th><th>mass_sqrt</th><th>mass_exp</th></tr><tr><td>str</td><td>str</td><td>str</td><td>i64</td><td>f64</td><td>f64</td><td>f64</td></tr></thead><tbody><tr><td>&quot;Adelie&quot;</td><td>&quot;Torgersen&quot;</td><td>&quot;male&quot;</td><td>2007</td><td>3.75</td><td>1.936492</td><td>42.521082</td></tr><tr><td>&quot;Adelie&quot;</td><td>&quot;Torgersen&quot;</td><td>&quot;female&quot;</td><td>2007</td><td>3.8</td><td>1.949359</td><td>44.701184</td></tr><tr><td>&quot;Adelie&quot;</td><td>&quot;Torgersen&quot;</td><td>&quot;female&quot;</td><td>2007</td><td>3.25</td><td>1.802776</td><td>25.79034</td></tr><tr><td>&quot;Adelie&quot;</td><td>&quot;Torgersen&quot;</td><td>null</td><td>2007</td><td>null</td><td>null</td><td>null</td></tr><tr><td>&quot;Adelie&quot;</td><td>&quot;Torgersen&quot;</td><td>&quot;female&quot;</td><td>2007</td><td>3.45</td><td>1.857418</td><td>31.500392</td></tr><tr><td>&hellip;</td><td>&hellip;</td><td>&hellip;</td><td>&hellip;</td><td>&hellip;</td><td>&hellip;</td><td>&hellip;</td></tr><tr><td>&quot;Chinstrap&quot;</td><td>&quot;Dream&quot;</td><td>&quot;male&quot;</td><td>2009</td><td>4.0</td><td>2.0</td><td>54.59815</td></tr><tr><td>&quot;Chinstrap&quot;</td><td>&quot;Dream&quot;</td><td>&quot;female&quot;</td><td>2009</td><td>3.4</td><td>1.843909</td><td>29.9641</td></tr><tr><td>&quot;Chinstrap&quot;</td><td>&quot;Dream&quot;</td><td>&quot;male&quot;</td><td>2009</td><td>3.775</td><td>1.942936</td><td>43.597508</td></tr><tr><td>&quot;Chinstrap&quot;</td><td>&quot;Dream&quot;</td><td>&quot;male&quot;</td><td>2009</td><td>4.1</td><td>2.024846</td><td>60.340288</td></tr><tr><td>&quot;Chinstrap&quot;</td><td>&quot;Dream&quot;</td><td>&quot;female&quot;</td><td>2009</td><td>3.775</td><td>1.942936</td><td>43.597508</td></tr></tbody></table></div>"
      ],
      "text/plain": [
       "shape: (344, 7)\n",
       "┌───────────┬───────────┬────────┬──────┬───────┬───────────┬───────────┐\n",
       "│ species   ┆ island    ┆ sex    ┆ year ┆ mass  ┆ mass_sqrt ┆ mass_exp  │\n",
       "│ ---       ┆ ---       ┆ ---    ┆ ---  ┆ ---   ┆ ---       ┆ ---       │\n",
       "│ str       ┆ str       ┆ str    ┆ i64  ┆ f64   ┆ f64       ┆ f64       │\n",
       "╞═══════════╪═══════════╪════════╪══════╪═══════╪═══════════╪═══════════╡\n",
       "│ Adelie    ┆ Torgersen ┆ male   ┆ 2007 ┆ 3.75  ┆ 1.936492  ┆ 42.521082 │\n",
       "│ Adelie    ┆ Torgersen ┆ female ┆ 2007 ┆ 3.8   ┆ 1.949359  ┆ 44.701184 │\n",
       "│ Adelie    ┆ Torgersen ┆ female ┆ 2007 ┆ 3.25  ┆ 1.802776  ┆ 25.79034  │\n",
       "│ Adelie    ┆ Torgersen ┆ null   ┆ 2007 ┆ null  ┆ null      ┆ null      │\n",
       "│ Adelie    ┆ Torgersen ┆ female ┆ 2007 ┆ 3.45  ┆ 1.857418  ┆ 31.500392 │\n",
       "│ …         ┆ …         ┆ …      ┆ …    ┆ …     ┆ …         ┆ …         │\n",
       "│ Chinstrap ┆ Dream     ┆ male   ┆ 2009 ┆ 4.0   ┆ 2.0       ┆ 54.59815  │\n",
       "│ Chinstrap ┆ Dream     ┆ female ┆ 2009 ┆ 3.4   ┆ 1.843909  ┆ 29.9641   │\n",
       "│ Chinstrap ┆ Dream     ┆ male   ┆ 2009 ┆ 3.775 ┆ 1.942936  ┆ 43.597508 │\n",
       "│ Chinstrap ┆ Dream     ┆ male   ┆ 2009 ┆ 4.1   ┆ 2.024846  ┆ 60.340288 │\n",
       "│ Chinstrap ┆ Dream     ┆ female ┆ 2009 ┆ 3.775 ┆ 1.942936  ┆ 43.597508 │\n",
       "└───────────┴───────────┴────────┴──────┴───────┴───────────┴───────────┘"
      ]
     },
     "execution_count": 3,
     "metadata": {},
     "output_type": "execute_result"
    }
   ],
   "source": [
    "penguins = pl.read_csv(\"data/penguins.csv\", null_values=\"NA\").select(\n",
    "    \"species\",\n",
    "    \"island\",\n",
    "    \"sex\",\n",
    "    \"year\",\n",
    "    mass=pl.col(\"body_mass_g\") / 1000,\n",
    ")\n",
    "penguins.with_columns(\n",
    "    mass_sqrt=pl.col(\"mass\").sqrt(),\n",
    "    mass_exp=pl.col(\"mass\").exp(),\n",
    ")"
   ]
  },
  {
   "cell_type": "markdown",
   "metadata": {},
   "source": [
    "### Example B: Operations That Summarize to One"
   ]
  },
  {
   "cell_type": "code",
   "execution_count": 4,
   "metadata": {},
   "outputs": [
    {
     "data": {
      "text/html": [
       "<div><style>\n",
       ".dataframe > thead > tr,\n",
       ".dataframe > tbody > tr {\n",
       "  text-align: right;\n",
       "  white-space: pre-wrap;\n",
       "}\n",
       "</style>\n",
       "<small>shape: (1, 2)</small><table border=\"1\" class=\"dataframe\"><thead><tr><th>mass</th><th>island</th></tr><tr><td>f64</td><td>str</td></tr></thead><tbody><tr><td>4.201754</td><td>&quot;Torgersen&quot;</td></tr></tbody></table></div>"
      ],
      "text/plain": [
       "shape: (1, 2)\n",
       "┌──────────┬───────────┐\n",
       "│ mass     ┆ island    │\n",
       "│ ---      ┆ ---       │\n",
       "│ f64      ┆ str       │\n",
       "╞══════════╪═══════════╡\n",
       "│ 4.201754 ┆ Torgersen │\n",
       "└──────────┴───────────┘"
      ]
     },
     "execution_count": 4,
     "metadata": {},
     "output_type": "execute_result"
    }
   ],
   "source": [
    "penguins.select(pl.col(\"mass\").mean(), pl.col(\"island\").first())"
   ]
  },
  {
   "cell_type": "markdown",
   "metadata": {},
   "source": [
    "### Example C: Operations That Summarize to One or More"
   ]
  },
  {
   "cell_type": "code",
   "execution_count": 6,
   "metadata": {},
   "outputs": [
    {
     "data": {
      "text/html": [
       "<div><style>\n",
       ".dataframe > thead > tr,\n",
       ".dataframe > tbody > tr {\n",
       "  text-align: right;\n",
       "  white-space: pre-wrap;\n",
       "}\n",
       "</style>\n",
       "<small>shape: (3, 1)</small><table border=\"1\" class=\"dataframe\"><thead><tr><th>island</th></tr><tr><td>str</td></tr></thead><tbody><tr><td>&quot;Dream&quot;</td></tr><tr><td>&quot;Torgersen&quot;</td></tr><tr><td>&quot;Biscoe&quot;</td></tr></tbody></table></div>"
      ],
      "text/plain": [
       "shape: (3, 1)\n",
       "┌───────────┐\n",
       "│ island    │\n",
       "│ ---       │\n",
       "│ str       │\n",
       "╞═══════════╡\n",
       "│ Dream     │\n",
       "│ Torgersen │\n",
       "│ Biscoe    │\n",
       "└───────────┘"
      ]
     },
     "execution_count": 6,
     "metadata": {},
     "output_type": "execute_result"
    }
   ],
   "source": [
    "penguins.select(pl.col(\"island\").unique())"
   ]
  },
  {
   "cell_type": "markdown",
   "metadata": {},
   "source": [
    "### Example D: Operations That Extend"
   ]
  },
  {
   "cell_type": "code",
   "execution_count": 5,
   "metadata": {},
   "outputs": [
    {
     "data": {
      "text/html": [
       "<div><style>\n",
       ".dataframe > thead > tr,\n",
       ".dataframe > tbody > tr {\n",
       "  text-align: right;\n",
       "  white-space: pre-wrap;\n",
       "}\n",
       "</style>\n",
       "<small>shape: (9_001, 1)</small><table border=\"1\" class=\"dataframe\"><thead><tr><th>species</th></tr><tr><td>str</td></tr></thead><tbody><tr><td>&quot;Adelie&quot;</td></tr><tr><td>&quot;Adelie&quot;</td></tr><tr><td>&quot;Adelie&quot;</td></tr><tr><td>&quot;Adelie&quot;</td></tr><tr><td>&quot;Adelie&quot;</td></tr><tr><td>&hellip;</td></tr><tr><td>&quot;Chinstrap&quot;</td></tr><tr><td>&quot;Chinstrap&quot;</td></tr><tr><td>&quot;Chinstrap&quot;</td></tr><tr><td>&quot;Chinstrap&quot;</td></tr><tr><td>&quot;Saiyan&quot;</td></tr></tbody></table></div>"
      ],
      "text/plain": [
       "shape: (9_001, 1)\n",
       "┌───────────┐\n",
       "│ species   │\n",
       "│ ---       │\n",
       "│ str       │\n",
       "╞═══════════╡\n",
       "│ Adelie    │\n",
       "│ Adelie    │\n",
       "│ Adelie    │\n",
       "│ Adelie    │\n",
       "│ Adelie    │\n",
       "│ …         │\n",
       "│ Chinstrap │\n",
       "│ Chinstrap │\n",
       "│ Chinstrap │\n",
       "│ Chinstrap │\n",
       "│ Saiyan    │\n",
       "└───────────┘"
      ]
     },
     "execution_count": 5,
     "metadata": {},
     "output_type": "execute_result"
    }
   ],
   "source": [
    "penguins.select(\n",
    "    pl.col(\"species\")\n",
    "    .unique()\n",
    "    .repeat_by(3000)\n",
    "    .explode()\n",
    "    .extend_constant(\"Saiyan\", n=1)\n",
    ")"
   ]
  },
  {
   "cell_type": "markdown",
   "metadata": {},
   "source": [
    "## Element-Wise Operations"
   ]
  },
  {
   "cell_type": "markdown",
   "metadata": {},
   "source": [
    "### Operations That Perform Mathematical Transformations"
   ]
  },
  {
   "cell_type": "code",
   "execution_count": 7,
   "metadata": {},
   "outputs": [
    {
     "data": {
      "text/html": [
       "<div><style>\n",
       ".dataframe > thead > tr,\n",
       ".dataframe > tbody > tr {\n",
       "  text-align: right;\n",
       "  white-space: pre-wrap;\n",
       "}\n",
       "</style>\n",
       "<small>shape: (6, 8)</small><table border=\"1\" class=\"dataframe\"><thead><tr><th>x</th><th>abs</th><th>exp</th><th>log2</th><th>log10</th><th>log1p</th><th>sign</th><th>sqrt</th></tr><tr><td>f64</td><td>f64</td><td>f64</td><td>f64</td><td>f64</td><td>f64</td><td>f64</td><td>f64</td></tr></thead><tbody><tr><td>-2.0</td><td>2.0</td><td>0.135335</td><td>NaN</td><td>NaN</td><td>NaN</td><td>-1.0</td><td>NaN</td></tr><tr><td>0.0</td><td>0.0</td><td>1.0</td><td>-inf</td><td>-inf</td><td>0.0</td><td>0.0</td><td>0.0</td></tr><tr><td>0.5</td><td>0.5</td><td>1.648721</td><td>-1.0</td><td>-0.30103</td><td>0.405465</td><td>1.0</td><td>0.707107</td></tr><tr><td>1.0</td><td>1.0</td><td>2.718282</td><td>0.0</td><td>0.0</td><td>0.693147</td><td>1.0</td><td>1.0</td></tr><tr><td>2.718282</td><td>2.718282</td><td>15.154262</td><td>1.442695</td><td>0.434294</td><td>1.313262</td><td>1.0</td><td>1.648721</td></tr><tr><td>1000.0</td><td>1000.0</td><td>inf</td><td>9.965784</td><td>3.0</td><td>6.908755</td><td>1.0</td><td>31.622777</td></tr></tbody></table></div>"
      ],
      "text/plain": [
       "shape: (6, 8)\n",
       "┌──────────┬──────────┬───────────┬──────────┬──────────┬──────────┬──────┬───────────┐\n",
       "│ x        ┆ abs      ┆ exp       ┆ log2     ┆ log10    ┆ log1p    ┆ sign ┆ sqrt      │\n",
       "│ ---      ┆ ---      ┆ ---       ┆ ---      ┆ ---      ┆ ---      ┆ ---  ┆ ---       │\n",
       "│ f64      ┆ f64      ┆ f64       ┆ f64      ┆ f64      ┆ f64      ┆ f64  ┆ f64       │\n",
       "╞══════════╪══════════╪═══════════╪══════════╪══════════╪══════════╪══════╪═══════════╡\n",
       "│ -2.0     ┆ 2.0      ┆ 0.135335  ┆ NaN      ┆ NaN      ┆ NaN      ┆ -1.0 ┆ NaN       │\n",
       "│ 0.0      ┆ 0.0      ┆ 1.0       ┆ -inf     ┆ -inf     ┆ 0.0      ┆ 0.0  ┆ 0.0       │\n",
       "│ 0.5      ┆ 0.5      ┆ 1.648721  ┆ -1.0     ┆ -0.30103 ┆ 0.405465 ┆ 1.0  ┆ 0.707107  │\n",
       "│ 1.0      ┆ 1.0      ┆ 2.718282  ┆ 0.0      ┆ 0.0      ┆ 0.693147 ┆ 1.0  ┆ 1.0       │\n",
       "│ 2.718282 ┆ 2.718282 ┆ 15.154262 ┆ 1.442695 ┆ 0.434294 ┆ 1.313262 ┆ 1.0  ┆ 1.648721  │\n",
       "│ 1000.0   ┆ 1000.0   ┆ inf       ┆ 9.965784 ┆ 3.0      ┆ 6.908755 ┆ 1.0  ┆ 31.622777 │\n",
       "└──────────┴──────────┴───────────┴──────────┴──────────┴──────────┴──────┴───────────┘"
      ]
     },
     "execution_count": 7,
     "metadata": {},
     "output_type": "execute_result"
    }
   ],
   "source": [
    "(\n",
    "    pl.DataFrame({\"x\": [-2.0, 0.0, 0.5, 1.0, math.e, 1000.0]}).with_columns(\n",
    "        abs=pl.col(\"x\").abs(),\n",
    "        exp=pl.col(\"x\").exp(),\n",
    "        log2=pl.col(\"x\").log(2),\n",
    "        log10=pl.col(\"x\").log10(),\n",
    "        log1p=pl.col(\"x\").log1p(),\n",
    "        sign=pl.col(\"x\").sign(),\n",
    "        sqrt=pl.col(\"x\").sqrt(),\n",
    "    )\n",
    ")"
   ]
  },
  {
   "cell_type": "markdown",
   "metadata": {},
   "source": [
    "### Operations Related to Trigonometry"
   ]
  },
  {
   "cell_type": "code",
   "execution_count": 8,
   "metadata": {},
   "outputs": [
    {
     "data": {
      "text/html": [
       "<div><style>\n",
       ".dataframe > thead > tr,\n",
       ".dataframe > tbody > tr {\n",
       "  text-align: right;\n",
       "  white-space: pre-wrap;\n",
       "}\n",
       "</style>\n",
       "<small>shape: (8, 6)</small><table border=\"1\" class=\"dataframe\"><thead><tr><th>x</th><th>arccos</th><th>cos</th><th>degrees</th><th>radians</th><th>sin</th></tr><tr><td>f64</td><td>f64</td><td>f64</td><td>f64</td><td>f64</td><td>f64</td></tr></thead><tbody><tr><td>-3.141593</td><td>NaN</td><td>-1.0</td><td>-180.0</td><td>-0.054831</td><td>-1.2246e-16</td></tr><tr><td>0.0</td><td>1.570796</td><td>1.0</td><td>0.0</td><td>0.0</td><td>0.0</td></tr><tr><td>1.0</td><td>0.0</td><td>0.540302</td><td>57.29578</td><td>0.017453</td><td>0.841471</td></tr><tr><td>3.141593</td><td>NaN</td><td>-1.0</td><td>180.0</td><td>0.054831</td><td>1.2246e-16</td></tr><tr><td>6.283185</td><td>NaN</td><td>1.0</td><td>360.0</td><td>0.109662</td><td>-2.4493e-16</td></tr><tr><td>90.0</td><td>NaN</td><td>-0.448074</td><td>5156.620156</td><td>1.570796</td><td>0.893997</td></tr><tr><td>180.0</td><td>NaN</td><td>-0.59846</td><td>10313.240312</td><td>3.141593</td><td>-0.801153</td></tr><tr><td>360.0</td><td>NaN</td><td>-0.283691</td><td>20626.480625</td><td>6.283185</td><td>0.958916</td></tr></tbody></table></div>"
      ],
      "text/plain": [
       "shape: (8, 6)\n",
       "┌───────────┬──────────┬───────────┬──────────────┬───────────┬─────────────┐\n",
       "│ x         ┆ arccos   ┆ cos       ┆ degrees      ┆ radians   ┆ sin         │\n",
       "│ ---       ┆ ---      ┆ ---       ┆ ---          ┆ ---       ┆ ---         │\n",
       "│ f64       ┆ f64      ┆ f64       ┆ f64          ┆ f64       ┆ f64         │\n",
       "╞═══════════╪══════════╪═══════════╪══════════════╪═══════════╪═════════════╡\n",
       "│ -3.141593 ┆ NaN      ┆ -1.0      ┆ -180.0       ┆ -0.054831 ┆ -1.2246e-16 │\n",
       "│ 0.0       ┆ 1.570796 ┆ 1.0       ┆ 0.0          ┆ 0.0       ┆ 0.0         │\n",
       "│ 1.0       ┆ 0.0      ┆ 0.540302  ┆ 57.29578     ┆ 0.017453  ┆ 0.841471    │\n",
       "│ 3.141593  ┆ NaN      ┆ -1.0      ┆ 180.0        ┆ 0.054831  ┆ 1.2246e-16  │\n",
       "│ 6.283185  ┆ NaN      ┆ 1.0       ┆ 360.0        ┆ 0.109662  ┆ -2.4493e-16 │\n",
       "│ 90.0      ┆ NaN      ┆ -0.448074 ┆ 5156.620156  ┆ 1.570796  ┆ 0.893997    │\n",
       "│ 180.0     ┆ NaN      ┆ -0.59846  ┆ 10313.240312 ┆ 3.141593  ┆ -0.801153   │\n",
       "│ 360.0     ┆ NaN      ┆ -0.283691 ┆ 20626.480625 ┆ 6.283185  ┆ 0.958916    │\n",
       "└───────────┴──────────┴───────────┴──────────────┴───────────┴─────────────┘"
      ]
     },
     "execution_count": 8,
     "metadata": {},
     "output_type": "execute_result"
    }
   ],
   "source": [
    "(\n",
    "    pl.DataFrame(\n",
    "        {\"x\": [-math.pi, 0.0, 1.0, math.pi, 2 * math.pi, 90.0, 180.0, 360.0]}\n",
    "    ).with_columns(\n",
    "        arccos=pl.col(\"x\").arccos(),\n",
    "        cos=pl.col(\"x\").cos(),\n",
    "        degrees=pl.col(\"x\").degrees(),\n",
    "        radians=pl.col(\"x\").radians(),\n",
    "        sin=pl.col(\"x\").sin(),\n",
    "    )\n",
    ")"
   ]
  },
  {
   "cell_type": "markdown",
   "metadata": {},
   "source": [
    "### Operations That Round and Categorize"
   ]
  },
  {
   "cell_type": "code",
   "execution_count": 9,
   "metadata": {},
   "outputs": [
    {
     "data": {
      "text/html": [
       "<div><style>\n",
       ".dataframe > thead > tr,\n",
       ".dataframe > tbody > tr {\n",
       "  text-align: right;\n",
       "  white-space: pre-wrap;\n",
       "}\n",
       "</style>\n",
       "<small>shape: (8, 8)</small><table border=\"1\" class=\"dataframe\"><thead><tr><th>x</th><th>ceil</th><th>clip</th><th>cut</th><th>floor</th><th>qcut</th><th>round2</th><th>round0</th></tr><tr><td>f64</td><td>f64</td><td>f64</td><td>cat</td><td>f64</td><td>cat</td><td>f64</td><td>f64</td></tr></thead><tbody><tr><td>-6.0</td><td>-6.0</td><td>-1.0</td><td>&quot;bad&quot;</td><td>-6.0</td><td>&quot;below median&quot;</td><td>-6.0</td><td>-6.0</td></tr><tr><td>-0.5</td><td>-0.0</td><td>-0.5</td><td>&quot;neutral&quot;</td><td>-1.0</td><td>&quot;below median&quot;</td><td>-0.5</td><td>-1.0</td></tr><tr><td>0.0</td><td>0.0</td><td>0.0</td><td>&quot;neutral&quot;</td><td>0.0</td><td>&quot;below median&quot;</td><td>0.0</td><td>0.0</td></tr><tr><td>0.5</td><td>1.0</td><td>0.5</td><td>&quot;neutral&quot;</td><td>0.0</td><td>&quot;below median&quot;</td><td>0.5</td><td>1.0</td></tr><tr><td>3.141593</td><td>4.0</td><td>1.0</td><td>&quot;good&quot;</td><td>3.0</td><td>&quot;above median&quot;</td><td>3.14</td><td>3.0</td></tr><tr><td>9.9</td><td>10.0</td><td>1.0</td><td>&quot;good&quot;</td><td>9.0</td><td>&quot;above median&quot;</td><td>9.9</td><td>10.0</td></tr><tr><td>9.99</td><td>10.0</td><td>1.0</td><td>&quot;good&quot;</td><td>9.0</td><td>&quot;above median&quot;</td><td>9.99</td><td>10.0</td></tr><tr><td>9.999</td><td>10.0</td><td>1.0</td><td>&quot;good&quot;</td><td>9.0</td><td>&quot;above median&quot;</td><td>10.0</td><td>10.0</td></tr></tbody></table></div>"
      ],
      "text/plain": [
       "shape: (8, 8)\n",
       "┌──────────┬──────┬──────┬─────────┬───────┬──────────────┬────────┬────────┐\n",
       "│ x        ┆ ceil ┆ clip ┆ cut     ┆ floor ┆ qcut         ┆ round2 ┆ round0 │\n",
       "│ ---      ┆ ---  ┆ ---  ┆ ---     ┆ ---   ┆ ---          ┆ ---    ┆ ---    │\n",
       "│ f64      ┆ f64  ┆ f64  ┆ cat     ┆ f64   ┆ cat          ┆ f64    ┆ f64    │\n",
       "╞══════════╪══════╪══════╪═════════╪═══════╪══════════════╪════════╪════════╡\n",
       "│ -6.0     ┆ -6.0 ┆ -1.0 ┆ bad     ┆ -6.0  ┆ below median ┆ -6.0   ┆ -6.0   │\n",
       "│ -0.5     ┆ -0.0 ┆ -0.5 ┆ neutral ┆ -1.0  ┆ below median ┆ -0.5   ┆ -1.0   │\n",
       "│ 0.0      ┆ 0.0  ┆ 0.0  ┆ neutral ┆ 0.0   ┆ below median ┆ 0.0    ┆ 0.0    │\n",
       "│ 0.5      ┆ 1.0  ┆ 0.5  ┆ neutral ┆ 0.0   ┆ below median ┆ 0.5    ┆ 1.0    │\n",
       "│ 3.141593 ┆ 4.0  ┆ 1.0  ┆ good    ┆ 3.0   ┆ above median ┆ 3.14   ┆ 3.0    │\n",
       "│ 9.9      ┆ 10.0 ┆ 1.0  ┆ good    ┆ 9.0   ┆ above median ┆ 9.9    ┆ 10.0   │\n",
       "│ 9.99     ┆ 10.0 ┆ 1.0  ┆ good    ┆ 9.0   ┆ above median ┆ 9.99   ┆ 10.0   │\n",
       "│ 9.999    ┆ 10.0 ┆ 1.0  ┆ good    ┆ 9.0   ┆ above median ┆ 10.0   ┆ 10.0   │\n",
       "└──────────┴──────┴──────┴─────────┴───────┴──────────────┴────────┴────────┘"
      ]
     },
     "execution_count": 9,
     "metadata": {},
     "output_type": "execute_result"
    }
   ],
   "source": [
    "(\n",
    "    pl.DataFrame(\n",
    "        {\"x\": [-6.0, -0.5, 0.0, 0.5, math.pi, 9.9, 9.99, 9.999]}\n",
    "    ).with_columns(\n",
    "        ceil=pl.col(\"x\").ceil(),\n",
    "        clip=pl.col(\"x\").clip(-1, 1),\n",
    "        cut=pl.col(\"x\").cut([-1, 1], labels=[\"bad\", \"neutral\", \"good\"]),\n",
    "        floor=pl.col(\"x\").floor(),\n",
    "        qcut=pl.col(\"x\").qcut([0.5], labels=[\"below median\", \"above median\"]),\n",
    "        round2=pl.col(\"x\").round(2),\n",
    "        round0=pl.col(\"x\").round(0),\n",
    "    )\n",
    ")"
   ]
  },
  {
   "cell_type": "markdown",
   "metadata": {},
   "source": [
    "### Operations for Missing or Infinite Values"
   ]
  },
  {
   "cell_type": "code",
   "execution_count": 10,
   "metadata": {},
   "outputs": [
    {
     "data": {
      "text/html": [
       "<div><style>\n",
       ".dataframe > thead > tr,\n",
       ".dataframe > tbody > tr {\n",
       "  text-align: right;\n",
       "  white-space: pre-wrap;\n",
       "}\n",
       "</style>\n",
       "<small>shape: (5, 7)</small><table border=\"1\" class=\"dataframe\"><thead><tr><th>x</th><th>fill_nan</th><th>fill_null</th><th>is_finite</th><th>is_infinite</th><th>is_nan</th><th>is_null</th></tr><tr><td>f64</td><td>f64</td><td>f64</td><td>bool</td><td>bool</td><td>bool</td><td>bool</td></tr></thead><tbody><tr><td>42.0</td><td>42.0</td><td>42.0</td><td>true</td><td>false</td><td>false</td><td>false</td></tr><tr><td>NaN</td><td>999.0</td><td>NaN</td><td>false</td><td>false</td><td>true</td><td>false</td></tr><tr><td>null</td><td>null</td><td>0.0</td><td>null</td><td>null</td><td>null</td><td>true</td></tr><tr><td>inf</td><td>inf</td><td>inf</td><td>false</td><td>true</td><td>false</td><td>false</td></tr><tr><td>-inf</td><td>-inf</td><td>-inf</td><td>false</td><td>true</td><td>false</td><td>false</td></tr></tbody></table></div>"
      ],
      "text/plain": [
       "shape: (5, 7)\n",
       "┌──────┬──────────┬───────────┬───────────┬─────────────┬────────┬─────────┐\n",
       "│ x    ┆ fill_nan ┆ fill_null ┆ is_finite ┆ is_infinite ┆ is_nan ┆ is_null │\n",
       "│ ---  ┆ ---      ┆ ---       ┆ ---       ┆ ---         ┆ ---    ┆ ---     │\n",
       "│ f64  ┆ f64      ┆ f64       ┆ bool      ┆ bool        ┆ bool   ┆ bool    │\n",
       "╞══════╪══════════╪═══════════╪═══════════╪═════════════╪════════╪═════════╡\n",
       "│ 42.0 ┆ 42.0     ┆ 42.0      ┆ true      ┆ false       ┆ false  ┆ false   │\n",
       "│ NaN  ┆ 999.0    ┆ NaN       ┆ false     ┆ false       ┆ true   ┆ false   │\n",
       "│ null ┆ null     ┆ 0.0       ┆ null      ┆ null        ┆ null   ┆ true    │\n",
       "│ inf  ┆ inf      ┆ inf       ┆ false     ┆ true        ┆ false  ┆ false   │\n",
       "│ -inf ┆ -inf     ┆ -inf      ┆ false     ┆ true        ┆ false  ┆ false   │\n",
       "└──────┴──────────┴───────────┴───────────┴─────────────┴────────┴─────────┘"
      ]
     },
     "execution_count": 10,
     "metadata": {},
     "output_type": "execute_result"
    }
   ],
   "source": [
    "x = [42.0, math.nan, None, math.inf, -math.inf]\n",
    "(\n",
    "    pl.DataFrame({\"x\": x}).with_columns(\n",
    "        fill_nan=pl.col(\"x\").fill_nan(999),\n",
    "        fill_null=pl.col(\"x\").fill_null(0),\n",
    "        is_finite=pl.col(\"x\").is_finite(),\n",
    "        is_infinite=pl.col(\"x\").is_infinite(),\n",
    "        is_nan=pl.col(\"x\").is_nan(),\n",
    "        is_null=pl.col(\"x\").is_null(),\n",
    "    )\n",
    ")"
   ]
  },
  {
   "cell_type": "code",
   "execution_count": 11,
   "metadata": {},
   "outputs": [
    {
     "data": {
      "text/html": [
       "<div><style>\n",
       ".dataframe > thead > tr,\n",
       ".dataframe > tbody > tr {\n",
       "  text-align: right;\n",
       "  white-space: pre-wrap;\n",
       "}\n",
       "</style>\n",
       "<small>shape: (5, 3)</small><table border=\"1\" class=\"dataframe\"><thead><tr><th>x</th><th>fill_both</th><th>is_either</th></tr><tr><td>f64</td><td>f64</td><td>bool</td></tr></thead><tbody><tr><td>42.0</td><td>42.0</td><td>false</td></tr><tr><td>NaN</td><td>0.0</td><td>true</td></tr><tr><td>null</td><td>0.0</td><td>true</td></tr><tr><td>inf</td><td>inf</td><td>false</td></tr><tr><td>-inf</td><td>-inf</td><td>false</td></tr></tbody></table></div>"
      ],
      "text/plain": [
       "shape: (5, 3)\n",
       "┌──────┬───────────┬───────────┐\n",
       "│ x    ┆ fill_both ┆ is_either │\n",
       "│ ---  ┆ ---       ┆ ---       │\n",
       "│ f64  ┆ f64       ┆ bool      │\n",
       "╞══════╪═══════════╪═══════════╡\n",
       "│ 42.0 ┆ 42.0      ┆ false     │\n",
       "│ NaN  ┆ 0.0       ┆ true      │\n",
       "│ null ┆ 0.0       ┆ true      │\n",
       "│ inf  ┆ inf       ┆ false     │\n",
       "│ -inf ┆ -inf      ┆ false     │\n",
       "└──────┴───────────┴───────────┘"
      ]
     },
     "execution_count": 11,
     "metadata": {},
     "output_type": "execute_result"
    }
   ],
   "source": [
    "(\n",
    "    pl.DataFrame({\"x\": x}).with_columns(\n",
    "        fill_both=pl.col(\"x\").fill_nan(0).fill_null(0),\n",
    "        is_either=(pl.col(\"x\").is_nan() | pl.col(\"x\").is_null()),\n",
    "    )\n",
    ")"
   ]
  },
  {
   "cell_type": "markdown",
   "metadata": {},
   "source": [
    "### Other Operations"
   ]
  },
  {
   "cell_type": "code",
   "execution_count": 12,
   "metadata": {},
   "outputs": [
    {
     "data": {
      "text/html": [
       "<div><style>\n",
       ".dataframe > thead > tr,\n",
       ".dataframe > tbody > tr {\n",
       "  text-align: right;\n",
       "  white-space: pre-wrap;\n",
       "}\n",
       "</style>\n",
       "<small>shape: (4, 4)</small><table border=\"1\" class=\"dataframe\"><thead><tr><th>x</th><th>hash</th><th>repeat_by</th><th>replace</th></tr><tr><td>str</td><td>u64</td><td>list[str]</td><td>str</td></tr></thead><tbody><tr><td>&quot;here&quot;</td><td>12695211751326448172</td><td>[&quot;here&quot;, &quot;here&quot;, &quot;here&quot;]</td><td>&quot;there&quot;</td></tr><tr><td>&quot;there&quot;</td><td>17329794691236705436</td><td>[&quot;there&quot;, &quot;there&quot;, &quot;there&quot;]</td><td>&quot;there&quot;</td></tr><tr><td>&quot;their&quot;</td><td>2663095961041830581</td><td>[&quot;their&quot;, &quot;their&quot;, &quot;their&quot;]</td><td>&quot;their&quot;</td></tr><tr><td>&quot;they&#x27;re&quot;</td><td>6743063676290245144</td><td>[&quot;they&#x27;re&quot;, &quot;they&#x27;re&quot;, &quot;they&#x27;re&quot;]</td><td>&quot;they are&quot;</td></tr></tbody></table></div>"
      ],
      "text/plain": [
       "shape: (4, 4)\n",
       "┌─────────┬──────────────────────┬─────────────────────────────────┬──────────┐\n",
       "│ x       ┆ hash                 ┆ repeat_by                       ┆ replace  │\n",
       "│ ---     ┆ ---                  ┆ ---                             ┆ ---      │\n",
       "│ str     ┆ u64                  ┆ list[str]                       ┆ str      │\n",
       "╞═════════╪══════════════════════╪═════════════════════════════════╪══════════╡\n",
       "│ here    ┆ 12695211751326448172 ┆ [\"here\", \"here\", \"here\"]        ┆ there    │\n",
       "│ there   ┆ 17329794691236705436 ┆ [\"there\", \"there\", \"there\"]     ┆ there    │\n",
       "│ their   ┆ 2663095961041830581  ┆ [\"their\", \"their\", \"their\"]     ┆ their    │\n",
       "│ they're ┆ 6743063676290245144  ┆ [\"they're\", \"they're\", \"they'r… ┆ they are │\n",
       "└─────────┴──────────────────────┴─────────────────────────────────┴──────────┘"
      ]
     },
     "execution_count": 12,
     "metadata": {},
     "output_type": "execute_result"
    }
   ],
   "source": [
    "(\n",
    "    pl.DataFrame({\"x\": [\"here\", \"there\", \"their\", \"they're\"]}).with_columns(\n",
    "        hash=pl.col(\"x\").hash(seed=1337),\n",
    "        repeat_by=pl.col(\"x\").repeat_by(3),\n",
    "        replace=pl.col(\"x\").replace(\n",
    "            {\n",
    "                \"here\": \"there\",\n",
    "                \"they're\": \"they are\",\n",
    "            }\n",
    "        ),\n",
    "    )\n",
    ")"
   ]
  },
  {
   "cell_type": "markdown",
   "metadata": {},
   "source": [
    "## Nonreducing Series-Wise Operations"
   ]
  },
  {
   "cell_type": "markdown",
   "metadata": {},
   "source": [
    "### Operations That Accumulate"
   ]
  },
  {
   "cell_type": "code",
   "execution_count": 13,
   "metadata": {},
   "outputs": [
    {
     "data": {
      "text/html": [
       "<div><style>\n",
       ".dataframe > thead > tr,\n",
       ".dataframe > tbody > tr {\n",
       "  text-align: right;\n",
       "  white-space: pre-wrap;\n",
       "}\n",
       "</style>\n",
       "<small>shape: (8, 8)</small><table border=\"1\" class=\"dataframe\"><thead><tr><th>x</th><th>cum_count</th><th>cum_max</th><th>cum_min</th><th>cum_prod</th><th>cum_sum</th><th>diff</th><th>pct_change</th></tr><tr><td>f64</td><td>u32</td><td>f64</td><td>f64</td><td>f64</td><td>f64</td><td>f64</td><td>f64</td></tr></thead><tbody><tr><td>0.0</td><td>1</td><td>0.0</td><td>0.0</td><td>NaN</td><td>0.0</td><td>null</td><td>null</td></tr><tr><td>1.0</td><td>2</td><td>1.0</td><td>0.0</td><td>NaN</td><td>1.0</td><td>1.0</td><td>inf</td></tr><tr><td>2.0</td><td>3</td><td>2.0</td><td>0.0</td><td>NaN</td><td>3.0</td><td>1.0</td><td>1.0</td></tr><tr><td>null</td><td>3</td><td>null</td><td>null</td><td>null</td><td>null</td><td>null</td><td>0.0</td></tr><tr><td>2.0</td><td>4</td><td>2.0</td><td>0.0</td><td>NaN</td><td>5.0</td><td>null</td><td>0.0</td></tr><tr><td>NaN</td><td>5</td><td>2.0</td><td>0.0</td><td>NaN</td><td>NaN</td><td>NaN</td><td>NaN</td></tr><tr><td>-1.0</td><td>6</td><td>2.0</td><td>-1.0</td><td>-2.0</td><td>NaN</td><td>NaN</td><td>NaN</td></tr><tr><td>2.0</td><td>7</td><td>2.0</td><td>-1.0</td><td>2.0</td><td>NaN</td><td>3.0</td><td>-3.0</td></tr></tbody></table></div>"
      ],
      "text/plain": [
       "shape: (8, 8)\n",
       "┌──────┬───────────┬─────────┬─────────┬──────────┬─────────┬──────┬────────────┐\n",
       "│ x    ┆ cum_count ┆ cum_max ┆ cum_min ┆ cum_prod ┆ cum_sum ┆ diff ┆ pct_change │\n",
       "│ ---  ┆ ---       ┆ ---     ┆ ---     ┆ ---      ┆ ---     ┆ ---  ┆ ---        │\n",
       "│ f64  ┆ u32       ┆ f64     ┆ f64     ┆ f64      ┆ f64     ┆ f64  ┆ f64        │\n",
       "╞══════╪═══════════╪═════════╪═════════╪══════════╪═════════╪══════╪════════════╡\n",
       "│ 0.0  ┆ 1         ┆ 0.0     ┆ 0.0     ┆ NaN      ┆ 0.0     ┆ null ┆ null       │\n",
       "│ 1.0  ┆ 2         ┆ 1.0     ┆ 0.0     ┆ NaN      ┆ 1.0     ┆ 1.0  ┆ inf        │\n",
       "│ 2.0  ┆ 3         ┆ 2.0     ┆ 0.0     ┆ NaN      ┆ 3.0     ┆ 1.0  ┆ 1.0        │\n",
       "│ null ┆ 3         ┆ null    ┆ null    ┆ null     ┆ null    ┆ null ┆ 0.0        │\n",
       "│ 2.0  ┆ 4         ┆ 2.0     ┆ 0.0     ┆ NaN      ┆ 5.0     ┆ null ┆ 0.0        │\n",
       "│ NaN  ┆ 5         ┆ 2.0     ┆ 0.0     ┆ NaN      ┆ NaN     ┆ NaN  ┆ NaN        │\n",
       "│ -1.0 ┆ 6         ┆ 2.0     ┆ -1.0    ┆ -2.0     ┆ NaN     ┆ NaN  ┆ NaN        │\n",
       "│ 2.0  ┆ 7         ┆ 2.0     ┆ -1.0    ┆ 2.0      ┆ NaN     ┆ 3.0  ┆ -3.0       │\n",
       "└──────┴───────────┴─────────┴─────────┴──────────┴─────────┴──────┴────────────┘"
      ]
     },
     "execution_count": 13,
     "metadata": {},
     "output_type": "execute_result"
    }
   ],
   "source": [
    "(\n",
    "    pl.DataFrame(\n",
    "        {\"x\": [0.0, 1.0, 2.0, None, 2.0, np.nan, -1.0, 2.0]}\n",
    "    ).with_columns(\n",
    "        cum_count=pl.col(\"x\").cum_count(),\n",
    "        cum_max=pl.col(\"x\").cum_max(),\n",
    "        cum_min=pl.col(\"x\").cum_min(),\n",
    "        cum_prod=pl.col(\"x\").cum_prod(reverse=True),\n",
    "        cum_sum=pl.col(\"x\").cum_sum(),\n",
    "        diff=pl.col(\"x\").diff(),\n",
    "        pct_change=pl.col(\"x\").pct_change(),\n",
    "    )\n",
    ")"
   ]
  },
  {
   "cell_type": "markdown",
   "metadata": {},
   "source": [
    "### Operations That Fill and Shift"
   ]
  },
  {
   "cell_type": "code",
   "execution_count": 14,
   "metadata": {},
   "outputs": [
    {
     "data": {
      "text/html": [
       "<div><style>\n",
       ".dataframe > thead > tr,\n",
       ".dataframe > tbody > tr {\n",
       "  text-align: right;\n",
       "  white-space: pre-wrap;\n",
       "}\n",
       "</style>\n",
       "<small>shape: (9, 7)</small><table border=\"1\" class=\"dataframe\"><thead><tr><th>x</th><th>backward_fill</th><th>forward_fill</th><th>interp1</th><th>interp2</th><th>shift1</th><th>shift2</th></tr><tr><td>f64</td><td>f64</td><td>f64</td><td>f64</td><td>f64</td><td>f64</td><td>f64</td></tr></thead><tbody><tr><td>-1.0</td><td>-1.0</td><td>-1.0</td><td>-1.0</td><td>-1.0</td><td>null</td><td>1.0</td></tr><tr><td>0.0</td><td>0.0</td><td>0.0</td><td>0.0</td><td>0.0</td><td>-1.0</td><td>null</td></tr><tr><td>1.0</td><td>1.0</td><td>1.0</td><td>1.0</td><td>1.0</td><td>0.0</td><td>null</td></tr><tr><td>null</td><td>3.0</td><td>1.0</td><td>1.666667</td><td>1.0</td><td>1.0</td><td>3.0</td></tr><tr><td>null</td><td>3.0</td><td>null</td><td>2.333333</td><td>3.0</td><td>null</td><td>4.0</td></tr><tr><td>3.0</td><td>3.0</td><td>3.0</td><td>3.0</td><td>3.0</td><td>null</td><td>NaN</td></tr><tr><td>4.0</td><td>4.0</td><td>4.0</td><td>4.0</td><td>4.0</td><td>3.0</td><td>6.0</td></tr><tr><td>NaN</td><td>NaN</td><td>NaN</td><td>NaN</td><td>NaN</td><td>4.0</td><td>null</td></tr><tr><td>6.0</td><td>6.0</td><td>6.0</td><td>6.0</td><td>6.0</td><td>NaN</td><td>null</td></tr></tbody></table></div>"
      ],
      "text/plain": [
       "shape: (9, 7)\n",
       "┌──────┬───────────────┬──────────────┬──────────┬─────────┬────────┬────────┐\n",
       "│ x    ┆ backward_fill ┆ forward_fill ┆ interp1  ┆ interp2 ┆ shift1 ┆ shift2 │\n",
       "│ ---  ┆ ---           ┆ ---          ┆ ---      ┆ ---     ┆ ---    ┆ ---    │\n",
       "│ f64  ┆ f64           ┆ f64          ┆ f64      ┆ f64     ┆ f64    ┆ f64    │\n",
       "╞══════╪═══════════════╪══════════════╪══════════╪═════════╪════════╪════════╡\n",
       "│ -1.0 ┆ -1.0          ┆ -1.0         ┆ -1.0     ┆ -1.0    ┆ null   ┆ 1.0    │\n",
       "│ 0.0  ┆ 0.0           ┆ 0.0          ┆ 0.0      ┆ 0.0     ┆ -1.0   ┆ null   │\n",
       "│ 1.0  ┆ 1.0           ┆ 1.0          ┆ 1.0      ┆ 1.0     ┆ 0.0    ┆ null   │\n",
       "│ null ┆ 3.0           ┆ 1.0          ┆ 1.666667 ┆ 1.0     ┆ 1.0    ┆ 3.0    │\n",
       "│ null ┆ 3.0           ┆ null         ┆ 2.333333 ┆ 3.0     ┆ null   ┆ 4.0    │\n",
       "│ 3.0  ┆ 3.0           ┆ 3.0          ┆ 3.0      ┆ 3.0     ┆ null   ┆ NaN    │\n",
       "│ 4.0  ┆ 4.0           ┆ 4.0          ┆ 4.0      ┆ 4.0     ┆ 3.0    ┆ 6.0    │\n",
       "│ NaN  ┆ NaN           ┆ NaN          ┆ NaN      ┆ NaN     ┆ 4.0    ┆ null   │\n",
       "│ 6.0  ┆ 6.0           ┆ 6.0          ┆ 6.0      ┆ 6.0     ┆ NaN    ┆ null   │\n",
       "└──────┴───────────────┴──────────────┴──────────┴─────────┴────────┴────────┘"
      ]
     },
     "execution_count": 14,
     "metadata": {},
     "output_type": "execute_result"
    }
   ],
   "source": [
    "(\n",
    "    pl.DataFrame(\n",
    "        {\"x\": [-1.0, 0.0, 1.0, None, None, 3.0, 4.0, math.nan, 6.0]}\n",
    "    ).with_columns(\n",
    "        backward_fill=pl.col(\"x\").backward_fill(),\n",
    "        forward_fill=pl.col(\"x\").forward_fill(limit=1),\n",
    "        interp1=pl.col(\"x\").interpolate(method=\"linear\"),\n",
    "        interp2=pl.col(\"x\").interpolate(method=\"nearest\"),\n",
    "        shift1=pl.col(\"x\").shift(1),\n",
    "        shift2=pl.col(\"x\").shift(-2),\n",
    "    )\n",
    ")"
   ]
  },
  {
   "cell_type": "markdown",
   "metadata": {},
   "source": [
    "### Operations Related to Duplicate Values"
   ]
  },
  {
   "cell_type": "code",
   "execution_count": 15,
   "metadata": {},
   "outputs": [
    {
     "data": {
      "text/html": [
       "<div><style>\n",
       ".dataframe > thead > tr,\n",
       ".dataframe > tbody > tr {\n",
       "  text-align: right;\n",
       "  white-space: pre-wrap;\n",
       "}\n",
       "</style>\n",
       "<small>shape: (4, 5)</small><table border=\"1\" class=\"dataframe\"><thead><tr><th>x</th><th>is_duplicated</th><th>is_first_distinct</th><th>is_last_distinct</th><th>is_unique</th></tr><tr><td>str</td><td>bool</td><td>bool</td><td>bool</td><td>bool</td></tr></thead><tbody><tr><td>&quot;A&quot;</td><td>false</td><td>true</td><td>true</td><td>true</td></tr><tr><td>&quot;C&quot;</td><td>true</td><td>true</td><td>false</td><td>false</td></tr><tr><td>&quot;D&quot;</td><td>false</td><td>true</td><td>true</td><td>true</td></tr><tr><td>&quot;C&quot;</td><td>true</td><td>false</td><td>true</td><td>false</td></tr></tbody></table></div>"
      ],
      "text/plain": [
       "shape: (4, 5)\n",
       "┌─────┬───────────────┬───────────────────┬──────────────────┬───────────┐\n",
       "│ x   ┆ is_duplicated ┆ is_first_distinct ┆ is_last_distinct ┆ is_unique │\n",
       "│ --- ┆ ---           ┆ ---               ┆ ---              ┆ ---       │\n",
       "│ str ┆ bool          ┆ bool              ┆ bool             ┆ bool      │\n",
       "╞═════╪═══════════════╪═══════════════════╪══════════════════╪═══════════╡\n",
       "│ A   ┆ false         ┆ true              ┆ true             ┆ true      │\n",
       "│ C   ┆ true          ┆ true              ┆ false            ┆ false     │\n",
       "│ D   ┆ false         ┆ true              ┆ true             ┆ true      │\n",
       "│ C   ┆ true          ┆ false             ┆ true             ┆ false     │\n",
       "└─────┴───────────────┴───────────────────┴──────────────────┴───────────┘"
      ]
     },
     "execution_count": 15,
     "metadata": {},
     "output_type": "execute_result"
    }
   ],
   "source": [
    "(\n",
    "    pl.DataFrame({\"x\": [\"A\", \"C\", \"D\", \"C\"]}).with_columns(\n",
    "        is_duplicated=pl.col(\"x\").is_duplicated(),\n",
    "        is_first_distinct=pl.col(\"x\").is_first_distinct(),\n",
    "        is_last_distinct=pl.col(\"x\").is_last_distinct(),\n",
    "        is_unique=pl.col(\"x\").is_unique(),\n",
    "    )\n",
    ")"
   ]
  },
  {
   "cell_type": "markdown",
   "metadata": {},
   "source": [
    "### Operations That Compute Rolling Statistics"
   ]
  },
  {
   "cell_type": "code",
   "execution_count": 16,
   "metadata": {},
   "outputs": [
    {
     "data": {
      "text/html": [
       "<div><style>\n",
       ".dataframe > thead > tr,\n",
       ".dataframe > tbody > tr {\n",
       "  text-align: right;\n",
       "  white-space: pre-wrap;\n",
       "}\n",
       "</style>\n",
       "<small>shape: (124, 5)</small><table border=\"1\" class=\"dataframe\"><thead><tr><th>date</th><th>close</th><th>ewm_mean</th><th>rolling_mean</th><th>rolling_min</th></tr><tr><td>date</td><td>f64</td><td>f64</td><td>f64</td><td>f64</td></tr></thead><tbody><tr><td>2023-01-03</td><td>143.149994</td><td>143.149994</td><td>null</td><td>null</td></tr><tr><td>2023-01-04</td><td>147.490005</td><td>145.464667</td><td>null</td><td>null</td></tr><tr><td>2023-01-05</td><td>142.649994</td><td>144.398755</td><td>null</td><td>null</td></tr><tr><td>2023-01-06</td><td>148.589996</td><td>145.664782</td><td>null</td><td>null</td></tr><tr><td>2023-01-09</td><td>156.279999</td><td>148.388917</td><td>null</td><td>null</td></tr><tr><td>&hellip;</td><td>&hellip;</td><td>&hellip;</td><td>&hellip;</td><td>&hellip;</td></tr><tr><td>2023-06-26</td><td>406.320007</td><td>407.54911</td><td>425.805716</td><td>406.320007</td></tr><tr><td>2023-06-27</td><td>418.76001</td><td>408.950473</td><td>424.695718</td><td>406.320007</td></tr><tr><td>2023-06-28</td><td>411.170013</td><td>409.227915</td><td>422.445718</td><td>406.320007</td></tr><tr><td>2023-06-29</td><td>408.220001</td><td>409.101926</td><td>418.180006</td><td>406.320007</td></tr><tr><td>2023-06-30</td><td>423.019989</td><td>410.841684</td><td>417.118574</td><td>406.320007</td></tr></tbody></table></div>"
      ],
      "text/plain": [
       "shape: (124, 5)\n",
       "┌────────────┬────────────┬────────────┬──────────────┬─────────────┐\n",
       "│ date       ┆ close      ┆ ewm_mean   ┆ rolling_mean ┆ rolling_min │\n",
       "│ ---        ┆ ---        ┆ ---        ┆ ---          ┆ ---         │\n",
       "│ date       ┆ f64        ┆ f64        ┆ f64          ┆ f64         │\n",
       "╞════════════╪════════════╪════════════╪══════════════╪═════════════╡\n",
       "│ 2023-01-03 ┆ 143.149994 ┆ 143.149994 ┆ null         ┆ null        │\n",
       "│ 2023-01-04 ┆ 147.490005 ┆ 145.464667 ┆ null         ┆ null        │\n",
       "│ 2023-01-05 ┆ 142.649994 ┆ 144.398755 ┆ null         ┆ null        │\n",
       "│ 2023-01-06 ┆ 148.589996 ┆ 145.664782 ┆ null         ┆ null        │\n",
       "│ 2023-01-09 ┆ 156.279999 ┆ 148.388917 ┆ null         ┆ null        │\n",
       "│ …          ┆ …          ┆ …          ┆ …            ┆ …           │\n",
       "│ 2023-06-26 ┆ 406.320007 ┆ 407.54911  ┆ 425.805716   ┆ 406.320007  │\n",
       "│ 2023-06-27 ┆ 418.76001  ┆ 408.950473 ┆ 424.695718   ┆ 406.320007  │\n",
       "│ 2023-06-28 ┆ 411.170013 ┆ 409.227915 ┆ 422.445718   ┆ 406.320007  │\n",
       "│ 2023-06-29 ┆ 408.220001 ┆ 409.101926 ┆ 418.180006   ┆ 406.320007  │\n",
       "│ 2023-06-30 ┆ 423.019989 ┆ 410.841684 ┆ 417.118574   ┆ 406.320007  │\n",
       "└────────────┴────────────┴────────────┴──────────────┴─────────────┘"
      ]
     },
     "execution_count": 16,
     "metadata": {},
     "output_type": "execute_result"
    }
   ],
   "source": [
    "stock = (\n",
    "    pl.read_csv(\"data/stock/nvda/2023.csv\", try_parse_dates=True)\n",
    "    .select(\"date\", \"close\")\n",
    "    .with_columns(\n",
    "        ewm_mean=pl.col(\"close\").ewm_mean(com=7, ignore_nulls=True),\n",
    "        rolling_mean=pl.col(\"close\").rolling_mean(window_size=7),\n",
    "        rolling_min=pl.col(\"close\").rolling_min(window_size=7),\n",
    "    )\n",
    ")\n",
    "\n",
    "stock"
   ]
  },
  {
   "cell_type": "code",
   "execution_count": 17,
   "metadata": {},
   "outputs": [
    {
     "data": {
      "image/png": "[encoded data removed]"
     },
     "metadata": {
      "image/png": {
       "height": 1000,
       "width": 1600
      }
     },
     "output_type": "display_data"
    }
   ],
   "source": [
    "from plotnine import *\n",
    "\n",
    "(\n",
    "    ggplot(stock.unpivot(index=\"date\"), aes(\"date\", \"value\", color=\"variable\"))\n",
    "    + geom_line(size=1)\n",
    "    + labs(x=\"Date\", y=\"Value\", color=\"Method\")\n",
    "    + theme_tufte(base_size=14)\n",
    "    + theme(figure_size=(8, 5), dpi=200)\n",
    ")"
   ]
  },
  {
   "cell_type": "markdown",
   "metadata": {},
   "source": [
    "### Operations That Sort"
   ]
  },
  {
   "cell_type": "code",
   "execution_count": 18,
   "metadata": {},
   "outputs": [
    {
     "data": {
      "text/html": [
       "<div><style>\n",
       ".dataframe > thead > tr,\n",
       ".dataframe > tbody > tr {\n",
       "  text-align: right;\n",
       "  white-space: pre-wrap;\n",
       "}\n",
       "</style>\n",
       "<small>shape: (5, 8)</small><table border=\"1\" class=\"dataframe\"><thead><tr><th>x</th><th>y</th><th>arg_sort</th><th>shuffle</th><th>sort</th><th>sort_by</th><th>reverse</th><th>rank</th></tr><tr><td>i64</td><td>str</td><td>u32</td><td>i64</td><td>i64</td><td>i64</td><td>i64</td><td>f64</td></tr></thead><tbody><tr><td>1</td><td>&quot;D&quot;</td><td>2</td><td>1</td><td>1</td><td>3</td><td>7</td><td>1.0</td></tr><tr><td>3</td><td>&quot;I&quot;</td><td>0</td><td>null</td><td>3</td><td>1</td><td>3</td><td>2.5</td></tr><tr><td>null</td><td>&quot;S&quot;</td><td>1</td><td>3</td><td>3</td><td>3</td><td>null</td><td>null</td></tr><tr><td>3</td><td>&quot;C&quot;</td><td>3</td><td>7</td><td>7</td><td>7</td><td>3</td><td>2.5</td></tr><tr><td>7</td><td>&quot;O&quot;</td><td>4</td><td>3</td><td>null</td><td>null</td><td>1</td><td>4.0</td></tr></tbody></table></div>"
      ],
      "text/plain": [
       "shape: (5, 8)\n",
       "┌──────┬─────┬──────────┬─────────┬──────┬─────────┬─────────┬──────┐\n",
       "│ x    ┆ y   ┆ arg_sort ┆ shuffle ┆ sort ┆ sort_by ┆ reverse ┆ rank │\n",
       "│ ---  ┆ --- ┆ ---      ┆ ---     ┆ ---  ┆ ---     ┆ ---     ┆ ---  │\n",
       "│ i64  ┆ str ┆ u32      ┆ i64     ┆ i64  ┆ i64     ┆ i64     ┆ f64  │\n",
       "╞══════╪═════╪══════════╪═════════╪══════╪═════════╪═════════╪══════╡\n",
       "│ 1    ┆ D   ┆ 2        ┆ 1       ┆ 1    ┆ 3       ┆ 7       ┆ 1.0  │\n",
       "│ 3    ┆ I   ┆ 0        ┆ null    ┆ 3    ┆ 1       ┆ 3       ┆ 2.5  │\n",
       "│ null ┆ S   ┆ 1        ┆ 3       ┆ 3    ┆ 3       ┆ null    ┆ null │\n",
       "│ 3    ┆ C   ┆ 3        ┆ 7       ┆ 7    ┆ 7       ┆ 3       ┆ 2.5  │\n",
       "│ 7    ┆ O   ┆ 4        ┆ 3       ┆ null ┆ null    ┆ 1       ┆ 4.0  │\n",
       "└──────┴─────┴──────────┴─────────┴──────┴─────────┴─────────┴──────┘"
      ]
     },
     "execution_count": 18,
     "metadata": {},
     "output_type": "execute_result"
    }
   ],
   "source": [
    "(\n",
    "    pl.DataFrame(\n",
    "        {\n",
    "            \"x\": [1, 3, None, 3, 7],\n",
    "            \"y\": [\"D\", \"I\", \"S\", \"C\", \"O\"],\n",
    "        }\n",
    "    ).with_columns(\n",
    "        arg_sort=pl.col(\"x\").arg_sort(),\n",
    "        shuffle=pl.col(\"x\").shuffle(seed=7),\n",
    "        sort=pl.col(\"x\").sort(nulls_last=True),\n",
    "        sort_by=pl.col(\"x\").sort_by(\"y\"),\n",
    "        reverse=pl.col(\"x\").reverse(),\n",
    "        rank=pl.col(\"x\").rank(),\n",
    "    )\n",
    ")"
   ]
  },
  {
   "cell_type": "markdown",
   "metadata": {},
   "source": [
    "### Other Operations"
   ]
  },
  {
   "cell_type": "code",
   "execution_count": 19,
   "metadata": {},
   "outputs": [
    {
     "data": {
      "text/html": [
       "<div><style>\n",
       ".dataframe > thead > tr,\n",
       ".dataframe > tbody > tr {\n",
       "  text-align: right;\n",
       "  white-space: pre-wrap;\n",
       "}\n",
       "</style>\n",
       "<small>shape: (9, 2)</small><table border=\"1\" class=\"dataframe\"><thead><tr><th>x</th><th>rle_id</th></tr><tr><td>i64</td><td>u32</td></tr></thead><tbody><tr><td>33</td><td>0</td></tr><tr><td>33</td><td>0</td></tr><tr><td>27</td><td>1</td></tr><tr><td>33</td><td>2</td></tr><tr><td>60</td><td>3</td></tr><tr><td>60</td><td>3</td></tr><tr><td>60</td><td>3</td></tr><tr><td>33</td><td>4</td></tr><tr><td>60</td><td>5</td></tr></tbody></table></div>"
      ],
      "text/plain": [
       "shape: (9, 2)\n",
       "┌─────┬────────┐\n",
       "│ x   ┆ rle_id │\n",
       "│ --- ┆ ---    │\n",
       "│ i64 ┆ u32    │\n",
       "╞═════╪════════╡\n",
       "│ 33  ┆ 0      │\n",
       "│ 33  ┆ 0      │\n",
       "│ 27  ┆ 1      │\n",
       "│ 33  ┆ 2      │\n",
       "│ 60  ┆ 3      │\n",
       "│ 60  ┆ 3      │\n",
       "│ 60  ┆ 3      │\n",
       "│ 33  ┆ 4      │\n",
       "│ 60  ┆ 5      │\n",
       "└─────┴────────┘"
      ]
     },
     "execution_count": 19,
     "metadata": {},
     "output_type": "execute_result"
    }
   ],
   "source": [
    "(\n",
    "    pl.DataFrame({\"x\": [33, 33, 27, 33, 60, 60, 60, 33, 60]}).with_columns(\n",
    "        rle_id=pl.col(\"x\").rle_id(),\n",
    "    )\n",
    ")"
   ]
  },
  {
   "cell_type": "markdown",
   "metadata": {},
   "source": [
    "## Series-Wise Operations That Summarize to One"
   ]
  },
  {
   "cell_type": "code",
   "execution_count": 20,
   "metadata": {},
   "outputs": [
    {
     "data": {
      "text/html": [
       "<div><style>\n",
       ".dataframe > thead > tr,\n",
       ".dataframe > tbody > tr {\n",
       "  text-align: right;\n",
       "  white-space: pre-wrap;\n",
       "}\n",
       "</style>\n",
       "<small>shape: (4, 2)</small><table border=\"1\" class=\"dataframe\"><thead><tr><th>x</th><th>mean</th></tr><tr><td>i64</td><td>f64</td></tr></thead><tbody><tr><td>1</td><td>3.5</td></tr><tr><td>3</td><td>3.5</td></tr><tr><td>3</td><td>3.5</td></tr><tr><td>7</td><td>3.5</td></tr></tbody></table></div>"
      ],
      "text/plain": [
       "shape: (4, 2)\n",
       "┌─────┬──────┐\n",
       "│ x   ┆ mean │\n",
       "│ --- ┆ ---  │\n",
       "│ i64 ┆ f64  │\n",
       "╞═════╪══════╡\n",
       "│ 1   ┆ 3.5  │\n",
       "│ 3   ┆ 3.5  │\n",
       "│ 3   ┆ 3.5  │\n",
       "│ 7   ┆ 3.5  │\n",
       "└─────┴──────┘"
      ]
     },
     "execution_count": 20,
     "metadata": {},
     "output_type": "execute_result"
    }
   ],
   "source": [
    "(\n",
    "    pl.DataFrame({\"x\": [1, 3, 3, 7]}).with_columns(\n",
    "        mean=pl.col(\"x\").mean(),\n",
    "    )\n",
    ")"
   ]
  },
  {
   "cell_type": "code",
   "execution_count": 22,
   "metadata": {},
   "outputs": [
    {
     "data": {
      "text/html": [
       "<div><style>\n",
       ".dataframe > thead > tr,\n",
       ".dataframe > tbody > tr {\n",
       "  text-align: right;\n",
       "  white-space: pre-wrap;\n",
       "}\n",
       "</style>\n",
       "<small>shape: (2, 2)</small><table border=\"1\" class=\"dataframe\"><thead><tr><th>cluster</th><th>mean</th></tr><tr><td>str</td><td>f64</td></tr></thead><tbody><tr><td>&quot;a&quot;</td><td>2.0</td></tr><tr><td>&quot;b&quot;</td><td>5.0</td></tr></tbody></table></div>"
      ],
      "text/plain": [
       "shape: (2, 2)\n",
       "┌─────────┬──────┐\n",
       "│ cluster ┆ mean │\n",
       "│ ---     ┆ ---  │\n",
       "│ str     ┆ f64  │\n",
       "╞═════════╪══════╡\n",
       "│ a       ┆ 2.0  │\n",
       "│ b       ┆ 5.0  │\n",
       "└─────────┴──────┘"
      ]
     },
     "execution_count": 22,
     "metadata": {},
     "output_type": "execute_result"
    }
   ],
   "source": [
    "(\n",
    "    pl.DataFrame({\"cluster\": [\"a\", \"a\", \"b\", \"b\"], \"x\": [1, 3, 3, 7]})\n",
    "    .group_by(\"cluster\")\n",
    "    .agg(\n",
    "        mean=pl.col(\"x\").mean(),\n",
    "    )\n",
    ")"
   ]
  },
  {
   "cell_type": "markdown",
   "metadata": {},
   "source": [
    "### Operations That Are Quantifiers"
   ]
  },
  {
   "cell_type": "code",
   "execution_count": 21,
   "metadata": {},
   "outputs": [
    {
     "name": "stdout",
     "output_type": "stream",
     "text": [
      "shape: (3, 3)\n",
      "┌───────┬──────┬───────┐\n",
      "│ x     ┆ y    ┆ z     │\n",
      "│ ---   ┆ ---  ┆ ---   │\n",
      "│ bool  ┆ bool ┆ bool  │\n",
      "╞═══════╪══════╪═══════╡\n",
      "│ true  ┆ true ┆ false │\n",
      "│ false ┆ true ┆ false │\n",
      "│ false ┆ true ┆ false │\n",
      "└───────┴──────┴───────┘\n",
      "shape: (1, 6)\n",
      "┌───────┬───────┬───────┬───────┬───────┬───────┐\n",
      "│ x_all ┆ y_all ┆ z_all ┆ x_any ┆ y_any ┆ z_any │\n",
      "│ ---   ┆ ---   ┆ ---   ┆ ---   ┆ ---   ┆ ---   │\n",
      "│ bool  ┆ bool  ┆ bool  ┆ bool  ┆ bool  ┆ bool  │\n",
      "╞═══════╪═══════╪═══════╪═══════╪═══════╪═══════╡\n",
      "│ false ┆ true  ┆ false ┆ true  ┆ true  ┆ false │\n",
      "└───────┴───────┴───────┴───────┴───────┴───────┘\n"
     ]
    }
   ],
   "source": [
    "df = pl.DataFrame(\n",
    "    {\n",
    "        \"x\": [True, False, False],\n",
    "        \"y\": [True, True, True],\n",
    "        \"z\": [False, False, False],\n",
    "    }\n",
    ")\n",
    "print(df)\n",
    "print(\n",
    "    df.select(\n",
    "        pl.all().all().name.suffix(\"_all\"),\n",
    "        pl.all().any().name.suffix(\"_any\"),\n",
    "    ),\n",
    ")"
   ]
  },
  {
   "cell_type": "markdown",
   "metadata": {},
   "source": [
    "### Operations That Compute Statistics"
   ]
  },
  {
   "cell_type": "code",
   "execution_count": 23,
   "metadata": {},
   "outputs": [
    {
     "data": {
      "text/html": [
       "<div><style>\n",
       ".dataframe > thead > tr,\n",
       ".dataframe > tbody > tr {\n",
       "  text-align: right;\n",
       "  white-space: pre-wrap;\n",
       "}\n",
       "</style>\n",
       "<small>shape: (1, 7)</small><table border=\"1\" class=\"dataframe\"><thead><tr><th>max</th><th>mean</th><th>quantile</th><th>skew</th><th>std</th><th>sum</th><th>var</th></tr><tr><td>f64</td><td>f64</td><td>f64</td><td>f64</td><td>f64</td><td>f64</td><td>f64</td></tr></thead><tbody><tr><td>20.752443</td><td>4.994978</td><td>9.931565</td><td>0.003245</td><td>2.999926</td><td>4.9950e6</td><td>8.999558</td></tr></tbody></table></div>"
      ],
      "text/plain": [
       "shape: (1, 7)\n",
       "┌───────────┬──────────┬──────────┬──────────┬──────────┬──────────┬──────────┐\n",
       "│ max       ┆ mean     ┆ quantile ┆ skew     ┆ std      ┆ sum      ┆ var      │\n",
       "│ ---       ┆ ---      ┆ ---      ┆ ---      ┆ ---      ┆ ---      ┆ ---      │\n",
       "│ f64       ┆ f64      ┆ f64      ┆ f64      ┆ f64      ┆ f64      ┆ f64      │\n",
       "╞═══════════╪══════════╪══════════╪══════════╪══════════╪══════════╪══════════╡\n",
       "│ 20.752443 ┆ 4.994978 ┆ 9.931565 ┆ 0.003245 ┆ 2.999926 ┆ 4.9950e6 ┆ 8.999558 │\n",
       "└───────────┴──────────┴──────────┴──────────┴──────────┴──────────┴──────────┘"
      ]
     },
     "execution_count": 23,
     "metadata": {},
     "output_type": "execute_result"
    }
   ],
   "source": [
    "samples = rng.normal(loc=5, scale=3, size=1_000_000)\n",
    "\n",
    "(\n",
    "    pl.DataFrame({\"x\": samples}).select(\n",
    "        max=pl.col(\"x\").max(),\n",
    "        mean=pl.col(\"x\").mean(),\n",
    "        quantile=pl.col(\"x\").quantile(quantile=0.95),\n",
    "        skew=pl.col(\"x\").skew(),\n",
    "        std=pl.col(\"x\").std(),\n",
    "        sum=pl.col(\"x\").sum(),\n",
    "        var=pl.col(\"x\").var(),\n",
    "    )\n",
    ")"
   ]
  },
  {
   "cell_type": "markdown",
   "metadata": {},
   "source": [
    "### Operations That Count"
   ]
  },
  {
   "cell_type": "code",
   "execution_count": 24,
   "metadata": {},
   "outputs": [
    {
     "data": {
      "text/html": [
       "<div><style>\n",
       ".dataframe > thead > tr,\n",
       ".dataframe > tbody > tr {\n",
       "  text-align: right;\n",
       "  white-space: pre-wrap;\n",
       "}\n",
       "</style>\n",
       "<small>shape: (6, 2)</small><table border=\"1\" class=\"dataframe\"><thead><tr><th>index</th><th>x</th></tr><tr><td>u32</td><td>i64</td></tr></thead><tbody><tr><td>400</td><td>807</td></tr><tr><td>401</td><td>8634</td></tr><tr><td>402</td><td>2109</td></tr><tr><td>403</td><td>null</td></tr><tr><td>404</td><td>1740</td></tr><tr><td>405</td><td>3333</td></tr></tbody></table></div>"
      ],
      "text/plain": [
       "shape: (6, 2)\n",
       "┌───────┬──────┐\n",
       "│ index ┆ x    │\n",
       "│ ---   ┆ ---  │\n",
       "│ u32   ┆ i64  │\n",
       "╞═══════╪══════╡\n",
       "│ 400   ┆ 807  │\n",
       "│ 401   ┆ 8634 │\n",
       "│ 402   ┆ 2109 │\n",
       "│ 403   ┆ null │\n",
       "│ 404   ┆ 1740 │\n",
       "│ 405   ┆ 3333 │\n",
       "└───────┴──────┘"
      ]
     },
     "execution_count": 24,
     "metadata": {},
     "output_type": "execute_result"
    }
   ],
   "source": [
    "samples = pl.Series(rng.integers(low=0, high=10_000, size=1_729))\n",
    "samples[403] = None\n",
    "df_ints = pl.DataFrame({\"x\": samples}).with_row_index()\n",
    "df_ints.slice(400, 6)"
   ]
  },
  {
   "cell_type": "code",
   "execution_count": 25,
   "metadata": {},
   "outputs": [
    {
     "data": {
      "text/html": [
       "<div><style>\n",
       ".dataframe > thead > tr,\n",
       ".dataframe > tbody > tr {\n",
       "  text-align: right;\n",
       "  white-space: pre-wrap;\n",
       "}\n",
       "</style>\n",
       "<small>shape: (1, 5)</small><table border=\"1\" class=\"dataframe\"><thead><tr><th>approx_n_unique</th><th>count</th><th>len</th><th>n_unique</th><th>null_count</th></tr><tr><td>u32</td><td>u32</td><td>u32</td><td>u32</td><td>u32</td></tr></thead><tbody><tr><td>1572</td><td>1728</td><td>1729</td><td>1575</td><td>1</td></tr></tbody></table></div>"
      ],
      "text/plain": [
       "shape: (1, 5)\n",
       "┌─────────────────┬───────┬──────┬──────────┬────────────┐\n",
       "│ approx_n_unique ┆ count ┆ len  ┆ n_unique ┆ null_count │\n",
       "│ ---             ┆ ---   ┆ ---  ┆ ---      ┆ ---        │\n",
       "│ u32             ┆ u32   ┆ u32  ┆ u32      ┆ u32        │\n",
       "╞═════════════════╪═══════╪══════╪══════════╪════════════╡\n",
       "│ 1572            ┆ 1728  ┆ 1729 ┆ 1575     ┆ 1          │\n",
       "└─────────────────┴───────┴──────┴──────────┴────────────┘"
      ]
     },
     "execution_count": 25,
     "metadata": {},
     "output_type": "execute_result"
    }
   ],
   "source": [
    "df_ints.select(\n",
    "    approx_n_unique=pl.col(\"x\").approx_n_unique(),\n",
    "    count=pl.col(\"x\").count(),\n",
    "    len=pl.col(\"x\").len(),\n",
    "    n_unique=pl.col(\"x\").n_unique(),\n",
    "    null_count=pl.col(\"x\").null_count(),\n",
    ")"
   ]
  },
  {
   "cell_type": "code",
   "execution_count": 27,
   "metadata": {},
   "outputs": [],
   "source": [
    "large_df_ints = pl.DataFrame(\n",
    "    {\"x\": rng.integers(low=0, high=10_000, size=10_000_000)}\n",
    ")"
   ]
  },
  {
   "cell_type": "code",
   "execution_count": 28,
   "metadata": {},
   "outputs": [
    {
     "name": "stdout",
     "output_type": "stream",
     "text": [
      "CPU times: user 531 ms, sys: 92.4 ms, total: 623 ms\n",
      "Wall time: 180 ms\n"
     ]
    },
    {
     "data": {
      "text/html": [
       "<div><style>\n",
       ".dataframe > thead > tr,\n",
       ".dataframe > tbody > tr {\n",
       "  text-align: right;\n",
       "  white-space: pre-wrap;\n",
       "}\n",
       "</style>\n",
       "<small>shape: (1, 1)</small><table border=\"1\" class=\"dataframe\"><thead><tr><th>x</th></tr><tr><td>u32</td></tr></thead><tbody><tr><td>10000</td></tr></tbody></table></div>"
      ],
      "text/plain": [
       "shape: (1, 1)\n",
       "┌───────┐\n",
       "│ x     │\n",
       "│ ---   │\n",
       "│ u32   │\n",
       "╞═══════╡\n",
       "│ 10000 │\n",
       "└───────┘"
      ]
     },
     "execution_count": 28,
     "metadata": {},
     "output_type": "execute_result"
    }
   ],
   "source": [
    "%%time\n",
    "large_df_ints.select(pl.col(\"x\").n_unique())"
   ]
  },
  {
   "cell_type": "code",
   "execution_count": 29,
   "metadata": {},
   "outputs": [
    {
     "name": "stdout",
     "output_type": "stream",
     "text": [
      "CPU times: user 41.1 ms, sys: 1.63 ms, total: 42.7 ms\n",
      "Wall time: 41.5 ms\n"
     ]
    },
    {
     "data": {
      "text/html": [
       "<div><style>\n",
       ".dataframe > thead > tr,\n",
       ".dataframe > tbody > tr {\n",
       "  text-align: right;\n",
       "  white-space: pre-wrap;\n",
       "}\n",
       "</style>\n",
       "<small>shape: (1, 1)</small><table border=\"1\" class=\"dataframe\"><thead><tr><th>x</th></tr><tr><td>u32</td></tr></thead><tbody><tr><td>10013</td></tr></tbody></table></div>"
      ],
      "text/plain": [
       "shape: (1, 1)\n",
       "┌───────┐\n",
       "│ x     │\n",
       "│ ---   │\n",
       "│ u32   │\n",
       "╞═══════╡\n",
       "│ 10013 │\n",
       "└───────┘"
      ]
     },
     "execution_count": 29,
     "metadata": {},
     "output_type": "execute_result"
    }
   ],
   "source": [
    "%%time\n",
    "large_df_ints.select(pl.col(\"x\").approx_n_unique())"
   ]
  },
  {
   "cell_type": "markdown",
   "metadata": {},
   "source": [
    "### Other Operations"
   ]
  },
  {
   "cell_type": "code",
   "execution_count": 30,
   "metadata": {},
   "outputs": [
    {
     "data": {
      "text/html": [
       "<div><style>\n",
       ".dataframe > thead > tr,\n",
       ".dataframe > tbody > tr {\n",
       "  text-align: right;\n",
       "  white-space: pre-wrap;\n",
       "}\n",
       "</style>\n",
       "<small>shape: (1, 6)</small><table border=\"1\" class=\"dataframe\"><thead><tr><th>arg_min</th><th>first</th><th>get</th><th>implode</th><th>last</th><th>upper_bound</th></tr><tr><td>u32</td><td>i64</td><td>i64</td><td>list[i64]</td><td>i64</td><td>i64</td></tr></thead><tbody><tr><td>0</td><td>0</td><td>null</td><td>[0, 7245, … 3723]</td><td>3723</td><td>9223372036854775807</td></tr></tbody></table></div>"
      ],
      "text/plain": [
       "shape: (1, 6)\n",
       "┌─────────┬───────┬──────┬───────────────────┬──────┬─────────────────────┐\n",
       "│ arg_min ┆ first ┆ get  ┆ implode           ┆ last ┆ upper_bound         │\n",
       "│ ---     ┆ ---   ┆ ---  ┆ ---               ┆ ---  ┆ ---                 │\n",
       "│ u32     ┆ i64   ┆ i64  ┆ list[i64]         ┆ i64  ┆ i64                 │\n",
       "╞═════════╪═══════╪══════╪═══════════════════╪══════╪═════════════════════╡\n",
       "│ 0       ┆ 0     ┆ null ┆ [0, 7245, … 3723] ┆ 3723 ┆ 9223372036854775807 │\n",
       "└─────────┴───────┴──────┴───────────────────┴──────┴─────────────────────┘"
      ]
     },
     "execution_count": 30,
     "metadata": {},
     "output_type": "execute_result"
    }
   ],
   "source": [
    "df_ints.select(\n",
    "    arg_min=pl.col(\"x\").arg_min(),\n",
    "    first=pl.col(\"x\").first(),\n",
    "    get=pl.col(\"x\").get(403),\n",
    "    implode=pl.col(\"x\").implode(),\n",
    "    last=pl.col(\"x\").last(),\n",
    "    upper_bound=pl.col(\"x\").upper_bound(),\n",
    ")"
   ]
  },
  {
   "cell_type": "markdown",
   "metadata": {},
   "source": [
    "## Series-Wise Operations That Summarize to One or More"
   ]
  },
  {
   "cell_type": "markdown",
   "metadata": {},
   "source": [
    "### Operations Related to Unique Values"
   ]
  },
  {
   "cell_type": "code",
   "execution_count": 31,
   "metadata": {},
   "outputs": [
    {
     "data": {
      "text/html": [
       "<div><style>\n",
       ".dataframe > thead > tr,\n",
       ".dataframe > tbody > tr {\n",
       "  text-align: right;\n",
       "  white-space: pre-wrap;\n",
       "}\n",
       "</style>\n",
       "<small>shape: (3, 4)</small><table border=\"1\" class=\"dataframe\"><thead><tr><th>arg_unique</th><th>unique</th><th>unique_counts</th><th>value_counts</th></tr><tr><td>u32</td><td>str</td><td>u32</td><td>struct[2]</td></tr></thead><tbody><tr><td>0</td><td>&quot;A&quot;</td><td>1</td><td>{&quot;C&quot;,2}</td></tr><tr><td>1</td><td>&quot;C&quot;</td><td>2</td><td>{&quot;A&quot;,1}</td></tr><tr><td>2</td><td>&quot;D&quot;</td><td>1</td><td>{&quot;D&quot;,1}</td></tr></tbody></table></div>"
      ],
      "text/plain": [
       "shape: (3, 4)\n",
       "┌────────────┬────────┬───────────────┬──────────────┐\n",
       "│ arg_unique ┆ unique ┆ unique_counts ┆ value_counts │\n",
       "│ ---        ┆ ---    ┆ ---           ┆ ---          │\n",
       "│ u32        ┆ str    ┆ u32           ┆ struct[2]    │\n",
       "╞════════════╪════════╪═══════════════╪══════════════╡\n",
       "│ 0          ┆ A      ┆ 1             ┆ {\"C\",2}      │\n",
       "│ 1          ┆ C      ┆ 2             ┆ {\"A\",1}      │\n",
       "│ 2          ┆ D      ┆ 1             ┆ {\"D\",1}      │\n",
       "└────────────┴────────┴───────────────┴──────────────┘"
      ]
     },
     "execution_count": 31,
     "metadata": {},
     "output_type": "execute_result"
    }
   ],
   "source": [
    "(\n",
    "    pl.DataFrame({\"x\": [\"A\", \"C\", \"D\", \"C\"]}).select(\n",
    "        arg_unique=pl.col(\"x\").arg_unique(),\n",
    "        unique=pl.col(\"x\").unique(maintain_order=True),\n",
    "        unique_counts=pl.col(\"x\").unique_counts(),\n",
    "        value_counts=pl.col(\"x\").value_counts(sort=True),\n",
    "    )\n",
    ")"
   ]
  },
  {
   "cell_type": "markdown",
   "metadata": {},
   "source": [
    "### Operations That Select"
   ]
  },
  {
   "cell_type": "code",
   "execution_count": 32,
   "metadata": {},
   "outputs": [
    {
     "data": {
      "text/html": [
       "<div><style>\n",
       ".dataframe > thead > tr,\n",
       ".dataframe > tbody > tr {\n",
       "  text-align: right;\n",
       "  white-space: pre-wrap;\n",
       "}\n",
       "</style>\n",
       "<small>shape: (7, 7)</small><table border=\"1\" class=\"dataframe\"><thead><tr><th>bottom_k</th><th>head</th><th>sample</th><th>slice</th><th>gather</th><th>gather_every</th><th>top_k</th></tr><tr><td>i64</td><td>i64</td><td>i64</td><td>i64</td><td>i64</td><td>i64</td><td>i64</td></tr></thead><tbody><tr><td>0</td><td>0</td><td>3324</td><td>807</td><td>7245</td><td>0</td><td>9998</td></tr><tr><td>1</td><td>7245</td><td>4591</td><td>8634</td><td>7245</td><td>8680</td><td>9988</td></tr><tr><td>6</td><td>5227</td><td>5640</td><td>2109</td><td>5227</td><td>8483</td><td>9988</td></tr><tr><td>7</td><td>2747</td><td>9443</td><td>null</td><td>2747</td><td>8358</td><td>9986</td></tr><tr><td>10</td><td>9816</td><td>5403</td><td>1740</td><td>2657</td><td>1805</td><td>9985</td></tr><tr><td>21</td><td>2657</td><td>3702</td><td>3333</td><td>5393</td><td>3638</td><td>9979</td></tr><tr><td>29</td><td>4578</td><td>3867</td><td>788</td><td>8203</td><td>5843</td><td>9975</td></tr></tbody></table></div>"
      ],
      "text/plain": [
       "shape: (7, 7)\n",
       "┌──────────┬──────┬────────┬───────┬────────┬──────────────┬───────┐\n",
       "│ bottom_k ┆ head ┆ sample ┆ slice ┆ gather ┆ gather_every ┆ top_k │\n",
       "│ ---      ┆ ---  ┆ ---    ┆ ---   ┆ ---    ┆ ---          ┆ ---   │\n",
       "│ i64      ┆ i64  ┆ i64    ┆ i64   ┆ i64    ┆ i64          ┆ i64   │\n",
       "╞══════════╪══════╪════════╪═══════╪════════╪══════════════╪═══════╡\n",
       "│ 0        ┆ 0    ┆ 3324   ┆ 807   ┆ 7245   ┆ 0            ┆ 9998  │\n",
       "│ 1        ┆ 7245 ┆ 4591   ┆ 8634  ┆ 7245   ┆ 8680         ┆ 9988  │\n",
       "│ 6        ┆ 5227 ┆ 5640   ┆ 2109  ┆ 5227   ┆ 8483         ┆ 9988  │\n",
       "│ 7        ┆ 2747 ┆ 9443   ┆ null  ┆ 2747   ┆ 8358         ┆ 9986  │\n",
       "│ 10       ┆ 9816 ┆ 5403   ┆ 1740  ┆ 2657   ┆ 1805         ┆ 9985  │\n",
       "│ 21       ┆ 2657 ┆ 3702   ┆ 3333  ┆ 5393   ┆ 3638         ┆ 9979  │\n",
       "│ 29       ┆ 4578 ┆ 3867   ┆ 788   ┆ 8203   ┆ 5843         ┆ 9975  │\n",
       "└──────────┴──────┴────────┴───────┴────────┴──────────────┴───────┘"
      ]
     },
     "execution_count": 32,
     "metadata": {},
     "output_type": "execute_result"
    }
   ],
   "source": [
    "df_ints.select(\n",
    "    bottom_k=pl.col(\"x\").bottom_k(7),\n",
    "    head=pl.col(\"x\").head(7),\n",
    "    sample=pl.col(\"x\").sample(7),\n",
    "    slice=pl.col(\"x\").slice(400, 7),\n",
    "    gather=pl.col(\"x\").gather([1, 1, 2, 3, 5, 8, 13]),\n",
    "    gather_every=pl.col(\"x\").gather_every(247),\n",
    "    top_k=pl.col(\"x\").top_k(7),\n",
    ")"
   ]
  },
  {
   "cell_type": "markdown",
   "metadata": {},
   "source": [
    "### Operations That Drop Missing Values"
   ]
  },
  {
   "cell_type": "code",
   "execution_count": 33,
   "metadata": {},
   "outputs": [
    {
     "data": {
      "text/html": [
       "<div><style>\n",
       ".dataframe > thead > tr,\n",
       ".dataframe > tbody > tr {\n",
       "  text-align: right;\n",
       "  white-space: pre-wrap;\n",
       "}\n",
       "</style>\n",
       "<small>shape: (4, 2)</small><table border=\"1\" class=\"dataframe\"><thead><tr><th>drop_nans</th><th>drop_nulls</th></tr><tr><td>f64</td><td>f64</td></tr></thead><tbody><tr><td>null</td><td>1.0</td></tr><tr><td>1.0</td><td>2.0</td></tr><tr><td>2.0</td><td>3.0</td></tr><tr><td>3.0</td><td>NaN</td></tr></tbody></table></div>"
      ],
      "text/plain": [
       "shape: (4, 2)\n",
       "┌───────────┬────────────┐\n",
       "│ drop_nans ┆ drop_nulls │\n",
       "│ ---       ┆ ---        │\n",
       "│ f64       ┆ f64        │\n",
       "╞═══════════╪════════════╡\n",
       "│ null      ┆ 1.0        │\n",
       "│ 1.0       ┆ 2.0        │\n",
       "│ 2.0       ┆ 3.0        │\n",
       "│ 3.0       ┆ NaN        │\n",
       "└───────────┴────────────┘"
      ]
     },
     "execution_count": 33,
     "metadata": {},
     "output_type": "execute_result"
    }
   ],
   "source": [
    "x = [None, 1.0, 2.0, 3.0, np.nan]\n",
    "(\n",
    "    pl.DataFrame({\"x\": x}).select(\n",
    "        drop_nans=pl.col(\"x\").drop_nans(), drop_nulls=pl.col(\"x\").drop_nulls()\n",
    "    )\n",
    ")"
   ]
  },
  {
   "cell_type": "markdown",
   "metadata": {},
   "source": [
    "### Other Operations"
   ]
  },
  {
   "cell_type": "code",
   "execution_count": 34,
   "metadata": {},
   "outputs": [
    {
     "data": {
      "text/html": [
       "<div><style>\n",
       ".dataframe > thead > tr,\n",
       ".dataframe > tbody > tr {\n",
       "  text-align: right;\n",
       "  white-space: pre-wrap;\n",
       "}\n",
       "</style>\n",
       "<small>shape: (4, 1)</small><table border=\"1\" class=\"dataframe\"><thead><tr><th>arg_true</th></tr><tr><td>u32</td></tr></thead><tbody><tr><td>4</td></tr><tr><td>5</td></tr><tr><td>6</td></tr><tr><td>8</td></tr></tbody></table></div>"
      ],
      "text/plain": [
       "shape: (4, 1)\n",
       "┌──────────┐\n",
       "│ arg_true │\n",
       "│ ---      │\n",
       "│ u32      │\n",
       "╞══════════╡\n",
       "│ 4        │\n",
       "│ 5        │\n",
       "│ 6        │\n",
       "│ 8        │\n",
       "└──────────┘"
      ]
     },
     "execution_count": 34,
     "metadata": {},
     "output_type": "execute_result"
    }
   ],
   "source": [
    "numbers = [33, 33, 27, 33, 60, 60, 60, 33, 60]\n",
    "\n",
    "(\n",
    "    pl.DataFrame({\"x\": numbers}).select(\n",
    "        arg_true=(pl.col(\"x\") >= 60).arg_true(),\n",
    "    )\n",
    ")"
   ]
  },
  {
   "cell_type": "code",
   "execution_count": 35,
   "metadata": {},
   "outputs": [
    {
     "data": {
      "text/html": [
       "<div><style>\n",
       ".dataframe > thead > tr,\n",
       ".dataframe > tbody > tr {\n",
       "  text-align: right;\n",
       "  white-space: pre-wrap;\n",
       "}\n",
       "</style>\n",
       "<small>shape: (2, 1)</small><table border=\"1\" class=\"dataframe\"><thead><tr><th>mode</th></tr><tr><td>i64</td></tr></thead><tbody><tr><td>33</td></tr><tr><td>60</td></tr></tbody></table></div>"
      ],
      "text/plain": [
       "shape: (2, 1)\n",
       "┌──────┐\n",
       "│ mode │\n",
       "│ ---  │\n",
       "│ i64  │\n",
       "╞══════╡\n",
       "│ 33   │\n",
       "│ 60   │\n",
       "└──────┘"
      ]
     },
     "execution_count": 35,
     "metadata": {},
     "output_type": "execute_result"
    }
   ],
   "source": [
    "(\n",
    "    pl.DataFrame({\"x\": numbers}).select(\n",
    "        mode=pl.col(\"x\").mode().sort(),\n",
    "    )\n",
    ")"
   ]
  },
  {
   "cell_type": "code",
   "execution_count": 36,
   "metadata": {},
   "outputs": [
    {
     "data": {
      "text/html": [
       "<div><style>\n",
       ".dataframe > thead > tr,\n",
       ".dataframe > tbody > tr {\n",
       "  text-align: right;\n",
       "  white-space: pre-wrap;\n",
       "}\n",
       "</style>\n",
       "<small>shape: (3, 1)</small><table border=\"1\" class=\"dataframe\"><thead><tr><th>reshape</th></tr><tr><td>array[i64, 3]</td></tr></thead><tbody><tr><td>[33, 33, 27]</td></tr><tr><td>[33, 60, 60]</td></tr><tr><td>[60, 33, 60]</td></tr></tbody></table></div>"
      ],
      "text/plain": [
       "shape: (3, 1)\n",
       "┌───────────────┐\n",
       "│ reshape       │\n",
       "│ ---           │\n",
       "│ array[i64, 3] │\n",
       "╞═══════════════╡\n",
       "│ [33, 33, 27]  │\n",
       "│ [33, 60, 60]  │\n",
       "│ [60, 33, 60]  │\n",
       "└───────────────┘"
      ]
     },
     "execution_count": 36,
     "metadata": {},
     "output_type": "execute_result"
    }
   ],
   "source": [
    "(\n",
    "    pl.DataFrame({\"x\": numbers}).select(\n",
    "        reshape=pl.col(\"x\").reshape((3, 3)),\n",
    "    )\n",
    ")"
   ]
  },
  {
   "cell_type": "code",
   "execution_count": 37,
   "metadata": {},
   "outputs": [
    {
     "data": {
      "text/html": [
       "<div><style>\n",
       ".dataframe > thead > tr,\n",
       ".dataframe > tbody > tr {\n",
       "  text-align: right;\n",
       "  white-space: pre-wrap;\n",
       "}\n",
       "</style>\n",
       "<small>shape: (6, 1)</small><table border=\"1\" class=\"dataframe\"><thead><tr><th>rle</th></tr><tr><td>struct[2]</td></tr></thead><tbody><tr><td>{2,33}</td></tr><tr><td>{1,27}</td></tr><tr><td>{1,33}</td></tr><tr><td>{3,60}</td></tr><tr><td>{1,33}</td></tr><tr><td>{1,60}</td></tr></tbody></table></div>"
      ],
      "text/plain": [
       "shape: (6, 1)\n",
       "┌───────────┐\n",
       "│ rle       │\n",
       "│ ---       │\n",
       "│ struct[2] │\n",
       "╞═══════════╡\n",
       "│ {2,33}    │\n",
       "│ {1,27}    │\n",
       "│ {1,33}    │\n",
       "│ {3,60}    │\n",
       "│ {1,33}    │\n",
       "│ {1,60}    │\n",
       "└───────────┘"
      ]
     },
     "execution_count": 37,
     "metadata": {},
     "output_type": "execute_result"
    }
   ],
   "source": [
    "(\n",
    "    pl.DataFrame({\"x\": numbers}).select(\n",
    "        rle=pl.col(\"x\").rle(),\n",
    "    )\n",
    ")"
   ]
  },
  {
   "cell_type": "code",
   "execution_count": 38,
   "metadata": {},
   "outputs": [
    {
     "data": {
      "text/html": [
       "<div><style>\n",
       ".dataframe > thead > tr,\n",
       ".dataframe > tbody > tr {\n",
       "  text-align: right;\n",
       "  white-space: pre-wrap;\n",
       "}\n",
       "</style>\n",
       "<small>shape: (1, 1)</small><table border=\"1\" class=\"dataframe\"><thead><tr><th>rle</th></tr><tr><td>u32</td></tr></thead><tbody><tr><td>5</td></tr></tbody></table></div>"
      ],
      "text/plain": [
       "shape: (1, 1)\n",
       "┌─────┐\n",
       "│ rle │\n",
       "│ --- │\n",
       "│ u32 │\n",
       "╞═════╡\n",
       "│ 5   │\n",
       "└─────┘"
      ]
     },
     "execution_count": 38,
     "metadata": {},
     "output_type": "execute_result"
    }
   ],
   "source": [
    "(\n",
    "    pl.DataFrame({\"x\": numbers}).select(\n",
    "        rle=pl.col(\"x\").sort().search_sorted(42),\n",
    "    )\n",
    ")"
   ]
  },
  {
   "cell_type": "markdown",
   "metadata": {},
   "source": [
    "## Series-Wise Operations That Extend"
   ]
  },
  {
   "cell_type": "code",
   "execution_count": 39,
   "metadata": {},
   "outputs": [
    {
     "data": {
      "text/html": [
       "<div><style>\n",
       ".dataframe > thead > tr,\n",
       ".dataframe > tbody > tr {\n",
       "  text-align: right;\n",
       "  white-space: pre-wrap;\n",
       "}\n",
       "</style>\n",
       "<small>shape: (4, 1)</small><table border=\"1\" class=\"dataframe\"><thead><tr><th>explode</th></tr><tr><td>str</td></tr></thead><tbody><tr><td>&quot;a&quot;</td></tr><tr><td>&quot;b&quot;</td></tr><tr><td>&quot;c&quot;</td></tr><tr><td>&quot;d&quot;</td></tr></tbody></table></div>"
      ],
      "text/plain": [
       "shape: (4, 1)\n",
       "┌─────────┐\n",
       "│ explode │\n",
       "│ ---     │\n",
       "│ str     │\n",
       "╞═════════╡\n",
       "│ a       │\n",
       "│ b       │\n",
       "│ c       │\n",
       "│ d       │\n",
       "└─────────┘"
      ]
     },
     "execution_count": 39,
     "metadata": {},
     "output_type": "execute_result"
    }
   ],
   "source": [
    "(\n",
    "    pl.DataFrame(\n",
    "        {\n",
    "            \"x\": [[\"a\", \"b\"], [\"c\", \"d\"]],\n",
    "        }\n",
    "    ).select(explode=pl.col(\"x\").explode())\n",
    ")"
   ]
  }
 ],
 "metadata": {
  "kernelspec": {
   "display_name": ".venv",
   "language": "python",
   "name": "python3"
  },
  "language_info": {
   "codemirror_mode": {
    "name": "ipython",
    "version": 3
   },
   "file_extension": ".py",
   "mimetype": "text/x-python",
   "name": "python",
   "nbconvert_exporter": "python",
   "pygments_lexer": "ipython3",
   "version": "3.12.3"
  }
 },
 "nbformat": 4,
 "nbformat_minor": 5
}
