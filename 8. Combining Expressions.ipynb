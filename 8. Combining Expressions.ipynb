{
 "cells": [
  {
   "cell_type": "markdown",
   "metadata": {},
   "source": [
    "# Combining Expressions"
   ]
  },
  {
   "cell_type": "code",
   "execution_count": 1,
   "metadata": {},
   "outputs": [
    {
     "data": {
      "text/plain": [
       "'1.20.0'"
      ]
     },
     "execution_count": 1,
     "metadata": {},
     "output_type": "execute_result"
    }
   ],
   "source": [
    "import polars as pl\n",
    "pl.__version__  # The book is built with Polars version 1.20.0"
   ]
  },
  {
   "cell_type": "code",
   "execution_count": 2,
   "metadata": {},
   "outputs": [
    {
     "data": {
      "text/html": [
       "<div><style>\n",
       ".dataframe > thead > tr,\n",
       ".dataframe > tbody > tr {\n",
       "  text-align: right;\n",
       "  white-space: pre-wrap;\n",
       "}\n",
       "</style>\n",
       "<small>shape: (2, 5)</small><table border=\"1\" class=\"dataframe\"><thead><tr><th>name</th><th>weight</th><th>color</th><th>is_round</th><th>origin</th></tr><tr><td>str</td><td>i64</td><td>str</td><td>bool</td><td>str</td></tr></thead><tbody><tr><td>&quot;Cantaloupe&quot;</td><td>2500</td><td>&quot;orange&quot;</td><td>true</td><td>&quot;Africa&quot;</td></tr><tr><td>&quot;Watermelon&quot;</td><td>5000</td><td>&quot;green&quot;</td><td>true</td><td>&quot;Africa&quot;</td></tr></tbody></table></div>"
      ],
      "text/plain": [
       "shape: (2, 5)\n",
       "┌────────────┬────────┬────────┬──────────┬────────┐\n",
       "│ name       ┆ weight ┆ color  ┆ is_round ┆ origin │\n",
       "│ ---        ┆ ---    ┆ ---    ┆ ---      ┆ ---    │\n",
       "│ str        ┆ i64    ┆ str    ┆ bool     ┆ str    │\n",
       "╞════════════╪════════╪════════╪══════════╪════════╡\n",
       "│ Cantaloupe ┆ 2500   ┆ orange ┆ true     ┆ Africa │\n",
       "│ Watermelon ┆ 5000   ┆ green  ┆ true     ┆ Africa │\n",
       "└────────────┴────────┴────────┴──────────┴────────┘"
      ]
     },
     "execution_count": 2,
     "metadata": {},
     "output_type": "execute_result"
    }
   ],
   "source": [
    "fruit = pl.read_csv(\"data/fruit.csv\")\n",
    "fruit.filter(pl.col(\"is_round\") & (pl.col(\"weight\") > 1000))"
   ]
  },
  {
   "cell_type": "markdown",
   "metadata": {},
   "source": [
    "## Inline Operators Versus Methods"
   ]
  },
  {
   "cell_type": "code",
   "execution_count": 3,
   "metadata": {},
   "outputs": [
    {
     "data": {
      "text/html": [
       "<div><style>\n",
       ".dataframe > thead > tr,\n",
       ".dataframe > tbody > tr {\n",
       "  text-align: right;\n",
       "  white-space: pre-wrap;\n",
       "}\n",
       "</style>\n",
       "<small>shape: (4, 4)</small><table border=\"1\" class=\"dataframe\"><thead><tr><th>i</th><th>j</th><th>*</th><th>Expr.mul()</th></tr><tr><td>f64</td><td>f64</td><td>f64</td><td>f64</td></tr></thead><tbody><tr><td>6.0</td><td>7.0</td><td>42.0</td><td>42.0</td></tr><tr><td>0.0</td><td>1.0</td><td>0.0</td><td>0.0</td></tr><tr><td>2.0</td><td>2.0</td><td>4.0</td><td>4.0</td></tr><tr><td>2.5</td><td>3.0</td><td>7.5</td><td>7.5</td></tr></tbody></table></div>"
      ],
      "text/plain": [
       "shape: (4, 4)\n",
       "┌─────┬─────┬──────┬────────────┐\n",
       "│ i   ┆ j   ┆ *    ┆ Expr.mul() │\n",
       "│ --- ┆ --- ┆ ---  ┆ ---        │\n",
       "│ f64 ┆ f64 ┆ f64  ┆ f64        │\n",
       "╞═════╪═════╪══════╪════════════╡\n",
       "│ 6.0 ┆ 7.0 ┆ 42.0 ┆ 42.0       │\n",
       "│ 0.0 ┆ 1.0 ┆ 0.0  ┆ 0.0        │\n",
       "│ 2.0 ┆ 2.0 ┆ 4.0  ┆ 4.0        │\n",
       "│ 2.5 ┆ 3.0 ┆ 7.5  ┆ 7.5        │\n",
       "└─────┴─────┴──────┴────────────┘"
      ]
     },
     "execution_count": 3,
     "metadata": {},
     "output_type": "execute_result"
    }
   ],
   "source": [
    "(\n",
    "    pl.DataFrame({\"i\": [6.0, 0, 2, 2.5], \"j\": [7.0, 1, 2, 3]}).with_columns(\n",
    "        (pl.col(\"i\") * pl.col(\"j\")).alias(\"*\"),\n",
    "        pl.col(\"i\").mul(pl.col(\"j\")).alias(\"Expr.mul()\"),\n",
    "    )\n",
    ")"
   ]
  },
  {
   "cell_type": "markdown",
   "metadata": {},
   "source": [
    "## Arithmetic Operations"
   ]
  },
  {
   "cell_type": "code",
   "execution_count": 4,
   "metadata": {},
   "outputs": [
    {
     "data": {
      "text/html": [
       "<div><style>\n",
       ".dataframe > thead > tr,\n",
       ".dataframe > tbody > tr {\n",
       "  text-align: right;\n",
       "  white-space: pre-wrap;\n",
       "}\n",
       "</style>\n",
       "<small>shape: (10, 2)</small><table border=\"1\" class=\"dataframe\"><thead><tr><th>name</th><th>weight</th></tr><tr><td>str</td><td>f64</td></tr></thead><tbody><tr><td>&quot;Avocado&quot;</td><td>0.2</td></tr><tr><td>&quot;Banana&quot;</td><td>0.12</td></tr><tr><td>&quot;Blueberry&quot;</td><td>0.001</td></tr><tr><td>&quot;Cantaloupe&quot;</td><td>2.5</td></tr><tr><td>&quot;Cranberry&quot;</td><td>0.002</td></tr><tr><td>&quot;Elderberry&quot;</td><td>0.001</td></tr><tr><td>&quot;Orange&quot;</td><td>0.13</td></tr><tr><td>&quot;Papaya&quot;</td><td>1.0</td></tr><tr><td>&quot;Peach&quot;</td><td>0.15</td></tr><tr><td>&quot;Watermelon&quot;</td><td>5.0</td></tr></tbody></table></div>"
      ],
      "text/plain": [
       "shape: (10, 2)\n",
       "┌────────────┬────────┐\n",
       "│ name       ┆ weight │\n",
       "│ ---        ┆ ---    │\n",
       "│ str        ┆ f64    │\n",
       "╞════════════╪════════╡\n",
       "│ Avocado    ┆ 0.2    │\n",
       "│ Banana     ┆ 0.12   │\n",
       "│ Blueberry  ┆ 0.001  │\n",
       "│ Cantaloupe ┆ 2.5    │\n",
       "│ Cranberry  ┆ 0.002  │\n",
       "│ Elderberry ┆ 0.001  │\n",
       "│ Orange     ┆ 0.13   │\n",
       "│ Papaya     ┆ 1.0    │\n",
       "│ Peach      ┆ 0.15   │\n",
       "│ Watermelon ┆ 5.0    │\n",
       "└────────────┴────────┘"
      ]
     },
     "execution_count": 4,
     "metadata": {},
     "output_type": "execute_result"
    }
   ],
   "source": [
    "fruit.select(pl.col(\"name\"), (pl.col(\"weight\") / 1000))"
   ]
  },
  {
   "cell_type": "code",
   "execution_count": 5,
   "metadata": {},
   "outputs": [
    {
     "data": {
      "text/html": [
       "<div><style>\n",
       ".dataframe > thead > tr,\n",
       ".dataframe > tbody > tr {\n",
       "  text-align: right;\n",
       "  white-space: pre-wrap;\n",
       "}\n",
       "</style>\n",
       "<small>shape: (5, 10)</small><table border=\"1\" class=\"dataframe\"><thead><tr><th>i</th><th>j</th><th>i + j</th><th>i - j</th><th>i * j</th><th>i / j</th><th>i // j</th><th>i ** j</th><th>j % 2</th><th>i ⋅ j</th></tr><tr><td>f64</td><td>i64</td><td>f64</td><td>f64</td><td>f64</td><td>f64</td><td>f64</td><td>f64</td><td>i64</td><td>f64</td></tr></thead><tbody><tr><td>0.00</td><td>1</td><td>1.00</td><td>-1.00</td><td>0.00</td><td>0.00</td><td>0.00</td><td>0.00</td><td>1</td><td>12.00</td></tr><tr><td>2.00</td><td>2</td><td>4.00</td><td>0.00</td><td>4.00</td><td>1.00</td><td>1.00</td><td>4.00</td><td>0</td><td>12.00</td></tr><tr><td>2.00</td><td>3</td><td>5.00</td><td>-1.00</td><td>6.00</td><td>0.67</td><td>0.00</td><td>8.00</td><td>1</td><td>12.00</td></tr><tr><td>-2.00</td><td>4</td><td>2.00</td><td>-6.00</td><td>-8.00</td><td>-0.50</td><td>-1.00</td><td>16.00</td><td>0</td><td>12.00</td></tr><tr><td>-2.00</td><td>-5</td><td>-7.00</td><td>3.00</td><td>10.00</td><td>0.40</td><td>0.00</td><td>-0.03</td><td>1</td><td>12.00</td></tr></tbody></table></div>"
      ],
      "text/plain": [
       "shape: (5, 10)\n",
       "┌───────┬─────┬───────┬───────┬───┬────────┬────────┬───────┬───────┐\n",
       "│     i ┆   j ┆ i + j ┆ i - j ┆ … ┆ i // j ┆ i ** j ┆ j % 2 ┆ i ⋅ j │\n",
       "│   --- ┆ --- ┆   --- ┆   --- ┆   ┆    --- ┆    --- ┆   --- ┆   --- │\n",
       "│   f64 ┆ i64 ┆   f64 ┆   f64 ┆   ┆    f64 ┆    f64 ┆   i64 ┆   f64 │\n",
       "╞═══════╪═════╪═══════╪═══════╪═══╪════════╪════════╪═══════╪═══════╡\n",
       "│  0.00 ┆   1 ┆  1.00 ┆ -1.00 ┆ … ┆   0.00 ┆   0.00 ┆     1 ┆ 12.00 │\n",
       "│  2.00 ┆   2 ┆  4.00 ┆  0.00 ┆ … ┆   1.00 ┆   4.00 ┆     0 ┆ 12.00 │\n",
       "│  2.00 ┆   3 ┆  5.00 ┆ -1.00 ┆ … ┆   0.00 ┆   8.00 ┆     1 ┆ 12.00 │\n",
       "│ -2.00 ┆   4 ┆  2.00 ┆ -6.00 ┆ … ┆  -1.00 ┆  16.00 ┆     0 ┆ 12.00 │\n",
       "│ -2.00 ┆  -5 ┆ -7.00 ┆  3.00 ┆ … ┆   0.00 ┆  -0.03 ┆     1 ┆ 12.00 │\n",
       "└───────┴─────┴───────┴───────┴───┴────────┴────────┴───────┴───────┘"
      ]
     },
     "execution_count": 5,
     "metadata": {},
     "output_type": "execute_result"
    }
   ],
   "source": [
    "pl.Config(float_precision=2, tbl_cell_numeric_alignment=\"RIGHT\")\n",
    "\n",
    "(\n",
    "    pl.DataFrame({\"i\": [0.0, 2, 2, -2, -2], \"j\": [1, 2, 3, 4, -5]}).with_columns(\n",
    "        (pl.col(\"i\") + pl.col(\"j\")).alias(\"i + j\"),\n",
    "        (pl.col(\"i\") - pl.col(\"j\")).alias(\"i - j\"),\n",
    "        (pl.col(\"i\") * pl.col(\"j\")).alias(\"i * j\"),\n",
    "        (pl.col(\"i\") / pl.col(\"j\")).alias(\"i / j\"),\n",
    "        (pl.col(\"i\") // pl.col(\"j\")).alias(\"i // j\"),\n",
    "        (pl.col(\"i\") ** pl.col(\"j\")).alias(\"i ** j\"),\n",
    "        (pl.col(\"j\") % 2).alias(\"j % 2\"),\n",
    "        pl.col(\"i\").dot(pl.col(\"j\")).alias(\"i ⋅ j\"),\n",
    "    )\n",
    ")"
   ]
  },
  {
   "cell_type": "code",
   "execution_count": 6,
   "metadata": {},
   "outputs": [
    {
     "data": {
      "text/plain": [
       "polars.config.Config"
      ]
     },
     "execution_count": 6,
     "metadata": {},
     "output_type": "execute_result"
    }
   ],
   "source": [
    "pl.Config.set_float_precision()\n",
    "pl.Config.set_tbl_cell_numeric_alignment(None)"
   ]
  },
  {
   "cell_type": "markdown",
   "metadata": {},
   "source": [
    "## Comparison Operations"
   ]
  },
  {
   "cell_type": "code",
   "execution_count": 7,
   "metadata": {},
   "outputs": [
    {
     "data": {
      "text/html": [
       "<div><style>\n",
       ".dataframe > thead > tr,\n",
       ".dataframe > tbody > tr {\n",
       "  text-align: right;\n",
       "  white-space: pre-wrap;\n",
       "}\n",
       "</style>\n",
       "<small>shape: (1, 1)</small><table border=\"1\" class=\"dataframe\"><thead><tr><th>literal</th></tr><tr><td>bool</td></tr></thead><tbody><tr><td>false</td></tr></tbody></table></div>"
      ],
      "text/plain": [
       "shape: (1, 1)\n",
       "┌─────────┐\n",
       "│ literal │\n",
       "│ ---     │\n",
       "│ bool    │\n",
       "╞═════════╡\n",
       "│ false   │\n",
       "└─────────┘"
      ]
     },
     "execution_count": 7,
     "metadata": {},
     "output_type": "execute_result"
    }
   ],
   "source": [
    "pl.select(pl.lit(\"a\") > pl.lit(\"b\"))"
   ]
  },
  {
   "cell_type": "code",
   "execution_count": 8,
   "metadata": {},
   "outputs": [
    {
     "data": {
      "text/html": [
       "<div><style>\n",
       ".dataframe > thead > tr,\n",
       ".dataframe > tbody > tr {\n",
       "  text-align: right;\n",
       "  white-space: pre-wrap;\n",
       "}\n",
       "</style>\n",
       "<small>shape: (3, 2)</small><table border=\"1\" class=\"dataframe\"><thead><tr><th>name</th><th>weight</th></tr><tr><td>str</td><td>i64</td></tr></thead><tbody><tr><td>&quot;Cantaloupe&quot;</td><td>2500</td></tr><tr><td>&quot;Papaya&quot;</td><td>1000</td></tr><tr><td>&quot;Watermelon&quot;</td><td>5000</td></tr></tbody></table></div>"
      ],
      "text/plain": [
       "shape: (3, 2)\n",
       "┌────────────┬────────┐\n",
       "│ name       ┆ weight │\n",
       "│ ---        ┆ ---    │\n",
       "│ str        ┆ i64    │\n",
       "╞════════════╪════════╡\n",
       "│ Cantaloupe ┆ 2500   │\n",
       "│ Papaya     ┆ 1000   │\n",
       "│ Watermelon ┆ 5000   │\n",
       "└────────────┴────────┘"
      ]
     },
     "execution_count": 8,
     "metadata": {},
     "output_type": "execute_result"
    }
   ],
   "source": [
    "(\n",
    "    fruit.select(\n",
    "        pl.col(\"name\"),\n",
    "        pl.col(\"weight\"),\n",
    "    ).filter(pl.col(\"weight\") >= 1000)\n",
    ")"
   ]
  },
  {
   "cell_type": "code",
   "execution_count": 9,
   "metadata": {},
   "outputs": [
    {
     "data": {
      "text/plain": [
       "True"
      ]
     },
     "execution_count": 9,
     "metadata": {},
     "output_type": "execute_result"
    }
   ],
   "source": [
    "x = 4\n",
    "3 < x < 5"
   ]
  },
  {
   "cell_type": "code",
   "execution_count": 10,
   "metadata": {},
   "outputs": [],
   "source": [
    "# This raises a TypeError:\n",
    "# pl.select(pl.lit(3) < pl.lit(x) < pl.lit(5))"
   ]
  },
  {
   "cell_type": "code",
   "execution_count": 11,
   "metadata": {},
   "outputs": [
    {
     "data": {
      "text/plain": [
       "True"
      ]
     },
     "execution_count": 11,
     "metadata": {},
     "output_type": "execute_result"
    }
   ],
   "source": [
    "pl.select((pl.lit(3) < pl.lit(x)) & (pl.lit(x) < pl.lit(5))).item()"
   ]
  },
  {
   "cell_type": "code",
   "execution_count": 12,
   "metadata": {},
   "outputs": [
    {
     "data": {
      "text/plain": [
       "True"
      ]
     },
     "execution_count": 12,
     "metadata": {},
     "output_type": "execute_result"
    }
   ],
   "source": [
    "pl.select(pl.lit(x).is_between(3, 5)).item()"
   ]
  },
  {
   "cell_type": "code",
   "execution_count": 13,
   "metadata": {},
   "outputs": [
    {
     "data": {
      "text/html": [
       "<div><style>\n",
       ".dataframe > thead > tr,\n",
       ".dataframe > tbody > tr {\n",
       "  text-align: right;\n",
       "  white-space: pre-wrap;\n",
       "}\n",
       "</style>\n",
       "<small>shape: (4, 8)</small><table border=\"1\" class=\"dataframe\"><thead><tr><th>a</th><th>b</th><th>a == b</th><th>a &lt;= b</th><th>a &gt; 0</th><th>b &gt; 0</th><th>b ≈ √2</th><th>1 &lt; b &lt; 3</th></tr><tr><td>f64</td><td>f64</td><td>bool</td><td>bool</td><td>bool</td><td>bool</td><td>bool</td><td>bool</td></tr></thead><tbody><tr><td>-273.15</td><td>1.4142</td><td>false</td><td>true</td><td>false</td><td>true</td><td>true</td><td>true</td></tr><tr><td>0.0</td><td>2.7183</td><td>false</td><td>true</td><td>false</td><td>true</td><td>false</td><td>true</td></tr><tr><td>42.0</td><td>42.0</td><td>true</td><td>true</td><td>true</td><td>true</td><td>false</td><td>false</td></tr><tr><td>100.0</td><td>3.1415</td><td>false</td><td>false</td><td>true</td><td>true</td><td>false</td><td>false</td></tr></tbody></table></div>"
      ],
      "text/plain": [
       "shape: (4, 8)\n",
       "┌─────────┬────────┬────────┬────────┬───────┬───────┬────────┬───────────┐\n",
       "│ a       ┆ b      ┆ a == b ┆ a <= b ┆ a > 0 ┆ b > 0 ┆ b ≈ √2 ┆ 1 < b < 3 │\n",
       "│ ---     ┆ ---    ┆ ---    ┆ ---    ┆ ---   ┆ ---   ┆ ---    ┆ ---       │\n",
       "│ f64     ┆ f64    ┆ bool   ┆ bool   ┆ bool  ┆ bool  ┆ bool   ┆ bool      │\n",
       "╞═════════╪════════╪════════╪════════╪═══════╪═══════╪════════╪═══════════╡\n",
       "│ -273.15 ┆ 1.4142 ┆ false  ┆ true   ┆ false ┆ true  ┆ true   ┆ true      │\n",
       "│ 0.0     ┆ 2.7183 ┆ false  ┆ true   ┆ false ┆ true  ┆ false  ┆ true      │\n",
       "│ 42.0    ┆ 42.0   ┆ true   ┆ true   ┆ true  ┆ true  ┆ false  ┆ false     │\n",
       "│ 100.0   ┆ 3.1415 ┆ false  ┆ false  ┆ true  ┆ true  ┆ false  ┆ false     │\n",
       "└─────────┴────────┴────────┴────────┴───────┴───────┴────────┴───────────┘"
      ]
     },
     "execution_count": 13,
     "metadata": {},
     "output_type": "execute_result"
    }
   ],
   "source": [
    "(\n",
    "    pl.DataFrame(\n",
    "        {\"a\": [-273.15, 0, 42, 100], \"b\": [1.4142, 2.7183, 42, 3.1415]}\n",
    "    ).with_columns(\n",
    "        (pl.col(\"a\") == pl.col(\"b\")).alias(\"a == b\"),\n",
    "        (pl.col(\"a\") <= pl.col(\"b\")).alias(\"a <= b\"),\n",
    "        (pl.all() > 0).name.suffix(\" > 0\"),\n",
    "        ((pl.col(\"b\") - pl.lit(2).sqrt()).abs() < 1e-3).alias(\"b ≈ √2\"),\n",
    "        ((1 < pl.col(\"b\")) & (pl.col(\"b\") < 3)).alias(\"1 < b < 3\"),\n",
    "    )\n",
    ")"
   ]
  },
  {
   "cell_type": "code",
   "execution_count": 14,
   "metadata": {},
   "outputs": [
    {
     "data": {
      "text/html": [
       "<div><style>\n",
       ".dataframe > thead > tr,\n",
       ".dataframe > tbody > tr {\n",
       "  text-align: right;\n",
       "  white-space: pre-wrap;\n",
       "}\n",
       "</style>\n",
       "<small>shape: (5, 2)</small><table border=\"1\" class=\"dataframe\"><thead><tr><th>comparison</th><th>allowed</th></tr><tr><td>str</td><td>bool</td></tr></thead><tbody><tr><td>&quot;bool_num&quot;</td><td>true</td></tr><tr><td>&quot;time_time&quot;</td><td>true</td></tr><tr><td>&quot;datetime_date&quot;</td><td>true</td></tr><tr><td>&quot;str_num&quot;</td><td>false</td></tr><tr><td>&quot;datetime_time&quot;</td><td>false</td></tr></tbody></table></div>"
      ],
      "text/plain": [
       "shape: (5, 2)\n",
       "┌───────────────┬─────────┐\n",
       "│ comparison    ┆ allowed │\n",
       "│ ---           ┆ ---     │\n",
       "│ str           ┆ bool    │\n",
       "╞═══════════════╪═════════╡\n",
       "│ bool_num      ┆ true    │\n",
       "│ time_time     ┆ true    │\n",
       "│ datetime_date ┆ true    │\n",
       "│ str_num       ┆ false   │\n",
       "│ datetime_time ┆ false   │\n",
       "└───────────────┴─────────┘"
      ]
     },
     "execution_count": 14,
     "metadata": {},
     "output_type": "execute_result"
    }
   ],
   "source": [
    "pl.select(\n",
    "    bool_num=pl.lit(True) > 0,\n",
    "    time_time=pl.time(23, 58) > pl.time(0, 0),\n",
    "    datetime_date=pl.datetime(1969, 7, 21, 2, 56) < pl.date(1976, 7, 20),\n",
    "    str_num=pl.lit(\"5\") < pl.lit(3).cast(pl.String),\n",
    "    datetime_time=pl.datetime(1999, 1, 1).dt.time() != pl.time(0, 0),\n",
    ").transpose(\n",
    "    include_header=True, header_name=\"comparison\", column_names=[\"allowed\"]\n",
    ")"
   ]
  },
  {
   "cell_type": "markdown",
   "metadata": {},
   "source": [
    "## Boolean Algebra Operations"
   ]
  },
  {
   "cell_type": "code",
   "execution_count": 15,
   "metadata": {},
   "outputs": [
    {
     "data": {
      "text/plain": [
       "False"
      ]
     },
     "execution_count": 15,
     "metadata": {},
     "output_type": "execute_result"
    }
   ],
   "source": [
    "x = 7\n",
    "p = pl.lit(3) < pl.lit(x)  # True\n",
    "q = pl.lit(x) < pl.lit(5)  # False\n",
    "pl.select(p & q).item()"
   ]
  },
  {
   "cell_type": "code",
   "execution_count": 16,
   "metadata": {},
   "outputs": [
    {
     "data": {
      "text/html": [
       "<div><style>\n",
       ".dataframe > thead > tr,\n",
       ".dataframe > tbody > tr {\n",
       "  text-align: right;\n",
       "  white-space: pre-wrap;\n",
       "}\n",
       "</style>\n",
       "<small>shape: (4, 8)</small><table border=\"1\" class=\"dataframe\"><thead><tr><th>p</th><th>q</th><th>p &amp; q</th><th>p | q</th><th>~p</th><th>p ^ q</th><th>p ↑ q</th><th>p ↓ q</th></tr><tr><td>bool</td><td>bool</td><td>bool</td><td>bool</td><td>bool</td><td>bool</td><td>bool</td><td>bool</td></tr></thead><tbody><tr><td>true</td><td>true</td><td>true</td><td>true</td><td>false</td><td>false</td><td>false</td><td>false</td></tr><tr><td>true</td><td>false</td><td>false</td><td>true</td><td>false</td><td>true</td><td>true</td><td>false</td></tr><tr><td>false</td><td>true</td><td>false</td><td>true</td><td>true</td><td>true</td><td>true</td><td>false</td></tr><tr><td>false</td><td>false</td><td>false</td><td>false</td><td>true</td><td>false</td><td>true</td><td>true</td></tr></tbody></table></div>"
      ],
      "text/plain": [
       "shape: (4, 8)\n",
       "┌───────┬───────┬───────┬───────┬───────┬───────┬───────┬───────┐\n",
       "│ p     ┆ q     ┆ p & q ┆ p | q ┆ ~p    ┆ p ^ q ┆ p ↑ q ┆ p ↓ q │\n",
       "│ ---   ┆ ---   ┆ ---   ┆ ---   ┆ ---   ┆ ---   ┆ ---   ┆ ---   │\n",
       "│ bool  ┆ bool  ┆ bool  ┆ bool  ┆ bool  ┆ bool  ┆ bool  ┆ bool  │\n",
       "╞═══════╪═══════╪═══════╪═══════╪═══════╪═══════╪═══════╪═══════╡\n",
       "│ true  ┆ true  ┆ true  ┆ true  ┆ false ┆ false ┆ false ┆ false │\n",
       "│ true  ┆ false ┆ false ┆ true  ┆ false ┆ true  ┆ true  ┆ false │\n",
       "│ false ┆ true  ┆ false ┆ true  ┆ true  ┆ true  ┆ true  ┆ false │\n",
       "│ false ┆ false ┆ false ┆ false ┆ true  ┆ false ┆ true  ┆ true  │\n",
       "└───────┴───────┴───────┴───────┴───────┴───────┴───────┴───────┘"
      ]
     },
     "execution_count": 16,
     "metadata": {},
     "output_type": "execute_result"
    }
   ],
   "source": [
    "(\n",
    "    pl.DataFrame(\n",
    "        {\"p\": [True, True, False, False], \"q\": [True, False, True, False]}\n",
    "    ).with_columns(\n",
    "        (pl.col(\"p\") & pl.col(\"q\")).alias(\"p & q\"),\n",
    "        (pl.col(\"p\") | pl.col(\"q\")).alias(\"p | q\"),\n",
    "        (~pl.col(\"p\")).alias(\"~p\"),\n",
    "        (pl.col(\"p\") ^ pl.col(\"q\")).alias(\"p ^ q\"),\n",
    "        (~(pl.col(\"p\") & pl.col(\"q\"))).alias(\"p ↑ q\"),\n",
    "        ((pl.col(\"p\").or_(pl.col(\"q\"))).not_()).alias(\"p ↓ q\"),\n",
    "    )\n",
    ")"
   ]
  },
  {
   "cell_type": "markdown",
   "metadata": {},
   "source": [
    "## Bitwise Operations"
   ]
  },
  {
   "cell_type": "code",
   "execution_count": 17,
   "metadata": {},
   "outputs": [
    {
     "data": {
      "text/plain": [
       "42"
      ]
     },
     "execution_count": 17,
     "metadata": {},
     "output_type": "execute_result"
    }
   ],
   "source": [
    "pl.select(pl.lit(10) | pl.lit(34)).item()"
   ]
  },
  {
   "cell_type": "code",
   "execution_count": 18,
   "metadata": {},
   "outputs": [
    {
     "data": {
      "text/html": [
       "<div><style>\n",
       ".dataframe > thead > tr,\n",
       ".dataframe > tbody > tr {\n",
       "  text-align: right;\n",
       "  white-space: pre-wrap;\n",
       "}\n",
       "</style>\n",
       "<small>shape: (6, 6)</small><table border=\"1\" class=\"dataframe\"><thead><tr><th>x</th><th>y</th><th>x &amp; y</th><th>x | y</th><th>~x</th><th>x ^ y</th></tr><tr><td>u8</td><td>u8</td><td>u8</td><td>u8</td><td>u8</td><td>u8</td></tr></thead><tbody><tr><td>1</td><td>1</td><td>1</td><td>1</td><td>254</td><td>0</td></tr><tr><td>1</td><td>0</td><td>0</td><td>1</td><td>254</td><td>1</td></tr><tr><td>0</td><td>1</td><td>0</td><td>1</td><td>255</td><td>1</td></tr><tr><td>0</td><td>0</td><td>0</td><td>0</td><td>255</td><td>0</td></tr><tr><td>7</td><td>2</td><td>2</td><td>7</td><td>248</td><td>5</td></tr><tr><td>10</td><td>34</td><td>2</td><td>42</td><td>245</td><td>40</td></tr></tbody></table></div>"
      ],
      "text/plain": [
       "shape: (6, 6)\n",
       "┌─────┬─────┬───────┬───────┬─────┬───────┐\n",
       "│ x   ┆ y   ┆ x & y ┆ x | y ┆ ~x  ┆ x ^ y │\n",
       "│ --- ┆ --- ┆ ---   ┆ ---   ┆ --- ┆ ---   │\n",
       "│ u8  ┆ u8  ┆ u8    ┆ u8    ┆ u8  ┆ u8    │\n",
       "╞═════╪═════╪═══════╪═══════╪═════╪═══════╡\n",
       "│ 1   ┆ 1   ┆ 1     ┆ 1     ┆ 254 ┆ 0     │\n",
       "│ 1   ┆ 0   ┆ 0     ┆ 1     ┆ 254 ┆ 1     │\n",
       "│ 0   ┆ 1   ┆ 0     ┆ 1     ┆ 255 ┆ 1     │\n",
       "│ 0   ┆ 0   ┆ 0     ┆ 0     ┆ 255 ┆ 0     │\n",
       "│ 7   ┆ 2   ┆ 2     ┆ 7     ┆ 248 ┆ 5     │\n",
       "│ 10  ┆ 34  ┆ 2     ┆ 42    ┆ 245 ┆ 40    │\n",
       "└─────┴─────┴───────┴───────┴─────┴───────┘"
      ]
     },
     "execution_count": 18,
     "metadata": {},
     "output_type": "execute_result"
    }
   ],
   "source": [
    "bits = pl.DataFrame(\n",
    "    {\"x\": [1, 1, 0, 0, 7, 10], \"y\": [1, 0, 1, 0, 2, 34]},\n",
    "    schema={\"x\": pl.UInt8, \"y\": pl.UInt8},\n",
    ").with_columns(\n",
    "    (pl.col(\"x\") & pl.col(\"y\")).alias(\"x & y\"),\n",
    "    (pl.col(\"x\") | pl.col(\"y\")).alias(\"x | y\"),\n",
    "    (~pl.col(\"x\")).alias(\"~x\"),\n",
    "    (pl.col(\"x\") ^ pl.col(\"y\")).alias(\"x ^ y\"),\n",
    ")\n",
    "bits"
   ]
  },
  {
   "cell_type": "code",
   "execution_count": 19,
   "metadata": {},
   "outputs": [
    {
     "data": {
      "text/html": [
       "<div><style>\n",
       ".dataframe > thead > tr,\n",
       ".dataframe > tbody > tr {\n",
       "  text-align: right;\n",
       "  white-space: pre-wrap;\n",
       "}\n",
       "</style>\n",
       "<small>shape: (6, 6)</small><table border=\"1\" class=\"dataframe\"><thead><tr><th>x</th><th>y</th><th>x &amp; y</th><th>x | y</th><th>~x</th><th>x ^ y</th></tr><tr><td>str</td><td>str</td><td>str</td><td>str</td><td>str</td><td>str</td></tr></thead><tbody><tr><td>&quot;00000001&quot;</td><td>&quot;00000001&quot;</td><td>&quot;00000001&quot;</td><td>&quot;00000001&quot;</td><td>&quot;11111110&quot;</td><td>&quot;00000000&quot;</td></tr><tr><td>&quot;00000001&quot;</td><td>&quot;00000000&quot;</td><td>&quot;00000000&quot;</td><td>&quot;00000001&quot;</td><td>&quot;11111110&quot;</td><td>&quot;00000001&quot;</td></tr><tr><td>&quot;00000000&quot;</td><td>&quot;00000001&quot;</td><td>&quot;00000000&quot;</td><td>&quot;00000001&quot;</td><td>&quot;11111111&quot;</td><td>&quot;00000001&quot;</td></tr><tr><td>&quot;00000000&quot;</td><td>&quot;00000000&quot;</td><td>&quot;00000000&quot;</td><td>&quot;00000000&quot;</td><td>&quot;11111111&quot;</td><td>&quot;00000000&quot;</td></tr><tr><td>&quot;00000111&quot;</td><td>&quot;00000010&quot;</td><td>&quot;00000010&quot;</td><td>&quot;00000111&quot;</td><td>&quot;11111000&quot;</td><td>&quot;00000101&quot;</td></tr><tr><td>&quot;00001010&quot;</td><td>&quot;00100010&quot;</td><td>&quot;00000010&quot;</td><td>&quot;00101010&quot;</td><td>&quot;11110101&quot;</td><td>&quot;00101000&quot;</td></tr></tbody></table></div>"
      ],
      "text/plain": [
       "shape: (6, 6)\n",
       "┌──────────┬──────────┬──────────┬──────────┬──────────┬──────────┐\n",
       "│ x        ┆ y        ┆ x & y    ┆ x | y    ┆ ~x       ┆ x ^ y    │\n",
       "│ ---      ┆ ---      ┆ ---      ┆ ---      ┆ ---      ┆ ---      │\n",
       "│ str      ┆ str      ┆ str      ┆ str      ┆ str      ┆ str      │\n",
       "╞══════════╪══════════╪══════════╪══════════╪══════════╪══════════╡\n",
       "│ 00000001 ┆ 00000001 ┆ 00000001 ┆ 00000001 ┆ 11111110 ┆ 00000000 │\n",
       "│ 00000001 ┆ 00000000 ┆ 00000000 ┆ 00000001 ┆ 11111110 ┆ 00000001 │\n",
       "│ 00000000 ┆ 00000001 ┆ 00000000 ┆ 00000001 ┆ 11111111 ┆ 00000001 │\n",
       "│ 00000000 ┆ 00000000 ┆ 00000000 ┆ 00000000 ┆ 11111111 ┆ 00000000 │\n",
       "│ 00000111 ┆ 00000010 ┆ 00000010 ┆ 00000111 ┆ 11111000 ┆ 00000101 │\n",
       "│ 00001010 ┆ 00100010 ┆ 00000010 ┆ 00101010 ┆ 11110101 ┆ 00101000 │\n",
       "└──────────┴──────────┴──────────┴──────────┴──────────┴──────────┘"
      ]
     },
     "execution_count": 19,
     "metadata": {},
     "output_type": "execute_result"
    }
   ],
   "source": [
    "bits.select(pl.all().map_elements(\"{0:08b}\".format, return_dtype=pl.String))"
   ]
  },
  {
   "cell_type": "markdown",
   "metadata": {},
   "source": [
    "## Using Functions"
   ]
  },
  {
   "cell_type": "code",
   "execution_count": 20,
   "metadata": {},
   "outputs": [
    {
     "data": {
      "text/html": [
       "<div><style>\n",
       ".dataframe > thead > tr,\n",
       ".dataframe > tbody > tr {\n",
       "  text-align: right;\n",
       "  white-space: pre-wrap;\n",
       "}\n",
       "</style>\n",
       "<small>shape: (5, 3)</small><table border=\"1\" class=\"dataframe\"><thead><tr><th>first_name</th><th>last_name</th><th>country</th></tr><tr><td>str</td><td>str</td><td>str</td></tr></thead><tbody><tr><td>&quot;George&quot;</td><td>&quot;Boole&quot;</td><td>&quot;England&quot;</td></tr><tr><td>&quot;Grace&quot;</td><td>&quot;Hopper&quot;</td><td>&quot;United States&quot;</td></tr><tr><td>&quot;John&quot;</td><td>&quot;Tukey&quot;</td><td>&quot;United States&quot;</td></tr><tr><td>&quot;Kurt&quot;</td><td>&quot;Gödel&quot;</td><td>&quot;Austria-Hungary&quot;</td></tr><tr><td>&quot;Ada&quot;</td><td>&quot;Lovelace&quot;</td><td>&quot;England&quot;</td></tr></tbody></table></div>"
      ],
      "text/plain": [
       "shape: (5, 3)\n",
       "┌────────────┬───────────┬─────────────────┐\n",
       "│ first_name ┆ last_name ┆ country         │\n",
       "│ ---        ┆ ---       ┆ ---             │\n",
       "│ str        ┆ str       ┆ str             │\n",
       "╞════════════╪═══════════╪═════════════════╡\n",
       "│ George     ┆ Boole     ┆ England         │\n",
       "│ Grace      ┆ Hopper    ┆ United States   │\n",
       "│ John       ┆ Tukey     ┆ United States   │\n",
       "│ Kurt       ┆ Gödel     ┆ Austria-Hungary │\n",
       "│ Ada        ┆ Lovelace  ┆ England         │\n",
       "└────────────┴───────────┴─────────────────┘"
      ]
     },
     "execution_count": 20,
     "metadata": {},
     "output_type": "execute_result"
    }
   ],
   "source": [
    "scientists = pl.DataFrame(\n",
    "    {\n",
    "        \"first_name\": [\"George\", \"Grace\", \"John\", \"Kurt\", \"Ada\"],\n",
    "        \"last_name\": [\"Boole\", \"Hopper\", \"Tukey\", \"Gödel\", \"Lovelace\"],\n",
    "        \"country\": [\n",
    "            \"England\",\n",
    "            \"United States\",\n",
    "            \"United States\",\n",
    "            \"Austria-Hungary\",\n",
    "            \"England\",\n",
    "        ],\n",
    "    }\n",
    ")\n",
    "scientists"
   ]
  },
  {
   "cell_type": "code",
   "execution_count": 21,
   "metadata": {},
   "outputs": [
    {
     "data": {
      "text/html": [
       "<div><style>\n",
       ".dataframe > thead > tr,\n",
       ".dataframe > tbody > tr {\n",
       "  text-align: right;\n",
       "  white-space: pre-wrap;\n",
       "}\n",
       "</style>\n",
       "<small>shape: (5, 2)</small><table border=\"1\" class=\"dataframe\"><thead><tr><th>concat_list</th><th>struct</th></tr><tr><td>list[str]</td><td>struct[3]</td></tr></thead><tbody><tr><td>[&quot;George&quot;, &quot;Boole&quot;]</td><td>{&quot;George&quot;,&quot;Boole&quot;,&quot;England&quot;}</td></tr><tr><td>[&quot;Grace&quot;, &quot;Hopper&quot;]</td><td>{&quot;Grace&quot;,&quot;Hopper&quot;,&quot;United States&quot;}</td></tr><tr><td>[&quot;John&quot;, &quot;Tukey&quot;]</td><td>{&quot;John&quot;,&quot;Tukey&quot;,&quot;United States&quot;}</td></tr><tr><td>[&quot;Kurt&quot;, &quot;Gödel&quot;]</td><td>{&quot;Kurt&quot;,&quot;Gödel&quot;,&quot;Austria-Hungary&quot;}</td></tr><tr><td>[&quot;Ada&quot;, &quot;Lovelace&quot;]</td><td>{&quot;Ada&quot;,&quot;Lovelace&quot;,&quot;England&quot;}</td></tr></tbody></table></div>"
      ],
      "text/plain": [
       "shape: (5, 2)\n",
       "┌─────────────────────┬─────────────────────────────────┐\n",
       "│ concat_list         ┆ struct                          │\n",
       "│ ---                 ┆ ---                             │\n",
       "│ list[str]           ┆ struct[3]                       │\n",
       "╞═════════════════════╪═════════════════════════════════╡\n",
       "│ [\"George\", \"Boole\"] ┆ {\"George\",\"Boole\",\"England\"}    │\n",
       "│ [\"Grace\", \"Hopper\"] ┆ {\"Grace\",\"Hopper\",\"United Stat… │\n",
       "│ [\"John\", \"Tukey\"]   ┆ {\"John\",\"Tukey\",\"United States… │\n",
       "│ [\"Kurt\", \"Gödel\"]   ┆ {\"Kurt\",\"Gödel\",\"Austria-Hunga… │\n",
       "│ [\"Ada\", \"Lovelace\"] ┆ {\"Ada\",\"Lovelace\",\"England\"}    │\n",
       "└─────────────────────┴─────────────────────────────────┘"
      ]
     },
     "execution_count": 21,
     "metadata": {},
     "output_type": "execute_result"
    }
   ],
   "source": [
    "scientists.select(\n",
    "    concat_list=pl.concat_list(pl.col(\"^*_name$\")),\n",
    "    struct=pl.struct(pl.all()),\n",
    ")"
   ]
  },
  {
   "cell_type": "code",
   "execution_count": 22,
   "metadata": {},
   "outputs": [
    {
     "data": {
      "text/html": [
       "<div><style>\n",
       ".dataframe > thead > tr,\n",
       ".dataframe > tbody > tr {\n",
       "  text-align: right;\n",
       "  white-space: pre-wrap;\n",
       "}\n",
       "</style>\n",
       "<small>shape: (5, 2)</small><table border=\"1\" class=\"dataframe\"><thead><tr><th>concat_str</th><th>format</th></tr><tr><td>str</td><td>str</td></tr></thead><tbody><tr><td>&quot;George Boole England&quot;</td><td>&quot;Boole, George from England&quot;</td></tr><tr><td>&quot;Grace Hopper United States&quot;</td><td>&quot;Hopper, Grace from United Stat…</td></tr><tr><td>&quot;John Tukey United States&quot;</td><td>&quot;Tukey, John from United States&quot;</td></tr><tr><td>&quot;Kurt Gödel Austria-Hungary&quot;</td><td>&quot;Gödel, Kurt from Austria-Hunga…</td></tr><tr><td>&quot;Ada Lovelace England&quot;</td><td>&quot;Lovelace, Ada from England&quot;</td></tr></tbody></table></div>"
      ],
      "text/plain": [
       "shape: (5, 2)\n",
       "┌────────────────────────────┬─────────────────────────────────┐\n",
       "│ concat_str                 ┆ format                          │\n",
       "│ ---                        ┆ ---                             │\n",
       "│ str                        ┆ str                             │\n",
       "╞════════════════════════════╪═════════════════════════════════╡\n",
       "│ George Boole England       ┆ Boole, George from England      │\n",
       "│ Grace Hopper United States ┆ Hopper, Grace from United Stat… │\n",
       "│ John Tukey United States   ┆ Tukey, John from United States  │\n",
       "│ Kurt Gödel Austria-Hungary ┆ Gödel, Kurt from Austria-Hunga… │\n",
       "│ Ada Lovelace England       ┆ Lovelace, Ada from England      │\n",
       "└────────────────────────────┴─────────────────────────────────┘"
      ]
     },
     "execution_count": 22,
     "metadata": {},
     "output_type": "execute_result"
    }
   ],
   "source": [
    "scientists.select(\n",
    "    concat_str=pl.concat_str(pl.all(), separator=\" \"),\n",
    "    format=pl.format(\"{}, {} from {}\", \"last_name\", \"first_name\", \"country\"),\n",
    ")"
   ]
  },
  {
   "cell_type": "code",
   "execution_count": 23,
   "metadata": {},
   "outputs": [
    {
     "data": {
      "text/html": [
       "<div><style>\n",
       ".dataframe > thead > tr,\n",
       ".dataframe > tbody > tr {\n",
       "  text-align: right;\n",
       "  white-space: pre-wrap;\n",
       "}\n",
       "</style>\n",
       "<small>shape: (5, 7)</small><table border=\"1\" class=\"dataframe\"><thead><tr><th>id</th><th>has_pet</th><th>likes_travel</th><th>likes_movies</th><th>likes_books</th><th>all</th><th>any</th></tr><tr><td>i64</td><td>bool</td><td>bool</td><td>bool</td><td>bool</td><td>bool</td><td>bool</td></tr></thead><tbody><tr><td>1</td><td>true</td><td>false</td><td>true</td><td>false</td><td>false</td><td>true</td></tr><tr><td>7</td><td>false</td><td>false</td><td>false</td><td>false</td><td>false</td><td>false</td></tr><tr><td>42</td><td>true</td><td>false</td><td>true</td><td>true</td><td>false</td><td>true</td></tr><tr><td>101</td><td>false</td><td>false</td><td>false</td><td>true</td><td>false</td><td>true</td></tr><tr><td>999</td><td>true</td><td>true</td><td>true</td><td>true</td><td>true</td><td>true</td></tr></tbody></table></div>"
      ],
      "text/plain": [
       "shape: (5, 7)\n",
       "┌─────┬─────────┬──────────────┬──────────────┬─────────────┬───────┬───────┐\n",
       "│ id  ┆ has_pet ┆ likes_travel ┆ likes_movies ┆ likes_books ┆ all   ┆ any   │\n",
       "│ --- ┆ ---     ┆ ---          ┆ ---          ┆ ---         ┆ ---   ┆ ---   │\n",
       "│ i64 ┆ bool    ┆ bool         ┆ bool         ┆ bool        ┆ bool  ┆ bool  │\n",
       "╞═════╪═════════╪══════════════╪══════════════╪═════════════╪═══════╪═══════╡\n",
       "│ 1   ┆ true    ┆ false        ┆ true         ┆ false       ┆ false ┆ true  │\n",
       "│ 7   ┆ false   ┆ false        ┆ false        ┆ false       ┆ false ┆ false │\n",
       "│ 42  ┆ true    ┆ false        ┆ true         ┆ true        ┆ false ┆ true  │\n",
       "│ 101 ┆ false   ┆ false        ┆ false        ┆ true        ┆ false ┆ true  │\n",
       "│ 999 ┆ true    ┆ true         ┆ true         ┆ true        ┆ true  ┆ true  │\n",
       "└─────┴─────────┴──────────────┴──────────────┴─────────────┴───────┴───────┘"
      ]
     },
     "execution_count": 23,
     "metadata": {},
     "output_type": "execute_result"
    }
   ],
   "source": [
    "prefs = pl.DataFrame(\n",
    "    {\n",
    "        \"id\": [1, 7, 42, 101, 999],\n",
    "        \"has_pet\": [True, False, True, False, True],\n",
    "        \"likes_travel\": [False, False, False, False, True],\n",
    "        \"likes_movies\": [True, False, True, False, True],\n",
    "        \"likes_books\": [False, False, True, True, True],\n",
    "    }\n",
    ").with_columns(\n",
    "    all=pl.all_horizontal(pl.exclude(\"id\")),\n",
    "    any=pl.any_horizontal(pl.exclude(\"id\")),\n",
    ")\n",
    "\n",
    "prefs"
   ]
  },
  {
   "cell_type": "code",
   "execution_count": 24,
   "metadata": {},
   "outputs": [
    {
     "data": {
      "text/html": [
       "<div><style>\n",
       ".dataframe > thead > tr,\n",
       ".dataframe > tbody > tr {\n",
       "  text-align: right;\n",
       "  white-space: pre-wrap;\n",
       "}\n",
       "</style>\n",
       "<small>shape: (5, 3)</small><table border=\"1\" class=\"dataframe\"><thead><tr><th>sum</th><th>max</th><th>min</th></tr><tr><td>i64</td><td>i64</td><td>i64</td></tr></thead><tbody><tr><td>4</td><td>1</td><td>0</td></tr><tr><td>7</td><td>7</td><td>0</td></tr><tr><td>46</td><td>42</td><td>0</td></tr><tr><td>103</td><td>101</td><td>0</td></tr><tr><td>1005</td><td>999</td><td>1</td></tr></tbody></table></div>"
      ],
      "text/plain": [
       "shape: (5, 3)\n",
       "┌──────┬─────┬─────┐\n",
       "│ sum  ┆ max ┆ min │\n",
       "│ ---  ┆ --- ┆ --- │\n",
       "│ i64  ┆ i64 ┆ i64 │\n",
       "╞══════╪═════╪═════╡\n",
       "│ 4    ┆ 1   ┆ 0   │\n",
       "│ 7    ┆ 7   ┆ 0   │\n",
       "│ 46   ┆ 42  ┆ 0   │\n",
       "│ 103  ┆ 101 ┆ 0   │\n",
       "│ 1005 ┆ 999 ┆ 1   │\n",
       "└──────┴─────┴─────┘"
      ]
     },
     "execution_count": 24,
     "metadata": {},
     "output_type": "execute_result"
    }
   ],
   "source": [
    "prefs.select(\n",
    "    sum=pl.sum_horizontal(pl.all()),\n",
    "    max=pl.max_horizontal(pl.all()),\n",
    "    min=pl.min_horizontal(pl.all()),\n",
    ")"
   ]
  },
  {
   "cell_type": "markdown",
   "metadata": {},
   "source": [
    "### When, Then, Otherwise"
   ]
  },
  {
   "cell_type": "code",
   "execution_count": 25,
   "metadata": {},
   "outputs": [
    {
     "data": {
      "text/html": [
       "<div><style>\n",
       ".dataframe > thead > tr,\n",
       ".dataframe > tbody > tr {\n",
       "  text-align: right;\n",
       "  white-space: pre-wrap;\n",
       "}\n",
       "</style>\n",
       "<small>shape: (5, 2)</small><table border=\"1\" class=\"dataframe\"><thead><tr><th>id</th><th>likes_what</th></tr><tr><td>i64</td><td>str</td></tr></thead><tbody><tr><td>1</td><td>&quot;Likes something&quot;</td></tr><tr><td>7</td><td>&quot;Likes nothing&quot;</td></tr><tr><td>42</td><td>&quot;Likes something&quot;</td></tr><tr><td>101</td><td>&quot;Likes something&quot;</td></tr><tr><td>999</td><td>&quot;Likes everything&quot;</td></tr></tbody></table></div>"
      ],
      "text/plain": [
       "shape: (5, 2)\n",
       "┌─────┬──────────────────┐\n",
       "│ id  ┆ likes_what       │\n",
       "│ --- ┆ ---              │\n",
       "│ i64 ┆ str              │\n",
       "╞═════╪══════════════════╡\n",
       "│ 1   ┆ Likes something  │\n",
       "│ 7   ┆ Likes nothing    │\n",
       "│ 42  ┆ Likes something  │\n",
       "│ 101 ┆ Likes something  │\n",
       "│ 999 ┆ Likes everything │\n",
       "└─────┴──────────────────┘"
      ]
     },
     "execution_count": 25,
     "metadata": {},
     "output_type": "execute_result"
    }
   ],
   "source": [
    "prefs.select(\n",
    "    pl.col(\"id\"),\n",
    "    likes_what=pl.when(pl.all_horizontal(pl.col(\"^likes_.*$\")))\n",
    "    .then(pl.lit(\"Likes everything\"))\n",
    "    .when(pl.any_horizontal(pl.col(\"^likes_.*$\")))\n",
    "    .then(pl.lit(\"Likes something\"))\n",
    "    .otherwise(pl.lit(\"Likes nothing\")),\n",
    ")"
   ]
  },
  {
   "cell_type": "code",
   "execution_count": 26,
   "metadata": {},
   "outputs": [
    {
     "data": {
      "text/html": [
       "<div><style>\n",
       ".dataframe > thead > tr,\n",
       ".dataframe > tbody > tr {\n",
       "  text-align: right;\n",
       "  white-space: pre-wrap;\n",
       "}\n",
       "</style>\n",
       "<small>shape: (5, 2)</small><table border=\"1\" class=\"dataframe\"><thead><tr><th>order_amount</th><th>status</th></tr><tr><td>i64</td><td>str</td></tr></thead><tbody><tr><td>500</td><td>null</td></tr><tr><td>750</td><td>null</td></tr><tr><td>1200</td><td>&quot;Flagged&quot;</td></tr><tr><td>800</td><td>null</td></tr><tr><td>1100</td><td>&quot;Flagged&quot;</td></tr></tbody></table></div>"
      ],
      "text/plain": [
       "shape: (5, 2)\n",
       "┌──────────────┬─────────┐\n",
       "│ order_amount ┆ status  │\n",
       "│ ---          ┆ ---     │\n",
       "│ i64          ┆ str     │\n",
       "╞══════════════╪═════════╡\n",
       "│ 500          ┆ null    │\n",
       "│ 750          ┆ null    │\n",
       "│ 1200         ┆ Flagged │\n",
       "│ 800          ┆ null    │\n",
       "│ 1100         ┆ Flagged │\n",
       "└──────────────┴─────────┘"
      ]
     },
     "execution_count": 26,
     "metadata": {},
     "output_type": "execute_result"
    }
   ],
   "source": [
    "orders = pl.DataFrame(\n",
    "    {\n",
    "        \"order_amount\": [500, 750, 1200, 800, 1100],\n",
    "        \"status\": [\n",
    "            \"Approved\",\n",
    "            \"Processing\",\n",
    "            \"Processing\",\n",
    "            \"Declined\",\n",
    "            \"Processing\",\n",
    "        ],\n",
    "    }\n",
    ")\n",
    "orders.with_columns(\n",
    "    status=pl.when(pl.col(\"order_amount\") > 1000).then(pl.lit(\"Flagged\"))\n",
    ")"
   ]
  },
  {
   "cell_type": "code",
   "execution_count": 27,
   "metadata": {},
   "outputs": [
    {
     "data": {
      "text/html": [
       "<div><style>\n",
       ".dataframe > thead > tr,\n",
       ".dataframe > tbody > tr {\n",
       "  text-align: right;\n",
       "  white-space: pre-wrap;\n",
       "}\n",
       "</style>\n",
       "<small>shape: (5, 2)</small><table border=\"1\" class=\"dataframe\"><thead><tr><th>order_amount</th><th>status</th></tr><tr><td>i64</td><td>str</td></tr></thead><tbody><tr><td>500</td><td>&quot;Approved&quot;</td></tr><tr><td>750</td><td>&quot;Processing&quot;</td></tr><tr><td>1200</td><td>&quot;Flagged&quot;</td></tr><tr><td>800</td><td>&quot;Declined&quot;</td></tr><tr><td>1100</td><td>&quot;Flagged&quot;</td></tr></tbody></table></div>"
      ],
      "text/plain": [
       "shape: (5, 2)\n",
       "┌──────────────┬────────────┐\n",
       "│ order_amount ┆ status     │\n",
       "│ ---          ┆ ---        │\n",
       "│ i64          ┆ str        │\n",
       "╞══════════════╪════════════╡\n",
       "│ 500          ┆ Approved   │\n",
       "│ 750          ┆ Processing │\n",
       "│ 1200         ┆ Flagged    │\n",
       "│ 800          ┆ Declined   │\n",
       "│ 1100         ┆ Flagged    │\n",
       "└──────────────┴────────────┘"
      ]
     },
     "execution_count": 27,
     "metadata": {},
     "output_type": "execute_result"
    }
   ],
   "source": [
    "orders.with_columns(\n",
    "    status=pl.when(pl.col(\"order_amount\") > 1000)\n",
    "    .then(pl.lit(\"Flagged\"))\n",
    "    .otherwise(pl.col(\"status\"))\n",
    ")"
   ]
  }
 ],
 "metadata": {
  "kernelspec": {
   "display_name": ".venv",
   "language": "python",
   "name": "python3"
  },
  "language_info": {
   "codemirror_mode": {
    "name": "ipython",
    "version": 3
   },
   "file_extension": ".py",
   "mimetype": "text/x-python",
   "name": "python",
   "nbconvert_exporter": "python",
   "pygments_lexer": "ipython3",
   "version": "3.12.3"
  }
 },
 "nbformat": 4,
 "nbformat_minor": 5
}
