{
 "cells": [
  {
   "cell_type": "markdown",
   "metadata": {},
   "source": [
    "# 9. Selecting and Creating Columns"
   ]
  },
  {
   "cell_type": "code",
   "execution_count": null,
   "metadata": {},
   "outputs": [
    {
     "data": {
      "text/plain": [
       "'1.20.0'"
      ]
     },
     "execution_count": 1,
     "metadata": {},
     "output_type": "execute_result"
    }
   ],
   "source": [
    "import polars as pl\n",
    "pl.__version__  "
   ]
  },
  {
   "cell_type": "code",
   "execution_count": 2,
   "metadata": {},
   "outputs": [
    {
     "name": "stdout",
     "output_type": "stream",
     "text": [
      "shape: (3, 6)\n",
      "┌────────────────┬────────┬──────┬────────────┬────────────┬───────────┐\n",
      "│ name           ┆ height ┆ mass ┆ hair_color ┆ skin_color ┆ eye_color │\n",
      "│ ---            ┆ ---    ┆ ---  ┆ ---        ┆ ---        ┆ ---       │\n",
      "│ str            ┆ u16    ┆ f64  ┆ str        ┆ str        ┆ str       │\n",
      "╞════════════════╪════════╪══════╪════════════╪════════════╪═══════════╡\n",
      "│ Han Solo       ┆ 180    ┆ 80.0 ┆ brown      ┆ fair       ┆ brown     │\n",
      "│ Leia Organa    ┆ 150    ┆ 49.0 ┆ brown      ┆ light      ┆ brown     │\n",
      "│ Luke Skywalker ┆ 172    ┆ 77.0 ┆ blond      ┆ fair       ┆ blue      │\n",
      "└────────────────┴────────┴──────┴────────────┴────────────┴───────────┘\n",
      "shape: (3, 5)\n",
      "┌────────────┬────────┬───────────┬───────────┬─────────┐\n",
      "│ birth_year ┆ sex    ┆ gender    ┆ homeworld ┆ species │\n",
      "│ ---        ┆ ---    ┆ ---       ┆ ---       ┆ ---     │\n",
      "│ f64        ┆ cat    ┆ cat       ┆ str       ┆ str     │\n",
      "╞════════════╪════════╪═══════════╪═══════════╪═════════╡\n",
      "│ 29.0       ┆ male   ┆ masculine ┆ Corellia  ┆ Human   │\n",
      "│ 19.0       ┆ female ┆ feminine  ┆ Alderaan  ┆ Human   │\n",
      "│ 19.0       ┆ male   ┆ masculine ┆ Tatooine  ┆ Human   │\n",
      "└────────────┴────────┴───────────┴───────────┴─────────┘\n",
      "shape: (3, 4)\n",
      "┌─────────────────────────────────┬─────────────────────────────────┬────────────┬──────────────┐\n",
      "│ vehicles                        ┆ starships                       ┆ birth_date ┆ screen_time  │\n",
      "│ ---                             ┆ ---                             ┆ ---        ┆ ---          │\n",
      "│ list[str]                       ┆ list[str]                       ┆ date       ┆ duration[μs] │\n",
      "╞═════════════════════════════════╪═════════════════════════════════╪════════════╪══════════════╡\n",
      "│ null                            ┆ [\"Millennium Falcon\", \"Imperia… ┆ 1948-06-01 ┆ 1h 12m 37s   │\n",
      "│ [\"Imperial Speeder Bike\"]       ┆ null                            ┆ 1958-05-30 ┆ 1h 3m 40s    │\n",
      "│ [\"Snowspeeder\", \"Imperial Spee… ┆ [\"X-wing\", \"Imperial shuttle\"]  ┆ 1958-05-30 ┆ 1h 58m 44s   │\n",
      "└─────────────────────────────────┴─────────────────────────────────┴────────────┴──────────────┘\n"
     ]
    }
   ],
   "source": [
    "starwars = pl.read_parquet(\"data/starwars.parquet\")\n",
    "rebels = starwars.drop(\"films\").filter(\n",
    "    pl.col(\"name\").is_in([\"Luke Skywalker\", \"Leia Organa\", \"Han Solo\"])\n",
    ")\n",
    "\n",
    "print(rebels[:, :6])\n",
    "print(rebels[:, 6:11])\n",
    "print(rebels[:, 11:])"
   ]
  },
  {
   "cell_type": "markdown",
   "metadata": {},
   "source": [
    "## Selecting Columns"
   ]
  },
  {
   "cell_type": "code",
   "execution_count": 3,
   "metadata": {},
   "outputs": [
    {
     "data": {
      "text/html": [
       "<div><style>\n",
       ".dataframe > thead > tr,\n",
       ".dataframe > tbody > tr {\n",
       "  text-align: right;\n",
       "  white-space: pre-wrap;\n",
       "}\n",
       "</style>\n",
       "<small>shape: (3, 6)</small><table border=\"1\" class=\"dataframe\"><thead><tr><th>name</th><th>homeworld</th><th>hair_color</th><th>skin_color</th><th>eye_color</th><th>height_m</th></tr><tr><td>str</td><td>str</td><td>str</td><td>str</td><td>str</td><td>f64</td></tr></thead><tbody><tr><td>&quot;Han Solo&quot;</td><td>&quot;Corellia&quot;</td><td>&quot;brown&quot;</td><td>&quot;fair&quot;</td><td>&quot;brown&quot;</td><td>1.8</td></tr><tr><td>&quot;Leia Organa&quot;</td><td>&quot;Alderaan&quot;</td><td>&quot;brown&quot;</td><td>&quot;light&quot;</td><td>&quot;brown&quot;</td><td>1.5</td></tr><tr><td>&quot;Luke Skywalker&quot;</td><td>&quot;Tatooine&quot;</td><td>&quot;blond&quot;</td><td>&quot;fair&quot;</td><td>&quot;blue&quot;</td><td>1.72</td></tr></tbody></table></div>"
      ],
      "text/plain": [
       "shape: (3, 6)\n",
       "┌────────────────┬───────────┬────────────┬────────────┬───────────┬──────────┐\n",
       "│ name           ┆ homeworld ┆ hair_color ┆ skin_color ┆ eye_color ┆ height_m │\n",
       "│ ---            ┆ ---       ┆ ---        ┆ ---        ┆ ---       ┆ ---      │\n",
       "│ str            ┆ str       ┆ str        ┆ str        ┆ str       ┆ f64      │\n",
       "╞════════════════╪═══════════╪════════════╪════════════╪═══════════╪══════════╡\n",
       "│ Han Solo       ┆ Corellia  ┆ brown      ┆ fair       ┆ brown     ┆ 1.8      │\n",
       "│ Leia Organa    ┆ Alderaan  ┆ brown      ┆ light      ┆ brown     ┆ 1.5      │\n",
       "│ Luke Skywalker ┆ Tatooine  ┆ blond      ┆ fair       ┆ blue      ┆ 1.72     │\n",
       "└────────────────┴───────────┴────────────┴────────────┴───────────┴──────────┘"
      ]
     },
     "execution_count": 3,
     "metadata": {},
     "output_type": "execute_result"
    }
   ],
   "source": [
    "rebels.select(\n",
    "    \"name\",\n",
    "    pl.col(\"homeworld\"),\n",
    "    pl.col(\"^.*_color$\"),\n",
    "    (pl.col(\"height\") / 100).alias(\"height_m\"),\n",
    ")"
   ]
  },
  {
   "cell_type": "markdown",
   "metadata": {},
   "source": [
    "### Introducing Selectors"
   ]
  },
  {
   "cell_type": "code",
   "execution_count": 4,
   "metadata": {},
   "outputs": [],
   "source": [
    "import polars.selectors as cs"
   ]
  },
  {
   "cell_type": "code",
   "execution_count": 5,
   "metadata": {},
   "outputs": [
    {
     "data": {
      "text/html": [
       "<div><style>\n",
       ".dataframe > thead > tr,\n",
       ".dataframe > tbody > tr {\n",
       "  text-align: right;\n",
       "  white-space: pre-wrap;\n",
       "}\n",
       "</style>\n",
       "<small>shape: (3, 6)</small><table border=\"1\" class=\"dataframe\"><thead><tr><th>name</th><th>homeworld</th><th>hair_color</th><th>skin_color</th><th>eye_color</th><th>height_m</th></tr><tr><td>str</td><td>str</td><td>str</td><td>str</td><td>str</td><td>f64</td></tr></thead><tbody><tr><td>&quot;Han Solo&quot;</td><td>&quot;Corellia&quot;</td><td>&quot;brown&quot;</td><td>&quot;fair&quot;</td><td>&quot;brown&quot;</td><td>1.8</td></tr><tr><td>&quot;Leia Organa&quot;</td><td>&quot;Alderaan&quot;</td><td>&quot;brown&quot;</td><td>&quot;light&quot;</td><td>&quot;brown&quot;</td><td>1.5</td></tr><tr><td>&quot;Luke Skywalker&quot;</td><td>&quot;Tatooine&quot;</td><td>&quot;blond&quot;</td><td>&quot;fair&quot;</td><td>&quot;blue&quot;</td><td>1.72</td></tr></tbody></table></div>"
      ],
      "text/plain": [
       "shape: (3, 6)\n",
       "┌────────────────┬───────────┬────────────┬────────────┬───────────┬──────────┐\n",
       "│ name           ┆ homeworld ┆ hair_color ┆ skin_color ┆ eye_color ┆ height_m │\n",
       "│ ---            ┆ ---       ┆ ---        ┆ ---        ┆ ---       ┆ ---      │\n",
       "│ str            ┆ str       ┆ str        ┆ str        ┆ str       ┆ f64      │\n",
       "╞════════════════╪═══════════╪════════════╪════════════╪═══════════╪══════════╡\n",
       "│ Han Solo       ┆ Corellia  ┆ brown      ┆ fair       ┆ brown     ┆ 1.8      │\n",
       "│ Leia Organa    ┆ Alderaan  ┆ brown      ┆ light      ┆ brown     ┆ 1.5      │\n",
       "│ Luke Skywalker ┆ Tatooine  ┆ blond      ┆ fair       ┆ blue      ┆ 1.72     │\n",
       "└────────────────┴───────────┴────────────┴────────────┴───────────┴──────────┘"
      ]
     },
     "execution_count": 5,
     "metadata": {},
     "output_type": "execute_result"
    }
   ],
   "source": [
    "rebels.select(\n",
    "    \"name\",\n",
    "    cs.by_name(\"homeworld\"),\n",
    "    cs.by_name(\"^.*_color$\"),\n",
    "    (cs.by_name(\"height\") / 100).alias(\"height_m\"),\n",
    ")"
   ]
  },
  {
   "cell_type": "markdown",
   "metadata": {},
   "source": [
    "### Selecting Based on Name"
   ]
  },
  {
   "cell_type": "code",
   "execution_count": 6,
   "metadata": {},
   "outputs": [
    {
     "data": {
      "text/html": [
       "<div><style>\n",
       ".dataframe > thead > tr,\n",
       ".dataframe > tbody > tr {\n",
       "  text-align: right;\n",
       "  white-space: pre-wrap;\n",
       "}\n",
       "</style>\n",
       "<small>shape: (3, 2)</small><table border=\"1\" class=\"dataframe\"><thead><tr><th>birth_year</th><th>birth_date</th></tr><tr><td>f64</td><td>date</td></tr></thead><tbody><tr><td>29.0</td><td>1948-06-01</td></tr><tr><td>19.0</td><td>1958-05-30</td></tr><tr><td>19.0</td><td>1958-05-30</td></tr></tbody></table></div>"
      ],
      "text/plain": [
       "shape: (3, 2)\n",
       "┌────────────┬────────────┐\n",
       "│ birth_year ┆ birth_date │\n",
       "│ ---        ┆ ---        │\n",
       "│ f64        ┆ date       │\n",
       "╞════════════╪════════════╡\n",
       "│ 29.0       ┆ 1948-06-01 │\n",
       "│ 19.0       ┆ 1958-05-30 │\n",
       "│ 19.0       ┆ 1958-05-30 │\n",
       "└────────────┴────────────┘"
      ]
     },
     "execution_count": 6,
     "metadata": {},
     "output_type": "execute_result"
    }
   ],
   "source": [
    "rebels.select(cs.starts_with(\"birth_\"))"
   ]
  },
  {
   "cell_type": "code",
   "execution_count": 7,
   "metadata": {},
   "outputs": [
    {
     "data": {
      "text/html": [
       "<div><style>\n",
       ".dataframe > thead > tr,\n",
       ".dataframe > tbody > tr {\n",
       "  text-align: right;\n",
       "  white-space: pre-wrap;\n",
       "}\n",
       "</style>\n",
       "<small>shape: (3, 3)</small><table border=\"1\" class=\"dataframe\"><thead><tr><th>hair_color</th><th>skin_color</th><th>eye_color</th></tr><tr><td>str</td><td>str</td><td>str</td></tr></thead><tbody><tr><td>&quot;brown&quot;</td><td>&quot;fair&quot;</td><td>&quot;brown&quot;</td></tr><tr><td>&quot;brown&quot;</td><td>&quot;light&quot;</td><td>&quot;brown&quot;</td></tr><tr><td>&quot;blond&quot;</td><td>&quot;fair&quot;</td><td>&quot;blue&quot;</td></tr></tbody></table></div>"
      ],
      "text/plain": [
       "shape: (3, 3)\n",
       "┌────────────┬────────────┬───────────┐\n",
       "│ hair_color ┆ skin_color ┆ eye_color │\n",
       "│ ---        ┆ ---        ┆ ---       │\n",
       "│ str        ┆ str        ┆ str       │\n",
       "╞════════════╪════════════╪═══════════╡\n",
       "│ brown      ┆ fair       ┆ brown     │\n",
       "│ brown      ┆ light      ┆ brown     │\n",
       "│ blond      ┆ fair       ┆ blue      │\n",
       "└────────────┴────────────┴───────────┘"
      ]
     },
     "execution_count": 7,
     "metadata": {},
     "output_type": "execute_result"
    }
   ],
   "source": [
    "rebels.select(cs.ends_with(\"_color\"))"
   ]
  },
  {
   "cell_type": "code",
   "execution_count": 8,
   "metadata": {},
   "outputs": [
    {
     "data": {
      "text/html": [
       "<div><style>\n",
       ".dataframe > thead > tr,\n",
       ".dataframe > tbody > tr {\n",
       "  text-align: right;\n",
       "  white-space: pre-wrap;\n",
       "}\n",
       "</style>\n",
       "<small>shape: (3, 6)</small><table border=\"1\" class=\"dataframe\"><thead><tr><th>hair_color</th><th>skin_color</th><th>eye_color</th><th>birth_year</th><th>birth_date</th><th>screen_time</th></tr><tr><td>str</td><td>str</td><td>str</td><td>f64</td><td>date</td><td>duration[μs]</td></tr></thead><tbody><tr><td>&quot;brown&quot;</td><td>&quot;fair&quot;</td><td>&quot;brown&quot;</td><td>29.0</td><td>1948-06-01</td><td>1h 12m 37s</td></tr><tr><td>&quot;brown&quot;</td><td>&quot;light&quot;</td><td>&quot;brown&quot;</td><td>19.0</td><td>1958-05-30</td><td>1h 3m 40s</td></tr><tr><td>&quot;blond&quot;</td><td>&quot;fair&quot;</td><td>&quot;blue&quot;</td><td>19.0</td><td>1958-05-30</td><td>1h 58m 44s</td></tr></tbody></table></div>"
      ],
      "text/plain": [
       "shape: (3, 6)\n",
       "┌────────────┬────────────┬───────────┬────────────┬────────────┬──────────────┐\n",
       "│ hair_color ┆ skin_color ┆ eye_color ┆ birth_year ┆ birth_date ┆ screen_time  │\n",
       "│ ---        ┆ ---        ┆ ---       ┆ ---        ┆ ---        ┆ ---          │\n",
       "│ str        ┆ str        ┆ str       ┆ f64        ┆ date       ┆ duration[μs] │\n",
       "╞════════════╪════════════╪═══════════╪════════════╪════════════╪══════════════╡\n",
       "│ brown      ┆ fair       ┆ brown     ┆ 29.0       ┆ 1948-06-01 ┆ 1h 12m 37s   │\n",
       "│ brown      ┆ light      ┆ brown     ┆ 19.0       ┆ 1958-05-30 ┆ 1h 3m 40s    │\n",
       "│ blond      ┆ fair       ┆ blue      ┆ 19.0       ┆ 1958-05-30 ┆ 1h 58m 44s   │\n",
       "└────────────┴────────────┴───────────┴────────────┴────────────┴──────────────┘"
      ]
     },
     "execution_count": 8,
     "metadata": {},
     "output_type": "execute_result"
    }
   ],
   "source": [
    "rebels.select(cs.contains(\"_\"))"
   ]
  },
  {
   "cell_type": "code",
   "execution_count": 9,
   "metadata": {},
   "outputs": [
    {
     "data": {
      "text/html": [
       "<div><style>\n",
       ".dataframe > thead > tr,\n",
       ".dataframe > tbody > tr {\n",
       "  text-align: right;\n",
       "  white-space: pre-wrap;\n",
       "}\n",
       "</style>\n",
       "<small>shape: (3, 2)</small><table border=\"1\" class=\"dataframe\"><thead><tr><th>name</th><th>mass</th></tr><tr><td>str</td><td>f64</td></tr></thead><tbody><tr><td>&quot;Han Solo&quot;</td><td>80.0</td></tr><tr><td>&quot;Leia Organa&quot;</td><td>49.0</td></tr><tr><td>&quot;Luke Skywalker&quot;</td><td>77.0</td></tr></tbody></table></div>"
      ],
      "text/plain": [
       "shape: (3, 2)\n",
       "┌────────────────┬──────┐\n",
       "│ name           ┆ mass │\n",
       "│ ---            ┆ ---  │\n",
       "│ str            ┆ f64  │\n",
       "╞════════════════╪══════╡\n",
       "│ Han Solo       ┆ 80.0 │\n",
       "│ Leia Organa    ┆ 49.0 │\n",
       "│ Luke Skywalker ┆ 77.0 │\n",
       "└────────────────┴──────┘"
      ]
     },
     "execution_count": 9,
     "metadata": {},
     "output_type": "execute_result"
    }
   ],
   "source": [
    "rebels.select(cs.matches(\"^[a-z]{4}$\"))"
   ]
  },
  {
   "cell_type": "markdown",
   "metadata": {},
   "source": [
    "### Selecting Based on Data Type"
   ]
  },
  {
   "cell_type": "code",
   "execution_count": 10,
   "metadata": {},
   "outputs": [
    {
     "data": {
      "text/html": [
       "<div><style>\n",
       ".dataframe > thead > tr,\n",
       ".dataframe > tbody > tr {\n",
       "  text-align: right;\n",
       "  white-space: pre-wrap;\n",
       "}\n",
       "</style>\n",
       "<small>shape: (2, 4)</small><table border=\"1\" class=\"dataframe\"><thead><tr><th>hair_color</th><th>height</th><th>mass</th><th>birth_year</th></tr><tr><td>str</td><td>f64</td><td>f64</td><td>f64</td></tr></thead><tbody><tr><td>&quot;blond&quot;</td><td>172.0</td><td>77.0</td><td>19.0</td></tr><tr><td>&quot;brown&quot;</td><td>165.0</td><td>64.5</td><td>24.0</td></tr></tbody></table></div>"
      ],
      "text/plain": [
       "shape: (2, 4)\n",
       "┌────────────┬────────┬──────┬────────────┐\n",
       "│ hair_color ┆ height ┆ mass ┆ birth_year │\n",
       "│ ---        ┆ ---    ┆ ---  ┆ ---        │\n",
       "│ str        ┆ f64    ┆ f64  ┆ f64        │\n",
       "╞════════════╪════════╪══════╪════════════╡\n",
       "│ blond      ┆ 172.0  ┆ 77.0 ┆ 19.0       │\n",
       "│ brown      ┆ 165.0  ┆ 64.5 ┆ 24.0       │\n",
       "└────────────┴────────┴──────┴────────────┘"
      ]
     },
     "execution_count": 10,
     "metadata": {},
     "output_type": "execute_result"
    }
   ],
   "source": [
    "rebels.group_by(\"hair_color\").agg(cs.numeric().mean())"
   ]
  },
  {
   "cell_type": "code",
   "execution_count": 11,
   "metadata": {},
   "outputs": [
    {
     "data": {
      "text/html": [
       "<div><style>\n",
       ".dataframe > thead > tr,\n",
       ".dataframe > tbody > tr {\n",
       "  text-align: right;\n",
       "  white-space: pre-wrap;\n",
       "}\n",
       "</style>\n",
       "<small>shape: (3, 6)</small><table border=\"1\" class=\"dataframe\"><thead><tr><th>name</th><th>hair_color</th><th>skin_color</th><th>eye_color</th><th>homeworld</th><th>species</th></tr><tr><td>str</td><td>str</td><td>str</td><td>str</td><td>str</td><td>str</td></tr></thead><tbody><tr><td>&quot;Han Solo&quot;</td><td>&quot;brown&quot;</td><td>&quot;fair&quot;</td><td>&quot;brown&quot;</td><td>&quot;Corellia&quot;</td><td>&quot;Human&quot;</td></tr><tr><td>&quot;Leia Organa&quot;</td><td>&quot;brown&quot;</td><td>&quot;light&quot;</td><td>&quot;brown&quot;</td><td>&quot;Alderaan&quot;</td><td>&quot;Human&quot;</td></tr><tr><td>&quot;Luke Skywalker&quot;</td><td>&quot;blond&quot;</td><td>&quot;fair&quot;</td><td>&quot;blue&quot;</td><td>&quot;Tatooine&quot;</td><td>&quot;Human&quot;</td></tr></tbody></table></div>"
      ],
      "text/plain": [
       "shape: (3, 6)\n",
       "┌────────────────┬────────────┬────────────┬───────────┬───────────┬─────────┐\n",
       "│ name           ┆ hair_color ┆ skin_color ┆ eye_color ┆ homeworld ┆ species │\n",
       "│ ---            ┆ ---        ┆ ---        ┆ ---       ┆ ---       ┆ ---     │\n",
       "│ str            ┆ str        ┆ str        ┆ str       ┆ str       ┆ str     │\n",
       "╞════════════════╪════════════╪════════════╪═══════════╪═══════════╪═════════╡\n",
       "│ Han Solo       ┆ brown      ┆ fair       ┆ brown     ┆ Corellia  ┆ Human   │\n",
       "│ Leia Organa    ┆ brown      ┆ light      ┆ brown     ┆ Alderaan  ┆ Human   │\n",
       "│ Luke Skywalker ┆ blond      ┆ fair       ┆ blue      ┆ Tatooine  ┆ Human   │\n",
       "└────────────────┴────────────┴────────────┴───────────┴───────────┴─────────┘"
      ]
     },
     "execution_count": 11,
     "metadata": {},
     "output_type": "execute_result"
    }
   ],
   "source": [
    "rebels.select(cs.string())"
   ]
  },
  {
   "cell_type": "code",
   "execution_count": 12,
   "metadata": {},
   "outputs": [
    {
     "data": {
      "text/html": [
       "<div><style>\n",
       ".dataframe > thead > tr,\n",
       ".dataframe > tbody > tr {\n",
       "  text-align: right;\n",
       "  white-space: pre-wrap;\n",
       "}\n",
       "</style>\n",
       "<small>shape: (3, 2)</small><table border=\"1\" class=\"dataframe\"><thead><tr><th>birth_date</th><th>screen_time</th></tr><tr><td>date</td><td>duration[μs]</td></tr></thead><tbody><tr><td>1948-06-01</td><td>1h 12m 37s</td></tr><tr><td>1958-05-30</td><td>1h 3m 40s</td></tr><tr><td>1958-05-30</td><td>1h 58m 44s</td></tr></tbody></table></div>"
      ],
      "text/plain": [
       "shape: (3, 2)\n",
       "┌────────────┬──────────────┐\n",
       "│ birth_date ┆ screen_time  │\n",
       "│ ---        ┆ ---          │\n",
       "│ date       ┆ duration[μs] │\n",
       "╞════════════╪══════════════╡\n",
       "│ 1948-06-01 ┆ 1h 12m 37s   │\n",
       "│ 1958-05-30 ┆ 1h 3m 40s    │\n",
       "│ 1958-05-30 ┆ 1h 58m 44s   │\n",
       "└────────────┴──────────────┘"
      ]
     },
     "execution_count": 12,
     "metadata": {},
     "output_type": "execute_result"
    }
   ],
   "source": [
    "rebels.select(cs.temporal())"
   ]
  },
  {
   "cell_type": "code",
   "execution_count": 13,
   "metadata": {},
   "outputs": [
    {
     "data": {
      "text/html": [
       "<div><style>\n",
       ".dataframe > thead > tr,\n",
       ".dataframe > tbody > tr {\n",
       "  text-align: right;\n",
       "  white-space: pre-wrap;\n",
       "}\n",
       "</style>\n",
       "<small>shape: (3, 2)</small><table border=\"1\" class=\"dataframe\"><thead><tr><th>vehicles</th><th>starships</th></tr><tr><td>list[str]</td><td>list[str]</td></tr></thead><tbody><tr><td>null</td><td>[&quot;Millennium Falcon&quot;, &quot;Imperial shuttle&quot;]</td></tr><tr><td>[&quot;Imperial Speeder Bike&quot;]</td><td>null</td></tr><tr><td>[&quot;Snowspeeder&quot;, &quot;Imperial Speeder Bike&quot;]</td><td>[&quot;X-wing&quot;, &quot;Imperial shuttle&quot;]</td></tr></tbody></table></div>"
      ],
      "text/plain": [
       "shape: (3, 2)\n",
       "┌─────────────────────────────────┬─────────────────────────────────┐\n",
       "│ vehicles                        ┆ starships                       │\n",
       "│ ---                             ┆ ---                             │\n",
       "│ list[str]                       ┆ list[str]                       │\n",
       "╞═════════════════════════════════╪═════════════════════════════════╡\n",
       "│ null                            ┆ [\"Millennium Falcon\", \"Imperia… │\n",
       "│ [\"Imperial Speeder Bike\"]       ┆ null                            │\n",
       "│ [\"Snowspeeder\", \"Imperial Spee… ┆ [\"X-wing\", \"Imperial shuttle\"]  │\n",
       "└─────────────────────────────────┴─────────────────────────────────┘"
      ]
     },
     "execution_count": 13,
     "metadata": {},
     "output_type": "execute_result"
    }
   ],
   "source": [
    "rebels.select(cs.by_dtype(pl.List(pl.String)))"
   ]
  },
  {
   "cell_type": "markdown",
   "metadata": {},
   "source": [
    "### Selecting Based on Position"
   ]
  },
  {
   "cell_type": "code",
   "execution_count": 14,
   "metadata": {},
   "outputs": [
    {
     "data": {
      "text/html": [
       "<div><style>\n",
       ".dataframe > thead > tr,\n",
       ".dataframe > tbody > tr {\n",
       "  text-align: right;\n",
       "  white-space: pre-wrap;\n",
       "}\n",
       "</style>\n",
       "<small>shape: (3, 5)</small><table border=\"1\" class=\"dataframe\"><thead><tr><th>name</th><th>hair_color</th><th>birth_year</th><th>homeworld</th><th>starships</th></tr><tr><td>str</td><td>str</td><td>f64</td><td>str</td><td>list[str]</td></tr></thead><tbody><tr><td>&quot;Han Solo&quot;</td><td>&quot;brown&quot;</td><td>29.0</td><td>&quot;Corellia&quot;</td><td>[&quot;Millennium Falcon&quot;, &quot;Imperial shuttle&quot;]</td></tr><tr><td>&quot;Leia Organa&quot;</td><td>&quot;brown&quot;</td><td>19.0</td><td>&quot;Alderaan&quot;</td><td>null</td></tr><tr><td>&quot;Luke Skywalker&quot;</td><td>&quot;blond&quot;</td><td>19.0</td><td>&quot;Tatooine&quot;</td><td>[&quot;X-wing&quot;, &quot;Imperial shuttle&quot;]</td></tr></tbody></table></div>"
      ],
      "text/plain": [
       "shape: (3, 5)\n",
       "┌────────────────┬────────────┬────────────┬───────────┬─────────────────────────────────┐\n",
       "│ name           ┆ hair_color ┆ birth_year ┆ homeworld ┆ starships                       │\n",
       "│ ---            ┆ ---        ┆ ---        ┆ ---       ┆ ---                             │\n",
       "│ str            ┆ str        ┆ f64        ┆ str       ┆ list[str]                       │\n",
       "╞════════════════╪════════════╪════════════╪═══════════╪═════════════════════════════════╡\n",
       "│ Han Solo       ┆ brown      ┆ 29.0       ┆ Corellia  ┆ [\"Millennium Falcon\", \"Imperia… │\n",
       "│ Leia Organa    ┆ brown      ┆ 19.0       ┆ Alderaan  ┆ null                            │\n",
       "│ Luke Skywalker ┆ blond      ┆ 19.0       ┆ Tatooine  ┆ [\"X-wing\", \"Imperial shuttle\"]  │\n",
       "└────────────────┴────────────┴────────────┴───────────┴─────────────────────────────────┘"
      ]
     },
     "execution_count": 14,
     "metadata": {},
     "output_type": "execute_result"
    }
   ],
   "source": [
    "rebels.select(cs.by_index(range(0, 999, 3)))"
   ]
  },
  {
   "cell_type": "code",
   "execution_count": 15,
   "metadata": {},
   "outputs": [
    {
     "data": {
      "text/html": [
       "<div><style>\n",
       ".dataframe > thead > tr,\n",
       ".dataframe > tbody > tr {\n",
       "  text-align: right;\n",
       "  white-space: pre-wrap;\n",
       "}\n",
       "</style>\n",
       "<small>shape: (3, 3)</small><table border=\"1\" class=\"dataframe\"><thead><tr><th>name</th><th>birth_date</th><th>screen_time</th></tr><tr><td>str</td><td>date</td><td>duration[μs]</td></tr></thead><tbody><tr><td>&quot;Han Solo&quot;</td><td>1948-06-01</td><td>1h 12m 37s</td></tr><tr><td>&quot;Leia Organa&quot;</td><td>1958-05-30</td><td>1h 3m 40s</td></tr><tr><td>&quot;Luke Skywalker&quot;</td><td>1958-05-30</td><td>1h 58m 44s</td></tr></tbody></table></div>"
      ],
      "text/plain": [
       "shape: (3, 3)\n",
       "┌────────────────┬────────────┬──────────────┐\n",
       "│ name           ┆ birth_date ┆ screen_time  │\n",
       "│ ---            ┆ ---        ┆ ---          │\n",
       "│ str            ┆ date       ┆ duration[μs] │\n",
       "╞════════════════╪════════════╪══════════════╡\n",
       "│ Han Solo       ┆ 1948-06-01 ┆ 1h 12m 37s   │\n",
       "│ Leia Organa    ┆ 1958-05-30 ┆ 1h 3m 40s    │\n",
       "│ Luke Skywalker ┆ 1958-05-30 ┆ 1h 58m 44s   │\n",
       "└────────────────┴────────────┴──────────────┘"
      ]
     },
     "execution_count": 15,
     "metadata": {},
     "output_type": "execute_result"
    }
   ],
   "source": [
    "rebels.select(\"name\", cs.by_index(range(-2, 0)))"
   ]
  },
  {
   "cell_type": "code",
   "execution_count": null,
   "metadata": {},
   "outputs": [],
   "source": [
    "# This raises a ColumnNotFoundError:\n",
    "# rebels.select(cs.by_index(20))"
   ]
  },
  {
   "cell_type": "code",
   "execution_count": 16,
   "metadata": {},
   "outputs": [
    {
     "data": {
      "text/html": [
       "<div><style>\n",
       ".dataframe > thead > tr,\n",
       ".dataframe > tbody > tr {\n",
       "  text-align: right;\n",
       "  white-space: pre-wrap;\n",
       "}\n",
       "</style>\n",
       "<small>shape: (0, 0)</small><table border=\"1\" class=\"dataframe\"><thead><tr></tr><tr></tr></thead><tbody></tbody></table></div>"
      ],
      "text/plain": [
       "shape: (0, 0)\n",
       "┌┐\n",
       "╞╡\n",
       "└┘"
      ]
     },
     "execution_count": 16,
     "metadata": {},
     "output_type": "execute_result"
    }
   ],
   "source": [
    "rebels.select(cs.by_index(range(20, 22)))"
   ]
  },
  {
   "cell_type": "markdown",
   "metadata": {},
   "source": [
    "### Combining Selectors"
   ]
  },
  {
   "cell_type": "code",
   "execution_count": 17,
   "metadata": {},
   "outputs": [
    {
     "data": {
      "text/html": [
       "<div><style>\n",
       ".dataframe > thead > tr,\n",
       ".dataframe > tbody > tr {\n",
       "  text-align: right;\n",
       "  white-space: pre-wrap;\n",
       "}\n",
       "</style>\n",
       "<small>shape: (3, 4)</small><table border=\"1\" class=\"dataframe\"><thead><tr><th>height</th><th>mass</th><th>hair_color</th><th>birth_year</th></tr><tr><td>u16</td><td>f64</td><td>str</td><td>f64</td></tr></thead><tbody><tr><td>180</td><td>80.0</td><td>&quot;brown&quot;</td><td>29.0</td></tr><tr><td>150</td><td>49.0</td><td>&quot;brown&quot;</td><td>19.0</td></tr><tr><td>172</td><td>77.0</td><td>&quot;blond&quot;</td><td>19.0</td></tr></tbody></table></div>"
      ],
      "text/plain": [
       "shape: (3, 4)\n",
       "┌────────┬──────┬────────────┬────────────┐\n",
       "│ height ┆ mass ┆ hair_color ┆ birth_year │\n",
       "│ ---    ┆ ---  ┆ ---        ┆ ---        │\n",
       "│ u16    ┆ f64  ┆ str        ┆ f64        │\n",
       "╞════════╪══════╪════════════╪════════════╡\n",
       "│ 180    ┆ 80.0 ┆ brown      ┆ 29.0       │\n",
       "│ 150    ┆ 49.0 ┆ brown      ┆ 19.0       │\n",
       "│ 172    ┆ 77.0 ┆ blond      ┆ 19.0       │\n",
       "└────────┴──────┴────────────┴────────────┘"
      ]
     },
     "execution_count": 17,
     "metadata": {},
     "output_type": "execute_result"
    }
   ],
   "source": [
    "rebels.select(cs.by_name(\"hair_color\") | cs.numeric())"
   ]
  },
  {
   "cell_type": "code",
   "execution_count": 18,
   "metadata": {},
   "outputs": [
    {
     "name": "stdout",
     "output_type": "stream",
     "text": [
      "shape: (1, 5)\n",
      "┌─────┬──────┬──────┬──────┬─────┐\n",
      "│ d   ┆ i    ┆ s    ┆ c    ┆ o   │\n",
      "│ --- ┆ ---  ┆ ---  ┆ ---  ┆ --- │\n",
      "│ i64 ┆ bool ┆ bool ┆ bool ┆ f64 │\n",
      "╞═════╪══════╪══════╪══════╪═════╡\n",
      "│ 1   ┆ true ┆ true ┆ true ┆ 1.0 │\n",
      "└─────┴──────┴──────┴──────┴─────┘\n",
      "\n",
      "selector => columns\n",
      "x        => ('d', 'i', 's')\n",
      "y        => ('i', 's', 'c')\n",
      "x | y    => ('d', 'i', 's', 'c')\n",
      "x & y    => ('i', 's')\n",
      "x - y    => ('d',)\n",
      "x ^ y    => ('d', 'c')\n",
      "~x       => ('c', 'o')\n",
      "x - x    => ()\n"
     ]
    }
   ],
   "source": [
    "df = pl.DataFrame({\"d\": 1, \"i\": True, \"s\": True, \"c\": True, \"o\": 1.0})\n",
    "\n",
    "print(df)\n",
    "\n",
    "x = cs.by_name(\"d\", \"i\", \"s\")\n",
    "y = cs.boolean()\n",
    "\n",
    "print(\"\\nselector => columns\")\n",
    "\n",
    "for s in [\"x\", \"y\", \"x | y\", \"x & y\", \"x - y\", \"x ^ y\", \"~x\", \"x - x\"]:\n",
    "    print(f\"{s:8} => {cs.expand_selector(df, eval(s))}\")"
   ]
  },
  {
   "cell_type": "code",
   "execution_count": 19,
   "metadata": {},
   "outputs": [
    {
     "data": {
      "text/html": [
       "<div><style>\n",
       ".dataframe > thead > tr,\n",
       ".dataframe > tbody > tr {\n",
       "  text-align: right;\n",
       "  white-space: pre-wrap;\n",
       "}\n",
       "</style>\n",
       "<small>shape: (0, 0)</small><table border=\"1\" class=\"dataframe\"><thead><tr></tr><tr></tr></thead><tbody></tbody></table></div>"
      ],
      "text/plain": [
       "shape: (0, 0)\n",
       "┌┐\n",
       "╞╡\n",
       "└┘"
      ]
     },
     "execution_count": 19,
     "metadata": {},
     "output_type": "execute_result"
    }
   ],
   "source": [
    "df.select(x - x)"
   ]
  },
  {
   "cell_type": "code",
   "execution_count": 20,
   "metadata": {},
   "outputs": [
    {
     "name": "stdout",
     "output_type": "stream",
     "text": [
      "shape: (1, 5)\n",
      "┌──────┬──────┬─────┬──────┬─────┐\n",
      "│ c    ┆ i    ┆ d   ┆ s    ┆ o   │\n",
      "│ ---  ┆ ---  ┆ --- ┆ ---  ┆ --- │\n",
      "│ bool ┆ bool ┆ i64 ┆ bool ┆ f64 │\n",
      "╞══════╪══════╪═════╪══════╪═════╡\n",
      "│ true ┆ true ┆ 1   ┆ true ┆ 1.0 │\n",
      "└──────┴──────┴─────┴──────┴─────┘\n",
      "first: cols([\"c\", \"i\"]), ~first: selector\n"
     ]
    }
   ],
   "source": [
    "print(df.select(first := cs.by_name(\"c\", \"i\"), ~first))\n",
    "print(f\"first: {first}, ~first: {~first}\")"
   ]
  },
  {
   "cell_type": "code",
   "execution_count": 21,
   "metadata": {},
   "outputs": [
    {
     "name": "stdout",
     "output_type": "stream",
     "text": [
      "shape: (1, 5)\n",
      "┌─────┬─────┬──────┬──────┬──────┐\n",
      "│ o   ┆ d   ┆ i    ┆ s    ┆ c    │\n",
      "│ --- ┆ --- ┆ ---  ┆ ---  ┆ ---  │\n",
      "│ f64 ┆ i64 ┆ bool ┆ bool ┆ bool │\n",
      "╞═════╪═════╪══════╪══════╪══════╡\n",
      "│ 1.0 ┆ 1   ┆ true ┆ true ┆ true │\n",
      "└─────┴─────┴──────┴──────┴──────┘\n",
      "first: nth(-1), ~first: selector\n"
     ]
    }
   ],
   "source": [
    "print(df.select(first := cs.last(), ~first))\n",
    "print(f\"first: {first}, ~first: {~first}\")"
   ]
  },
  {
   "cell_type": "markdown",
   "metadata": {},
   "source": [
    "## Creating Columns"
   ]
  },
  {
   "cell_type": "code",
   "execution_count": 22,
   "metadata": {},
   "outputs": [
    {
     "data": {
      "text/html": [
       "<div><style>\n",
       ".dataframe > thead > tr,\n",
       ".dataframe > tbody > tr {\n",
       "  text-align: right;\n",
       "  white-space: pre-wrap;\n",
       "}\n",
       "</style>\n",
       "<small>shape: (3, 16)</small><table border=\"1\" class=\"dataframe\"><thead><tr><th>name</th><th>height</th><th>mass</th><th>hair_color</th><th>skin_color</th><th>eye_color</th><th>birth_year</th><th>sex</th><th>gender</th><th>homeworld</th><th>species</th><th>vehicles</th><th>starships</th><th>birth_date</th><th>screen_time</th><th>bmi</th></tr><tr><td>str</td><td>u16</td><td>f64</td><td>str</td><td>str</td><td>str</td><td>f64</td><td>cat</td><td>cat</td><td>str</td><td>str</td><td>list[str]</td><td>list[str]</td><td>date</td><td>duration[μs]</td><td>f64</td></tr></thead><tbody><tr><td>&quot;Han Solo&quot;</td><td>180</td><td>80.0</td><td>&quot;brown&quot;</td><td>&quot;fair&quot;</td><td>&quot;brown&quot;</td><td>29.0</td><td>&quot;male&quot;</td><td>&quot;masculine&quot;</td><td>&quot;Corellia&quot;</td><td>&quot;Human&quot;</td><td>null</td><td>[&quot;Millennium Falcon&quot;, &quot;Imperial shuttle&quot;]</td><td>1948-06-01</td><td>1h 12m 37s</td><td>24.691358</td></tr><tr><td>&quot;Leia Organa&quot;</td><td>150</td><td>49.0</td><td>&quot;brown&quot;</td><td>&quot;light&quot;</td><td>&quot;brown&quot;</td><td>19.0</td><td>&quot;female&quot;</td><td>&quot;feminine&quot;</td><td>&quot;Alderaan&quot;</td><td>&quot;Human&quot;</td><td>[&quot;Imperial Speeder Bike&quot;]</td><td>null</td><td>1958-05-30</td><td>1h 3m 40s</td><td>21.777778</td></tr><tr><td>&quot;Luke Skywalker&quot;</td><td>172</td><td>77.0</td><td>&quot;blond&quot;</td><td>&quot;fair&quot;</td><td>&quot;blue&quot;</td><td>19.0</td><td>&quot;male&quot;</td><td>&quot;masculine&quot;</td><td>&quot;Tatooine&quot;</td><td>&quot;Human&quot;</td><td>[&quot;Snowspeeder&quot;, &quot;Imperial Speeder Bike&quot;]</td><td>[&quot;X-wing&quot;, &quot;Imperial shuttle&quot;]</td><td>1958-05-30</td><td>1h 58m 44s</td><td>26.027582</td></tr></tbody></table></div>"
      ],
      "text/plain": [
       "shape: (3, 16)\n",
       "┌─────────────┬────────┬──────┬────────────┬───┬─────────────┬────────────┬────────────┬───────────┐\n",
       "│ name        ┆ height ┆ mass ┆ hair_color ┆ … ┆ starships   ┆ birth_date ┆ screen_tim ┆ bmi       │\n",
       "│ ---         ┆ ---    ┆ ---  ┆ ---        ┆   ┆ ---         ┆ ---        ┆ e          ┆ ---       │\n",
       "│ str         ┆ u16    ┆ f64  ┆ str        ┆   ┆ list[str]   ┆ date       ┆ ---        ┆ f64       │\n",
       "│             ┆        ┆      ┆            ┆   ┆             ┆            ┆ duration[μ ┆           │\n",
       "│             ┆        ┆      ┆            ┆   ┆             ┆            ┆ s]         ┆           │\n",
       "╞═════════════╪════════╪══════╪════════════╪═══╪═════════════╪════════════╪════════════╪═══════════╡\n",
       "│ Han Solo    ┆ 180    ┆ 80.0 ┆ brown      ┆ … ┆ [\"Millenniu ┆ 1948-06-01 ┆ 1h 12m 37s ┆ 24.691358 │\n",
       "│             ┆        ┆      ┆            ┆   ┆ m Falcon\",  ┆            ┆            ┆           │\n",
       "│             ┆        ┆      ┆            ┆   ┆ \"Imperia…   ┆            ┆            ┆           │\n",
       "│ Leia Organa ┆ 150    ┆ 49.0 ┆ brown      ┆ … ┆ null        ┆ 1958-05-30 ┆ 1h 3m 40s  ┆ 21.777778 │\n",
       "│ Luke        ┆ 172    ┆ 77.0 ┆ blond      ┆ … ┆ [\"X-wing\",  ┆ 1958-05-30 ┆ 1h 58m 44s ┆ 26.027582 │\n",
       "│ Skywalker   ┆        ┆      ┆            ┆   ┆ \"Imperial   ┆            ┆            ┆           │\n",
       "│             ┆        ┆      ┆            ┆   ┆ shuttle\"]   ┆            ┆            ┆           │\n",
       "└─────────────┴────────┴──────┴────────────┴───┴─────────────┴────────────┴────────────┴───────────┘"
      ]
     },
     "execution_count": 22,
     "metadata": {},
     "output_type": "execute_result"
    }
   ],
   "source": [
    "rebels.with_columns(bmi=pl.col(\"mass\") / ((pl.col(\"height\") / 100) ** 2))"
   ]
  },
  {
   "cell_type": "code",
   "execution_count": 23,
   "metadata": {},
   "outputs": [
    {
     "data": {
      "text/html": [
       "<div><style>\n",
       ".dataframe > thead > tr,\n",
       ".dataframe > tbody > tr {\n",
       "  text-align: right;\n",
       "  white-space: pre-wrap;\n",
       "}\n",
       "</style>\n",
       "<small>shape: (3, 1)</small><table border=\"1\" class=\"dataframe\"><thead><tr><th>a</th></tr><tr><td>i64</td></tr></thead><tbody><tr><td>2</td></tr><tr><td>4</td></tr><tr><td>6</td></tr></tbody></table></div>"
      ],
      "text/plain": [
       "shape: (3, 1)\n",
       "┌─────┐\n",
       "│ a   │\n",
       "│ --- │\n",
       "│ i64 │\n",
       "╞═════╡\n",
       "│ 2   │\n",
       "│ 4   │\n",
       "│ 6   │\n",
       "└─────┘"
      ]
     },
     "execution_count": 23,
     "metadata": {},
     "output_type": "execute_result"
    }
   ],
   "source": [
    "df = pl.DataFrame({\"a\": [1, 2, 3]})\n",
    "df.with_columns(pl.col(\"a\") * 2)"
   ]
  },
  {
   "cell_type": "code",
   "execution_count": 24,
   "metadata": {},
   "outputs": [
    {
     "data": {
      "text/html": [
       "<div><style>\n",
       ".dataframe > thead > tr,\n",
       ".dataframe > tbody > tr {\n",
       "  text-align: right;\n",
       "  white-space: pre-wrap;\n",
       "}\n",
       "</style>\n",
       "<small>shape: (3, 2)</small><table border=\"1\" class=\"dataframe\"><thead><tr><th>a</th><th>a2</th></tr><tr><td>i64</td><td>i64</td></tr></thead><tbody><tr><td>1</td><td>2</td></tr><tr><td>2</td><td>4</td></tr><tr><td>3</td><td>6</td></tr></tbody></table></div>"
      ],
      "text/plain": [
       "shape: (3, 2)\n",
       "┌─────┬─────┐\n",
       "│ a   ┆ a2  │\n",
       "│ --- ┆ --- │\n",
       "│ i64 ┆ i64 │\n",
       "╞═════╪═════╡\n",
       "│ 1   ┆ 2   │\n",
       "│ 2   ┆ 4   │\n",
       "│ 3   ┆ 6   │\n",
       "└─────┴─────┘"
      ]
     },
     "execution_count": 24,
     "metadata": {},
     "output_type": "execute_result"
    }
   ],
   "source": [
    "df.with_columns(a2=pl.col(\"a\") * 2)"
   ]
  },
  {
   "cell_type": "code",
   "execution_count": 25,
   "metadata": {},
   "outputs": [
    {
     "data": {
      "text/html": [
       "<div><style>\n",
       ".dataframe > thead > tr,\n",
       ".dataframe > tbody > tr {\n",
       "  text-align: right;\n",
       "  white-space: pre-wrap;\n",
       "}\n",
       "</style>\n",
       "<small>shape: (3, 17)</small><table border=\"1\" class=\"dataframe\"><thead><tr><th>name</th><th>height</th><th>mass</th><th>hair_color</th><th>skin_color</th><th>eye_color</th><th>birth_year</th><th>sex</th><th>gender</th><th>homeworld</th><th>species</th><th>vehicles</th><th>starships</th><th>birth_date</th><th>screen_time</th><th>bmi</th><th>age_destroy</th></tr><tr><td>str</td><td>u16</td><td>f64</td><td>str</td><td>str</td><td>str</td><td>f64</td><td>cat</td><td>cat</td><td>str</td><td>str</td><td>list[str]</td><td>list[str]</td><td>date</td><td>duration[μs]</td><td>f64</td><td>u8</td></tr></thead><tbody><tr><td>&quot;Han Solo&quot;</td><td>180</td><td>80.0</td><td>&quot;brown&quot;</td><td>&quot;fair&quot;</td><td>&quot;brown&quot;</td><td>29.0</td><td>&quot;male&quot;</td><td>&quot;masculine&quot;</td><td>&quot;Corellia&quot;</td><td>&quot;Human&quot;</td><td>null</td><td>[&quot;Millennium Falcon&quot;, &quot;Imperial shuttle&quot;]</td><td>1948-06-01</td><td>1h 12m 37s</td><td>24.691358</td><td>35</td></tr><tr><td>&quot;Leia Organa&quot;</td><td>150</td><td>49.0</td><td>&quot;brown&quot;</td><td>&quot;light&quot;</td><td>&quot;brown&quot;</td><td>19.0</td><td>&quot;female&quot;</td><td>&quot;feminine&quot;</td><td>&quot;Alderaan&quot;</td><td>&quot;Human&quot;</td><td>[&quot;Imperial Speeder Bike&quot;]</td><td>null</td><td>1958-05-30</td><td>1h 3m 40s</td><td>21.777778</td><td>25</td></tr><tr><td>&quot;Luke Skywalker&quot;</td><td>172</td><td>77.0</td><td>&quot;blond&quot;</td><td>&quot;fair&quot;</td><td>&quot;blue&quot;</td><td>19.0</td><td>&quot;male&quot;</td><td>&quot;masculine&quot;</td><td>&quot;Tatooine&quot;</td><td>&quot;Human&quot;</td><td>[&quot;Snowspeeder&quot;, &quot;Imperial Speeder Bike&quot;]</td><td>[&quot;X-wing&quot;, &quot;Imperial shuttle&quot;]</td><td>1958-05-30</td><td>1h 58m 44s</td><td>26.027582</td><td>25</td></tr></tbody></table></div>"
      ],
      "text/plain": [
       "shape: (3, 17)\n",
       "┌─────────────┬────────┬──────┬────────────┬───┬────────────┬─────────────┬───────────┬────────────┐\n",
       "│ name        ┆ height ┆ mass ┆ hair_color ┆ … ┆ birth_date ┆ screen_time ┆ bmi       ┆ age_destro │\n",
       "│ ---         ┆ ---    ┆ ---  ┆ ---        ┆   ┆ ---        ┆ ---         ┆ ---       ┆ y          │\n",
       "│ str         ┆ u16    ┆ f64  ┆ str        ┆   ┆ date       ┆ duration[μs ┆ f64       ┆ ---        │\n",
       "│             ┆        ┆      ┆            ┆   ┆            ┆ ]           ┆           ┆ u8         │\n",
       "╞═════════════╪════════╪══════╪════════════╪═══╪════════════╪═════════════╪═══════════╪════════════╡\n",
       "│ Han Solo    ┆ 180    ┆ 80.0 ┆ brown      ┆ … ┆ 1948-06-01 ┆ 1h 12m 37s  ┆ 24.691358 ┆ 35         │\n",
       "│ Leia Organa ┆ 150    ┆ 49.0 ┆ brown      ┆ … ┆ 1958-05-30 ┆ 1h 3m 40s   ┆ 21.777778 ┆ 25         │\n",
       "│ Luke        ┆ 172    ┆ 77.0 ┆ blond      ┆ … ┆ 1958-05-30 ┆ 1h 58m 44s  ┆ 26.027582 ┆ 25         │\n",
       "│ Skywalker   ┆        ┆      ┆            ┆   ┆            ┆             ┆           ┆            │\n",
       "└─────────────┴────────┴──────┴────────────┴───┴────────────┴─────────────┴───────────┴────────────┘"
      ]
     },
     "execution_count": 25,
     "metadata": {},
     "output_type": "execute_result"
    }
   ],
   "source": [
    "rebels.with_columns(\n",
    "    bmi=pl.col(\"mass\") / ((pl.col(\"height\") / 100) ** 2),\n",
    "    age_destroy=(\n",
    "        (pl.date(1983, 5, 25) - pl.col(\"birth_date\")).dt.total_days() / 365\n",
    "    ).cast(pl.UInt8),\n",
    ")"
   ]
  },
  {
   "cell_type": "code",
   "execution_count": 26,
   "metadata": {},
   "outputs": [],
   "source": [
    "# This raises a ColumnNotFoundError:\n",
    "# rebels.with_columns(\n",
    "#     bmi=pl.col(\"mass\") / ((pl.col(\"height\") / 100) ** 2),\n",
    "#     bmi_cat=pl.col(\"bmi\").cut(\n",
    "#         [18.5, 25], labels=[\"Underweight\", \"Normal\", \"Overweight\"]\n",
    "#     ),\n",
    "# )"
   ]
  },
  {
   "cell_type": "code",
   "execution_count": 27,
   "metadata": {},
   "outputs": [
    {
     "data": {
      "text/html": [
       "<div><style>\n",
       ".dataframe > thead > tr,\n",
       ".dataframe > tbody > tr {\n",
       "  text-align: right;\n",
       "  white-space: pre-wrap;\n",
       "}\n",
       "</style>\n",
       "<small>shape: (3, 17)</small><table border=\"1\" class=\"dataframe\"><thead><tr><th>name</th><th>height</th><th>mass</th><th>hair_color</th><th>skin_color</th><th>eye_color</th><th>birth_year</th><th>sex</th><th>gender</th><th>homeworld</th><th>species</th><th>vehicles</th><th>starships</th><th>birth_date</th><th>screen_time</th><th>bmi</th><th>bmi_cat</th></tr><tr><td>str</td><td>u16</td><td>f64</td><td>str</td><td>str</td><td>str</td><td>f64</td><td>cat</td><td>cat</td><td>str</td><td>str</td><td>list[str]</td><td>list[str]</td><td>date</td><td>duration[μs]</td><td>f64</td><td>cat</td></tr></thead><tbody><tr><td>&quot;Han Solo&quot;</td><td>180</td><td>80.0</td><td>&quot;brown&quot;</td><td>&quot;fair&quot;</td><td>&quot;brown&quot;</td><td>29.0</td><td>&quot;male&quot;</td><td>&quot;masculine&quot;</td><td>&quot;Corellia&quot;</td><td>&quot;Human&quot;</td><td>null</td><td>[&quot;Millennium Falcon&quot;, &quot;Imperial shuttle&quot;]</td><td>1948-06-01</td><td>1h 12m 37s</td><td>24.691358</td><td>&quot;Normal&quot;</td></tr><tr><td>&quot;Leia Organa&quot;</td><td>150</td><td>49.0</td><td>&quot;brown&quot;</td><td>&quot;light&quot;</td><td>&quot;brown&quot;</td><td>19.0</td><td>&quot;female&quot;</td><td>&quot;feminine&quot;</td><td>&quot;Alderaan&quot;</td><td>&quot;Human&quot;</td><td>[&quot;Imperial Speeder Bike&quot;]</td><td>null</td><td>1958-05-30</td><td>1h 3m 40s</td><td>21.777778</td><td>&quot;Normal&quot;</td></tr><tr><td>&quot;Luke Skywalker&quot;</td><td>172</td><td>77.0</td><td>&quot;blond&quot;</td><td>&quot;fair&quot;</td><td>&quot;blue&quot;</td><td>19.0</td><td>&quot;male&quot;</td><td>&quot;masculine&quot;</td><td>&quot;Tatooine&quot;</td><td>&quot;Human&quot;</td><td>[&quot;Snowspeeder&quot;, &quot;Imperial Speeder Bike&quot;]</td><td>[&quot;X-wing&quot;, &quot;Imperial shuttle&quot;]</td><td>1958-05-30</td><td>1h 58m 44s</td><td>26.027582</td><td>&quot;Overweight&quot;</td></tr></tbody></table></div>"
      ],
      "text/plain": [
       "shape: (3, 17)\n",
       "┌─────────────┬────────┬──────┬────────────┬───┬────────────┬─────────────┬───────────┬────────────┐\n",
       "│ name        ┆ height ┆ mass ┆ hair_color ┆ … ┆ birth_date ┆ screen_time ┆ bmi       ┆ bmi_cat    │\n",
       "│ ---         ┆ ---    ┆ ---  ┆ ---        ┆   ┆ ---        ┆ ---         ┆ ---       ┆ ---        │\n",
       "│ str         ┆ u16    ┆ f64  ┆ str        ┆   ┆ date       ┆ duration[μs ┆ f64       ┆ cat        │\n",
       "│             ┆        ┆      ┆            ┆   ┆            ┆ ]           ┆           ┆            │\n",
       "╞═════════════╪════════╪══════╪════════════╪═══╪════════════╪═════════════╪═══════════╪════════════╡\n",
       "│ Han Solo    ┆ 180    ┆ 80.0 ┆ brown      ┆ … ┆ 1948-06-01 ┆ 1h 12m 37s  ┆ 24.691358 ┆ Normal     │\n",
       "│ Leia Organa ┆ 150    ┆ 49.0 ┆ brown      ┆ … ┆ 1958-05-30 ┆ 1h 3m 40s   ┆ 21.777778 ┆ Normal     │\n",
       "│ Luke        ┆ 172    ┆ 77.0 ┆ blond      ┆ … ┆ 1958-05-30 ┆ 1h 58m 44s  ┆ 26.027582 ┆ Overweight │\n",
       "│ Skywalker   ┆        ┆      ┆            ┆   ┆            ┆             ┆           ┆            │\n",
       "└─────────────┴────────┴──────┴────────────┴───┴────────────┴─────────────┴───────────┴────────────┘"
      ]
     },
     "execution_count": 27,
     "metadata": {},
     "output_type": "execute_result"
    }
   ],
   "source": [
    "(\n",
    "    rebels.with_columns(\n",
    "        bmi=pl.col(\"mass\") / ((pl.col(\"height\") / 100) ** 2)\n",
    "    ).with_columns(\n",
    "        bmi_cat=pl.col(\"bmi\").cut(\n",
    "            [18.5, 25], labels=[\"Underweight\", \"Normal\", \"Overweight\"]\n",
    "        )\n",
    "    )\n",
    ")"
   ]
  },
  {
   "cell_type": "code",
   "execution_count": null,
   "metadata": {},
   "outputs": [],
   "source": [
    "# This raises a SyntaxError:\n",
    "# starwars.select(\n",
    "#     \"name\",\n",
    "#     bmi=(pl.col(\"mass\") / ((pl.col(\"height\") / 100) ** 2)),\n",
    "#     \"species\",\n",
    "# )"
   ]
  },
  {
   "cell_type": "code",
   "execution_count": 28,
   "metadata": {},
   "outputs": [
    {
     "data": {
      "text/html": [
       "<div><style>\n",
       ".dataframe > thead > tr,\n",
       ".dataframe > tbody > tr {\n",
       "  text-align: right;\n",
       "  white-space: pre-wrap;\n",
       "}\n",
       "</style>\n",
       "<small>shape: (5, 3)</small><table border=\"1\" class=\"dataframe\"><thead><tr><th>name</th><th>bmi</th><th>species</th></tr><tr><td>str</td><td>f64</td><td>str</td></tr></thead><tbody><tr><td>&quot;Jabba Desilijic Tiure&quot;</td><td>443.428571</td><td>&quot;Hutt&quot;</td></tr><tr><td>&quot;Dud Bolt&quot;</td><td>50.928022</td><td>&quot;Vulptereen&quot;</td></tr><tr><td>&quot;Yoda&quot;</td><td>39.02663</td><td>&quot;Yoda&#x27;s species&quot;</td></tr><tr><td>&quot;Owen Lars&quot;</td><td>37.874006</td><td>&quot;Human&quot;</td></tr><tr><td>&quot;IG-88&quot;</td><td>35.0</td><td>&quot;Droid&quot;</td></tr></tbody></table></div>"
      ],
      "text/plain": [
       "shape: (5, 3)\n",
       "┌───────────────────────┬────────────┬────────────────┐\n",
       "│ name                  ┆ bmi        ┆ species        │\n",
       "│ ---                   ┆ ---        ┆ ---            │\n",
       "│ str                   ┆ f64        ┆ str            │\n",
       "╞═══════════════════════╪════════════╪════════════════╡\n",
       "│ Jabba Desilijic Tiure ┆ 443.428571 ┆ Hutt           │\n",
       "│ Dud Bolt              ┆ 50.928022  ┆ Vulptereen     │\n",
       "│ Yoda                  ┆ 39.02663   ┆ Yoda's species │\n",
       "│ Owen Lars             ┆ 37.874006  ┆ Human          │\n",
       "│ IG-88                 ┆ 35.0       ┆ Droid          │\n",
       "└───────────────────────┴────────────┴────────────────┘"
      ]
     },
     "execution_count": 28,
     "metadata": {},
     "output_type": "execute_result"
    }
   ],
   "source": [
    "(\n",
    "    starwars.select(\n",
    "        \"name\",\n",
    "        (pl.col(\"mass\") / ((pl.col(\"height\") / 100) ** 2)).alias(\"bmi\"),\n",
    "        \"species\",\n",
    "    )\n",
    "    .drop_nulls()\n",
    "    .top_k(5, by=\"bmi\")\n",
    ")"
   ]
  },
  {
   "cell_type": "code",
   "execution_count": 29,
   "metadata": {},
   "outputs": [
    {
     "data": {
      "text/html": [
       "<div><style>\n",
       ".dataframe > thead > tr,\n",
       ".dataframe > tbody > tr {\n",
       "  text-align: right;\n",
       "  white-space: pre-wrap;\n",
       "}\n",
       "</style>\n",
       "<small>shape: (3, 2)</small><table border=\"1\" class=\"dataframe\"><thead><tr><th>a</th><th>ones</th></tr><tr><td>i64</td><td>i32</td></tr></thead><tbody><tr><td>1</td><td>1</td></tr><tr><td>2</td><td>1</td></tr><tr><td>3</td><td>1</td></tr></tbody></table></div>"
      ],
      "text/plain": [
       "shape: (3, 2)\n",
       "┌─────┬──────┐\n",
       "│ a   ┆ ones │\n",
       "│ --- ┆ ---  │\n",
       "│ i64 ┆ i32  │\n",
       "╞═════╪══════╡\n",
       "│ 1   ┆ 1    │\n",
       "│ 2   ┆ 1    │\n",
       "│ 3   ┆ 1    │\n",
       "└─────┴──────┘"
      ]
     },
     "execution_count": 29,
     "metadata": {},
     "output_type": "execute_result"
    }
   ],
   "source": [
    "df.with_columns(pl.lit(1).alias(\"ones\"))"
   ]
  },
  {
   "cell_type": "code",
   "execution_count": 30,
   "metadata": {},
   "outputs": [
    {
     "data": {
      "text/html": [
       "<div><style>\n",
       ".dataframe > thead > tr,\n",
       ".dataframe > tbody > tr {\n",
       "  text-align: right;\n",
       "  white-space: pre-wrap;\n",
       "}\n",
       "</style>\n",
       "<small>shape: (3, 2)</small><table border=\"1\" class=\"dataframe\"><thead><tr><th>a</th><th>ones</th></tr><tr><td>i64</td><td>i32</td></tr></thead><tbody><tr><td>1</td><td>1</td></tr><tr><td>2</td><td>1</td></tr><tr><td>3</td><td>1</td></tr></tbody></table></div>"
      ],
      "text/plain": [
       "shape: (3, 2)\n",
       "┌─────┬──────┐\n",
       "│ a   ┆ ones │\n",
       "│ --- ┆ ---  │\n",
       "│ i64 ┆ i32  │\n",
       "╞═════╪══════╡\n",
       "│ 1   ┆ 1    │\n",
       "│ 2   ┆ 1    │\n",
       "│ 3   ┆ 1    │\n",
       "└─────┴──────┘"
      ]
     },
     "execution_count": 30,
     "metadata": {},
     "output_type": "execute_result"
    }
   ],
   "source": [
    "df.select(pl.all(), pl.lit(1).alias(\"ones\"))"
   ]
  },
  {
   "cell_type": "markdown",
   "metadata": {},
   "source": [
    "## Related Column Operations"
   ]
  },
  {
   "cell_type": "markdown",
   "metadata": {},
   "source": [
    "### Dropping"
   ]
  },
  {
   "cell_type": "code",
   "execution_count": 31,
   "metadata": {},
   "outputs": [
    {
     "data": {
      "text/html": [
       "<div><style>\n",
       ".dataframe > thead > tr,\n",
       ".dataframe > tbody > tr {\n",
       "  text-align: right;\n",
       "  white-space: pre-wrap;\n",
       "}\n",
       "</style>\n",
       "<small>shape: (3, 13)</small><table border=\"1\" class=\"dataframe\"><thead><tr><th>height</th><th>mass</th><th>hair_color</th><th>skin_color</th><th>eye_color</th><th>birth_year</th><th>sex</th><th>gender</th><th>homeworld</th><th>species</th><th>vehicles</th><th>starships</th><th>birth_date</th></tr><tr><td>u16</td><td>f64</td><td>str</td><td>str</td><td>str</td><td>f64</td><td>cat</td><td>cat</td><td>str</td><td>str</td><td>list[str]</td><td>list[str]</td><td>date</td></tr></thead><tbody><tr><td>180</td><td>80.0</td><td>&quot;brown&quot;</td><td>&quot;fair&quot;</td><td>&quot;brown&quot;</td><td>29.0</td><td>&quot;male&quot;</td><td>&quot;masculine&quot;</td><td>&quot;Corellia&quot;</td><td>&quot;Human&quot;</td><td>null</td><td>[&quot;Millennium Falcon&quot;, &quot;Imperial shuttle&quot;]</td><td>1948-06-01</td></tr><tr><td>150</td><td>49.0</td><td>&quot;brown&quot;</td><td>&quot;light&quot;</td><td>&quot;brown&quot;</td><td>19.0</td><td>&quot;female&quot;</td><td>&quot;feminine&quot;</td><td>&quot;Alderaan&quot;</td><td>&quot;Human&quot;</td><td>[&quot;Imperial Speeder Bike&quot;]</td><td>null</td><td>1958-05-30</td></tr><tr><td>172</td><td>77.0</td><td>&quot;blond&quot;</td><td>&quot;fair&quot;</td><td>&quot;blue&quot;</td><td>19.0</td><td>&quot;male&quot;</td><td>&quot;masculine&quot;</td><td>&quot;Tatooine&quot;</td><td>&quot;Human&quot;</td><td>[&quot;Snowspeeder&quot;, &quot;Imperial Speeder Bike&quot;]</td><td>[&quot;X-wing&quot;, &quot;Imperial shuttle&quot;]</td><td>1958-05-30</td></tr></tbody></table></div>"
      ],
      "text/plain": [
       "shape: (3, 13)\n",
       "┌────────┬──────┬────────────┬────────────┬───┬─────────┬──────────────┬──────────────┬────────────┐\n",
       "│ height ┆ mass ┆ hair_color ┆ skin_color ┆ … ┆ species ┆ vehicles     ┆ starships    ┆ birth_date │\n",
       "│ ---    ┆ ---  ┆ ---        ┆ ---        ┆   ┆ ---     ┆ ---          ┆ ---          ┆ ---        │\n",
       "│ u16    ┆ f64  ┆ str        ┆ str        ┆   ┆ str     ┆ list[str]    ┆ list[str]    ┆ date       │\n",
       "╞════════╪══════╪════════════╪════════════╪═══╪═════════╪══════════════╪══════════════╪════════════╡\n",
       "│ 180    ┆ 80.0 ┆ brown      ┆ fair       ┆ … ┆ Human   ┆ null         ┆ [\"Millennium ┆ 1948-06-01 │\n",
       "│        ┆      ┆            ┆            ┆   ┆         ┆              ┆ Falcon\",     ┆            │\n",
       "│        ┆      ┆            ┆            ┆   ┆         ┆              ┆ \"Imperia…    ┆            │\n",
       "│ 150    ┆ 49.0 ┆ brown      ┆ light      ┆ … ┆ Human   ┆ [\"Imperial   ┆ null         ┆ 1958-05-30 │\n",
       "│        ┆      ┆            ┆            ┆   ┆         ┆ Speeder      ┆              ┆            │\n",
       "│        ┆      ┆            ┆            ┆   ┆         ┆ Bike\"]       ┆              ┆            │\n",
       "│ 172    ┆ 77.0 ┆ blond      ┆ fair       ┆ … ┆ Human   ┆ [\"Snowspeede ┆ [\"X-wing\",   ┆ 1958-05-30 │\n",
       "│        ┆      ┆            ┆            ┆   ┆         ┆ r\",          ┆ \"Imperial    ┆            │\n",
       "│        ┆      ┆            ┆            ┆   ┆         ┆ \"Imperial    ┆ shuttle\"]    ┆            │\n",
       "│        ┆      ┆            ┆            ┆   ┆         ┆ Spee…        ┆              ┆            │\n",
       "└────────┴──────┴────────────┴────────────┴───┴─────────┴──────────────┴──────────────┴────────────┘"
      ]
     },
     "execution_count": 31,
     "metadata": {},
     "output_type": "execute_result"
    }
   ],
   "source": [
    "rebels.drop(\"name\", \"films\", \"screen_time\", strict=False)"
   ]
  },
  {
   "cell_type": "code",
   "execution_count": 32,
   "metadata": {},
   "outputs": [
    {
     "data": {
      "text/html": [
       "<div><style>\n",
       ".dataframe > thead > tr,\n",
       ".dataframe > tbody > tr {\n",
       "  text-align: right;\n",
       "  white-space: pre-wrap;\n",
       "}\n",
       "</style>\n",
       "<small>shape: (3, 13)</small><table border=\"1\" class=\"dataframe\"><thead><tr><th>height</th><th>mass</th><th>hair_color</th><th>skin_color</th><th>eye_color</th><th>birth_year</th><th>sex</th><th>gender</th><th>homeworld</th><th>species</th><th>vehicles</th><th>starships</th><th>birth_date</th></tr><tr><td>u16</td><td>f64</td><td>str</td><td>str</td><td>str</td><td>f64</td><td>cat</td><td>cat</td><td>str</td><td>str</td><td>list[str]</td><td>list[str]</td><td>date</td></tr></thead><tbody><tr><td>180</td><td>80.0</td><td>&quot;brown&quot;</td><td>&quot;fair&quot;</td><td>&quot;brown&quot;</td><td>29.0</td><td>&quot;male&quot;</td><td>&quot;masculine&quot;</td><td>&quot;Corellia&quot;</td><td>&quot;Human&quot;</td><td>null</td><td>[&quot;Millennium Falcon&quot;, &quot;Imperial shuttle&quot;]</td><td>1948-06-01</td></tr><tr><td>150</td><td>49.0</td><td>&quot;brown&quot;</td><td>&quot;light&quot;</td><td>&quot;brown&quot;</td><td>19.0</td><td>&quot;female&quot;</td><td>&quot;feminine&quot;</td><td>&quot;Alderaan&quot;</td><td>&quot;Human&quot;</td><td>[&quot;Imperial Speeder Bike&quot;]</td><td>null</td><td>1958-05-30</td></tr><tr><td>172</td><td>77.0</td><td>&quot;blond&quot;</td><td>&quot;fair&quot;</td><td>&quot;blue&quot;</td><td>19.0</td><td>&quot;male&quot;</td><td>&quot;masculine&quot;</td><td>&quot;Tatooine&quot;</td><td>&quot;Human&quot;</td><td>[&quot;Snowspeeder&quot;, &quot;Imperial Speeder Bike&quot;]</td><td>[&quot;X-wing&quot;, &quot;Imperial shuttle&quot;]</td><td>1958-05-30</td></tr></tbody></table></div>"
      ],
      "text/plain": [
       "shape: (3, 13)\n",
       "┌────────┬──────┬────────────┬────────────┬───┬─────────┬──────────────┬──────────────┬────────────┐\n",
       "│ height ┆ mass ┆ hair_color ┆ skin_color ┆ … ┆ species ┆ vehicles     ┆ starships    ┆ birth_date │\n",
       "│ ---    ┆ ---  ┆ ---        ┆ ---        ┆   ┆ ---     ┆ ---          ┆ ---          ┆ ---        │\n",
       "│ u16    ┆ f64  ┆ str        ┆ str        ┆   ┆ str     ┆ list[str]    ┆ list[str]    ┆ date       │\n",
       "╞════════╪══════╪════════════╪════════════╪═══╪═════════╪══════════════╪══════════════╪════════════╡\n",
       "│ 180    ┆ 80.0 ┆ brown      ┆ fair       ┆ … ┆ Human   ┆ null         ┆ [\"Millennium ┆ 1948-06-01 │\n",
       "│        ┆      ┆            ┆            ┆   ┆         ┆              ┆ Falcon\",     ┆            │\n",
       "│        ┆      ┆            ┆            ┆   ┆         ┆              ┆ \"Imperia…    ┆            │\n",
       "│ 150    ┆ 49.0 ┆ brown      ┆ light      ┆ … ┆ Human   ┆ [\"Imperial   ┆ null         ┆ 1958-05-30 │\n",
       "│        ┆      ┆            ┆            ┆   ┆         ┆ Speeder      ┆              ┆            │\n",
       "│        ┆      ┆            ┆            ┆   ┆         ┆ Bike\"]       ┆              ┆            │\n",
       "│ 172    ┆ 77.0 ┆ blond      ┆ fair       ┆ … ┆ Human   ┆ [\"Snowspeede ┆ [\"X-wing\",   ┆ 1958-05-30 │\n",
       "│        ┆      ┆            ┆            ┆   ┆         ┆ r\",          ┆ \"Imperial    ┆            │\n",
       "│        ┆      ┆            ┆            ┆   ┆         ┆ \"Imperial    ┆ shuttle\"]    ┆            │\n",
       "│        ┆      ┆            ┆            ┆   ┆         ┆ Spee…        ┆              ┆            │\n",
       "└────────┴──────┴────────────┴────────────┴───┴─────────┴──────────────┴──────────────┴────────────┘"
      ]
     },
     "execution_count": 32,
     "metadata": {},
     "output_type": "execute_result"
    }
   ],
   "source": [
    "rebels.select(~cs.by_name(\"name\", \"films\", \"screen_time\"))"
   ]
  },
  {
   "cell_type": "code",
   "execution_count": 33,
   "metadata": {},
   "outputs": [
    {
     "data": {
      "text/html": [
       "<div><style>\n",
       ".dataframe > thead > tr,\n",
       ".dataframe > tbody > tr {\n",
       "  text-align: right;\n",
       "  white-space: pre-wrap;\n",
       "}\n",
       "</style>\n",
       "<small>shape: (3, 13)</small><table border=\"1\" class=\"dataframe\"><thead><tr><th>height</th><th>mass</th><th>hair_color</th><th>skin_color</th><th>eye_color</th><th>birth_year</th><th>sex</th><th>gender</th><th>homeworld</th><th>species</th><th>vehicles</th><th>starships</th><th>birth_date</th></tr><tr><td>u16</td><td>f64</td><td>str</td><td>str</td><td>str</td><td>f64</td><td>cat</td><td>cat</td><td>str</td><td>str</td><td>list[str]</td><td>list[str]</td><td>date</td></tr></thead><tbody><tr><td>180</td><td>80.0</td><td>&quot;brown&quot;</td><td>&quot;fair&quot;</td><td>&quot;brown&quot;</td><td>29.0</td><td>&quot;male&quot;</td><td>&quot;masculine&quot;</td><td>&quot;Corellia&quot;</td><td>&quot;Human&quot;</td><td>null</td><td>[&quot;Millennium Falcon&quot;, &quot;Imperial shuttle&quot;]</td><td>1948-06-01</td></tr><tr><td>150</td><td>49.0</td><td>&quot;brown&quot;</td><td>&quot;light&quot;</td><td>&quot;brown&quot;</td><td>19.0</td><td>&quot;female&quot;</td><td>&quot;feminine&quot;</td><td>&quot;Alderaan&quot;</td><td>&quot;Human&quot;</td><td>[&quot;Imperial Speeder Bike&quot;]</td><td>null</td><td>1958-05-30</td></tr><tr><td>172</td><td>77.0</td><td>&quot;blond&quot;</td><td>&quot;fair&quot;</td><td>&quot;blue&quot;</td><td>19.0</td><td>&quot;male&quot;</td><td>&quot;masculine&quot;</td><td>&quot;Tatooine&quot;</td><td>&quot;Human&quot;</td><td>[&quot;Snowspeeder&quot;, &quot;Imperial Speeder Bike&quot;]</td><td>[&quot;X-wing&quot;, &quot;Imperial shuttle&quot;]</td><td>1958-05-30</td></tr></tbody></table></div>"
      ],
      "text/plain": [
       "shape: (3, 13)\n",
       "┌────────┬──────┬────────────┬────────────┬───┬─────────┬──────────────┬──────────────┬────────────┐\n",
       "│ height ┆ mass ┆ hair_color ┆ skin_color ┆ … ┆ species ┆ vehicles     ┆ starships    ┆ birth_date │\n",
       "│ ---    ┆ ---  ┆ ---        ┆ ---        ┆   ┆ ---     ┆ ---          ┆ ---          ┆ ---        │\n",
       "│ u16    ┆ f64  ┆ str        ┆ str        ┆   ┆ str     ┆ list[str]    ┆ list[str]    ┆ date       │\n",
       "╞════════╪══════╪════════════╪════════════╪═══╪═════════╪══════════════╪══════════════╪════════════╡\n",
       "│ 180    ┆ 80.0 ┆ brown      ┆ fair       ┆ … ┆ Human   ┆ null         ┆ [\"Millennium ┆ 1948-06-01 │\n",
       "│        ┆      ┆            ┆            ┆   ┆         ┆              ┆ Falcon\",     ┆            │\n",
       "│        ┆      ┆            ┆            ┆   ┆         ┆              ┆ \"Imperia…    ┆            │\n",
       "│ 150    ┆ 49.0 ┆ brown      ┆ light      ┆ … ┆ Human   ┆ [\"Imperial   ┆ null         ┆ 1958-05-30 │\n",
       "│        ┆      ┆            ┆            ┆   ┆         ┆ Speeder      ┆              ┆            │\n",
       "│        ┆      ┆            ┆            ┆   ┆         ┆ Bike\"]       ┆              ┆            │\n",
       "│ 172    ┆ 77.0 ┆ blond      ┆ fair       ┆ … ┆ Human   ┆ [\"Snowspeede ┆ [\"X-wing\",   ┆ 1958-05-30 │\n",
       "│        ┆      ┆            ┆            ┆   ┆         ┆ r\",          ┆ \"Imperial    ┆            │\n",
       "│        ┆      ┆            ┆            ┆   ┆         ┆ \"Imperial    ┆ shuttle\"]    ┆            │\n",
       "│        ┆      ┆            ┆            ┆   ┆         ┆ Spee…        ┆              ┆            │\n",
       "└────────┴──────┴────────────┴────────────┴───┴─────────┴──────────────┴──────────────┴────────────┘"
      ]
     },
     "execution_count": 33,
     "metadata": {},
     "output_type": "execute_result"
    }
   ],
   "source": [
    "rebels.select(cs.exclude(\"name\", \"films\", \"screen_time\"))"
   ]
  },
  {
   "cell_type": "markdown",
   "metadata": {},
   "source": [
    "### Renaming"
   ]
  },
  {
   "cell_type": "code",
   "execution_count": 34,
   "metadata": {},
   "outputs": [
    {
     "data": {
      "text/html": [
       "<div><style>\n",
       ".dataframe > thead > tr,\n",
       ".dataframe > tbody > tr {\n",
       "  text-align: right;\n",
       "  white-space: pre-wrap;\n",
       "}\n",
       "</style>\n",
       "<small>shape: (3, 6)</small><table border=\"1\" class=\"dataframe\"><thead><tr><th>name</th><th>planet</th><th>weight</th><th>hair</th><th>skin</th><th>eye</th></tr><tr><td>str</td><td>str</td><td>f64</td><td>str</td><td>str</td><td>str</td></tr></thead><tbody><tr><td>&quot;Han Solo&quot;</td><td>&quot;Corellia&quot;</td><td>80.0</td><td>&quot;brown&quot;</td><td>&quot;fair&quot;</td><td>&quot;brown&quot;</td></tr><tr><td>&quot;Leia Organa&quot;</td><td>&quot;Alderaan&quot;</td><td>49.0</td><td>&quot;brown&quot;</td><td>&quot;light&quot;</td><td>&quot;brown&quot;</td></tr><tr><td>&quot;Luke Skywalker&quot;</td><td>&quot;Tatooine&quot;</td><td>77.0</td><td>&quot;blond&quot;</td><td>&quot;fair&quot;</td><td>&quot;blue&quot;</td></tr></tbody></table></div>"
      ],
      "text/plain": [
       "shape: (3, 6)\n",
       "┌────────────────┬──────────┬────────┬───────┬───────┬───────┐\n",
       "│ name           ┆ planet   ┆ weight ┆ hair  ┆ skin  ┆ eye   │\n",
       "│ ---            ┆ ---      ┆ ---    ┆ ---   ┆ ---   ┆ ---   │\n",
       "│ str            ┆ str      ┆ f64    ┆ str   ┆ str   ┆ str   │\n",
       "╞════════════════╪══════════╪════════╪═══════╪═══════╪═══════╡\n",
       "│ Han Solo       ┆ Corellia ┆ 80.0   ┆ brown ┆ fair  ┆ brown │\n",
       "│ Leia Organa    ┆ Alderaan ┆ 49.0   ┆ brown ┆ light ┆ brown │\n",
       "│ Luke Skywalker ┆ Tatooine ┆ 77.0   ┆ blond ┆ fair  ┆ blue  │\n",
       "└────────────────┴──────────┴────────┴───────┴───────┴───────┘"
      ]
     },
     "execution_count": 34,
     "metadata": {},
     "output_type": "execute_result"
    }
   ],
   "source": [
    "(\n",
    "    rebels.rename({\"homeworld\": \"planet\", \"mass\": \"weight\"})\n",
    "    .rename(lambda s: s.removesuffix(\"_color\"))\n",
    "    .select(\"name\", \"planet\", \"weight\", \"hair\", \"skin\", \"eye\")\n",
    ")"
   ]
  },
  {
   "cell_type": "markdown",
   "metadata": {},
   "source": [
    "### Stacking"
   ]
  },
  {
   "cell_type": "code",
   "execution_count": 35,
   "metadata": {},
   "outputs": [
    {
     "data": {
      "text/html": [
       "<div><style>\n",
       ".dataframe > thead > tr,\n",
       ".dataframe > tbody > tr {\n",
       "  text-align: right;\n",
       "  white-space: pre-wrap;\n",
       "}\n",
       "</style>\n",
       "<small>shape: (3, 5)</small><table border=\"1\" class=\"dataframe\"><thead><tr><th>name</th><th>hair_color</th><th>skin_color</th><th>eye_color</th><th>quote</th></tr><tr><td>str</td><td>str</td><td>str</td><td>str</td><td>str</td></tr></thead><tbody><tr><td>&quot;Han Solo&quot;</td><td>&quot;brown&quot;</td><td>&quot;fair&quot;</td><td>&quot;brown&quot;</td><td>&quot;You know, sometimes I amaze my…</td></tr><tr><td>&quot;Leia Organa&quot;</td><td>&quot;brown&quot;</td><td>&quot;light&quot;</td><td>&quot;brown&quot;</td><td>&quot;That doesn&#x27;t sound too hard.&quot;</td></tr><tr><td>&quot;Luke Skywalker&quot;</td><td>&quot;blond&quot;</td><td>&quot;fair&quot;</td><td>&quot;blue&quot;</td><td>&quot;I have a bad feeling about thi…</td></tr></tbody></table></div>"
      ],
      "text/plain": [
       "shape: (3, 5)\n",
       "┌────────────────┬────────────┬────────────┬───────────┬─────────────────────────────────┐\n",
       "│ name           ┆ hair_color ┆ skin_color ┆ eye_color ┆ quote                           │\n",
       "│ ---            ┆ ---        ┆ ---        ┆ ---       ┆ ---                             │\n",
       "│ str            ┆ str        ┆ str        ┆ str       ┆ str                             │\n",
       "╞════════════════╪════════════╪════════════╪═══════════╪═════════════════════════════════╡\n",
       "│ Han Solo       ┆ brown      ┆ fair       ┆ brown     ┆ You know, sometimes I amaze my… │\n",
       "│ Leia Organa    ┆ brown      ┆ light      ┆ brown     ┆ That doesn't sound too hard.    │\n",
       "│ Luke Skywalker ┆ blond      ┆ fair       ┆ blue      ┆ I have a bad feeling about thi… │\n",
       "└────────────────┴────────────┴────────────┴───────────┴─────────────────────────────────┘"
      ]
     },
     "execution_count": 35,
     "metadata": {},
     "output_type": "execute_result"
    }
   ],
   "source": [
    "rebel_names = rebels.select(\"name\")\n",
    "rebel_colors = rebels.select(cs.ends_with(\"_color\"))\n",
    "rebel_quotes = pl.Series(\n",
    "    \"quote\",\n",
    "    [\n",
    "        \"You know, sometimes I amaze myself.\",\n",
    "        \"That doesn't sound too hard.\",\n",
    "        \"I have a bad feeling about this.\",\n",
    "    ],\n",
    ")\n",
    "\n",
    "(rebel_names.hstack(rebel_colors).hstack([rebel_quotes]))"
   ]
  },
  {
   "cell_type": "markdown",
   "metadata": {},
   "source": [
    "### Adding Row Indices"
   ]
  },
  {
   "cell_type": "code",
   "execution_count": 36,
   "metadata": {},
   "outputs": [
    {
     "data": {
      "text/html": [
       "<div><style>\n",
       ".dataframe > thead > tr,\n",
       ".dataframe > tbody > tr {\n",
       "  text-align: right;\n",
       "  white-space: pre-wrap;\n",
       "}\n",
       "</style>\n",
       "<small>shape: (3, 16)</small><table border=\"1\" class=\"dataframe\"><thead><tr><th>rebel_id</th><th>name</th><th>height</th><th>mass</th><th>hair_color</th><th>skin_color</th><th>eye_color</th><th>birth_year</th><th>sex</th><th>gender</th><th>homeworld</th><th>species</th><th>vehicles</th><th>starships</th><th>birth_date</th><th>screen_time</th></tr><tr><td>u32</td><td>str</td><td>u16</td><td>f64</td><td>str</td><td>str</td><td>str</td><td>f64</td><td>cat</td><td>cat</td><td>str</td><td>str</td><td>list[str]</td><td>list[str]</td><td>date</td><td>duration[μs]</td></tr></thead><tbody><tr><td>1</td><td>&quot;Han Solo&quot;</td><td>180</td><td>80.0</td><td>&quot;brown&quot;</td><td>&quot;fair&quot;</td><td>&quot;brown&quot;</td><td>29.0</td><td>&quot;male&quot;</td><td>&quot;masculine&quot;</td><td>&quot;Corellia&quot;</td><td>&quot;Human&quot;</td><td>null</td><td>[&quot;Millennium Falcon&quot;, &quot;Imperial shuttle&quot;]</td><td>1948-06-01</td><td>1h 12m 37s</td></tr><tr><td>2</td><td>&quot;Leia Organa&quot;</td><td>150</td><td>49.0</td><td>&quot;brown&quot;</td><td>&quot;light&quot;</td><td>&quot;brown&quot;</td><td>19.0</td><td>&quot;female&quot;</td><td>&quot;feminine&quot;</td><td>&quot;Alderaan&quot;</td><td>&quot;Human&quot;</td><td>[&quot;Imperial Speeder Bike&quot;]</td><td>null</td><td>1958-05-30</td><td>1h 3m 40s</td></tr><tr><td>3</td><td>&quot;Luke Skywalker&quot;</td><td>172</td><td>77.0</td><td>&quot;blond&quot;</td><td>&quot;fair&quot;</td><td>&quot;blue&quot;</td><td>19.0</td><td>&quot;male&quot;</td><td>&quot;masculine&quot;</td><td>&quot;Tatooine&quot;</td><td>&quot;Human&quot;</td><td>[&quot;Snowspeeder&quot;, &quot;Imperial Speeder Bike&quot;]</td><td>[&quot;X-wing&quot;, &quot;Imperial shuttle&quot;]</td><td>1958-05-30</td><td>1h 58m 44s</td></tr></tbody></table></div>"
      ],
      "text/plain": [
       "shape: (3, 16)\n",
       "┌──────────┬─────────────┬────────┬──────┬───┬─────────────┬─────────────┬────────────┬────────────┐\n",
       "│ rebel_id ┆ name        ┆ height ┆ mass ┆ … ┆ vehicles    ┆ starships   ┆ birth_date ┆ screen_tim │\n",
       "│ ---      ┆ ---         ┆ ---    ┆ ---  ┆   ┆ ---         ┆ ---         ┆ ---        ┆ e          │\n",
       "│ u32      ┆ str         ┆ u16    ┆ f64  ┆   ┆ list[str]   ┆ list[str]   ┆ date       ┆ ---        │\n",
       "│          ┆             ┆        ┆      ┆   ┆             ┆             ┆            ┆ duration[μ │\n",
       "│          ┆             ┆        ┆      ┆   ┆             ┆             ┆            ┆ s]         │\n",
       "╞══════════╪═════════════╪════════╪══════╪═══╪═════════════╪═════════════╪════════════╪════════════╡\n",
       "│ 1        ┆ Han Solo    ┆ 180    ┆ 80.0 ┆ … ┆ null        ┆ [\"Millenniu ┆ 1948-06-01 ┆ 1h 12m 37s │\n",
       "│          ┆             ┆        ┆      ┆   ┆             ┆ m Falcon\",  ┆            ┆            │\n",
       "│          ┆             ┆        ┆      ┆   ┆             ┆ \"Imperia…   ┆            ┆            │\n",
       "│ 2        ┆ Leia Organa ┆ 150    ┆ 49.0 ┆ … ┆ [\"Imperial  ┆ null        ┆ 1958-05-30 ┆ 1h 3m 40s  │\n",
       "│          ┆             ┆        ┆      ┆   ┆ Speeder     ┆             ┆            ┆            │\n",
       "│          ┆             ┆        ┆      ┆   ┆ Bike\"]      ┆             ┆            ┆            │\n",
       "│ 3        ┆ Luke        ┆ 172    ┆ 77.0 ┆ … ┆ [\"Snowspeed ┆ [\"X-wing\",  ┆ 1958-05-30 ┆ 1h 58m 44s │\n",
       "│          ┆ Skywalker   ┆        ┆      ┆   ┆ er\",        ┆ \"Imperial   ┆            ┆            │\n",
       "│          ┆             ┆        ┆      ┆   ┆ \"Imperial   ┆ shuttle\"]   ┆            ┆            │\n",
       "│          ┆             ┆        ┆      ┆   ┆ Spee…       ┆             ┆            ┆            │\n",
       "└──────────┴─────────────┴────────┴──────┴───┴─────────────┴─────────────┴────────────┴────────────┘"
      ]
     },
     "execution_count": 36,
     "metadata": {},
     "output_type": "execute_result"
    }
   ],
   "source": [
    "rebels.with_row_index(name=\"rebel_id\", offset=1)"
   ]
  }
 ],
 "metadata": {
  "kernelspec": {
   "display_name": ".venv",
   "language": "python",
   "name": "python3"
  },
  "language_info": {
   "codemirror_mode": {
    "name": "ipython",
    "version": 3
   },
   "file_extension": ".py",
   "mimetype": "text/x-python",
   "name": "python",
   "nbconvert_exporter": "python",
   "pygments_lexer": "ipython3",
   "version": "3.12.3"
  }
 },
 "nbformat": 4,
 "nbformat_minor": 5
}
