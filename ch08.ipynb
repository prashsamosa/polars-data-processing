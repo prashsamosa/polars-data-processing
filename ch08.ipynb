{
 "cells": [
  {
   "cell_type": "markdown",
   "metadata": {},
   "source": [
    "# Chapter 8: Continuing Expressions"
   ]
  },
  {
   "cell_type": "code",
   "execution_count": null,
   "metadata": {},
   "outputs": [],
   "source": [
    "import polars as pl\n",
    "pl.__version__  # The book is built with Polars version 1.20.0"
   ]
  },
  {
   "cell_type": "code",
   "execution_count": null,
   "metadata": {},
   "outputs": [],
   "source": [
    "import math\n",
    "import numpy as np\n",
    "\n",
    "print(f\"{math.pi=}\")\n",
    "rng = np.random.default_rng(1729)\n",
    "print(f\"{rng.random()=}\")"
   ]
  },
  {
   "cell_type": "markdown",
   "metadata": {},
   "source": [
    "## Types of Operations"
   ]
  },
  {
   "cell_type": "markdown",
   "metadata": {},
   "source": [
    "### Example A: Element-Wise Operations"
   ]
  },
  {
   "cell_type": "code",
   "execution_count": null,
   "metadata": {},
   "outputs": [],
   "source": [
    "penguins = pl.read_csv(\"data/penguins.csv\", null_values=\"NA\").select(\n",
    "    \"species\",\n",
    "    \"island\",\n",
    "    \"sex\",\n",
    "    \"year\",\n",
    "    mass=pl.col(\"body_mass_g\") / 1000,\n",
    ")\n",
    "penguins.with_columns(\n",
    "    mass_sqrt=pl.col(\"mass\").sqrt(),  \n",
    "    mass_exp=pl.col(\"mass\").exp(),\n",
    ")"
   ]
  },
  {
   "cell_type": "markdown",
   "metadata": {},
   "source": [
    "### Example B: Operations That Summarize to One"
   ]
  },
  {
   "cell_type": "code",
   "execution_count": null,
   "metadata": {},
   "outputs": [],
   "source": [
    "penguins.select(pl.col(\"mass\").mean(), pl.col(\"island\").first())"
   ]
  },
  {
   "cell_type": "markdown",
   "metadata": {},
   "source": [
    "### Example C: Operations That Summarize to One or More"
   ]
  },
  {
   "cell_type": "code",
   "execution_count": null,
   "metadata": {},
   "outputs": [],
   "source": [
    "penguins.select(pl.col(\"island\").unique())"
   ]
  },
  {
   "cell_type": "markdown",
   "metadata": {},
   "source": [
    "### Example D: Operations That Extend"
   ]
  },
  {
   "cell_type": "code",
   "execution_count": null,
   "metadata": {},
   "outputs": [],
   "source": [
    "penguins.select(\n",
    "    pl.col(\"species\")\n",
    "    .unique()  \n",
    "    .repeat_by(3000)  \n",
    "    .explode()  \n",
    "    .extend_constant(\"Saiyan\", n=1)  \n",
    ")"
   ]
  },
  {
   "cell_type": "markdown",
   "metadata": {},
   "source": [
    "## Element-Wise Operations"
   ]
  },
  {
   "cell_type": "markdown",
   "metadata": {},
   "source": [
    "### Operations That Perform Mathematical Transformations"
   ]
  },
  {
   "cell_type": "code",
   "execution_count": null,
   "metadata": {},
   "outputs": [],
   "source": [
    "(\n",
    "    pl.DataFrame({\"x\": [-2.0, 0.0, 0.5, 1.0, math.e, 1000.0]}).with_columns(\n",
    "        abs=pl.col(\"x\").abs(),\n",
    "        exp=pl.col(\"x\").exp(),\n",
    "        log2=pl.col(\"x\").log(2),  \n",
    "        log10=pl.col(\"x\").log10(),\n",
    "        log1p=pl.col(\"x\").log1p(),\n",
    "        sign=pl.col(\"x\").sign(),\n",
    "        sqrt=pl.col(\"x\").sqrt(),\n",
    "    )\n",
    ")"
   ]
  },
  {
   "cell_type": "markdown",
   "metadata": {},
   "source": [
    "### Operations Related to Trigonometry"
   ]
  },
  {
   "cell_type": "code",
   "execution_count": null,
   "metadata": {},
   "outputs": [],
   "source": [
    "(\n",
    "    pl.DataFrame(\n",
    "        {\"x\": [-math.pi, 0.0, 1.0, math.pi, 2 * math.pi, 90.0, 180.0, 360.0]}\n",
    "    ).with_columns(\n",
    "        arccos=pl.col(\"x\").arccos(),  \n",
    "        cos=pl.col(\"x\").cos(),\n",
    "        degrees=pl.col(\"x\").degrees(),\n",
    "        radians=pl.col(\"x\").radians(),\n",
    "        sin=pl.col(\"x\").sin(),\n",
    "    )\n",
    ")"
   ]
  },
  {
   "cell_type": "markdown",
   "metadata": {},
   "source": [
    "### Operations That Round and Categorize"
   ]
  },
  {
   "cell_type": "code",
   "execution_count": null,
   "metadata": {},
   "outputs": [],
   "source": [
    "(\n",
    "    pl.DataFrame(\n",
    "        {\"x\": [-6.0, -0.5, 0.0, 0.5, math.pi, 9.9, 9.99, 9.999]}\n",
    "    ).with_columns(\n",
    "        ceil=pl.col(\"x\").ceil(),\n",
    "        clip=pl.col(\"x\").clip(-1, 1),\n",
    "        cut=pl.col(\"x\").cut([-1, 1], labels=[\"bad\", \"neutral\", \"good\"]),  \n",
    "        floor=pl.col(\"x\").floor(),\n",
    "        qcut=pl.col(\"x\").qcut([0.5], labels=[\"below median\", \"above median\"]),\n",
    "        round2=pl.col(\"x\").round(2),\n",
    "        round0=pl.col(\"x\").round(0),  \n",
    "    )\n",
    ")"
   ]
  },
  {
   "cell_type": "markdown",
   "metadata": {},
   "source": [
    "### Operations for Missing or Infinite Values"
   ]
  },
  {
   "cell_type": "code",
   "execution_count": null,
   "metadata": {},
   "outputs": [],
   "source": [
    "x = [42.0, math.nan, None, math.inf, -math.inf]\n",
    "(\n",
    "    pl.DataFrame({\"x\": x}).with_columns(\n",
    "        fill_nan=pl.col(\"x\").fill_nan(999),\n",
    "        fill_null=pl.col(\"x\").fill_null(0),  \n",
    "        is_finite=pl.col(\"x\").is_finite(),\n",
    "        is_infinite=pl.col(\"x\").is_infinite(),\n",
    "        is_nan=pl.col(\"x\").is_nan(),\n",
    "        is_null=pl.col(\"x\").is_null(),\n",
    "    )\n",
    ")"
   ]
  },
  {
   "cell_type": "code",
   "execution_count": null,
   "metadata": {},
   "outputs": [],
   "source": [
    "(\n",
    "    pl.DataFrame({\"x\": x}).with_columns(\n",
    "        fill_both=pl.col(\"x\").fill_nan(0).fill_null(0),\n",
    "        is_either=(pl.col(\"x\").is_nan() | pl.col(\"x\").is_null()),\n",
    "    )\n",
    ")"
   ]
  },
  {
   "cell_type": "markdown",
   "metadata": {},
   "source": [
    "### Other Operations"
   ]
  },
  {
   "cell_type": "code",
   "execution_count": null,
   "metadata": {},
   "outputs": [],
   "source": [
    "(\n",
    "    pl.DataFrame({\"x\": [\"here\", \"there\", \"their\", \"they're\"]}).with_columns(\n",
    "        hash=pl.col(\"x\").hash(seed=1337),  \n",
    "        repeat_by=pl.col(\"x\").repeat_by(3),\n",
    "        replace=pl.col(\"x\").replace(\n",
    "            {\n",
    "                \"here\": \"there\",\n",
    "                \"they're\": \"they are\",\n",
    "            }\n",
    "        ),\n",
    "    )\n",
    ")"
   ]
  },
  {
   "cell_type": "markdown",
   "metadata": {},
   "source": [
    "## Nonreducing Series-Wise Operations"
   ]
  },
  {
   "cell_type": "markdown",
   "metadata": {},
   "source": [
    "### Operations That Accumulate"
   ]
  },
  {
   "cell_type": "code",
   "execution_count": null,
   "metadata": {},
   "outputs": [],
   "source": [
    "(\n",
    "    pl.DataFrame(\n",
    "        {\"x\": [0.0, 1.0, 2.0, None, 2.0, np.nan, -1.0, 2.0]}\n",
    "    ).with_columns(\n",
    "        cum_count=pl.col(\"x\").cum_count(),  \n",
    "        cum_max=pl.col(\"x\").cum_max(),\n",
    "        cum_min=pl.col(\"x\").cum_min(),\n",
    "        cum_prod=pl.col(\"x\").cum_prod(reverse=True),  \n",
    "        cum_sum=pl.col(\"x\").cum_sum(),\n",
    "        diff=pl.col(\"x\").diff(),\n",
    "        pct_change=pl.col(\"x\").pct_change(),\n",
    "    )\n",
    ")"
   ]
  },
  {
   "cell_type": "markdown",
   "metadata": {},
   "source": [
    "### Operations That Fill and Shift"
   ]
  },
  {
   "cell_type": "code",
   "execution_count": null,
   "metadata": {},
   "outputs": [],
   "source": [
    "(\n",
    "    pl.DataFrame(\n",
    "        {\"x\": [-1.0, 0.0, 1.0, None, None, 3.0, 4.0, math.nan, 6.0]}\n",
    "    ).with_columns(\n",
    "        backward_fill=pl.col(\"x\").backward_fill(),  \n",
    "        forward_fill=pl.col(\"x\").forward_fill(limit=1),\n",
    "        interp1=pl.col(\"x\").interpolate(method=\"linear\"),  \n",
    "        interp2=pl.col(\"x\").interpolate(method=\"nearest\"),\n",
    "        shift1=pl.col(\"x\").shift(1),\n",
    "        shift2=pl.col(\"x\").shift(-2),\n",
    "    )\n",
    ")"
   ]
  },
  {
   "cell_type": "markdown",
   "metadata": {},
   "source": [
    "### Operations Related to Duplicate Values"
   ]
  },
  {
   "cell_type": "code",
   "execution_count": null,
   "metadata": {},
   "outputs": [],
   "source": [
    "(\n",
    "    pl.DataFrame({\"x\": [\"A\", \"C\", \"D\", \"C\"]}).with_columns(  \n",
    "        is_duplicated=pl.col(\"x\").is_duplicated(),\n",
    "        is_first_distinct=pl.col(\"x\").is_first_distinct(),\n",
    "        is_last_distinct=pl.col(\"x\").is_last_distinct(),\n",
    "        is_unique=pl.col(\"x\").is_unique(),\n",
    "    )\n",
    ")"
   ]
  },
  {
   "cell_type": "markdown",
   "metadata": {},
   "source": [
    "### Operations That Compute Rolling Statistics"
   ]
  },
  {
   "cell_type": "code",
   "execution_count": null,
   "metadata": {},
   "outputs": [],
   "source": [
    "stock = (\n",
    "    pl.read_csv(\"data/stock/nvda/2023.csv\", try_parse_dates=True)\n",
    "    .select(\"date\", \"close\")\n",
    "    .with_columns(\n",
    "        ewm_mean=pl.col(\"close\").ewm_mean(com=7, ignore_nulls=True),  \n",
    "        rolling_mean=pl.col(\"close\").rolling_mean(window_size=7),\n",
    "        rolling_min=pl.col(\"close\").rolling_min(window_size=7),\n",
    "    )\n",
    ")\n",
    "\n",
    "stock"
   ]
  },
  {
   "cell_type": "code",
   "execution_count": null,
   "metadata": {},
   "outputs": [],
   "source": [
    "from plotnine import *\n",
    "\n",
    "(\n",
    "    ggplot(stock.unpivot(index=\"date\"), aes(\"date\", \"value\", color=\"variable\"))\n",
    "    + geom_line(size=1)\n",
    "    + labs(x=\"Date\", y=\"Value\", color=\"Method\")\n",
    "    + theme_tufte(base_size=14)\n",
    "    + theme(figure_size=(8, 5), dpi=200)\n",
    ")"
   ]
  },
  {
   "cell_type": "markdown",
   "metadata": {},
   "source": [
    "### Operations That Sort"
   ]
  },
  {
   "cell_type": "code",
   "execution_count": null,
   "metadata": {},
   "outputs": [],
   "source": [
    "(\n",
    "    pl.DataFrame(\n",
    "        {\n",
    "            \"x\": [1, 3, None, 3, 7],\n",
    "            \"y\": [\"D\", \"I\", \"S\", \"C\", \"O\"],\n",
    "        }\n",
    "    ).with_columns(\n",
    "        arg_sort=pl.col(\"x\").arg_sort(),\n",
    "        shuffle=pl.col(\"x\").shuffle(seed=7),\n",
    "        sort=pl.col(\"x\").sort(nulls_last=True),\n",
    "        sort_by=pl.col(\"x\").sort_by(\"y\"),\n",
    "        reverse=pl.col(\"x\").reverse(),\n",
    "        rank=pl.col(\"x\").rank(),\n",
    "    )\n",
    ")"
   ]
  },
  {
   "cell_type": "markdown",
   "metadata": {},
   "source": [
    "### Other Operations"
   ]
  },
  {
   "cell_type": "code",
   "execution_count": null,
   "metadata": {},
   "outputs": [],
   "source": [
    "(\n",
    "    pl.DataFrame({\"x\": [33, 33, 27, 33, 60, 60, 60, 33, 60]}).with_columns(\n",
    "        rle_id=pl.col(\"x\").rle_id(),\n",
    "    )\n",
    ")"
   ]
  },
  {
   "cell_type": "markdown",
   "metadata": {},
   "source": [
    "## Series-Wise Operations That Summarize to One"
   ]
  },
  {
   "cell_type": "code",
   "execution_count": null,
   "metadata": {},
   "outputs": [],
   "source": [
    "(\n",
    "    pl.DataFrame({\"x\": [1, 3, 3, 7]}).with_columns(\n",
    "        mean=pl.col(\"x\").mean(),\n",
    "    )\n",
    ")"
   ]
  },
  {
   "cell_type": "code",
   "execution_count": null,
   "metadata": {},
   "outputs": [],
   "source": [
    "(\n",
    "    pl.DataFrame({\"cluster\": [\"a\", \"a\", \"b\", \"b\"], \"x\": [1, 3, 3, 7]})\n",
    "    .group_by(\"cluster\")\n",
    "    .agg(\n",
    "        mean=pl.col(\"x\").mean(),\n",
    "    )\n",
    ")"
   ]
  },
  {
   "cell_type": "markdown",
   "metadata": {},
   "source": [
    "### Operations That Are Quantifiers"
   ]
  },
  {
   "cell_type": "code",
   "execution_count": null,
   "metadata": {},
   "outputs": [],
   "source": [
    "df = pl.DataFrame(\n",
    "    {\n",
    "        \"x\": [True, False, False],\n",
    "        \"y\": [True, True, True],\n",
    "        \"z\": [False, False, False],\n",
    "    }\n",
    ")\n",
    "print(df)\n",
    "print(\n",
    "    df.select(\n",
    "        pl.all().all().name.suffix(\"_all\"),\n",
    "        pl.all().any().name.suffix(\"_any\"),\n",
    "    ),\n",
    ")"
   ]
  },
  {
   "cell_type": "markdown",
   "metadata": {},
   "source": [
    "### Operations That Compute Statistics"
   ]
  },
  {
   "cell_type": "code",
   "execution_count": null,
   "metadata": {},
   "outputs": [],
   "source": [
    "samples = rng.normal(loc=5, scale=3, size=1_000_000)\n",
    "\n",
    "(\n",
    "    pl.DataFrame({\"x\": samples}).select(\n",
    "        max=pl.col(\"x\").max(),\n",
    "        mean=pl.col(\"x\").mean(),\n",
    "        quantile=pl.col(\"x\").quantile(quantile=0.95),\n",
    "        skew=pl.col(\"x\").skew(),\n",
    "        std=pl.col(\"x\").std(),\n",
    "        sum=pl.col(\"x\").sum(),\n",
    "        var=pl.col(\"x\").var(),\n",
    "    )\n",
    ")"
   ]
  },
  {
   "cell_type": "markdown",
   "metadata": {},
   "source": [
    "### Operations That Count"
   ]
  },
  {
   "cell_type": "code",
   "execution_count": null,
   "metadata": {},
   "outputs": [],
   "source": [
    "samples = pl.Series(rng.integers(low=0, high=10_000, size=1_729))\n",
    "samples[403] = None  \n",
    "df_ints = pl.DataFrame({\"x\": samples}).with_row_index()  \n",
    "df_ints.slice(400, 6)  "
   ]
  },
  {
   "cell_type": "code",
   "execution_count": null,
   "metadata": {},
   "outputs": [],
   "source": [
    "df_ints.select(\n",
    "    approx_n_unique=pl.col(\"x\").approx_n_unique(),\n",
    "    count=pl.col(\"x\").count(),\n",
    "    len=pl.col(\"x\").len(),\n",
    "    n_unique=pl.col(\"x\").n_unique(),\n",
    "    null_count=pl.col(\"x\").null_count(),\n",
    ")"
   ]
  },
  {
   "cell_type": "code",
   "execution_count": null,
   "metadata": {},
   "outputs": [],
   "source": [
    "large_df_ints = pl.DataFrame(\n",
    "    {\"x\": rng.integers(low=0, high=10_000, size=10_000_000)}\n",
    ")"
   ]
  },
  {
   "cell_type": "code",
   "execution_count": null,
   "metadata": {},
   "outputs": [],
   "source": [
    "%%time\n",
    "large_df_ints.select(pl.col(\"x\").n_unique())"
   ]
  },
  {
   "cell_type": "code",
   "execution_count": null,
   "metadata": {},
   "outputs": [],
   "source": [
    "%%time\n",
    "large_df_ints.select(pl.col(\"x\").approx_n_unique())"
   ]
  },
  {
   "cell_type": "markdown",
   "metadata": {},
   "source": [
    "### Other Operations"
   ]
  },
  {
   "cell_type": "code",
   "execution_count": null,
   "metadata": {},
   "outputs": [],
   "source": [
    "df_ints.select(\n",
    "    arg_min=pl.col(\"x\").arg_min(),\n",
    "    first=pl.col(\"x\").first(),\n",
    "    get=pl.col(\"x\").get(403),  \n",
    "    implode=pl.col(\"x\").implode(),\n",
    "    last=pl.col(\"x\").last(),\n",
    "    upper_bound=pl.col(\"x\").upper_bound(),\n",
    ")"
   ]
  },
  {
   "cell_type": "markdown",
   "metadata": {},
   "source": [
    "## Series-Wise Operations That Summarize to One or More"
   ]
  },
  {
   "cell_type": "markdown",
   "metadata": {},
   "source": [
    "### Operations Related to Unique Values"
   ]
  },
  {
   "cell_type": "code",
   "execution_count": null,
   "metadata": {},
   "outputs": [],
   "source": [
    "(\n",
    "    pl.DataFrame({\"x\": [\"A\", \"C\", \"D\", \"C\"]}).select(\n",
    "        arg_unique=pl.col(\"x\").arg_unique(),\n",
    "        unique=pl.col(\"x\").unique(maintain_order=True),  \n",
    "        unique_counts=pl.col(\"x\").unique_counts(),\n",
    "        value_counts=pl.col(\"x\").value_counts(sort=True),  \n",
    "    )\n",
    ")"
   ]
  },
  {
   "cell_type": "markdown",
   "metadata": {},
   "source": [
    "### Operations That Select"
   ]
  },
  {
   "cell_type": "code",
   "execution_count": null,
   "metadata": {},
   "outputs": [],
   "source": [
    "df_ints.select(\n",
    "    bottom_k=pl.col(\"x\").bottom_k(7),  \n",
    "    head=pl.col(\"x\").head(7),\n",
    "    sample=pl.col(\"x\").sample(7),\n",
    "    slice=pl.col(\"x\").slice(400, 7),\n",
    "    gather=pl.col(\"x\").gather([1, 1, 2, 3, 5, 8, 13]),\n",
    "    gather_every=pl.col(\"x\").gather_every(247),  \n",
    "    top_k=pl.col(\"x\").top_k(7),\n",
    ")"
   ]
  },
  {
   "cell_type": "markdown",
   "metadata": {},
   "source": [
    "### Operations That Drop Missing Values"
   ]
  },
  {
   "cell_type": "code",
   "execution_count": null,
   "metadata": {},
   "outputs": [],
   "source": [
    "x = [None, 1.0, 2.0, 3.0, np.nan]\n",
    "(\n",
    "    pl.DataFrame({\"x\": x}).select(\n",
    "        drop_nans=pl.col(\"x\").drop_nans(), drop_nulls=pl.col(\"x\").drop_nulls()\n",
    "    )\n",
    ")"
   ]
  },
  {
   "cell_type": "markdown",
   "metadata": {},
   "source": [
    "### Other Operations"
   ]
  },
  {
   "cell_type": "code",
   "execution_count": null,
   "metadata": {},
   "outputs": [],
   "source": [
    "numbers = [33, 33, 27, 33, 60, 60, 60, 33, 60]\n",
    "\n",
    "(\n",
    "    pl.DataFrame({\"x\": numbers}).select(\n",
    "        arg_true=(pl.col(\"x\") >= 60).arg_true(),  \n",
    "    )\n",
    ")"
   ]
  },
  {
   "cell_type": "code",
   "execution_count": null,
   "metadata": {},
   "outputs": [],
   "source": [
    "(\n",
    "    pl.DataFrame({\"x\": numbers}).select(\n",
    "        mode=pl.col(\"x\").mode().sort(),\n",
    "    )\n",
    ")"
   ]
  },
  {
   "cell_type": "code",
   "execution_count": null,
   "metadata": {},
   "outputs": [],
   "source": [
    "(\n",
    "    pl.DataFrame({\"x\": numbers}).select(\n",
    "        reshape=pl.col(\"x\").reshape((3, 3)),  \n",
    "    )\n",
    ")"
   ]
  },
  {
   "cell_type": "code",
   "execution_count": null,
   "metadata": {},
   "outputs": [],
   "source": [
    "(\n",
    "    pl.DataFrame({\"x\": numbers}).select(\n",
    "        rle=pl.col(\"x\").rle(),  \n",
    "    )\n",
    ")"
   ]
  },
  {
   "cell_type": "code",
   "execution_count": null,
   "metadata": {},
   "outputs": [],
   "source": [
    "(\n",
    "    pl.DataFrame({\"x\": numbers}).select(\n",
    "        rle=pl.col(\"x\").sort().search_sorted(42),  \n",
    "    )\n",
    ")"
   ]
  },
  {
   "cell_type": "markdown",
   "metadata": {},
   "source": [
    "## Series-Wise Operations That Extend"
   ]
  },
  {
   "cell_type": "code",
   "execution_count": null,
   "metadata": {},
   "outputs": [],
   "source": [
    "(\n",
    "    pl.DataFrame(\n",
    "        {\n",
    "            \"x\": [[\"a\", \"b\"], [\"c\", \"d\"]],\n",
    "        }\n",
    "    ).select(explode=pl.col(\"x\").explode())\n",
    ")"
   ]
  },
  {
   "cell_type": "markdown",
   "metadata": {},
   "source": [
    "## Takeaways"
   ]
  }
 ],
 "metadata": {},
 "nbformat": 4,
 "nbformat_minor": 5
}
