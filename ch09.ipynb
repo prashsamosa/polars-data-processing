{
 "cells": [
  {
   "cell_type": "markdown",
   "metadata": {},
   "source": [
    "# Chapter 9: Combining Expressions"
   ]
  },
  {
   "cell_type": "code",
   "execution_count": null,
   "metadata": {},
   "outputs": [],
   "source": [
    "import polars as pl\n",
    "pl.__version__  # The book is built with Polars version 1.20.0"
   ]
  },
  {
   "cell_type": "code",
   "execution_count": null,
   "metadata": {},
   "outputs": [],
   "source": [
    "fruit = pl.read_csv(\"data/fruit.csv\")\n",
    "fruit.filter(pl.col(\"is_round\") & (pl.col(\"weight\") > 1000))"
   ]
  },
  {
   "cell_type": "markdown",
   "metadata": {},
   "source": [
    "## Inline Operators Versus Methods"
   ]
  },
  {
   "cell_type": "code",
   "execution_count": null,
   "metadata": {},
   "outputs": [],
   "source": [
    "(\n",
    "    pl.DataFrame({\"i\": [6.0, 0, 2, 2.5], \"j\": [7.0, 1, 2, 3]}).with_columns(\n",
    "        (pl.col(\"i\") * pl.col(\"j\")).alias(\"*\"),\n",
    "        pl.col(\"i\").mul(pl.col(\"j\")).alias(\"Expr.mul()\"),\n",
    "    )\n",
    ")"
   ]
  },
  {
   "cell_type": "markdown",
   "metadata": {},
   "source": [
    "## Arithmetic Operations"
   ]
  },
  {
   "cell_type": "code",
   "execution_count": null,
   "metadata": {},
   "outputs": [],
   "source": [
    "fruit.select(pl.col(\"name\"), (pl.col(\"weight\") / 1000))"
   ]
  },
  {
   "cell_type": "code",
   "execution_count": null,
   "metadata": {},
   "outputs": [],
   "source": [
    "pl.Config(float_precision=2, tbl_cell_numeric_alignment=\"RIGHT\")  \n",
    "\n",
    "(\n",
    "    pl.DataFrame({\"i\": [0.0, 2, 2, -2, -2], \"j\": [1, 2, 3, 4, -5]}).with_columns(\n",
    "        (pl.col(\"i\") + pl.col(\"j\")).alias(\"i + j\"),\n",
    "        (pl.col(\"i\") - pl.col(\"j\")).alias(\"i - j\"),\n",
    "        (pl.col(\"i\") * pl.col(\"j\")).alias(\"i * j\"),\n",
    "        (pl.col(\"i\") / pl.col(\"j\")).alias(\"i / j\"),\n",
    "        (pl.col(\"i\") // pl.col(\"j\")).alias(\"i // j\"),\n",
    "        (pl.col(\"i\") ** pl.col(\"j\")).alias(\"i ** j\"),\n",
    "        (pl.col(\"j\") % 2).alias(\"j % 2\"),  \n",
    "        pl.col(\"i\").dot(pl.col(\"j\")).alias(\"i ⋅ j\"),  \n",
    "    )\n",
    ")"
   ]
  },
  {
   "cell_type": "code",
   "execution_count": null,
   "metadata": {},
   "outputs": [],
   "source": [
    "pl.Config.set_float_precision()\n",
    "pl.Config.set_tbl_cell_numeric_alignment(None)"
   ]
  },
  {
   "cell_type": "markdown",
   "metadata": {},
   "source": [
    "## Comparison Operations"
   ]
  },
  {
   "cell_type": "code",
   "execution_count": null,
   "metadata": {},
   "outputs": [],
   "source": [
    "pl.select(pl.lit(\"a\") > pl.lit(\"b\"))"
   ]
  },
  {
   "cell_type": "code",
   "execution_count": null,
   "metadata": {},
   "outputs": [],
   "source": [
    "(\n",
    "    fruit.select(\n",
    "        pl.col(\"name\"),\n",
    "        pl.col(\"weight\"),\n",
    "    ).filter(pl.col(\"weight\") >= 1000)\n",
    ")"
   ]
  },
  {
   "cell_type": "code",
   "execution_count": null,
   "metadata": {},
   "outputs": [],
   "source": [
    "x = 4\n",
    "3 < x < 5"
   ]
  },
  {
   "cell_type": "code",
   "execution_count": null,
   "metadata": {},
   "outputs": [],
   "source": [
    "# This raises a TypeError:\n",
    "# pl.select(pl.lit(3) < pl.lit(x) < pl.lit(5))"
   ]
  },
  {
   "cell_type": "code",
   "execution_count": null,
   "metadata": {},
   "outputs": [],
   "source": [
    "pl.select((pl.lit(3) < pl.lit(x)) & (pl.lit(x) < pl.lit(5))).item()"
   ]
  },
  {
   "cell_type": "code",
   "execution_count": null,
   "metadata": {},
   "outputs": [],
   "source": [
    "pl.select(pl.lit(x).is_between(3, 5)).item()"
   ]
  },
  {
   "cell_type": "code",
   "execution_count": null,
   "metadata": {},
   "outputs": [],
   "source": [
    "(\n",
    "    pl.DataFrame(\n",
    "        {\"a\": [-273.15, 0, 42, 100], \"b\": [1.4142, 2.7183, 42, 3.1415]}\n",
    "    ).with_columns(\n",
    "        (pl.col(\"a\") == pl.col(\"b\")).alias(\"a == b\"),\n",
    "        (pl.col(\"a\") <= pl.col(\"b\")).alias(\"a <= b\"),\n",
    "        (pl.all() > 0).name.suffix(\" > 0\"),\n",
    "        ((pl.col(\"b\") - pl.lit(2).sqrt()).abs() < 1e-3).alias(\"b ≈ √2\"),  \n",
    "        ((1 < pl.col(\"b\")) & (pl.col(\"b\") < 3)).alias(\"1 < b < 3\"),\n",
    "    )\n",
    ")"
   ]
  },
  {
   "cell_type": "code",
   "execution_count": null,
   "metadata": {},
   "outputs": [],
   "source": [
    "pl.select(\n",
    "    bool_num=pl.lit(True) > 0,\n",
    "    time_time=pl.time(23, 58) > pl.time(0, 0),\n",
    "    datetime_date=pl.datetime(1969, 7, 21, 2, 56) < pl.date(1976, 7, 20),\n",
    "    str_num=pl.lit(\"5\") < pl.lit(3).cast(pl.String),  \n",
    "    datetime_time=pl.datetime(1999, 1, 1).dt.time() != pl.time(0, 0),  \n",
    ").transpose(  \n",
    "    include_header=True, header_name=\"comparison\", column_names=[\"allowed\"]\n",
    ")"
   ]
  },
  {
   "cell_type": "markdown",
   "metadata": {},
   "source": [
    "## Boolean Algebra Operations"
   ]
  },
  {
   "cell_type": "code",
   "execution_count": null,
   "metadata": {},
   "outputs": [],
   "source": [
    "x = 7\n",
    "p = pl.lit(3) < pl.lit(x)  # True\n",
    "q = pl.lit(x) < pl.lit(5)  # False\n",
    "pl.select(p & q).item()"
   ]
  },
  {
   "cell_type": "code",
   "execution_count": null,
   "metadata": {},
   "outputs": [],
   "source": [
    "(\n",
    "    pl.DataFrame(\n",
    "        {\"p\": [True, True, False, False], \"q\": [True, False, True, False]}\n",
    "    ).with_columns(\n",
    "        (pl.col(\"p\") & pl.col(\"q\")).alias(\"p & q\"),\n",
    "        (pl.col(\"p\") | pl.col(\"q\")).alias(\"p | q\"),\n",
    "        (~pl.col(\"p\")).alias(\"~p\"),\n",
    "        (pl.col(\"p\") ^ pl.col(\"q\")).alias(\"p ^ q\"),\n",
    "        (~(pl.col(\"p\") & pl.col(\"q\"))).alias(\"p ↑ q\"),  \n",
    "        ((pl.col(\"p\").or_(pl.col(\"q\"))).not_()).alias(\"p ↓ q\"),  \n",
    "    )\n",
    ")"
   ]
  },
  {
   "cell_type": "markdown",
   "metadata": {},
   "source": [
    "## Bitwise Operations"
   ]
  },
  {
   "cell_type": "code",
   "execution_count": null,
   "metadata": {},
   "outputs": [],
   "source": [
    "pl.select(pl.lit(10) | pl.lit(34)).item()"
   ]
  },
  {
   "cell_type": "code",
   "execution_count": null,
   "metadata": {},
   "outputs": [],
   "source": [
    "bits = pl.DataFrame(\n",
    "    {\"x\": [1, 1, 0, 0, 7, 10], \"y\": [1, 0, 1, 0, 2, 34]},\n",
    "    schema={\"x\": pl.UInt8, \"y\": pl.UInt8},\n",
    ").with_columns(  \n",
    "    (pl.col(\"x\") & pl.col(\"y\")).alias(\"x & y\"),\n",
    "    (pl.col(\"x\") | pl.col(\"y\")).alias(\"x | y\"),\n",
    "    (~pl.col(\"x\")).alias(\"~x\"),\n",
    "    (pl.col(\"x\") ^ pl.col(\"y\")).alias(\"x ^ y\"),\n",
    ")\n",
    "bits"
   ]
  },
  {
   "cell_type": "code",
   "execution_count": null,
   "metadata": {},
   "outputs": [],
   "source": [
    "bits.select(pl.all().map_elements(\"{0:08b}\".format, return_dtype=pl.String))"
   ]
  },
  {
   "cell_type": "markdown",
   "metadata": {},
   "source": [
    "## Using Functions"
   ]
  },
  {
   "cell_type": "code",
   "execution_count": null,
   "metadata": {},
   "outputs": [],
   "source": [
    "scientists = pl.DataFrame(\n",
    "    {\n",
    "        \"first_name\": [\"George\", \"Grace\", \"John\", \"Kurt\", \"Ada\"],\n",
    "        \"last_name\": [\"Boole\", \"Hopper\", \"Tukey\", \"Gödel\", \"Lovelace\"],\n",
    "        \"country\": [\n",
    "            \"England\",\n",
    "            \"United States\",\n",
    "            \"United States\",\n",
    "            \"Austria-Hungary\",\n",
    "            \"England\",\n",
    "        ],\n",
    "    }\n",
    ")\n",
    "scientists"
   ]
  },
  {
   "cell_type": "code",
   "execution_count": null,
   "metadata": {},
   "outputs": [],
   "source": [
    "scientists.select(\n",
    "    concat_list=pl.concat_list(pl.col(\"^*_name$\")),\n",
    "    struct=pl.struct(pl.all()),\n",
    ")"
   ]
  },
  {
   "cell_type": "code",
   "execution_count": null,
   "metadata": {},
   "outputs": [],
   "source": [
    "scientists.select(\n",
    "    concat_str=pl.concat_str(pl.all(), separator=\" \"),\n",
    "    format=pl.format(\"{}, {} from {}\", \"last_name\", \"first_name\", \"country\"),\n",
    ")"
   ]
  },
  {
   "cell_type": "code",
   "execution_count": null,
   "metadata": {},
   "outputs": [],
   "source": [
    "prefs = pl.DataFrame(\n",
    "    {\n",
    "        \"id\": [1, 7, 42, 101, 999],\n",
    "        \"has_pet\": [True, False, True, False, True],\n",
    "        \"likes_travel\": [False, False, False, False, True],\n",
    "        \"likes_movies\": [True, False, True, False, True],\n",
    "        \"likes_books\": [False, False, True, True, True],\n",
    "    }\n",
    ").with_columns(\n",
    "    all=pl.all_horizontal(pl.exclude(\"id\")),\n",
    "    any=pl.any_horizontal(pl.exclude(\"id\")),\n",
    ")\n",
    "\n",
    "prefs"
   ]
  },
  {
   "cell_type": "code",
   "execution_count": null,
   "metadata": {},
   "outputs": [],
   "source": [
    "prefs.select(\n",
    "    sum=pl.sum_horizontal(pl.all()),\n",
    "    max=pl.max_horizontal(pl.all()),\n",
    "    min=pl.min_horizontal(pl.all()),\n",
    ")"
   ]
  },
  {
   "cell_type": "markdown",
   "metadata": {},
   "source": [
    "### When, Then, Otherwise"
   ]
  },
  {
   "cell_type": "code",
   "execution_count": null,
   "metadata": {},
   "outputs": [],
   "source": [
    "prefs.select(\n",
    "    pl.col(\"id\"),\n",
    "    likes_what=pl.when(pl.all_horizontal(pl.col(\"^likes_.*$\")))\n",
    "    .then(pl.lit(\"Likes everything\"))\n",
    "    .when(pl.any_horizontal(pl.col(\"^likes_.*$\")))\n",
    "    .then(pl.lit(\"Likes something\"))\n",
    "    .otherwise(pl.lit(\"Likes nothing\")),\n",
    ")"
   ]
  },
  {
   "cell_type": "code",
   "execution_count": null,
   "metadata": {},
   "outputs": [],
   "source": [
    "orders = pl.DataFrame(\n",
    "    {\n",
    "        \"order_amount\": [500, 750, 1200, 800, 1100],\n",
    "        \"status\": [\n",
    "            \"Approved\",\n",
    "            \"Processing\",\n",
    "            \"Processing\",\n",
    "            \"Declined\",\n",
    "            \"Processing\",\n",
    "        ],\n",
    "    }\n",
    ")\n",
    "orders.with_columns(\n",
    "    status=pl.when(pl.col(\"order_amount\") > 1000).then(pl.lit(\"Flagged\"))\n",
    ")"
   ]
  },
  {
   "cell_type": "code",
   "execution_count": null,
   "metadata": {},
   "outputs": [],
   "source": [
    "orders.with_columns(\n",
    "    status=pl.when(pl.col(\"order_amount\") > 1000)\n",
    "    .then(pl.lit(\"Flagged\"))\n",
    "    .otherwise(pl.col(\"status\"))\n",
    ")"
   ]
  },
  {
   "cell_type": "markdown",
   "metadata": {},
   "source": [
    "## Takeaways"
   ]
  }
 ],
 "metadata": {},
 "nbformat": 4,
 "nbformat_minor": 5
}
