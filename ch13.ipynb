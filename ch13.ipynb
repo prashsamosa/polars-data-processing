{
 "cells": [
  {
   "cell_type": "markdown",
   "metadata": {},
   "source": [
    "# Chapter 13: Summarizing and Aggregating"
   ]
  },
  {
   "cell_type": "code",
   "execution_count": null,
   "metadata": {},
   "outputs": [],
   "source": [
    "import polars as pl\n",
    "pl.__version__  # The book is built with Polars version 1.20.0"
   ]
  },
  {
   "cell_type": "markdown",
   "metadata": {},
   "source": [
    "## Split, Apply, and Combine"
   ]
  },
  {
   "cell_type": "markdown",
   "metadata": {},
   "source": [
    "## GroupBy Context"
   ]
  },
  {
   "cell_type": "code",
   "execution_count": null,
   "metadata": {},
   "outputs": [],
   "source": [
    "fruit = pl.read_csv(\"data/fruit.csv\")\n",
    "fruit_grouped = fruit.group_by(\"is_round\")\n",
    "fruit_grouped"
   ]
  },
  {
   "cell_type": "code",
   "execution_count": null,
   "metadata": {},
   "outputs": [],
   "source": [
    "fruit_grouped.len()"
   ]
  },
  {
   "cell_type": "code",
   "execution_count": null,
   "metadata": {},
   "outputs": [],
   "source": [
    "top2000 = pl.read_excel(\n",
    "    \"data/top2000-2023.xlsx\", read_options={\"skip_rows\": 1}\n",
    ").set_sorted(\"positie\")"
   ]
  },
  {
   "cell_type": "code",
   "execution_count": null,
   "metadata": {},
   "outputs": [],
   "source": [
    "(\n",
    "    top2000.group_by(\"jaar\")\n",
    "    .agg(  \n",
    "        songs=pl.concat_str(\n",
    "            pl.col(\"artiest\"), pl.lit(\" - \"), pl.col(\"titel\")\n",
    "        ),  \n",
    "    )\n",
    "    .sort(\"jaar\", descending=True)\n",
    ")"
   ]
  },
  {
   "cell_type": "markdown",
   "metadata": {},
   "source": [
    "### The Descriptives"
   ]
  },
  {
   "cell_type": "code",
   "execution_count": null,
   "metadata": {},
   "outputs": [],
   "source": [
    "(\n",
    "    top2000.group_by(\"jaar\", maintain_order=True)  \n",
    "    .head(3)  \n",
    "    .sort(\"jaar\", descending=True)\n",
    "    .head(9)  \n",
    ")"
   ]
  },
  {
   "cell_type": "code",
   "execution_count": null,
   "metadata": {},
   "outputs": [],
   "source": [
    "(\n",
    "    top2000.group_by(\"jaar\", maintain_order=True)\n",
    "    .tail(3)\n",
    "    .sort(\"jaar\", descending=True)\n",
    "    .head(9)\n",
    ")"
   ]
  },
  {
   "cell_type": "code",
   "execution_count": null,
   "metadata": {},
   "outputs": [],
   "source": [
    "(top2000.group_by(\"artiest\").len().sort(\"len\", descending=True).head(10))"
   ]
  },
  {
   "cell_type": "code",
   "execution_count": null,
   "metadata": {},
   "outputs": [],
   "source": [
    "sales = pl.read_csv(\"data/sales.csv\")\n",
    "sales.columns"
   ]
  },
  {
   "cell_type": "code",
   "execution_count": null,
   "metadata": {},
   "outputs": [],
   "source": [
    "(\n",
    "    sales.select(\"Product_Category\", \"Sub_Category\", \"Unit_Price\")  \n",
    "    .group_by(\"Product_Category\", \"Sub_Category\")  \n",
    "    .max()\n",
    "    .sort(\"Unit_Price\", descending=True)  \n",
    "    .head(10)\n",
    ")"
   ]
  },
  {
   "cell_type": "code",
   "execution_count": null,
   "metadata": {},
   "outputs": [],
   "source": [
    "(\n",
    "    sales.select(\"Country\", \"Profit\")\n",
    "    .group_by(\"Country\")\n",
    "    .sum()\n",
    "    .sort(\"Profit\", descending=True)\n",
    ")"
   ]
  },
  {
   "cell_type": "code",
   "execution_count": null,
   "metadata": {},
   "outputs": [],
   "source": [
    "(\n",
    "    sales.select(\"Sub_Category\", \"Product\")\n",
    "    .group_by(\"Sub_Category\")\n",
    "    .n_unique()\n",
    "    .sort(\"Product\", descending=True)\n",
    "    .head(10)\n",
    ")"
   ]
  },
  {
   "cell_type": "code",
   "execution_count": null,
   "metadata": {},
   "outputs": [],
   "source": [
    "(\n",
    "    sales.select(\"Age_Group\", \"Order_Quantity\")\n",
    "    .group_by(\"Age_Group\")\n",
    "    .mean()\n",
    "    .sort(\"Order_Quantity\", descending=True)\n",
    ")"
   ]
  },
  {
   "cell_type": "code",
   "execution_count": null,
   "metadata": {},
   "outputs": [],
   "source": [
    "(\n",
    "    sales.select(\"Age_Group\", \"Revenue\")\n",
    "    .group_by(\"Age_Group\")\n",
    "    .quantile(0.9)\n",
    "    .sort(\"Revenue\", descending=True)\n",
    ")"
   ]
  },
  {
   "cell_type": "markdown",
   "metadata": {},
   "source": [
    "### Advanced Methods"
   ]
  },
  {
   "cell_type": "markdown",
   "metadata": {},
   "source": [
    "#### Aggregate values to a List"
   ]
  },
  {
   "cell_type": "code",
   "execution_count": null,
   "metadata": {},
   "outputs": [],
   "source": [
    "(\n",
    "    sales.select(\"Country\", \"Profit\", \"Revenue\")\n",
    "    .group_by(\"Country\")\n",
    "    .agg(\n",
    "        pl.col(\"Profit\"),\n",
    "        pl.col(\"Revenue\"),\n",
    "    )\n",
    ")"
   ]
  },
  {
   "cell_type": "markdown",
   "metadata": {},
   "source": [
    "#### Rename aggregated columns"
   ]
  },
  {
   "cell_type": "code",
   "execution_count": null,
   "metadata": {},
   "outputs": [],
   "source": [
    "(\n",
    "    sales.group_by(\"Country\").agg(\n",
    "        pl.col(\"Profit\").alias(\"All Profits Per Transactions\"),\n",
    "        pl.col(\"Revenue\").name.prefix(\"All \"),\n",
    "        Cost=pl.col(\"Revenue\") - pl.col(\"Profit\"),\n",
    "    )\n",
    ")"
   ]
  },
  {
   "cell_type": "markdown",
   "metadata": {},
   "source": [
    "#### Apply multiple aggregations at once"
   ]
  },
  {
   "cell_type": "code",
   "execution_count": null,
   "metadata": {},
   "outputs": [],
   "source": [
    "(\n",
    "    sales.select(\"Country\", \"Profit\", \"Revenue\")\n",
    "    .group_by(\"Country\")\n",
    "    .agg(\n",
    "        pl.col(\"Profit\").sum().name.prefix(\"Total \"),\n",
    "        pl.col(\"Profit\").mean().alias(\"Average Profit per Transaction\"),\n",
    "        pl.col(\"Revenue\").sum().name.prefix(\"Total \"),\n",
    "        pl.col(\"Revenue\").mean().alias(\"Average Revenue per Transaction\"),\n",
    "    )\n",
    ")"
   ]
  },
  {
   "cell_type": "code",
   "execution_count": null,
   "metadata": {},
   "outputs": [],
   "source": [
    "(\n",
    "    sales.select(\"Country\", \"Profit\", \"Revenue\")\n",
    "    .group_by(\"Country\")\n",
    "    .agg(\n",
    "        pl.all().sum().name.prefix(\"Total \"),\n",
    "        pl.all().mean().name.prefix(\"Average \"),\n",
    "    )\n",
    ")"
   ]
  },
  {
   "cell_type": "code",
   "execution_count": null,
   "metadata": {},
   "outputs": [],
   "source": [
    "(\n",
    "    sales.select(\"Country\", \"Profit\")\n",
    "    .group_by(\"Country\")\n",
    "    .agg(\n",
    "        (pl.col(\"Profit\") > 1000).alias(\"Profit > 1000\"),\n",
    "        (pl.col(\"Profit\") > 1000)\n",
    "        .sum()\n",
    "        .alias(\"Transactions with Profit > 1000\"),\n",
    "    )\n",
    ")"
   ]
  },
  {
   "cell_type": "code",
   "execution_count": null,
   "metadata": {},
   "outputs": [],
   "source": [
    "def sum_transactions_above_threshold(\n",
    "    col: pl.Expr, threshold: float\n",
    ") -> tuple[pl.Expr, pl.Expr]:\n",
    "    \"\"\"Sums transactions where the column col exceeds specified threshold\"\"\"\n",
    "    original_column_name = col.meta.root_names()[0]  \n",
    "    condition_column = (col > threshold).alias(\n",
    "        f\"{original_column_name} > {threshold}\"\n",
    "    )\n",
    "    new_column = (\n",
    "        (col > threshold)\n",
    "        .sum()\n",
    "        .alias(f\"Transactions with {original_column_name} > {threshold}\")\n",
    "    )\n",
    "    return condition_column, new_column\n",
    "\n",
    "\n",
    "sales.select(\"Country\", \"Profit\").group_by(\"Country\").agg(\n",
    "    sum_transactions_above_threshold(pl.col(\"Profit\"), 999)\n",
    ")"
   ]
  },
  {
   "cell_type": "markdown",
   "metadata": {},
   "source": [
    "## Row-Wise Aggregations"
   ]
  },
  {
   "cell_type": "code",
   "execution_count": null,
   "metadata": {},
   "outputs": [],
   "source": [
    "fold_example = pl.DataFrame({\"col1\": [2], \"col2\": [3], \"col3\": [4]})\n",
    "\n",
    "fold_example.with_columns(\n",
    "    sum=pl.fold(\n",
    "        acc=pl.lit(0),  \n",
    "        function=lambda acc, x: acc + x,  \n",
    "        exprs=pl.col(\"*\"),  \n",
    "    )\n",
    ")"
   ]
  },
  {
   "cell_type": "code",
   "execution_count": null,
   "metadata": {},
   "outputs": [],
   "source": [
    "products = pl.DataFrame(\n",
    "    {\n",
    "        \"product_A\": [10, 20, 30],\n",
    "        \"product_B\": [20, 30, 40],\n",
    "        \"product_C\": [30, 40, 50],\n",
    "    }\n",
    ")\n",
    "\n",
    "weights = {\"product_A\": 0.5, \"product_B\": 1.5, \"product_C\": 2.0}  \n",
    "\n",
    "weighted_exprs = [  \n",
    "    (pl.col(product) * weight).alias(product)\n",
    "    for product, weight in weights.items()\n",
    "]\n",
    "\n",
    "products_with_weighted_sum = products.with_columns(\n",
    "    weighted_sum=pl.fold(  \n",
    "        acc=pl.lit(0),  \n",
    "        function=lambda acc, x: acc + x,  \n",
    "        exprs=weighted_exprs,  \n",
    "    )\n",
    ")\n",
    "\n",
    "products_with_weighted_sum"
   ]
  },
  {
   "cell_type": "markdown",
   "metadata": {},
   "source": [
    "## Window Functions in Selection Context"
   ]
  },
  {
   "cell_type": "code",
   "execution_count": null,
   "metadata": {},
   "outputs": [],
   "source": [
    "(\n",
    "    top2000.select(\n",
    "        \"jaar\",\n",
    "        \"artiest\",\n",
    "        \"titel\",\n",
    "        \"positie\",\n",
    "        year_rank=pl.col(\"positie\").rank().over(\"jaar\"),\n",
    "    ).sample(10, seed=42)\n",
    ")"
   ]
  },
  {
   "cell_type": "markdown",
   "metadata": {},
   "source": [
    "## Dynamic Grouping"
   ]
  },
  {
   "cell_type": "markdown",
   "metadata": {},
   "source": [
    "## Rolling Aggregations"
   ]
  },
  {
   "cell_type": "code",
   "execution_count": null,
   "metadata": {},
   "outputs": [],
   "source": [
    "dates = pl.date_range(  \n",
    "    start=pl.date(2024, 4, 1),\n",
    "    end=pl.date(2024, 4, 26),\n",
    "    interval=\"2d\",\n",
    "    eager=True,  \n",
    ")\n",
    "dates = dates.filter(dates.dt.weekday() < 6)  \n",
    "dates_repeated = pl.concat([dates, dates]).sort()  \n",
    "\n",
    "small_sales_df = (\n",
    "    pl.DataFrame(\n",
    "        {\n",
    "            \"date\": dates_repeated,\n",
    "            \"store\": [\"Store A\", \"Store B\"] * dates.len(),\n",
    "            \"sales\": [\n",
    "                200, 150, 220, 160, 250, 180, 270, 190, 280, 210,\n",
    "                210, 170, 220, 180, 240, 190, 250, 200, 260, 210,\n",
    "            ],\n",
    "        }\n",
    "    )\n",
    "    .set_sorted(\"date\")  \n",
    "    .set_sorted(\"store\")\n",
    ")"
   ]
  },
  {
   "cell_type": "code",
   "execution_count": null,
   "metadata": {},
   "outputs": [],
   "source": [
    "result = small_sales_df.rolling(  \n",
    "    index_column=\"date\",\n",
    "    period=\"7d\",\n",
    "    group_by=\"store\",\n",
    ").agg(  \n",
    "    sum_of_last_7_days_sales=pl.sum(\"sales\")\n",
    ")\n",
    "\n",
    "final_df = small_sales_df.join(result, on=[\"date\", \"store\"])  \n",
    "\n",
    "final_df"
   ]
  },
  {
   "cell_type": "markdown",
   "metadata": {},
   "source": [
    "## Upsampling"
   ]
  },
  {
   "cell_type": "code",
   "execution_count": null,
   "metadata": {},
   "outputs": [],
   "source": [
    "upsampled_small_sales_df = small_sales_df.upsample(\n",
    "    time_column=\"date\", every=\"1d\", group_by=\"store\", maintain_order=True\n",
    ")\n",
    "\n",
    "upsampled_small_sales_df"
   ]
  },
  {
   "cell_type": "code",
   "execution_count": null,
   "metadata": {},
   "outputs": [],
   "source": [
    "upsampled_small_sales_df.select(\n",
    "    \"date\", pl.col(\"store\").forward_fill(), pl.col(\"sales\").interpolate()\n",
    ")"
   ]
  },
  {
   "cell_type": "markdown",
   "metadata": {},
   "source": [
    "## Takeaways"
   ]
  }
 ],
 "metadata": {},
 "nbformat": 4,
 "nbformat_minor": 5
}
